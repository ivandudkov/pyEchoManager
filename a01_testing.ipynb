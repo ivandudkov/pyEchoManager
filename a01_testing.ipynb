{
 "cells": [
  {
   "cell_type": "code",
   "execution_count": null,
   "metadata": {},
   "outputs": [],
   "source": []
  },
  {
   "cell_type": "code",
   "execution_count": 1,
   "metadata": {},
   "outputs": [
    {
     "name": "stdout",
     "output_type": "stream",
     "text": [
      "1.454396715827733\n",
      "1.453636675\n"
     ]
    }
   ],
   "source": [
    "m3 = 1454396715.827733\n",
    "km3 = m3/10**9\n",
    "\n",
    "m3_GM = 1453636675\n",
    "km3_GM = m3_GM/10**9\n",
    "\n",
    "m2_area = 235982500\n",
    "pixel_count = 377572\n",
    "\n",
    "print(km3)\n",
    "print(km3_GM)\n",
    "\n",
    "\n",
    "conc = 10**5  # cm3/m3"
   ]
  },
  {
   "cell_type": "code",
   "execution_count": 12,
   "metadata": {},
   "outputs": [
    {
     "name": "stdout",
     "output_type": "stream",
     "text": [
      "0.1454396715827733\n"
     ]
    }
   ],
   "source": [
    "conc2 = m3*conc/10**6/10**9\n",
    "print(conc2)"
   ]
  },
  {
   "cell_type": "code",
   "execution_count": null,
   "metadata": {},
   "outputs": [],
   "source": []
  }
 ],
 "metadata": {
  "kernelspec": {
   "display_name": "id1054",
   "language": "python",
   "name": "python3"
  },
  "language_info": {
   "codemirror_mode": {
    "name": "ipython",
    "version": 3
   },
   "file_extension": ".py",
   "mimetype": "text/x-python",
   "name": "python",
   "nbconvert_exporter": "python",
   "pygments_lexer": "ipython3",
   "version": "3.11.0"
  }
 },
 "nbformat": 4,
 "nbformat_minor": 2
}
