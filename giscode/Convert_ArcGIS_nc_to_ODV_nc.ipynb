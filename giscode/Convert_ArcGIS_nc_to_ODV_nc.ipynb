{
 "cells": [
  {
   "cell_type": "markdown",
   "metadata": {},
   "source": [
    "# "
   ]
  },
  {
   "cell_type": "code",
   "execution_count": 14,
   "metadata": {},
   "outputs": [],
   "source": [
    "from netCDF4 import Dataset\n",
    "import numpy as np\n",
    "import os\n",
    "\n",
    "# Read .nc file, which is ok for DIVAnd:\n",
    "data_path = r'C:\\Data\\ArcGIS Projects\\ConvertToNetCDF'\n",
    "input_ArcGIS_nc_bathymetry = os.path.join(data_path, \"SE_Baltic_rusE_RasterToNetCD1.nc\")\n",
    "output_ODV_nc_bathymetry = os.path.join(data_path, \"SE_Baltic_rusE_RasterToNetCD1_ODV.nc\")\n",
    "\n",
    "odv_bathy = os.path.join(data_path, 'GEBCO_2014_6x6min_Global.nc')"
   ]
  },
  {
   "cell_type": "markdown",
   "metadata": {},
   "source": [
    "# Загрузка переменных из .nc АркГИСа"
   ]
  },
  {
   "cell_type": "code",
   "execution_count": 17,
   "metadata": {},
   "outputs": [
    {
     "data": {
      "text/plain": [
       "<bound method Dataset.close of <class 'netCDF4._netCDF4.Dataset'>\n",
       "root group (NETCDF4 data model, file format HDF5):\n",
       "    Conventions: CF-1.0\n",
       "    Source_Software: Esri ArcGIS\n",
       "    dimensions(sizes): lon(3522), lat(2535)\n",
       "    variables(dimensions): float64 lon(lon), float64 lat(lat), float32 bat(lat, lon)\n",
       "    groups: >"
      ]
     },
     "execution_count": 17,
     "metadata": {},
     "output_type": "execute_result"
    }
   ],
   "source": [
    "# Get ArcGIS .nc data\n",
    "nc_read_arc = Dataset(input_ArcGIS_nc_bathymetry, 'r')\n",
    "lat_arc = np.flip(nc_read_arc.variables['lat'][:])\n",
    "lon_arc = nc_read_arc.variables['lon'][:]\n",
    "depth_arc = np.flip(nc_read_arc.variables['bat'][:], 0)*-1\n",
    "nc_read_arc.close"
   ]
  },
  {
   "cell_type": "markdown",
   "metadata": {},
   "source": [
    "# Создание .nc файла с кастомной батиметрией для OceanDataView"
   ]
  },
  {
   "cell_type": "code",
   "execution_count": 18,
   "metadata": {},
   "outputs": [
    {
     "name": "stdout",
     "output_type": "stream",
     "text": [
      "<class 'netCDF4._netCDF4.Dataset'>\n",
      "root group (NETCDF3_64BIT_OFFSET data model, file format NETCDF3):\n",
      "    dimensions(sizes): lat(2535), lon(3522)\n",
      "    variables(dimensions): float32 lon(lon), float32 lat(lat), int16 Height(lat, lon)\n",
      "    groups: \n",
      "{'lon': <class 'netCDF4._netCDF4.Variable'>\n",
      "float32 lon(lon)\n",
      "    long_name: Longitude\n",
      "    standard_name: longitude\n",
      "    units: degrees_east\n",
      "unlimited dimensions: \n",
      "current shape = (3522,)\n",
      "filling off, 'lat': <class 'netCDF4._netCDF4.Variable'>\n",
      "float32 lat(lat)\n",
      "    long_name: Latitude\n",
      "    standard_name: latitude\n",
      "    units: degrees_north\n",
      "unlimited dimensions: \n",
      "current shape = (2535,)\n",
      "filling off, 'Height': <class 'netCDF4._netCDF4.Variable'>\n",
      "int16 Height(lat, lon)\n",
      "    long_name: elevation above sea level\n",
      "    standard_name: height\n",
      "    units: meters\n",
      "unlimited dimensions: \n",
      "current shape = (2535, 3522)\n",
      "filling off}\n"
     ]
    },
    {
     "data": {
      "text/plain": [
       "<bound method Dataset.close of <class 'netCDF4._netCDF4.Dataset'>\n",
       "root group (NETCDF3_64BIT_OFFSET data model, file format NETCDF3):\n",
       "    dimensions(sizes): lat(2535), lon(3522)\n",
       "    variables(dimensions): float32 lon(lon), float32 lat(lat), int16 Height(lat, lon)\n",
       "    groups: >"
      ]
     },
     "execution_count": 18,
     "metadata": {},
     "output_type": "execute_result"
    }
   ],
   "source": [
    "# Create new nc-file\n",
    "rootgrp = Dataset(output_ODV_nc_bathymetry, \"w\", format=\"NETCDF3_64BIT_OFFSET\")\n",
    "rootgrp.set_fill_off()\n",
    "# Creating dimensions\n",
    "lat = rootgrp.createDimension(\"lat\", len(lat_arc))\n",
    "lon = rootgrp.createDimension(\"lon\", len(lon_arc))\n",
    "\n",
    "# Creating variables\n",
    "longitudes = rootgrp.createVariable(\"lon\",\"f4\",(\"lon\",))\n",
    "longitudes.long_name = 'Longitude'\n",
    "longitudes.standard_name = 'longitude'\n",
    "longitudes.units = 'degrees_east'\n",
    "\n",
    "latitudes = rootgrp.createVariable(\"lat\",\"f4\",(\"lat\",))\n",
    "latitudes.long_name = 'Latitude'\n",
    "latitudes.standard_name = 'latitude'\n",
    "latitudes.units = 'degrees_north'\n",
    "\n",
    "Height = rootgrp.createVariable(\"Height\",\"i2\",(\"lat\",\"lon\",))\n",
    "Height.long_name = 'elevation above sea level'\n",
    "Height.standard_name = 'height'\n",
    "Height.units = 'meters'\n",
    "\n",
    "\n",
    "# Passing data into variables\n",
    "longitudes[:] = lon_arc\n",
    "latitudes[:] = lat_arc\n",
    "Height[:] = depth_arc\n",
    "\n",
    "print(rootgrp)\n",
    "print(rootgrp.variables)\n",
    "\n",
    "# Close .nc file creation\n",
    "rootgrp.close"
   ]
  },
  {
   "cell_type": "code",
   "execution_count": null,
   "metadata": {},
   "outputs": [],
   "source": []
  }
 ],
 "metadata": {
  "kernelspec": {
   "display_name": "id_13pc",
   "language": "python",
   "name": "python3"
  },
  "language_info": {
   "codemirror_mode": {
    "name": "ipython",
    "version": 3
   },
   "file_extension": ".py",
   "mimetype": "text/x-python",
   "name": "python",
   "nbconvert_exporter": "python",
   "pygments_lexer": "ipython3",
   "version": "3.12.2"
  }
 },
 "nbformat": 4,
 "nbformat_minor": 4
}
