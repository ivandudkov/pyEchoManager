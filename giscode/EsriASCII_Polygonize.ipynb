{
 "cells": [
  {
   "cell_type": "code",
   "execution_count": 1,
   "metadata": {},
   "outputs": [],
   "source": [
    "import os\n",
    "import sys\n",
    "from osgeo import ogr, osr, gdal\n",
    "import numpy as np\n",
    "import time\n",
    "\n",
    "if not '..' in sys.path:\n",
    "    sys.path.append('..')\n",
    "\n",
    "from giscode.polygonize_esriascii import gdal_polygonize_esriiascii\n",
    "from utilities.file_ext_search import file_ext_search\n",
    "# from .file_path_modify import file_path_modify"
   ]
  },
  {
   "cell_type": "code",
   "execution_count": 3,
   "metadata": {},
   "outputs": [
    {
     "name": "stdout",
     "output_type": "stream",
     "text": [
      "Searching *.asc files in directory:D:\\aa_yandexcloud\\aa_cloudmbesproceessing\\aa_abp49_processing\\ESRI_ASC\n",
      "0 D:\\aa_yandexcloud\\aa_cloudmbesproceessing\\aa_abp49_processing\\ESRI_ASC\\abp49_id037_CameraSearch02_Po_50cm.asc\n"
     ]
    }
   ],
   "source": [
    "data_path = r'D:\\aa_yandexcloud\\aa_cloudmbesproceessing\\aa_abp49_processing\\ESRI_ASC'\n",
    "output_dir = r'D:\\aa_yandexcloud\\aa_cloudmbesproceessing\\aa_abp49_processing\\ESRI_ASC_polygonized'\n",
    "\n",
    "# data_path = r'D:\\aa_yandexcloud\\aa_cloudmbesproceessing\\aa_abp49_processing\\CSV_gridded'\n",
    "# output_dir = r'D:\\aa_yandexcloud\\aa_cloudmbesproceessing\\aa_abp49_processing\\CVS_tiff_polygonized'\n",
    "\n",
    "asc_files = file_ext_search(extension='.asc', path=data_path)[20:21]\n",
    "# asc_files = file_ext_search(extension='.tiff', path=data_path)\n",
    "shp_files = []\n",
    "espg_crf_wgs84utm34n = 32634\n",
    "\n",
    "num = 0\n",
    "for file in asc_files:\n",
    "    shp_files.append(\n",
    "        os.path.join(output_dir, os.path.splitext(os.path.basename(file))[0] + '.shp'))\n",
    "    print(f'{num} {file}')\n",
    "    num += 1"
   ]
  },
  {
   "cell_type": "code",
   "execution_count": null,
   "metadata": {},
   "outputs": [],
   "source": []
  },
  {
   "cell_type": "code",
   "execution_count": 4,
   "metadata": {},
   "outputs": [
    {
     "name": "stdout",
     "output_type": "stream",
     "text": [
      "\u001b[1mPolygonizing the ESRII ASCII fileset with \u001b[94m1\u001b[0m files \n",
      "\u001b[0m\n",
      "Input directory: \u001b[92m\"D:\\aa_yandexcloud\\aa_cloudmbesproceessing\\aa_abp49_processing\\ESRI_ASC\"\u001b[0m\n",
      "Output direcroty: \u001b[92m\"D:\\aa_yandexcloud\\aa_cloudmbesproceessing\\aa_abp49_processing\\ESRI_ASC_polygonized\"\u001b[0m\n",
      "\n",
      "\n",
      "Polygonizing the file \u001b[91m#1\u001b[0m: \u001b[94mabp49_id037_CameraSearch02_Po_50cm\u001b[0m\n",
      "Processed \u001b[94m1\u001b[0m out of \u001b[94m1\u001b[0m ESRII ASCII files\n",
      "Time elapsed for the procedure: \u001b[94m3.81\u001b[0m seconds\n",
      "Overall time elapsed: \u001b[94m0.06\u001b[0m minutes\n",
      "\n"
     ]
    }
   ],
   "source": [
    "f_num = 1\n",
    "f_overall = len(asc_files)\n",
    "\n",
    "class color:\n",
    "   PURPLE = '\\033[95m'\n",
    "   CYAN = '\\033[96m'\n",
    "   DARKCYAN = '\\033[36m'\n",
    "   BLUE = '\\033[94m'\n",
    "   GREEN = '\\033[92m'\n",
    "   YELLOW = '\\033[93m'\n",
    "   RED = '\\033[91m'\n",
    "   BOLD = '\\033[1m'\n",
    "   UNDERLINE = '\\033[4m'\n",
    "   END = '\\033[0m'\n",
    "\n",
    "print(f\"{color.BOLD}Polygonizing the ESRII ASCII fileset with \\\n",
    "{color.BLUE}{f_overall}{color.END} files \\n{color.END}\")\n",
    "print(f\"Input directory: {color.GREEN}\\\"{data_path}\\\"{color.END}\")\n",
    "print(f\"Output direcroty: {color.GREEN}\\\"{output_dir}\\\"{color.END}\\n\\n\")\n",
    "\n",
    "t00 = time.time()\n",
    "for asc, shp in zip(asc_files, shp_files):\n",
    "    f_name = os.path.splitext(os.path.basename(file))[0]\n",
    "    \n",
    "    print(f'Polygonizing the file {color.RED}#{f_num}{color.END}: {color.BLUE}{f_name}{color.END}')\n",
    "    t0 = time.time()\n",
    "    gdal_polygonize_esriiascii(inpath=asc, outpath=shp, espgcrf=espg_crf_wgs84utm34n)\n",
    "    print(f'Processed {color.BLUE}{f_num}{color.END} out of {color.BLUE}{f_overall}{color.END} ESRII ASCII files')\n",
    "    f_num += 1\n",
    "    print(f'Time elapsed for the procedure: {color.BLUE}{time.time() - t0:.2f}{color.END} seconds')\n",
    "    print(f'Overall time elapsed: {color.BLUE}{(time.time() - t00) / 60:.2f}{color.END} minutes\\n')"
   ]
  },
  {
   "cell_type": "code",
   "execution_count": null,
   "metadata": {},
   "outputs": [],
   "source": []
  },
  {
   "cell_type": "code",
   "execution_count": null,
   "metadata": {},
   "outputs": [],
   "source": []
  },
  {
   "cell_type": "code",
   "execution_count": null,
   "metadata": {},
   "outputs": [],
   "source": []
  }
 ],
 "metadata": {
  "kernelspec": {
   "display_name": "Python 3.10.4",
   "language": "python",
   "name": "python3"
  },
  "language_info": {
   "codemirror_mode": {
    "name": "ipython",
    "version": 3
   },
   "file_extension": ".py",
   "mimetype": "text/x-python",
   "name": "python",
   "nbconvert_exporter": "python",
   "pygments_lexer": "ipython3",
   "version": "3.11.0"
  },
  "vscode": {
   "interpreter": {
    "hash": "542b0e3096725a2056735354746e8fb0274aaacae20b326a136954ba503430db"
   }
  }
 },
 "nbformat": 4,
 "nbformat_minor": 4
}
