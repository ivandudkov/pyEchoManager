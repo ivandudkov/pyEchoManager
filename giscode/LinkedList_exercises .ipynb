{
 "cells": [
  {
   "cell_type": "markdown",
   "metadata": {},
   "source": [
    "## Playing with Linked Lists\n",
    "\n",
    "https://realpython.com/linked-lists-python/"
   ]
  },
  {
   "cell_type": "code",
   "execution_count": 14,
   "metadata": {
    "ExecuteTime": {
     "end_time": "2021-07-26T05:38:43.761713Z",
     "start_time": "2021-07-26T05:38:43.758970Z"
    }
   },
   "outputs": [],
   "source": [
    "from collections import deque"
   ]
  },
  {
   "cell_type": "code",
   "execution_count": 17,
   "metadata": {
    "ExecuteTime": {
     "end_time": "2021-07-26T05:38:59.906470Z",
     "start_time": "2021-07-26T05:38:59.901546Z"
    }
   },
   "outputs": [
    {
     "data": {
      "text/plain": [
       "deque([])"
      ]
     },
     "execution_count": 17,
     "metadata": {},
     "output_type": "execute_result"
    }
   ],
   "source": [
    "deque()"
   ]
  },
  {
   "cell_type": "code",
   "execution_count": 18,
   "metadata": {
    "ExecuteTime": {
     "end_time": "2021-07-26T05:39:35.960071Z",
     "start_time": "2021-07-26T05:39:35.955778Z"
    }
   },
   "outputs": [
    {
     "data": {
      "text/plain": [
       "deque(['a', 'b', 'c'])"
      ]
     },
     "execution_count": 18,
     "metadata": {},
     "output_type": "execute_result"
    }
   ],
   "source": [
    "deque(['a', 'b', 'c'])"
   ]
  },
  {
   "cell_type": "code",
   "execution_count": 24,
   "metadata": {
    "ExecuteTime": {
     "end_time": "2021-07-26T05:43:08.266154Z",
     "start_time": "2021-07-26T05:43:08.257625Z"
    }
   },
   "outputs": [
    {
     "data": {
      "text/plain": [
       "deque(['a', 'b', 'c', 'd', 'e'])"
      ]
     },
     "execution_count": 24,
     "metadata": {},
     "output_type": "execute_result"
    }
   ],
   "source": [
    "llist = deque('abcde')\n",
    "llist"
   ]
  },
  {
   "cell_type": "code",
   "execution_count": 26,
   "metadata": {
    "ExecuteTime": {
     "end_time": "2021-07-26T05:43:25.208765Z",
     "start_time": "2021-07-26T05:43:25.203434Z"
    }
   },
   "outputs": [
    {
     "data": {
      "text/plain": [
       "deque(['a', 'b', 'c', 'd', 'e', 'f', 'f'])"
      ]
     },
     "execution_count": 26,
     "metadata": {},
     "output_type": "execute_result"
    }
   ],
   "source": [
    "llist.append('f')\n",
    "llist"
   ]
  },
  {
   "cell_type": "code",
   "execution_count": 28,
   "metadata": {
    "ExecuteTime": {
     "end_time": "2021-07-26T05:43:46.097909Z",
     "start_time": "2021-07-26T05:43:46.094075Z"
    }
   },
   "outputs": [
    {
     "data": {
      "text/plain": [
       "'f'"
      ]
     },
     "execution_count": 28,
     "metadata": {},
     "output_type": "execute_result"
    }
   ],
   "source": [
    "llist.pop()"
   ]
  },
  {
   "cell_type": "code",
   "execution_count": 32,
   "metadata": {
    "ExecuteTime": {
     "end_time": "2021-07-26T16:38:40.795347Z",
     "start_time": "2021-07-26T16:38:40.790931Z"
    }
   },
   "outputs": [
    {
     "data": {
      "text/plain": [
       "deque(['b', 'c', 'd', 'e'])"
      ]
     },
     "execution_count": 32,
     "metadata": {},
     "output_type": "execute_result"
    }
   ],
   "source": [
    "llist"
   ]
  },
  {
   "cell_type": "code",
   "execution_count": 33,
   "metadata": {
    "ExecuteTime": {
     "end_time": "2021-07-26T16:38:52.999176Z",
     "start_time": "2021-07-26T16:38:52.995231Z"
    }
   },
   "outputs": [
    {
     "data": {
      "text/plain": [
       "'e'"
      ]
     },
     "execution_count": 33,
     "metadata": {},
     "output_type": "execute_result"
    }
   ],
   "source": [
    "llist.pop()"
   ]
  },
  {
   "cell_type": "code",
   "execution_count": 40,
   "metadata": {
    "ExecuteTime": {
     "end_time": "2021-07-26T16:41:40.623449Z",
     "start_time": "2021-07-26T16:41:40.619040Z"
    }
   },
   "outputs": [
    {
     "name": "stdout",
     "output_type": "stream",
     "text": [
      "[0, 1, 2, 3, 4, 5, 6, 7, 8, 9]\n"
     ]
    }
   ],
   "source": [
    "l = list(range(10))\n",
    "print(l)"
   ]
  },
  {
   "cell_type": "code",
   "execution_count": 43,
   "metadata": {
    "ExecuteTime": {
     "end_time": "2021-07-26T16:42:19.832619Z",
     "start_time": "2021-07-26T16:42:19.829633Z"
    }
   },
   "outputs": [],
   "source": [
    "del l[1:3]"
   ]
  },
  {
   "cell_type": "code",
   "execution_count": 44,
   "metadata": {
    "ExecuteTime": {
     "end_time": "2021-07-26T16:42:25.484147Z",
     "start_time": "2021-07-26T16:42:25.480199Z"
    }
   },
   "outputs": [
    {
     "name": "stdout",
     "output_type": "stream",
     "text": [
      "[0, 3, 4, 5, 6, 7, 8, 9]\n"
     ]
    }
   ],
   "source": [
    "print(l)"
   ]
  },
  {
   "cell_type": "code",
   "execution_count": 45,
   "metadata": {
    "ExecuteTime": {
     "end_time": "2021-07-26T16:55:54.914963Z",
     "start_time": "2021-07-26T16:55:54.910994Z"
    }
   },
   "outputs": [
    {
     "name": "stdout",
     "output_type": "stream",
     "text": [
      "deque([0, 3, 4, 5, 6, 7, 8, 9])\n"
     ]
    }
   ],
   "source": [
    "ll = deque(l)\n",
    "print(ll)"
   ]
  },
  {
   "cell_type": "code",
   "execution_count": 46,
   "metadata": {
    "ExecuteTime": {
     "end_time": "2021-07-26T16:59:26.010536Z",
     "start_time": "2021-07-26T16:59:26.007463Z"
    }
   },
   "outputs": [],
   "source": [
    "ll.appendleft(\"a\")"
   ]
  },
  {
   "cell_type": "code",
   "execution_count": 47,
   "metadata": {
    "ExecuteTime": {
     "end_time": "2021-07-26T16:59:31.660350Z",
     "start_time": "2021-07-26T16:59:31.656763Z"
    }
   },
   "outputs": [
    {
     "name": "stdout",
     "output_type": "stream",
     "text": [
      "deque(['a', 0, 3, 4, 5, 6, 7, 8, 9])\n"
     ]
    }
   ],
   "source": [
    "print(ll)"
   ]
  },
  {
   "cell_type": "code",
   "execution_count": 48,
   "metadata": {
    "ExecuteTime": {
     "end_time": "2021-07-26T17:00:04.709115Z",
     "start_time": "2021-07-26T17:00:04.705778Z"
    }
   },
   "outputs": [],
   "source": [
    "import numpy as np"
   ]
  },
  {
   "cell_type": "code",
   "execution_count": 57,
   "metadata": {
    "ExecuteTime": {
     "end_time": "2021-07-26T17:01:18.038352Z",
     "start_time": "2021-07-26T17:01:18.033812Z"
    }
   },
   "outputs": [],
   "source": [
    "h = np.array([[1, 2, 3, 4, 5], [1, 2, 3, 4, 5]])"
   ]
  },
  {
   "cell_type": "code",
   "execution_count": 58,
   "metadata": {
    "ExecuteTime": {
     "end_time": "2021-07-26T17:01:20.710303Z",
     "start_time": "2021-07-26T17:01:20.707239Z"
    }
   },
   "outputs": [],
   "source": [
    "ll.appendleft(h)"
   ]
  },
  {
   "cell_type": "code",
   "execution_count": 59,
   "metadata": {
    "ExecuteTime": {
     "end_time": "2021-07-26T17:01:21.900855Z",
     "start_time": "2021-07-26T17:01:21.896533Z"
    }
   },
   "outputs": [
    {
     "name": "stdout",
     "output_type": "stream",
     "text": [
      "deque([array([[1, 2, 3, 4, 5],\n",
      "       [1, 2, 3, 4, 5]]), array([1, 2, 3, 4, 5]), array([], dtype=float64), 'a', 0, 3, 4, 5, 6, 7, 8, 9])\n"
     ]
    }
   ],
   "source": [
    "print(ll)"
   ]
  },
  {
   "cell_type": "code",
   "execution_count": 60,
   "metadata": {
    "ExecuteTime": {
     "end_time": "2021-07-26T17:01:36.419627Z",
     "start_time": "2021-07-26T17:01:36.416353Z"
    }
   },
   "outputs": [],
   "source": [
    "j = ll.popleft()"
   ]
  },
  {
   "cell_type": "code",
   "execution_count": 64,
   "metadata": {
    "ExecuteTime": {
     "end_time": "2021-07-26T17:02:11.933308Z",
     "start_time": "2021-07-26T17:02:11.929260Z"
    }
   },
   "outputs": [
    {
     "name": "stdout",
     "output_type": "stream",
     "text": [
      "<class 'numpy.ndarray'>\n"
     ]
    }
   ],
   "source": [
    "print(type(j))"
   ]
  },
  {
   "cell_type": "code",
   "execution_count": 65,
   "metadata": {
    "ExecuteTime": {
     "end_time": "2021-07-26T17:06:21.963046Z",
     "start_time": "2021-07-26T17:06:21.959182Z"
    }
   },
   "outputs": [
    {
     "data": {
      "text/plain": [
       "deque([])"
      ]
     },
     "execution_count": 65,
     "metadata": {},
     "output_type": "execute_result"
    }
   ],
   "source": [
    "queue = deque()\n",
    "queue"
   ]
  },
  {
   "cell_type": "code",
   "execution_count": 66,
   "metadata": {
    "ExecuteTime": {
     "end_time": "2021-07-26T17:06:48.153909Z",
     "start_time": "2021-07-26T17:06:48.150733Z"
    }
   },
   "outputs": [],
   "source": [
    "queue.append(\"Mary\")\n",
    "queue.append(\"Mary2\")\n",
    "queue.append(\"Mary3\")\n"
   ]
  },
  {
   "cell_type": "code",
   "execution_count": 67,
   "metadata": {
    "ExecuteTime": {
     "end_time": "2021-07-26T17:06:54.082981Z",
     "start_time": "2021-07-26T17:06:54.078645Z"
    }
   },
   "outputs": [
    {
     "data": {
      "text/plain": [
       "deque(['Mary', 'Mary2', 'Mary3'])"
      ]
     },
     "execution_count": 67,
     "metadata": {},
     "output_type": "execute_result"
    }
   ],
   "source": [
    "queue"
   ]
  },
  {
   "cell_type": "code",
   "execution_count": 68,
   "metadata": {
    "ExecuteTime": {
     "end_time": "2021-07-26T17:07:35.474639Z",
     "start_time": "2021-07-26T17:07:35.470390Z"
    }
   },
   "outputs": [
    {
     "data": {
      "text/plain": [
       "'Mary'"
      ]
     },
     "execution_count": 68,
     "metadata": {},
     "output_type": "execute_result"
    }
   ],
   "source": [
    "queue.popleft()"
   ]
  },
  {
   "cell_type": "code",
   "execution_count": 69,
   "metadata": {
    "ExecuteTime": {
     "end_time": "2021-07-26T17:07:46.549466Z",
     "start_time": "2021-07-26T17:07:46.545011Z"
    }
   },
   "outputs": [
    {
     "data": {
      "text/plain": [
       "'Mary2'"
      ]
     },
     "execution_count": 69,
     "metadata": {},
     "output_type": "execute_result"
    }
   ],
   "source": [
    "queue.popleft()"
   ]
  },
  {
   "cell_type": "code",
   "execution_count": 70,
   "metadata": {
    "ExecuteTime": {
     "end_time": "2021-07-26T17:07:49.708610Z",
     "start_time": "2021-07-26T17:07:49.704142Z"
    }
   },
   "outputs": [
    {
     "data": {
      "text/plain": [
       "deque(['Mary3'])"
      ]
     },
     "execution_count": 70,
     "metadata": {},
     "output_type": "execute_result"
    }
   ],
   "source": [
    "queue"
   ]
  },
  {
   "cell_type": "code",
   "execution_count": 10,
   "metadata": {
    "ExecuteTime": {
     "end_time": "2021-07-26T19:56:01.655086Z",
     "start_time": "2021-07-26T19:56:01.631174Z"
    }
   },
   "outputs": [],
   "source": [
    "# Implementation of the single-linked list\n",
    "\n",
    "# Class that represents linked list's node\n",
    "class Node:\n",
    "    def __init__(self, data):\n",
    "        # Two main elements of every single node\n",
    "        self.data = data\n",
    "        self.next = None\n",
    "    \n",
    "    # __repr__ is a special method used to represent class's objects as a string.\n",
    "    # i.e. to compute the \"official\" representation of an object.\n",
    "    # It is typically used for debugging\n",
    "    \n",
    "    # __repr__ is called by the repr() built-in function.\n",
    "    \n",
    "    # Special methods are a set of predefined methods used to enrich your classes.\n",
    "    # They start and end with double underscores.\n",
    "    \n",
    "    def __repr__(self):\n",
    "        return self.data\n",
    "\n",
    "\n",
    "# Class that represents linked list\n",
    "class LinkedList:\n",
    "    \n",
    "    # Add initialization method (class constructor)\n",
    "    def __init__(self, nodes=None):\n",
    "        # Defining where the linked list starts\n",
    "        self.head = None\n",
    "    \n",
    "        if nodes is not None:\n",
    "            node = Node(data=nodes.pop(0))\n",
    "            self.head = node\n",
    "            for elem in nodes:\n",
    "                node.next = Node(data=elem)\n",
    "                node = node.next\n",
    "                \n",
    "    # Add iteration method\n",
    "    def __iter__(self):\n",
    "        node = self.head\n",
    "        while node is not None:\n",
    "            yield node\n",
    "            node = node.next\n",
    "    # method for adding new element in the beginning of the LL. We shouldn't iterate whole LL.\n",
    "    def add_first(self, node):\n",
    "        node.next = self.head\n",
    "        self.head = node\n",
    "    # method for adding new element in the end of the LL. We should iterate whole LL to do that\n",
    "    def add_last(self, node):\n",
    "        if self.head is None:\n",
    "            self.head = node\n",
    "            return\n",
    "        for current_node in self:\n",
    "            pass\n",
    "        current_node.next = node\n",
    "    \n",
    "    # Inserting node between two nodes. To implement that in LL we should create two methods\n",
    "    # The first - for adding after a node\n",
    "    \n",
    "    # Here you are traversing the LL looking for the node with data indicating where tou want to\n",
    "    # insert a new node. \n",
    "    def add_after(self, target_node_data, new_node):\n",
    "        \n",
    "        # LL is empty\n",
    "        if self.head is None:\n",
    "            raise Exception(\"List is empty\")\n",
    "            \n",
    "        for node in self:\n",
    "            if node.data == target_node_data:\n",
    "                new_node.next = node.next\n",
    "                node.next = new_node\n",
    "                return\n",
    "            \n",
    "        # Looking node is not exists\n",
    "        raise Exception(\"Node with data '%s' not found\" % target_node_data)\n",
    "    \n",
    "    # The second - for adding before a node\n",
    "    def add_before(self, target_node_data, new_node):\n",
    "        if self.head is None:\n",
    "            raise Exception(\"List is empty\")\n",
    "        if self.head.data == target_node_data:\n",
    "            return self.add_first(new_node)\n",
    "        \n",
    "        # Keep track of the last-checked node using the prev_node variable\n",
    "        prev_node = self.head\n",
    "        \n",
    "        # When you find the target node, you can use that prev_node variable\n",
    "        # to rewrite the 'next' values\n",
    "        for node in self:\n",
    "            if node.data == target_node_data:\n",
    "                prev_node.next = new_node\n",
    "                new_node.next = node\n",
    "                return\n",
    "            prev_node = node\n",
    "        raise Exception(\"Node with data '%s' not found\" % target_node_data)\n",
    "    \n",
    "    \n",
    "    # Add a __repr__ to have a more helpful representation of the objects\n",
    "    def __repr__(self):\n",
    "        node = self.head\n",
    "        nodes = []\n",
    "        while node is not None:\n",
    "            nodes.append(node.data)\n",
    "            node = node.next\n",
    "        nodes.append(\"None\")\n",
    "        \n",
    "        return \" -> \".join(nodes)\n",
    "\n",
    "    # Node Removing\n",
    "    # To remove a node from a LL, you first need to traverse the list until you\n",
    "    # find the node you want to remove. Once you find the target, you want to link\n",
    "    # its previous and next nodes.\n",
    "    \n",
    "    # This re-linking is what removes the target node from the list.\n",
    "    def remove_node(self, target_node_data):\n",
    "        if self.head is None:\n",
    "            raise Exception(\"List is empty\")\n",
    "        if self.head.data == target_node_data:\n",
    "            self.head = self.head.next\n",
    "            return\n",
    "        \n",
    "        previous_node = self.head\n",
    "        for node in self:\n",
    "            if node.data == target_node_data:\n",
    "                previous_node.next = node.next\n",
    "                return\n",
    "            previous_node = node\n",
    "\n",
    "        raise Exception(\"Node with data '%s' not found\" % target_node_data)\n",
    "     \n",
    "\n",
    "    \n",
    "    \n",
    "# Defference between single and double linked lists:\n",
    "class Node:\n",
    "    def __init__(self, data):\n",
    "        self.data = data\n",
    "        self.next = None\n",
    "        self.previous = None # !!!! Allows to traverse a list in both directions\n",
    "        "
   ]
  },
  {
   "cell_type": "code",
   "execution_count": 99,
   "metadata": {
    "ExecuteTime": {
     "end_time": "2021-07-26T18:28:23.020983Z",
     "start_time": "2021-07-26T18:28:23.017339Z"
    }
   },
   "outputs": [],
   "source": [
    "llist = LinkedList()"
   ]
  },
  {
   "cell_type": "code",
   "execution_count": 101,
   "metadata": {
    "ExecuteTime": {
     "end_time": "2021-07-26T18:28:54.035802Z",
     "start_time": "2021-07-26T18:28:54.032751Z"
    }
   },
   "outputs": [],
   "source": [
    "llist.add_first(Node('b'))"
   ]
  },
  {
   "cell_type": "code",
   "execution_count": 102,
   "metadata": {
    "ExecuteTime": {
     "end_time": "2021-07-26T18:28:59.742801Z",
     "start_time": "2021-07-26T18:28:59.739737Z"
    }
   },
   "outputs": [],
   "source": [
    "llist.add_first(Node('a'))"
   ]
  },
  {
   "cell_type": "code",
   "execution_count": 103,
   "metadata": {
    "ExecuteTime": {
     "end_time": "2021-07-26T18:29:05.964003Z",
     "start_time": "2021-07-26T18:29:05.958120Z"
    }
   },
   "outputs": [
    {
     "data": {
      "text/plain": [
       "a -> b -> b -> None"
      ]
     },
     "execution_count": 103,
     "metadata": {},
     "output_type": "execute_result"
    }
   ],
   "source": [
    "llist"
   ]
  },
  {
   "cell_type": "code",
   "execution_count": null,
   "metadata": {},
   "outputs": [],
   "source": []
  },
  {
   "cell_type": "code",
   "execution_count": null,
   "metadata": {},
   "outputs": [],
   "source": []
  },
  {
   "cell_type": "code",
   "execution_count": null,
   "metadata": {},
   "outputs": [],
   "source": []
  },
  {
   "cell_type": "code",
   "execution_count": null,
   "metadata": {},
   "outputs": [],
   "source": []
  }
 ],
 "metadata": {
  "kernelspec": {
   "display_name": "Python 3",
   "language": "python",
   "name": "python3"
  },
  "language_info": {
   "codemirror_mode": {
    "name": "ipython",
    "version": 3
   },
   "file_extension": ".py",
   "mimetype": "text/x-python",
   "name": "python",
   "nbconvert_exporter": "python",
   "pygments_lexer": "ipython3",
   "version": "3.6.7"
  },
  "toc": {
   "base_numbering": 1,
   "nav_menu": {
    "height": "161px",
    "width": "201px"
   },
   "number_sections": true,
   "sideBar": true,
   "skip_h1_title": false,
   "title_cell": "Table of Contents",
   "title_sidebar": "Contents",
   "toc_cell": false,
   "toc_position": {},
   "toc_section_display": true,
   "toc_window_display": false
  },
  "varInspector": {
   "cols": {
    "lenName": 16,
    "lenType": 16,
    "lenVar": 40
   },
   "kernels_config": {
    "python": {
     "delete_cmd_postfix": "",
     "delete_cmd_prefix": "del ",
     "library": "var_list.py",
     "varRefreshCmd": "print(var_dic_list())"
    },
    "r": {
     "delete_cmd_postfix": ") ",
     "delete_cmd_prefix": "rm(",
     "library": "var_list.r",
     "varRefreshCmd": "cat(var_dic_list()) "
    }
   },
   "types_to_exclude": [
    "module",
    "function",
    "builtin_function_or_method",
    "instance",
    "_Feature"
   ],
   "window_display": false
  }
 },
 "nbformat": 4,
 "nbformat_minor": 2
}
