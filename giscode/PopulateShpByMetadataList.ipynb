{
 "cells": [
  {
   "cell_type": "code",
   "execution_count": 1,
   "id": "28fae863-a0e4-42d8-af09-47282df62f40",
   "metadata": {},
   "outputs": [],
   "source": [
    "from .polygonize_esriascii import gdal_polygonize_esriiascii\n",
    "from mycode.file_ext_search import file_ext_search\n",
    "# from .file_path_modify import file_path_modify\n",
    "from .processing_log import ProcessingLog\n",
    "from .populate_attrs_by_log import pop_attrs\n",
    "from .populate_attrs_by_log import repop_attrs\n",
    "\n",
    "import os\n",
    "import sys\n",
    "from osgeo import ogr, osr, gdal\n",
    "import numpy as np\n",
    "import time"
   ]
  },
  {
   "cell_type": "code",
   "execution_count": 2,
   "id": "46b793e8-27e9-4107-8ff1-30973f89a115",
   "metadata": {},
   "outputs": [
    {
     "name": "stdout",
     "output_type": "stream",
     "text": [
      "Searching *.shp files in directory:C:\\Workspace\\Projects\\Pr_MBESManager\\data\\shp\n",
      "\n",
      "\n",
      "\n",
      "Searching *.txt files in directory:.\\data\n",
      "\n",
      "\n",
      "\n",
      "0 C:\\Workspace\\Projects\\Pr_MBESManager\\data\\ABP47_MetadataList.txt\n",
      "1 C:\\Workspace\\Projects\\Pr_MBESManager\\data\\ABP48_MetadataList.txt\n"
     ]
    }
   ],
   "source": [
    "gpkg_path = 'C:\\Workspace\\Projects\\Pr_MBESManager\\data\\shp'\n",
    "\n",
    "gpkg_files = file_ext_search(extension='.shp', path=gpkg_path)\n",
    "espg_crf_wgs84utm34n = 32634\n",
    "\n",
    "log_path = '.\\\\data'\n",
    "log_paths = file_ext_search(extension='.txt', path=log_path)\n",
    "\n",
    "for num, path in enumerate(log_paths):\n",
    "    print(f'{num} {path}')\n",
    "\n",
    "proc_log = ProcessingLog()\n",
    "proc_log.read_log(log_paths[0])"
   ]
  },
  {
   "cell_type": "code",
   "execution_count": 3,
   "id": "741620a5-bdfe-4bf3-a60c-dcec28764f1d",
   "metadata": {},
   "outputs": [],
   "source": [
    "count = 0\n",
    "for num, logline in enumerate(proc_log.lines):\n",
    "    logline_fs = os.path.splitext(logline.name)[0]\n",
    "    \n",
    "    for file in gpkg_files:\n",
    "        fs_name = os.path.splitext(os.path.split(file)[1])[0]\n",
    "        if logline_fs in fs_name:\n",
    "            pop_attrs(file, logline)\n",
    "            # repop_attrs(file, logline)"
   ]
  },
  {
   "cell_type": "code",
   "execution_count": null,
   "id": "344162a4-bb85-405a-9b44-5ab7f2984d24",
   "metadata": {},
   "outputs": [],
   "source": []
  }
 ],
 "metadata": {
  "kernelspec": {
   "display_name": "Python 3.10.4",
   "language": "python",
   "name": "python3"
  },
  "language_info": {
   "codemirror_mode": {
    "name": "ipython",
    "version": 3
   },
   "file_extension": ".py",
   "mimetype": "text/x-python",
   "name": "python",
   "nbconvert_exporter": "python",
   "pygments_lexer": "ipython3",
   "version": "3.10.4"
  },
  "vscode": {
   "interpreter": {
    "hash": "542b0e3096725a2056735354746e8fb0274aaacae20b326a136954ba503430db"
   }
  }
 },
 "nbformat": 4,
 "nbformat_minor": 5
}
