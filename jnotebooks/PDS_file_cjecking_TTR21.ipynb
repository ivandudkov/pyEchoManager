{
 "cells": [
  {
   "cell_type": "code",
   "execution_count": 35,
   "metadata": {},
   "outputs": [
    {
     "name": "stdout",
     "output_type": "stream",
     "text": [
      "The autoreload extension is already loaded. To reload it, use:\n",
      "  %reload_ext autoreload\n"
     ]
    }
   ],
   "source": [
    "%load_ext autoreload\n",
    "%autoreload 2\n",
    "import os\n",
    "import sys\n",
    "if not '..' in sys.path:\n",
    "    sys.path.append('..')\n",
    "    \n",
    "from filemanager import file_ext_search as fes"
   ]
  },
  {
   "cell_type": "code",
   "execution_count": 36,
   "metadata": {},
   "outputs": [],
   "source": [
    "full_file_list = r'D:\\aa_yandexcloud\\aa_cloudmbesproceessing\\aa_abp50_processing\\PDS_file_checking\\TTR21_ABP50_PDSFiles_list_of_filenames.csv'\n",
    "\n",
    "class PDSFile:\n",
    "    def __init__(self, filename, id):\n",
    "        self.filename = filename\n",
    "        self.id = id\n",
    "        self.in_list_1 = False\n",
    "        self.in_list_2 = False\n",
    "\n",
    "\n",
    "filelist = []\n",
    "\n",
    "with open(full_file_list, 'r') as f1:\n",
    "    file_content = f1.read().splitlines()\n",
    "    \n",
    "    for line in file_content[1:]:\n",
    "        line_content = line.split(',')\n",
    "        file_id = line_content[0].replace('\"','')\n",
    "        filename = line_content[1]\n",
    "        \n",
    "        filelist.append(PDSFile(filename, file_id))\n",
    "        \n"
   ]
  },
  {
   "cell_type": "code",
   "execution_count": 37,
   "metadata": {},
   "outputs": [
    {
     "name": "stdout",
     "output_type": "stream",
     "text": [
      "['ABP50_TTR021-20220716-134941-UserLine(4).1', 'ABP50_TTR021-20220716-135800-UserLine(4).1']\n"
     ]
    }
   ],
   "source": [
    "list1 = r'D:\\aa_yandexcloud\\aa_cloudmbesproceessing\\aa_abp50_processing\\PDS_file_checking\\listoffiles1_pc02.txt'\n",
    "list2 = r'D:\\aa_yandexcloud\\aa_cloudmbesproceessing\\aa_abp50_processing\\PDS_file_checking\\listoffiles2_PHDD.txt'\n",
    "\n",
    "\n",
    "def read_pds_filelist(path):\n",
    "    pds_files_list = []\n",
    "    with open(path, 'r') as f2:\n",
    "        file_content = f2.read().splitlines()\n",
    "        \n",
    "        for line in file_content:\n",
    "            if line.endswith('.pds'):\n",
    "                pds_files_list.append(line[:-4])\n",
    "                \n",
    "    return pds_files_list\n",
    "            \n",
    "list1_files = read_pds_filelist(list1)\n",
    "list2_files = read_pds_filelist(list2)\n",
    "\n",
    "print(list1_files[0:2])\n",
    "\n",
    "for pds_file in filelist:\n",
    "    if pds_file.filename in list1_files:\n",
    "        pds_file.in_list_1 = True\n",
    "    if pds_file.filename in list2_files:\n",
    "        pds_file.in_list_2 = True\n",
    "    "
   ]
  },
  {
   "cell_type": "code",
   "execution_count": 39,
   "metadata": {},
   "outputs": [],
   "source": [
    "checked_file_list = r'D:\\aa_yandexcloud\\aa_cloudmbesproceessing\\aa_abp50_processing\\PDS_file_checking\\TTR21_ABP50_PDSFiles_list_of_filenames_checked.csv'\n",
    "\n",
    "with open(checked_file_list, 'w') as f3:\n",
    "    f3.write('fid,FileName,InYaDpc02,InMypHDD,Found,NotFound\\n')\n",
    "    \n",
    "    for pds_file in filelist:\n",
    "        file_id = pds_file.id\n",
    "        filename = pds_file.filename\n",
    "        in_list1 = str(pds_file.in_list_1)\n",
    "        in_list2 = str(pds_file.in_list_2)\n",
    "        if pds_file.in_list_1 is False and pds_file.in_list_2 is False:\n",
    "             found = 'False'\n",
    "             notfound = 'True'\n",
    "        else:\n",
    "            found = 'True'\n",
    "            notfound = 'False'\n",
    "            \n",
    "        f3.write(f'{file_id},{filename},{in_list1},{in_list2},{found},{notfound}\\n')"
   ]
  },
  {
   "cell_type": "code",
   "execution_count": 22,
   "metadata": {},
   "outputs": [
    {
     "name": "stdout",
     "output_type": "stream",
     "text": [
      "True\n"
     ]
    }
   ],
   "source": []
  },
  {
   "cell_type": "code",
   "execution_count": null,
   "metadata": {},
   "outputs": [],
   "source": []
  }
 ],
 "metadata": {
  "kernelspec": {
   "display_name": "id1054",
   "language": "python",
   "name": "python3"
  },
  "language_info": {
   "codemirror_mode": {
    "name": "ipython",
    "version": 3
   },
   "file_extension": ".py",
   "mimetype": "text/x-python",
   "name": "python",
   "nbconvert_exporter": "python",
   "pygments_lexer": "ipython3",
   "version": "3.11.0"
  },
  "orig_nbformat": 4
 },
 "nbformat": 4,
 "nbformat_minor": 2
}
