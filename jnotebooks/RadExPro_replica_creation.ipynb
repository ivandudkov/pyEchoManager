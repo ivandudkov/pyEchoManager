{
 "cells": [
  {
   "cell_type": "code",
   "execution_count": 4,
   "metadata": {},
   "outputs": [],
   "source": [
    "import os\n",
    "import sys\n",
    "\n",
    "%load_ext autoreload\n",
    "%autoreload 2\n",
    "\n",
    "if not '..' in sys.path:\n",
    "    sys.path.append('..')\n",
    "\n",
    "from utilities import file_ext_search"
   ]
  },
  {
   "cell_type": "code",
   "execution_count": 18,
   "metadata": {},
   "outputs": [],
   "source": [
    "conv_path = r'E:\\RNF2022_2023\\AI-61_segy_converted'\n",
    "output_path = r'E:\\RNF2022_2023\\AI-61_segy_processed'\n",
    "\n",
    "dirnames = os.listdir(conv_path)\n",
    "\n",
    "for dir in dirnames:\n",
    "    os.mkdir(os.path.join(output_path, dir))"
   ]
  },
  {
   "cell_type": "code",
   "execution_count": 20,
   "metadata": {},
   "outputs": [],
   "source": [
    "with open(os.path.join(output_path, 'AI61_SEB_BH_Replica.txt'), 'w') as f1:\n",
    "    f1.write(f'prof_folder,output_path,profile_name\\n')\n",
    "\n",
    "    for dir in dirnames:\n",
    "        input_dirpath = os.path.join(conv_path, dir)\n",
    "        output_dirpath = os.path.join(output_path, dir)\n",
    "        profile_name = dir\n",
    "\n",
    "        f1.write(f'{input_dirpath},{output_dirpath},{profile_name}\\n')"
   ]
  },
  {
   "cell_type": "code",
   "execution_count": null,
   "metadata": {},
   "outputs": [],
   "source": []
  }
 ],
 "metadata": {
  "kernelspec": {
   "display_name": "base",
   "language": "python",
   "name": "python3"
  },
  "language_info": {
   "codemirror_mode": {
    "name": "ipython",
    "version": 3
   },
   "file_extension": ".py",
   "mimetype": "text/x-python",
   "name": "python",
   "nbconvert_exporter": "python",
   "pygments_lexer": "ipython3",
   "version": "3.9.13"
  },
  "orig_nbformat": 4,
  "vscode": {
   "interpreter": {
    "hash": "fe45e23cf9a5f980eae1e9eaca7f92a6ec17c53260c300cbc746fb4f3efe2e8d"
   }
  }
 },
 "nbformat": 4,
 "nbformat_minor": 2
}
