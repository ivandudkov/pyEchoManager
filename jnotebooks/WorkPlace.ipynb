{
 "cells": [
  {
   "cell_type": "code",
   "execution_count": 1,
   "metadata": {},
   "outputs": [],
   "source": [
    "import os\n",
    "import sys\n",
    "\n",
    "%load_ext autoreload\n",
    "%autoreload 2\n",
    "\n",
    "if not '..' in sys.path:\n",
    "    sys.path.append('..')\n",
    "\n",
    "import filemanager.fileset as fileset\n",
    "from filemanager.fileset import PDSFileset\n",
    "from utilities import file_ext_search"
   ]
  },
  {
   "cell_type": "code",
   "execution_count": 2,
   "metadata": {},
   "outputs": [
    {
     "name": "stdout",
     "output_type": "stream",
     "text": [
      "Searching *.sub files in directory:C:\\Users\\IvanDudkov\\Desktop\\filesets\n",
      "Searching was unsuccessful. Trying to search in one directory up:\n",
      "C:\\Users\\IvanDudkov\\Desktop\n"
     ]
    }
   ],
   "source": [
    "fs_folder = r'C:\\Users\\IvanDudkov\\Desktop\\filesets'\n",
    "\n",
    "filesets = file_ext_search.file_ext_search(extension='.sub', path=fs_folder)\n",
    "\n",
    "fs_list = []\n",
    "\n",
    "for fileset in filesets:\n",
    "    fileset_obj = PDSFileset()\n",
    "    fileset_obj.readfileset(fileset)\n",
    "    fs_list.append(fileset_obj)\n",
    "    fileset_obj.savefileset_ascsv(os.path.join(fs_folder, fileset_obj.name + '.csv'))\n",
    "    "
   ]
  },
  {
   "cell_type": "code",
   "execution_count": 5,
   "metadata": {},
   "outputs": [
    {
     "name": "stdout",
     "output_type": "stream",
     "text": [
      "Searching *.csv files in directory:C:\\Users\\IvanDudkov\\Desktop\\filesets\n",
      "ABP-048-SEB-20220601-233446-UserLine(1).1\n",
      "repeated\n",
      "ABP-048-SEB-20220601-235241-UserLine(1).1\n",
      "repeated\n",
      "4810\n"
     ]
    }
   ],
   "source": [
    "csv_files = file_ext_search.file_ext_search(extension='.csv', path=fs_folder)\n",
    "\n",
    "\n",
    "fnames = []\n",
    "with open(os.path.join(fs_folder, 'fileset_files.csv'), 'w') as file:\n",
    "    count = 0\n",
    "    for f in csv_files:\n",
    "        with open(f, 'r') as file2:\n",
    "            f_content = file2.readlines()\n",
    "            for num, line in enumerate(f_content):\n",
    "                if num == 0:\n",
    "                    if count == 0:\n",
    "                        file.write(line)\n",
    "                        count += 1\n",
    "                    else:\n",
    "                        pass\n",
    "                else:\n",
    "                    line_content = line.split(',')\n",
    "                    if line_content[0] in fnames:\n",
    "                        print(line_content[0])\n",
    "                        print('repeated')\n",
    "                    else:\n",
    "                        file.write(line)\n",
    "                        fnames.append(line_content[0])\n",
    "print(len(fnames))\n",
    "            \n",
    "            \n",
    "    \n",
    "    "
   ]
  },
  {
   "cell_type": "markdown",
   "metadata": {},
   "source": [
    "Assign SVP function (starts only case)"
   ]
  },
  {
   "cell_type": "code",
   "execution_count": 27,
   "metadata": {},
   "outputs": [
    {
     "name": "stdout",
     "output_type": "stream",
     "text": [
      "File ABP-049-SEB-20220620-093720(2) has bad coordinates\n",
      "File ABP-049-SEB-20220620-093722 has bad coordinates\n",
      "File ABP-049-SEB-20220621-090618 has bad coordinates\n",
      "File ABP-049-SEB-20220621-090621 has bad coordinates\n"
     ]
    }
   ],
   "source": [
    "from filemanager.assignsvp import AssignSvp\n",
    "\n",
    "path_starts = r'D:\\aa_yandexcloud\\aa_cloudmbesproceessing\\aa_abp49_processing\\assignsvp\\abp49_pointsalonglines_pdsfiles.csv'\n",
    "path_svpmeta = r'D:\\aa_yandexcloud\\aa_cloudmbesproceessing\\aa_abp49_processing\\assignsvp\\hydro_profiles_ctdsvp.csv'\n",
    "path_to_save = r'D:\\aa_yandexcloud\\aa_cloudmbesproceessing\\aa_abp49_processing\\assignsvp\\bestmatchprofiles_v2_v1.csv'\n",
    "\n",
    "assignsvp = AssignSvp()\n",
    "\n",
    "assignsvp.read_svpmeta(path_svpmeta)\n",
    "assignsvp.read_pdsmeta(path_starts)\n",
    "assignsvp.create_arrays()\n"
   ]
  },
  {
   "cell_type": "code",
   "execution_count": 33,
   "metadata": {},
   "outputs": [],
   "source": [
    "path_to_save = r'D:\\aa_yandexcloud\\aa_cloudmbesproceessing\\aa_abp49_processing\\assignsvp\\bestmatchprofiles_v2_v1.csv'\n",
    "path_to_save_filesets = r'D:\\aa_yandexcloud\\aa_cloudmbesproceessing\\aa_abp49_processing\\assignsvp\\filesets'\n",
    "path_to_filepath_shapetable = r'D:\\aa_yandexcloud\\aa_cloudmbesproceessing\\aa_abp49_processing\\assignsvp\\abp49_mbes_proc_filepaths_shapetable.csv'\n",
    "# assignsvp.pick_bestmatch(path_to_save)\n",
    "AssignSvp.fileset_for_each_svp(path_to_save_filesets, path_to_filepath_shapetable)"
   ]
  },
  {
   "cell_type": "code",
   "execution_count": null,
   "metadata": {},
   "outputs": [],
   "source": [
    "\n",
    "\n"
   ]
  }
 ],
 "metadata": {
  "kernelspec": {
   "display_name": "Python 3.9.13",
   "language": "python",
   "name": "python3"
  },
  "language_info": {
   "codemirror_mode": {
    "name": "ipython",
    "version": 3
   },
   "file_extension": ".py",
   "mimetype": "text/x-python",
   "name": "python",
   "nbconvert_exporter": "python",
   "pygments_lexer": "ipython3",
   "version": "3.9.13"
  },
  "orig_nbformat": 4,
  "vscode": {
   "interpreter": {
    "hash": "fe45e23cf9a5f980eae1e9eaca7f92a6ec17c53260c300cbc746fb4f3efe2e8d"
   }
  }
 },
 "nbformat": 4,
 "nbformat_minor": 2
}
