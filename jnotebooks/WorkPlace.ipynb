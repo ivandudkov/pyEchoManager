{
 "cells": [
  {
   "cell_type": "code",
   "execution_count": 10,
   "metadata": {},
   "outputs": [
    {
     "name": "stdout",
     "output_type": "stream",
     "text": [
      "The autoreload extension is already loaded. To reload it, use:\n",
      "  %reload_ext autoreload\n"
     ]
    }
   ],
   "source": [
    "import os\n",
    "import sys\n",
    "\n",
    "%load_ext autoreload\n",
    "%autoreload 2\n",
    "\n",
    "if not '..' in sys.path:\n",
    "    sys.path.append('..')\n",
    "\n",
    "import filemanager.fileset as fileset\n",
    "from filemanager.fileset import PDSFileset\n",
    "from utilities import file_ext_search"
   ]
  },
  {
   "cell_type": "code",
   "execution_count": 11,
   "metadata": {},
   "outputs": [
    {
     "name": "stdout",
     "output_type": "stream",
     "text": [
      "Searching *.xyz files in directory:D:\\aa_yandexcloud\\MyWorkbench\\FloatUniv_MasterClass\\Project\\data\\point_cloud\\fs_02\n"
     ]
    }
   ],
   "source": [
    "data_path_01 = r'D:\\aa_yandexcloud\\MyWorkbench\\FloatUniv_MasterClass\\Project\\data\\point_cloud\\fs_01'\n",
    "data_path_02 = r'D:\\aa_yandexcloud\\MyWorkbench\\FloatUniv_MasterClass\\Project\\data\\point_cloud\\fs_02'\n",
    "\n",
    "# fs_01 = file_ext_search.file_ext_search(extension='.xyz',path=data_path_01)\n",
    "# print(fs_01)\n",
    "fs_02 = file_ext_search.file_ext_search(extension='.xyz',path=data_path_02)"
   ]
  },
  {
   "cell_type": "code",
   "execution_count": 12,
   "metadata": {},
   "outputs": [],
   "source": [
    "def modify_xyz(fs):\n",
    "    for path_f in fs:\n",
    "        x = []\n",
    "        y = []\n",
    "        z = []\n",
    "        with open(path_f, 'r') as file:\n",
    "            file_content = file.read().splitlines()\n",
    "            for line in file_content:\n",
    "                line_content = line.split(',')\n",
    "                \n",
    "                x.append(float(line_content[0])+2340)\n",
    "                y.append(float(line_content[1])-5500)\n",
    "                z.append(float(line_content[2])+25)\n",
    "        \n",
    "        dirpath, filename = os.path.split(path_f)\n",
    "        filename = os.path.splitext(filename)[0] + '_mod.xyz'\n",
    "        path_mod = os.path.join(dirpath, filename)\n",
    "        \n",
    "        with open(path_mod, 'w') as file2:    \n",
    "            for num, x_coord in enumerate(x):\n",
    "                file2.write(f'{x[num]:.2f},{y[num]:.2f},{z[num]:.2f}\\n')\n",
    "                \n",
    "# modify_xyz(fs_01)\n",
    "modify_xyz(fs_02)"
   ]
  },
  {
   "cell_type": "code",
   "execution_count": 6,
   "metadata": {},
   "outputs": [],
   "source": []
  },
  {
   "cell_type": "code",
   "execution_count": 2,
   "metadata": {},
   "outputs": [
    {
     "name": "stdout",
     "output_type": "stream",
     "text": [
      "Searching *.sub files in directory:C:\\Users\\IvanDudkov\\Desktop\\filesets\n",
      "Searching was unsuccessful. Trying to search in one directory up:\n",
      "C:\\Users\\IvanDudkov\\Desktop\n"
     ]
    }
   ],
   "source": [
    "fs_folder = r'C:\\Users\\IvanDudkov\\Desktop\\filesets'\n",
    "data_folder = r'C\\PDS\\LogData'\n",
    "data_copy_to = r'C\\PDS\\LogData2'\n",
    "\n",
    "# блок\n",
    "filesets = file_ext_search.file_ext_search(extension='.sub', path=fs_folder)\n",
    "fs_list = []\n",
    "\n",
    "filesets = filesets[0:-1]\n",
    "for idx, fileset in enumerate(filesets):\n",
    "    print(f'{idx}  {fileset}')\n",
    "    \n",
    "# блок\n",
    "# Создаём объекты файлсетов и читаем файлсеты\n",
    "for fileset in filesets:\n",
    "    fileset_obj = PDSFileset()\n",
    "    fileset_obj.readfileset(fileset)\n",
    "    fs_list.append(fileset_obj)\n",
    "\n",
    "# блок\n",
    "fs_size = 0\n",
    "for fs in fs_list:\n",
    "    fs.matchfiles(data_folder)  # находим данные из файлсета\n",
    "    fs_size += fs.get_size()/2**30\n",
    "print(f'Размер файлсетов: {fs_size}ГБ')\n",
    "    \n",
    "# блок \n",
    "for fs in fs_list:\n",
    "    fs.copyfiles(data_copy_to)  # копируем данные в нужную папку"
   ]
  },
  {
   "cell_type": "code",
   "execution_count": 5,
   "metadata": {},
   "outputs": [
    {
     "name": "stdout",
     "output_type": "stream",
     "text": [
      "Searching *.csv files in directory:C:\\Users\\IvanDudkov\\Desktop\\filesets\n",
      "ABP-048-SEB-20220601-233446-UserLine(1).1\n",
      "repeated\n",
      "ABP-048-SEB-20220601-235241-UserLine(1).1\n",
      "repeated\n",
      "4810\n"
     ]
    }
   ],
   "source": [
    "csv_files = file_ext_search.file_ext_search(extension='.csv', path=fs_folder)\n",
    "\n",
    "\n",
    "fnames = []\n",
    "with open(os.path.join(fs_folder, 'fileset_files.csv'), 'w') as file:\n",
    "    count = 0\n",
    "    for f in csv_files:\n",
    "        with open(f, 'r') as file2:\n",
    "            f_content = file2.readlines()\n",
    "            for num, line in enumerate(f_content):\n",
    "                if num == 0:\n",
    "                    if count == 0:\n",
    "                        file.write(line)\n",
    "                        count += 1\n",
    "                    else:\n",
    "                        pass\n",
    "                else:\n",
    "                    line_content = line.split(',')\n",
    "                    if line_content[0] in fnames:\n",
    "                        print(line_content[0])\n",
    "                        print('repeated')\n",
    "                    else:\n",
    "                        file.write(line)\n",
    "                        fnames.append(line_content[0])\n",
    "print(len(fnames))\n",
    "            \n",
    "            \n",
    "    \n",
    "    "
   ]
  },
  {
   "cell_type": "markdown",
   "metadata": {},
   "source": [
    "Assign SVP function (starts only case)"
   ]
  },
  {
   "cell_type": "code",
   "execution_count": 3,
   "metadata": {},
   "outputs": [
    {
     "name": "stdout",
     "output_type": "stream",
     "text": [
      "File ABP-049-SEB-20220620-093720(2) has bad coordinates\n",
      "File ABP-049-SEB-20220620-093722 has bad coordinates\n",
      "File ABP-049-SEB-20220621-090618 has bad coordinates\n",
      "File ABP-049-SEB-20220621-090621 has bad coordinates\n"
     ]
    }
   ],
   "source": [
    "from filemanager.assignsvp import AssignSvp\n",
    "\n",
    "path_starts = r'D:\\aa_yandexcloud\\aa_cloudmbesproceessing\\aa_abp49_processing\\assignsvp\\abp49_pointsalonglines_pdsfiles.csv'\n",
    "path_svpmeta = r'D:\\aa_yandexcloud\\aa_cloudmbesproceessing\\aa_abp49_processing\\assignsvp\\hydro_profiles_ctdsvp.csv'\n",
    "path_to_save = r'D:\\aa_yandexcloud\\aa_cloudmbesproceessing\\aa_abp49_processing\\assignsvp\\bestmatchprofiles_v2_v1.csv'\n",
    "\n",
    "assignsvp = AssignSvp()\n",
    "\n",
    "assignsvp.read_svpmeta(path_svpmeta)\n",
    "assignsvp.read_pdsmeta(path_starts)\n",
    "assignsvp.create_arrays()\n"
   ]
  },
  {
   "cell_type": "code",
   "execution_count": 4,
   "metadata": {},
   "outputs": [],
   "source": [
    "path_to_save = r'D:\\aa_yandexcloud\\aa_cloudmbesproceessing\\aa_abp49_processing\\assignsvp\\bestmatchprofiles_final.csv'\n",
    "path_to_save_filesets = r'D:\\aa_yandexcloud\\aa_cloudmbesproceessing\\aa_abp49_processing\\assignsvp\\filesets'\n",
    "path_to_filepath_shapetable = r'D:\\aa_yandexcloud\\aa_cloudmbesproceessing\\aa_abp49_processing\\assignsvp\\abp49_mbes_proc_filepaths_shapetable.csv'\n",
    "# assignsvp.pick_bestmatch(path_to_save)\n",
    "AssignSvp.fileset_for_each_svp(path_to_save_filesets, path_to_filepath_shapetable)"
   ]
  },
  {
   "cell_type": "code",
   "execution_count": null,
   "metadata": {},
   "outputs": [],
   "source": [
    "\n",
    "\n"
   ]
  }
 ],
 "metadata": {
  "kernelspec": {
   "display_name": "Python 3.10.4",
   "language": "python",
   "name": "python3"
  },
  "language_info": {
   "codemirror_mode": {
    "name": "ipython",
    "version": 3
   },
   "file_extension": ".py",
   "mimetype": "text/x-python",
   "name": "python",
   "nbconvert_exporter": "python",
   "pygments_lexer": "ipython3",
   "version": "3.10.4"
  },
  "orig_nbformat": 4,
  "vscode": {
   "interpreter": {
    "hash": "542b0e3096725a2056735354746e8fb0274aaacae20b326a136954ba503430db"
   }
  }
 },
 "nbformat": 4,
 "nbformat_minor": 2
}
