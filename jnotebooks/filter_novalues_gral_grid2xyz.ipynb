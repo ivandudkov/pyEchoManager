{
 "cells": [
  {
   "cell_type": "code",
   "execution_count": 6,
   "metadata": {},
   "outputs": [
    {
     "name": "stdout",
     "output_type": "stream",
     "text": [
      "The autoreload extension is already loaded. To reload it, use:\n",
      "  %reload_ext autoreload\n"
     ]
    }
   ],
   "source": [
    "%load_ext autoreload\n",
    "%autoreload 2\n",
    "import os\n",
    "import sys\n",
    "if not '..' in sys.path:\n",
    "    sys.path.append('..')\n",
    "    \n",
    "from filemanager import file_ext_search as fes\n",
    "\n",
    "def filter_xyz(input, output, no_data_value, sep=' '):\n",
    "    fine_lines = []\n",
    "    \n",
    "    with open(input, 'r') as f1:\n",
    "        f1_content = f1.read().splitlines()\n",
    "        \n",
    "        for line in f1_content:\n",
    "            line_content = line.split(sep=sep)\n",
    "            \n",
    "            if line_content[-1] == no_data_value:\n",
    "                pass\n",
    "            else:\n",
    "                fine_lines.append(line)\n",
    "    \n",
    "    with open(output, 'w') as f2:\n",
    "        \n",
    "        for line in fine_lines:\n",
    "            f2.write(line + '\\n')"
   ]
  },
  {
   "cell_type": "code",
   "execution_count": 7,
   "metadata": {},
   "outputs": [],
   "source": [
    "exported_file = r'D:\\aa_yandexcloud\\MyWorkbench\\Conferences2023\\Maresedu2023\\gis_project\\temp\\TaranValleyXYZ.csv'\n",
    "output = r'D:\\aa_yandexcloud\\MyWorkbench\\Conferences2023\\Maresedu2023\\gis_project\\temp\\TaranValleyXYZ_filt.csv'\n",
    "no_data_value = '-9999'\n",
    "\n",
    "filter_xyz(exported_file, output, no_data_value)\n",
    "            "
   ]
  },
  {
   "cell_type": "code",
   "execution_count": null,
   "metadata": {},
   "outputs": [],
   "source": []
  },
  {
   "cell_type": "code",
   "execution_count": null,
   "metadata": {},
   "outputs": [],
   "source": []
  }
 ],
 "metadata": {
  "kernelspec": {
   "display_name": "id1054",
   "language": "python",
   "name": "python3"
  },
  "language_info": {
   "codemirror_mode": {
    "name": "ipython",
    "version": 3
   },
   "file_extension": ".py",
   "mimetype": "text/x-python",
   "name": "python",
   "nbconvert_exporter": "python",
   "pygments_lexer": "ipython3",
   "version": "3.11.0"
  },
  "orig_nbformat": 4
 },
 "nbformat": 4,
 "nbformat_minor": 2
}
