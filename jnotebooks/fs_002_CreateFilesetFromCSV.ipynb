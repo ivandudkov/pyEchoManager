{
 "cells": [
  {
   "cell_type": "code",
   "execution_count": 2,
   "metadata": {},
   "outputs": [],
   "source": [
    "%load_ext autoreload\n",
    "%autoreload 2\n",
    "import os\n",
    "import sys\n",
    "import time\n",
    "if not '..' in sys.path:\n",
    "    sys.path.append('..')\n",
    "\n",
    "from filemanager.fileset import PDSFileset\n",
    "from filemanager.file_ext_search import file_ext_search\n"
   ]
  },
  {
   "cell_type": "code",
   "execution_count": 2,
   "metadata": {},
   "outputs": [
    {
     "name": "stdout",
     "output_type": "stream",
     "text": [
      "Searching *.csv files in directory:D:\\aa_yandexcloud\\bb_cloudDTMproc\\id01_taranproc\\gis_project\n",
      "0 D:\\aa_yandexcloud\\bb_cloudDTMproc\\id01_taranproc\\gis_project\\abp47_dtms.csv\n",
      "1 D:\\aa_yandexcloud\\bb_cloudDTMproc\\id01_taranproc\\gis_project\\abp48_dtms.csv\n",
      "2 D:\\aa_yandexcloud\\bb_cloudDTMproc\\id01_taranproc\\gis_project\\abp48_taranreg_fileset.csv\n",
      "3 D:\\aa_yandexcloud\\bb_cloudDTMproc\\id01_taranproc\\gis_project\\abp49_dtms.csv\n",
      "4 D:\\aa_yandexcloud\\bb_cloudDTMproc\\id01_taranproc\\gis_project\\abp49_taranreg_fileset.csv\n"
     ]
    }
   ],
   "source": [
    "# Create one fileset from a single csv file\n",
    "csv_fs = r'D:\\aa_yandexcloud\\bb_cloudDTMproc\\id01_taranproc\\gis_project'\n",
    "save_to = r'D:\\aa_yandexcloud\\bb_cloudDTMproc\\id01_taranproc\\gis_project'\n",
    "\n",
    "filesets = file_ext_search(extension='.csv', path=csv_fs)\n",
    "\n",
    "fs_list = []\n",
    "\n",
    "for num, fileset in enumerate(filesets):\n",
    "    print(f'{num} {fileset}')"
   ]
  },
  {
   "cell_type": "code",
   "execution_count": 7,
   "metadata": {},
   "outputs": [],
   "source": [
    "pds_fileset = PDSFileset()\n",
    "pds_fileset._name = 'abp49_taranreg_fileset'\n",
    "\n",
    "pds_fileset.addfiles_fromlist(path=filesets[4])\n",
    "\n",
    "pds_fileset.savefileset(dirpath=save_to)"
   ]
  },
  {
   "cell_type": "code",
   "execution_count": null,
   "metadata": {},
   "outputs": [],
   "source": []
  },
  {
   "cell_type": "code",
   "execution_count": 6,
   "metadata": {},
   "outputs": [
    {
     "name": "stdout",
     "output_type": "stream",
     "text": [
      "D:\\aa_yandexcloud\\aa_cloudmbesproceessing\\aa_abp49_processing\\filesets\\csv\\wreck_01_toclass.csv\n",
      "wreck_01_toclass\n",
      "10 of 10 files matched\n",
      "Copied 1 of 10 files\n",
      "Copied 2 of 10 files\n",
      "Copied 3 of 10 files\n",
      "Copied 4 of 10 files\n",
      "Copied 5 of 10 files\n",
      "Copied 6 of 10 files\n",
      "Copied 7 of 10 files\n",
      "Copied 8 of 10 files\n",
      "Copied 9 of 10 files\n",
      "Copied 10 of 10 files\n",
      "D:\\aa_yandexcloud\\aa_cloudmbesproceessing\\aa_abp49_processing\\filesets\\csv\\wreck_02_toclass.csv\n",
      "wreck_02_toclass\n",
      "23 of 23 files matched\n",
      "Copied 1 of 23 files\n",
      "Copied 2 of 23 files\n",
      "Copied 3 of 23 files\n",
      "Copied 4 of 23 files\n",
      "Copied 5 of 23 files\n",
      "Copied 6 of 23 files\n",
      "Copied 7 of 23 files\n",
      "Copied 8 of 23 files\n",
      "Copied 9 of 23 files\n",
      "Copied 10 of 23 files\n",
      "Copied 11 of 23 files\n",
      "Copied 12 of 23 files\n",
      "Copied 13 of 23 files\n",
      "Copied 14 of 23 files\n",
      "Copied 15 of 23 files\n",
      "Copied 16 of 23 files\n",
      "Copied 17 of 23 files\n",
      "Copied 18 of 23 files\n",
      "Copied 19 of 23 files\n",
      "Copied 20 of 23 files\n",
      "Copied 21 of 23 files\n",
      "Copied 22 of 23 files\n",
      "Copied 23 of 23 files\n"
     ]
    }
   ],
   "source": [
    "fs_list = []\n",
    "data1_copy_to = r'G:\\master_class_data\\data_1'\n",
    "data2_copy_to = r'G:\\master_class_data\\data_2'\n",
    "pds_logdata = r'D:\\zz_ABP49_PDSData\\PDS Projects\\AkademikBorisPetrov_049\\LogData'\n",
    "\n",
    "for num, fileset in enumerate(filesets[3:]):\n",
    "    print(fileset)\n",
    "    fileset_obj = PDSFileset()\n",
    "    fileset_obj.addfiles_fromlist(fileset)\n",
    "    filename = os.path.splitext(os.path.basename(fileset))[0]\n",
    "    fileset_obj._name = filename\n",
    "    print(fileset_obj.name)\n",
    "    fileset_obj.matchfiles(pds_logdata, verbose=True)\n",
    "\n",
    "    if num == 0:\n",
    "        fileset_obj.savefileset(dirpath=data1_copy_to)\n",
    "        fileset_obj.copyfiles(data1_copy_to, verbose=True)\n",
    "    elif num == 1:\n",
    "        fileset_obj.savefileset(dirpath=data2_copy_to)\n",
    "        fileset_obj.copyfiles(data2_copy_to, verbose=True)"
   ]
  },
  {
   "cell_type": "code",
   "execution_count": 11,
   "metadata": {},
   "outputs": [
    {
     "name": "stdout",
     "output_type": "stream",
     "text": [
      "20220622-093943\n",
      "2022-06-22 09:39:43\n"
     ]
    }
   ],
   "source": [
    "import re\n",
    "from datetime import datetime\n",
    "mm = 'ABP-049-SEB-20220622-093943.pds'\n",
    "\n",
    "nl = re.search(r'\\d{8}-\\d{6}',mm)[0]\n",
    "print(nl)\n",
    "\n",
    "print(datetime.strptime(re.search(r'\\d{8}-\\d{6}',mm)[0], '%Y%m%d-%H%M%S'))"
   ]
  },
  {
   "cell_type": "code",
   "execution_count": 3,
   "metadata": {},
   "outputs": [
    {
     "name": "stdout",
     "output_type": "stream",
     "text": [
      " - 1510\n",
      "abp48_bs004 - 5\n",
      "abp48_bs017 - 10\n",
      "abp48_bs020 - 62\n",
      "abp48_bs019 - 14\n",
      "abp48_bs009 - 95\n",
      "abp48_bs014 - 6\n",
      "abp48_bs016 - 8\n",
      "abp48_bs010 - 7\n",
      "abp48_bs003 - 6\n",
      "abp48_bs013 - 7\n",
      "abp48_bs012 - 8\n",
      "abp48_bs018 - 6\n",
      "abp48_bs002 - 17\n",
      "abp48_bs021 - 3\n",
      "abp48_bs015 - 4\n",
      "abp48_bs007 - 3\n",
      "abp48_bs001 - 3\n",
      "abp48_bs008 - 2\n",
      "abp48_bs005 - 2\n",
      "abp48_bs006 - 1\n",
      "abp48_bs011 - 4\n"
     ]
    }
   ],
   "source": [
    "import numpy as np\n",
    "\n",
    "# Create multiple filesets from a single csv file\n",
    "csv_f = r'D:\\aa_yandexcloud\\aa_cloudmbesproceessing\\aa_abp47_processing\\ABP048_FileTrackMeta.csv'\n",
    "save_to = r'D:\\aa_yandexcloud\\aa_cloudmbesproceessing\\aa_abp47_processing'\n",
    "\n",
    "filesets = []\n",
    "\n",
    "filesets_dict = {}\n",
    "\n",
    "with open(csv_f, 'r') as csv_file:\n",
    "    file_content = csv_file.read().splitlines()\n",
    "\n",
    "    for num, line in enumerate(file_content[1:]):\n",
    "        line_content = line.split(',')\n",
    "        file_name = line_content[0]\n",
    "        fileset_name = line_content[-1]\n",
    "\n",
    "        if fileset_name in filesets_dict.keys():\n",
    "            filesets_dict[fileset_name].append(file_name)\n",
    "        else:\n",
    "            filesets_dict[fileset_name] = []\n",
    "            filesets_dict[fileset_name].append(file_name)\n",
    "\n",
    "for key in filesets_dict.keys():\n",
    "    fileset_name = key\n",
    "    filenames = filesets_dict[key]\n",
    "\n",
    "    fileset = PDSFileset()\n",
    "    fileset.setname(fileset_name)\n",
    "    fileset.addfiles(filenames)\n",
    "    filesets.append(fileset)\n",
    "\n",
    "for fileset in filesets:\n",
    "    print(f'{fileset.name} - {len(fileset.files)}')\n",
    "    fileset.savefileset(dirpath=save_to)\n"
   ]
  },
  {
   "cell_type": "code",
   "execution_count": null,
   "metadata": {},
   "outputs": [],
   "source": []
  },
  {
   "cell_type": "code",
   "execution_count": null,
   "metadata": {},
   "outputs": [],
   "source": []
  }
 ],
 "metadata": {
  "kernelspec": {
   "display_name": "base",
   "language": "python",
   "name": "python3"
  },
  "language_info": {
   "codemirror_mode": {
    "name": "ipython",
    "version": 3
   },
   "file_extension": ".py",
   "mimetype": "text/x-python",
   "name": "python",
   "nbconvert_exporter": "python",
   "pygments_lexer": "ipython3",
   "version": "3.11.0"
  },
  "orig_nbformat": 4,
  "vscode": {
   "interpreter": {
    "hash": "fe45e23cf9a5f980eae1e9eaca7f92a6ec17c53260c300cbc746fb4f3efe2e8d"
   }
  }
 },
 "nbformat": 4,
 "nbformat_minor": 2
}
