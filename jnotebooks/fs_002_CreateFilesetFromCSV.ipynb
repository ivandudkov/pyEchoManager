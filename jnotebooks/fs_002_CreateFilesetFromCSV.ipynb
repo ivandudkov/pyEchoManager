{
 "cells": [
  {
   "cell_type": "code",
   "execution_count": 2,
   "metadata": {},
   "outputs": [
    {
     "name": "stdout",
     "output_type": "stream",
     "text": [
      "The autoreload extension is already loaded. To reload it, use:\n",
      "  %reload_ext autoreload\n"
     ]
    }
   ],
   "source": [
    "%load_ext autoreload\n",
    "%autoreload 2\n",
    "import os\n",
    "import sys\n",
    "import time\n",
    "if not '..' in sys.path:\n",
    "    sys.path.append('..')\n",
    "\n",
    "from filemanager.fileset import PDSFileset\n",
    "from filemanager.file_ext_search import file_ext_search\n"
   ]
  },
  {
   "cell_type": "code",
   "execution_count": 3,
   "metadata": {},
   "outputs": [
    {
     "name": "stdout",
     "output_type": "stream",
     "text": [
      " - 1510\n",
      "abp48_bs004 - 5\n",
      "abp48_bs017 - 10\n",
      "abp48_bs020 - 62\n",
      "abp48_bs019 - 14\n",
      "abp48_bs009 - 95\n",
      "abp48_bs014 - 6\n",
      "abp48_bs016 - 8\n",
      "abp48_bs010 - 7\n",
      "abp48_bs003 - 6\n",
      "abp48_bs013 - 7\n",
      "abp48_bs012 - 8\n",
      "abp48_bs018 - 6\n",
      "abp48_bs002 - 17\n",
      "abp48_bs021 - 3\n",
      "abp48_bs015 - 4\n",
      "abp48_bs007 - 3\n",
      "abp48_bs001 - 3\n",
      "abp48_bs008 - 2\n",
      "abp48_bs005 - 2\n",
      "abp48_bs006 - 1\n",
      "abp48_bs011 - 4\n"
     ]
    }
   ],
   "source": [
    "import numpy as np\n",
    "\n",
    "# Create multiple filesets from a single csv file\n",
    "csv_f = r'D:\\aa_yandexcloud\\aa_cloudmbesproceessing\\aa_abp47_processing\\ABP047_FS_Backscatter.csv'\n",
    "save_to = r'D:\\aa_yandexcloud\\aa_cloudmbesproceessing\\aa_abp47_processing\\filesets_bs'\n",
    "\n",
    "filesets = []\n",
    "\n",
    "filesets_dict = {}\n",
    "\n",
    "with open(csv_f, 'r') as csv_file:\n",
    "    file_content = csv_file.read().splitlines()\n",
    "\n",
    "    for num, line in enumerate(file_content[1:]):\n",
    "        line_content = line.split(',')\n",
    "        file_name = line_content[0]\n",
    "        fileset_name = line_content[-1]\n",
    "\n",
    "        if fileset_name in filesets_dict.keys():\n",
    "            filesets_dict[fileset_name].append(file_name)\n",
    "        else:\n",
    "            filesets_dict[fileset_name] = []\n",
    "            filesets_dict[fileset_name].append(file_name)\n",
    "\n",
    "for key in filesets_dict.keys():\n",
    "    fileset_name = key\n",
    "    filenames = filesets_dict[key]\n",
    "\n",
    "    fileset = PDSFileset()\n",
    "    fileset.setname(fileset_name)\n",
    "    fileset.addfiles(filenames)\n",
    "    filesets.append(fileset)\n",
    "\n",
    "for fileset in filesets:\n",
    "    print(f'{fileset.name} - {len(fileset.files)}')\n",
    "    fileset.savefileset(dirpath=save_to)\n"
   ]
  },
  {
   "cell_type": "code",
   "execution_count": null,
   "metadata": {},
   "outputs": [],
   "source": []
  },
  {
   "cell_type": "code",
   "execution_count": null,
   "metadata": {},
   "outputs": [],
   "source": []
  }
 ],
 "metadata": {
  "kernelspec": {
   "display_name": "base",
   "language": "python",
   "name": "python3"
  },
  "language_info": {
   "codemirror_mode": {
    "name": "ipython",
    "version": 3
   },
   "file_extension": ".py",
   "mimetype": "text/x-python",
   "name": "python",
   "nbconvert_exporter": "python",
   "pygments_lexer": "ipython3",
   "version": "3.11.0"
  },
  "orig_nbformat": 4,
  "vscode": {
   "interpreter": {
    "hash": "fe45e23cf9a5f980eae1e9eaca7f92a6ec17c53260c300cbc746fb4f3efe2e8d"
   }
  }
 },
 "nbformat": 4,
 "nbformat_minor": 2
}
