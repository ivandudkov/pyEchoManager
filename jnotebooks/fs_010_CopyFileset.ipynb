{
 "cells": [
  {
   "cell_type": "markdown",
   "id": "670a564b-5b79-404c-ae50-36ff098a364b",
   "metadata": {},
   "source": [
    "### Копирование файлсетов и связанных с ними данных из одного PDS проекта в другой\n",
    "\n",
    "\n",
    "Организация: АО ИО РАН\n",
    "Автор: Дудков Иван"
   ]
  },
  {
   "cell_type": "code",
   "execution_count": 1,
   "id": "51f14b68-095d-4674-a7b7-e0c5bb285737",
   "metadata": {},
   "outputs": [],
   "source": [
    "%load_ext autoreload\n",
    "%autoreload 2\n",
    "import os\n",
    "import sys\n",
    "if not '..' in sys.path:\n",
    "    sys.path.append('..')\n",
    "\n",
    "import filemanager.fileset as fileset\n",
    "from filemanager.fileset import PDSFileset\n",
    "from utilities.file_ext_search import file_ext_search"
   ]
  },
  {
   "cell_type": "markdown",
   "id": "5f325268-34c7-4cc9-8ec7-3264b5e89a13",
   "metadata": {},
   "source": [
    "Следующая ячейка редактируется пользователем. Все остальные ячейки трогать нельзя"
   ]
  },
  {
   "cell_type": "code",
   "execution_count": 2,
   "id": "ef72d9c5-ec37-4b77-a415-35a41e43228c",
   "metadata": {},
   "outputs": [],
   "source": [
    "# Указать путь до источника файлсетов и данных\n",
    "# Обычно это путь до основного проекта PDS2000, хранящегося на сервере СНД Z:\n",
    "# pds_project = 'D:\\Public_D\\PDS Projects\\AkademikBorisPetrov_049'\n",
    "pds_project = r'D:\\zz_ABP49_PDSData\\PDS Projects\\AkademikBorisPetrov_049\\LogData'\n",
    "\n",
    "# Путь до папки с файлсетами .csv\n",
    "#csv_filesets = r'D:\\aa_yandexcloud\\aa_cloudmbesproceessing\\aa_abp49_processing\\filesets\\csv'\n",
    "#csv_fs_paths = file_ext_search(extension='.csv', path=csv_filesets)\n",
    "#print(csv_fs_paths)\n",
    "\n",
    "# Путь до папки с файлсетами .sub\n",
    "sub_filesets = r'D:\\aa_yandexcloud\\aa_cloudmbesproceessing\\aa_abp49_processing\\filesets\\sub'\n",
    "\n",
    "# Указание пути до директории, куда данные должны быть скопированы. Файлы файлсетов .sub будут скопированы в директорию выше\n",
    "# Т.е. здесь нужно указать путь до LogData проекта, куда мы хотим скопировать данные\n",
    "pds_project_copy_to = r'C:\\PDS Projects\\ABP_49\\LogData'"
   ]
  },
  {
   "cell_type": "code",
   "execution_count": 23,
   "id": "29097636-c944-46e2-b457-52f2b811139d",
   "metadata": {},
   "outputs": [
    {
     "name": "stdout",
     "output_type": "stream",
     "text": [
      "Размер файлов: 593.12ГБ\n"
     ]
    }
   ],
   "source": [
    "# Использование функции поиска файлсетов\n",
    "fileset = PDSFileset()\n",
    "\n",
    "fs_size = 0\n",
    "fileset.addfiles_fromlist(csv_fs_paths[0])\n",
    "fileset.matchfiles(pds_project)\n",
    "fs_size += fileset.get_size()/2**30\n",
    "print(f'Размер файлов: {fs_size:.2f}ГБ')\n",
    "fileset.savefileset(filename='abp49_id002_TaranNS_Po.sub', dirpath='C:\\PDS Projects\\ABP_49')\n",
    "fileset.copyfiles(pds_project_copy_to)"
   ]
  },
  {
   "cell_type": "code",
   "execution_count": 20,
   "id": "83cd7727",
   "metadata": {},
   "outputs": [],
   "source": []
  },
  {
   "cell_type": "code",
   "execution_count": 4,
   "id": "a9721bfc-3dea-45ba-9fdf-b6fa84c58713",
   "metadata": {},
   "outputs": [
    {
     "name": "stdout",
     "output_type": "stream",
     "text": [
      "135 of 135 files matched\n"
     ]
    }
   ],
   "source": [
    "fs = PDSFileset()\n",
    "\n",
    "fs.readfileset(path=r'D:\\zz_ABP49_PDSData\\PDS Projects\\AkademikBorisPetrov_049\\abp49_id003_TaranSW_Po.sub')\n",
    "fs.matchfiles(path=r'D:\\zz_ABP49_PDSData\\PDS Projects\\AkademikBorisPetrov_049\\LogData', verbose=True)\n",
    "fs.copyfiles(path=r'G:\\MerkWorkSpace\\PDS Projects\\ABP_49\\LogData')\n",
    "fs.savefileset(filename=fs.name + fs.extension, dirpath=r'G:\\MerkWorkSpace\\PDS Projects\\ABP_49')"
   ]
  },
  {
   "cell_type": "code",
   "execution_count": null,
   "id": "f74b3ff9-3842-4255-97b7-04dafb0b40b0",
   "metadata": {},
   "outputs": [],
   "source": []
  }
 ],
 "metadata": {
  "kernelspec": {
   "display_name": "Python 3.9.13 ('base')",
   "language": "python",
   "name": "python3"
  },
  "language_info": {
   "codemirror_mode": {
    "name": "ipython",
    "version": 3
   },
   "file_extension": ".py",
   "mimetype": "text/x-python",
   "name": "python",
   "nbconvert_exporter": "python",
   "pygments_lexer": "ipython3",
   "version": "3.9.13"
  },
  "vscode": {
   "interpreter": {
    "hash": "fe45e23cf9a5f980eae1e9eaca7f92a6ec17c53260c300cbc746fb4f3efe2e8d"
   }
  }
 },
 "nbformat": 4,
 "nbformat_minor": 5
}
