{
 "cells": [
  {
   "cell_type": "code",
   "execution_count": 83,
   "metadata": {},
   "outputs": [
    {
     "name": "stdout",
     "output_type": "stream",
     "text": [
      "The autoreload extension is already loaded. To reload it, use:\n",
      "  %reload_ext autoreload\n"
     ]
    }
   ],
   "source": [
    "import os\n",
    "import sys\n",
    "\n",
    "%load_ext autoreload\n",
    "%autoreload 2\n",
    "\n",
    "if not '..' in sys.path:\n",
    "    sys.path.append('..')\n",
    "\n",
    "from utilities import file_ext_search"
   ]
  },
  {
   "cell_type": "code",
   "execution_count": 85,
   "metadata": {},
   "outputs": [],
   "source": [
    "import datetime\n",
    "import numpy as np\n",
    "\n",
    "track_file = r'D:\\aa_yandexcloud\\MyWorkbench\\Отчёты\\Отчёты АБП49\\gis project\\Spreadsheet\\ABP49_MBES_Points.csv'\n",
    "\n",
    "id = []\n",
    "x = []\n",
    "y = []\n",
    "datetime_list = []\n",
    "# 2022-06-01T08:09:43.137180\n",
    "# 2022-06-01T08:09:43.137180\n",
    "time_string_format = '%Y-%m-%dT%H:%M:%S.%f'\n",
    "\n",
    "\n",
    "with open(track_file, 'r') as file:\n",
    "    file_content = file.read().splitlines()\n",
    "    \n",
    "    for num, line in enumerate(file_content):\n",
    "        line_content = line.split(',')\n",
    "        \n",
    "        if num != 0:\n",
    "            id.append(line_content[0])\n",
    "            x.append(float(line_content[2]))\n",
    "            y.append(float(line_content[3]))\n",
    "            datetime_list.append(datetime.datetime.strptime(line_content[1], time_string_format))\n",
    "    \n"
   ]
  },
  {
   "cell_type": "code",
   "execution_count": 115,
   "metadata": {},
   "outputs": [
    {
     "name": "stdout",
     "output_type": "stream",
     "text": [
      "Searching *.sgd files in directory:D:\\aa_MyExpeditions\\Cr_2022-06-01_ABP49\\Seismic\\Data\n",
      "Files found: 14027\n"
     ]
    }
   ],
   "source": [
    "segd_folder = r'D:\\aa_MyExpeditions\\Cr_2022-06-01_ABP49\\Seismic\\Data'\n",
    "\n",
    "segd_files = file_ext_search.file_ext_search('.sgd', segd_folder, recursive=True)\n",
    "print(f'Files found: {len(segd_files)}')\n",
    "\n",
    "class SegdFile:\n",
    "    \"\"\"A file\"\"\"\n",
    "    \n",
    "    def __init__(self):\n",
    "        self.x = None\n",
    "        self.y = None\n",
    "        self.coordtime = None\n",
    "        self.mdatetime = None\n",
    "        self.path = ''\n",
    "        self.profile_name = ''\n",
    "\n",
    "segd_fobjs = []\n",
    "\n",
    "for file in segd_files:\n",
    "    profile_name = os.path.split(os.path.split(file)[0])[1]\n",
    "    mdatetime = datetime.datetime.utcfromtimestamp(os.path.getmtime(file))\n",
    "    file_obj = SegdFile()\n",
    "    file_obj.path = file\n",
    "    file_obj.profile_name = profile_name\n",
    "    file_obj.mdatetime = mdatetime\n",
    "    segd_fobjs.append(file_obj)"
   ]
  },
  {
   "cell_type": "code",
   "execution_count": 116,
   "metadata": {},
   "outputs": [],
   "source": [
    "datetime_array = np.array(datetime_list)\n",
    "\n",
    "for segd_fobj in segd_fobjs:\n",
    "    idx = np.abs(datetime_array - segd_fobj.mdatetime).argmin()\n",
    "    segd_fobj.x = x[idx]\n",
    "    segd_fobj.y = y[idx]\n",
    "    segd_fobj.coordtime = datetime_list[idx]\n"
   ]
  },
  {
   "cell_type": "code",
   "execution_count": 118,
   "metadata": {},
   "outputs": [],
   "source": [
    "path_to_save = r'D:\\aa_yandexcloud\\MyWorkbench\\Отчёты\\Отчёты АБП49\\gis project\\Spreadsheet\\ABP49_SegdTrack.csv'\n",
    "with open(path_to_save, 'w') as file:\n",
    "    file.write('num,path,folder_name,filename,filemtime,coordtime,x,y\\n')\n",
    "    \n",
    "    for num, fobj in enumerate(segd_fobjs):\n",
    "        file.write(f'{num},{os.path.basename(fobj.path)},{fobj.profile_name},{os.path.basename(fobj.path)},{fobj.mdatetime.isoformat()},{fobj.coordtime.isoformat()},{fobj.x},{fobj.y}\\n')"
   ]
  },
  {
   "cell_type": "code",
   "execution_count": 30,
   "metadata": {},
   "outputs": [
    {
     "name": "stdout",
     "output_type": "stream",
     "text": [
      "196\n"
     ]
    }
   ],
   "source": [
    "dt1 = datetime_list[0]\n",
    "dt2 = datetime_list[1]\n",
    "timedelta = dt2 - dt1\n",
    "print(timedelta.seconds)"
   ]
  },
  {
   "cell_type": "code",
   "execution_count": 74,
   "metadata": {},
   "outputs": [
    {
     "name": "stdout",
     "output_type": "stream",
     "text": [
      "1\n",
      "11\n",
      "1\n",
      "12\n",
      "1\n",
      "13\n",
      "1\n",
      "14\n",
      "1\n",
      "15\n"
     ]
    }
   ],
   "source": [
    "m = [1, 2, 3, 4, 5, 6]\n",
    "a = [11, 12, 13, 14, 15]\n",
    "for u in a:\n",
    "    for n in m:\n",
    "        if n == 2:\n",
    "            break\n",
    "        print(n)\n",
    "    print(u)"
   ]
  },
  {
   "cell_type": "code",
   "execution_count": 100,
   "metadata": {},
   "outputs": [
    {
     "name": "stdout",
     "output_type": "stream",
     "text": [
      "[]\n"
     ]
    }
   ],
   "source": []
  },
  {
   "cell_type": "code",
   "execution_count": null,
   "metadata": {},
   "outputs": [],
   "source": []
  }
 ],
 "metadata": {
  "kernelspec": {
   "display_name": "Python 3.10.4",
   "language": "python",
   "name": "python3"
  },
  "language_info": {
   "codemirror_mode": {
    "name": "ipython",
    "version": 3
   },
   "file_extension": ".py",
   "mimetype": "text/x-python",
   "name": "python",
   "nbconvert_exporter": "python",
   "pygments_lexer": "ipython3",
   "version": "3.10.10"
  },
  "orig_nbformat": 4,
  "vscode": {
   "interpreter": {
    "hash": "542b0e3096725a2056735354746e8fb0274aaacae20b326a136954ba503430db"
   }
  }
 },
 "nbformat": 4,
 "nbformat_minor": 2
}
