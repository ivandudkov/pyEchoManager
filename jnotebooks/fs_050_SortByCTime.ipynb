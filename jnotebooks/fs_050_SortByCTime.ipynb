{
 "cells": [
  {
   "cell_type": "code",
   "execution_count": 9,
   "metadata": {},
   "outputs": [
    {
     "name": "stdout",
     "output_type": "stream",
     "text": [
      "The autoreload extension is already loaded. To reload it, use:\n",
      "  %reload_ext autoreload\n"
     ]
    }
   ],
   "source": [
    "%load_ext autoreload\n",
    "%autoreload 2\n",
    "import os\n",
    "import sys\n",
    "import datetime\n",
    "if not '..' in sys.path:\n",
    "    sys.path.append('..')\n",
    "\n",
    "import filemanager.fileset as fileset\n",
    "from filemanager.fileset import PDSFileset\n",
    "from utilities.file_ext_search import file_ext_search"
   ]
  },
  {
   "cell_type": "code",
   "execution_count": 3,
   "metadata": {},
   "outputs": [],
   "source": [
    "input_path = r'H:\\ABP049_CruiseData\\Seismic\\Data'\n",
    "input_path_1000 = r'H:\\ABP049_CruiseData\\Seismic\\Data\\1000'\n",
    "output_path = r'H:\\ABP049_CruiseData\\Seismic\\SortedByCTime'"
   ]
  },
  {
   "cell_type": "code",
   "execution_count": 5,
   "metadata": {},
   "outputs": [
    {
     "name": "stdout",
     "output_type": "stream",
     "text": [
      "Searching *.sgd files in directory:H:\\ABP049_CruiseData\\Seismic\\Data\\1000\n",
      "Files found: 229\n"
     ]
    }
   ],
   "source": [
    "segd_files = file_ext_search('.sgd', input_path_1000)\n",
    "\n",
    "print(f'Files found: {len(segd_files)}')"
   ]
  },
  {
   "cell_type": "code",
   "execution_count": 22,
   "metadata": {},
   "outputs": [
    {
     "name": "stdout",
     "output_type": "stream",
     "text": [
      "2 H:\\ABP049_CruiseData\\Seismic\\Data\\1000\\100.sgd 42031.828125\n",
      "2022-06-02 09:08:02.140625\n",
      "13 H:\\ABP049_CruiseData\\Seismic\\Data\\1000\\110.sgd 42094.34375\n",
      "2022-06-02 09:09:07.656250\n",
      "14 H:\\ABP049_CruiseData\\Seismic\\Data\\1000\\111.sgd 1625.84375\n",
      "2022-06-02 09:36:13.500000\n",
      "24 H:\\ABP049_CruiseData\\Seismic\\Data\\1000\\120.sgd 43743.9375\n",
      "2022-06-02 09:36:40.250000\n",
      "35 H:\\ABP049_CruiseData\\Seismic\\Data\\1000\\130.sgd 43770.640625\n",
      "2022-06-02 09:37:09.953125\n",
      "46 H:\\ABP049_CruiseData\\Seismic\\Data\\1000\\140.sgd 43797.640625\n",
      "2022-06-02 09:37:39.953125\n",
      "53 H:\\ABP049_CruiseData\\Seismic\\Data\\1000\\147.sgd 299.265625\n",
      "2022-06-02 09:43:19.546875\n",
      "57 H:\\ABP049_CruiseData\\Seismic\\Data\\1000\\150.sgd 44158.234375\n",
      "2022-06-02 09:43:43.546875\n",
      "68 H:\\ABP049_CruiseData\\Seismic\\Data\\1000\\160.sgd 44235.21875\n",
      "2022-06-02 09:45:03.531250\n",
      "79 H:\\ABP049_CruiseData\\Seismic\\Data\\1000\\170.sgd 44312.234375\n",
      "2022-06-02 09:46:23.531250\n",
      "90 H:\\ABP049_CruiseData\\Seismic\\Data\\1000\\180.sgd 44389.21875\n",
      "2022-06-02 09:47:43.531250\n",
      "101 H:\\ABP049_CruiseData\\Seismic\\Data\\1000\\190.sgd 44466.21875\n",
      "2022-06-02 09:49:03.515625\n",
      "113 H:\\ABP049_CruiseData\\Seismic\\Data\\1000\\200.sgd 44543.203125\n",
      "2022-06-02 09:50:23.515625\n",
      "124 H:\\ABP049_CruiseData\\Seismic\\Data\\1000\\210.sgd 44620.203125\n",
      "2022-06-02 09:51:43.515625\n",
      "135 H:\\ABP049_CruiseData\\Seismic\\Data\\1000\\220.sgd 44697.140625\n",
      "2022-06-02 09:53:03.500000\n",
      "142 H:\\ABP049_CruiseData\\Seismic\\Data\\1000\\227.sgd 13507.949875116348\n",
      "2022-06-02 13:38:59.449875\n",
      "169 H:\\ABP049_CruiseData\\Seismic\\Data\\1000\\45a.sgd 41327.71875\n",
      "2022-06-02 08:58:03.031250\n",
      "175 H:\\ABP049_CruiseData\\Seismic\\Data\\1000\\50.sgd 41462.71875\n",
      "2022-06-02 08:58:18.031250\n",
      "186 H:\\ABP049_CruiseData\\Seismic\\Data\\1000\\60.sgd 41666.46875\n",
      "2022-06-02 09:01:44.781250\n",
      "197 H:\\ABP049_CruiseData\\Seismic\\Data\\1000\\70.sgd 41795.046875\n",
      "2022-06-02 09:03:56.359375\n",
      "208 H:\\ABP049_CruiseData\\Seismic\\Data\\1000\\80.sgd 41857.515625\n",
      "2022-06-02 09:05:01.828125\n",
      "219 H:\\ABP049_CruiseData\\Seismic\\Data\\1000\\90.sgd 41920.0\n",
      "2022-06-02 09:06:07.312500\n"
     ]
    }
   ],
   "source": [
    "class Profile:\n",
    "    \"\"\"A class for profile segd file sequence handling\"\"\"\n",
    "    def __init__(self):\n",
    "        self.filepaths = []\n",
    "        self.filemtimes = []\n",
    "        self.folder_name = ''\n",
    "\n",
    "\n",
    "mtime_prev = None\n",
    "prof_objs = []\n",
    "profile_num = 1\n",
    "\n",
    "for num, file in enumerate(segd_files):\n",
    "    mtime = os.path.getmtime(file)\n",
    "\n",
    "    if num == 0:\n",
    "        mtime_prev = mtime\n",
    "        profile_obj = Profile()\n",
    "        profile_obj.filepaths.append(file)\n",
    "        profile_obj.filemtimes.append(mtime)\n",
    "        prof_objs.append(profile_obj)\n",
    "    else:\n",
    "        diff = mtime - mtime_prev\n",
    "        mtime_prev = mtime\n",
    "\n",
    "        if diff > 180:\n",
    "            print(f'{num} {file} {diff}')\n",
    "            prof_objs[-1].folder_name = f'Profile_{profile_num:02d}'\n",
    "            profile_num += 1\n",
    "\n",
    "            new_profile_obj = Profile()\n",
    "            new_profile_obj.filepaths.append(file)\n",
    "            new_profile_obj.filemtimes.append(mtime)\n",
    "            prof_objs.append(new_profile_obj)\n",
    "\n",
    "        else:\n",
    "            prof_objs[-1].filepaths.append(file)\n",
    "            prof_objs[-1].filemtimes.append(mtime)\n"
   ]
  },
  {
   "cell_type": "code",
   "execution_count": 30,
   "metadata": {},
   "outputs": [
    {
     "name": "stdout",
     "output_type": "stream",
     "text": [
      "Profile_54\n"
     ]
    }
   ],
   "source": [
    "profile_num = 54\n",
    "print(f'Profile_{profile_num:02d}')"
   ]
  },
  {
   "cell_type": "code",
   "execution_count": null,
   "metadata": {},
   "outputs": [],
   "source": []
  }
 ],
 "metadata": {
  "kernelspec": {
   "display_name": "base",
   "language": "python",
   "name": "python3"
  },
  "language_info": {
   "codemirror_mode": {
    "name": "ipython",
    "version": 3
   },
   "file_extension": ".py",
   "mimetype": "text/x-python",
   "name": "python",
   "nbconvert_exporter": "python",
   "pygments_lexer": "ipython3",
   "version": "3.9.13 (main, Aug 25 2022, 23:51:50) [MSC v.1916 64 bit (AMD64)]"
  },
  "orig_nbformat": 4,
  "vscode": {
   "interpreter": {
    "hash": "fe45e23cf9a5f980eae1e9eaca7f92a6ec17c53260c300cbc746fb4f3efe2e8d"
   }
  }
 },
 "nbformat": 4,
 "nbformat_minor": 2
}
