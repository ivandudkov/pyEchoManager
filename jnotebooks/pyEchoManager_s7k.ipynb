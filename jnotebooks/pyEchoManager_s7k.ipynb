{
 "cells": [
  {
   "cell_type": "code",
   "execution_count": 206,
   "metadata": {},
   "outputs": [],
   "source": [
    "import os\n",
    "import struct\n",
    "from collections import namedtuple\n",
    "import numpy as np\n",
    "\n",
    "from pyechomanager.formats.s7k import s7k_dtgrms_nums\n",
    "\n",
    "\n",
    "# A named typle definition with fields of format types. Each field fontains a 3-element tuple:\n",
    "# 1st element - format representation in C lang for python struct module\n",
    "# 2nd element - format representation in Python and numpy\n",
    "# 3rd element - format length in bytes\n",
    "FormatTypes = namedtuple(\n",
    "    \"FormatTypes\",\n",
    "    [\n",
    "        # Names for low-level format types used in DFD:\n",
    "        \"order\",  # byte order\n",
    "        \"c8\",  # 1 byte, character\n",
    "        \"i8\",  # 1 byte, signed integer\n",
    "        \"u8\",  # 1 byte, unsigned integer\n",
    "        \"i16\",  # 2 bytes, signed integer\n",
    "        \"u16\",  # 2 bytes, unsigned integer\n",
    "        \"i32\",  # 4 bytes, signed integer\n",
    "        \"u32\",  # 4 byte, unsigned integer\n",
    "        \"i64\",  # 8 byte, signed integer\n",
    "        \"u64\",  # 8 byte, unsigned integer\n",
    "        \"f32\",  # 4 byte, 32-bit float\n",
    "        \"f64\",  # 8 byte, 64-bit float\n",
    "    ],\n",
    "    defaults=[\n",
    "        (\"<\", \"little\", \"LittleEndian\"),  # byte order\n",
    "        (\"c\", \"B\", 1),  # c8\n",
    "        (\"b\", \"b\", 1),  # i8\n",
    "        (\"B\", \"u1\", 1),  # u8\n",
    "        (\"h\", \"i2\", 2),  # i16\n",
    "        (\"H\", \"u2\", 2),  # u16\n",
    "        (\"i\", \"i4\", 4),  # i32\n",
    "        (\"I\", \"u4\", 4),  # u32\n",
    "        (\"q\", \"i8\", 8),  # i64\n",
    "        (\"Q\", \"u8\", 8),  # u64\n",
    "        (\"f\", \"f4\", 4),  # f32\n",
    "        (\"d\", \"f8\", 8)])  # f64\n",
    "\n",
    "fmtT = FormatTypes()\n",
    "\n",
    "filepath = r'D:\\aa_MyProgPython\\zzz_LearningProjects\\binfiles_learning\\20220817_111555.s7k'\n",
    "\n",
    "buffer = None\n",
    "buffer_len = None\n",
    "buffer_pos = 0\n",
    "\n",
    "with open(filepath, 'rb') as file:\n",
    "    buffer = file.read()\n",
    "    buffer_len = len(buffer)\n"
   ]
  },
  {
   "cell_type": "code",
   "execution_count": 223,
   "metadata": {},
   "outputs": [
    {
     "name": "stdout",
     "output_type": "stream",
     "text": [
      "((0, 'protocol_version', ('H', 'u2', 2), 1, 0, <_struct.Struct object at 0x000002380129ECB0>), (1, 'offset', ('H', 'u2', 2), 1, 2, <_struct.Struct object at 0x000002380129F030>), (2, 'sync_pattern', ('I', 'u4', 4), 1, 4, <_struct.Struct object at 0x000002380129F430>), (3, 'size', ('I', 'u4', 4), 1, 8, <_struct.Struct object at 0x000002380129F3B0>), (4, 'optional_data_set', ('I', 'u4', 4), 1, 12, <_struct.Struct object at 0x000002380129F570>), (5, 'optional_data_id', ('I', 'u4', 4), 1, 16, <_struct.Struct object at 0x000002380129F5F0>), (6, 'time7k', ('B', 'u1', 1), 10, 20, <_struct.Struct object at 0x000002380129F770>), (7, 'record_version', ('H', 'u2', 2), 1, 30, <_struct.Struct object at 0x000002380129F6B0>), (8, 'record_type_id', ('I', 'u4', 4), 1, 32, <_struct.Struct object at 0x000002380129F7F0>), (9, 'reserved_01', ('H', 'u2', 2), 1, 36, <_struct.Struct object at 0x000002380129F830>), (10, 'system_enumerator', ('H', 'u2', 2), 1, 38, <_struct.Struct object at 0x000002380129F8B0>), (11, 'reserved_02', ('I', 'u4', 4), 1, 40, <_struct.Struct object at 0x000002380129F930>), (12, 'flags', ('H', 'u2', 2), 1, 44, <_struct.Struct object at 0x000002380129F9B0>), (13, 'reserved_03', ('H', 'u2', 2), 1, 46, <_struct.Struct object at 0x000002380129FA30>), (14, 'reserved_04', ('I', 'u4', 4), 1, 48, <_struct.Struct object at 0x000002380129FAB0>), (15, 'totalrecs_in_frag_datarecset', ('I', 'u4', 4), 1, 52, <_struct.Struct object at 0x000002380129FB70>), (16, 'fragment_num', ('I', 'u4', 4), 1, 56, <_struct.Struct object at 0x000002380129FBF0>))\n",
      "4\n",
      "((0, 'protocol_version', ('H', 'u2', 2), 1, 0, <_struct.Struct object at 0x000002380129ECB0>), (1, 'offset', ('H', 'u2', 2), 1, 2, <_struct.Struct object at 0x000002380129F030>), (2, 'sync_pattern', ('I', 'u4', 4), 1, 4, <_struct.Struct object at 0x000002380129F430>), (3, 'size', ('I', 'u4', 4), 1, 8, <_struct.Struct object at 0x000002380129F3B0>), (4, 'optional_data_set', ('I', 'u4', 4), 1, 12, <_struct.Struct object at 0x000002380129F570>), (5, 'optional_data_id', ('I', 'u4', 4), 1, 16, <_struct.Struct object at 0x000002380129F5F0>), (6, 'time7k', ('B', 'u1', 1), 10, 20, <_struct.Struct object at 0x000002380129F770>), (7, 'record_version', ('H', 'u2', 2), 1, 30, <_struct.Struct object at 0x000002380129F6B0>), (8, 'record_type_id', ('I', 'u4', 4), 1, 32, <_struct.Struct object at 0x000002380129F7F0>), (9, 'reserved_01', ('H', 'u2', 2), 1, 36, <_struct.Struct object at 0x000002380129F830>), (10, 'system_enumerator', ('H', 'u2', 2), 1, 38, <_struct.Struct object at 0x000002380129F8B0>), (11, 'reserved_02', ('I', 'u4', 4), 1, 40, <_struct.Struct object at 0x000002380129F930>), (12, 'flags', ('H', 'u2', 2), 1, 44, <_struct.Struct object at 0x000002380129F9B0>), (13, 'reserved_03', ('H', 'u2', 2), 1, 46, <_struct.Struct object at 0x000002380129FA30>), (14, 'reserved_04', ('I', 'u4', 4), 1, 48, <_struct.Struct object at 0x000002380129FAB0>), (15, 'totalrecs_in_frag_datarecset', ('I', 'u4', 4), 1, 52, <_struct.Struct object at 0x000002380129FB70>), (16, 'fragment_num', ('I', 'u4', 4), 1, 56, <_struct.Struct object at 0x000002380129FBF0>))\n",
      "////////////////////\n",
      "60 VS 64\n"
     ]
    }
   ],
   "source": [
    "def get_size():\n",
    "    pass\n",
    "\n",
    "def get_struct():\n",
    "    pass\n",
    "\n",
    "def update_elements(elements, offset):\n",
    "    def update():\n",
    "        fmt_string = ''\n",
    "        for element in elements:\n",
    "            element_pos = offset + struct.calcsize(fmt_string)\n",
    "            element_fmt = None\n",
    "            \n",
    "            if element[3] != 1:\n",
    "                element_fmt = (str(element[3]) + element[2][0])\n",
    "            else:    \n",
    "                element_fmt = (element[2][0])\n",
    "\n",
    "            elem_struct = struct.Struct(element_fmt)\n",
    "            fmt_string += element_fmt\n",
    "\n",
    "            yield element_pos, elem_struct\n",
    "    return tuple(map(lambda elem, elem_update: (elem[0], elem[1], elem[2], elem[3], elem_update[0], elem_update[1]), elements, update()))\n",
    "\n",
    "def size_check():\n",
    "    pass        \n",
    "\n",
    "\n",
    "def read_data_block(buffer=None, offset=0):\n",
    "    \"\"\" BlaBlaBlaBla\n",
    "    \n",
    "    Bla bla\n",
    "    Bla bla\n",
    "    Bla bla\n",
    "    Bla bla\n",
    "    \"\"\"\n",
    "\n",
    "    # drf_elements fields:\n",
    "    # [0]1st - order num\n",
    "    # [1]2nd - message name\n",
    "    # [2]3rd - format tuple\n",
    "    # [3]4th - count\n",
    "    # [4]5th - relative start position in bytes\n",
    "    drf_elements = (\n",
    "        (0, 'protocol_version', fmtT.u16, 1, None, None),\n",
    "        (1, 'offset', fmtT.u16, 1, None),  # size in bytes from sync_pattern to data_section\n",
    "        (2, 'sync_pattern', fmtT.u32, 1, None, None),\n",
    "        (3, 'size', fmtT.u32, 1, None),  # size in bytes from protocol_version to the end of checksum \n",
    "        (4, 'optional_data_set', fmtT.u32, 1, None, None),\n",
    "        (5, 'optional_data_id', fmtT.u32, 1, None, None),\n",
    "        (6, 'time7k', fmtT.u8, 10, None, None),\n",
    "        (7, 'record_version', fmtT.u16, 1, None, None),\n",
    "        (8, 'record_type_id', fmtT.u32, 1, None, None),\n",
    "        (9, 'reserved_01', fmtT.u16, 1, None, None),\n",
    "        (10, 'system_enumerator', fmtT.u16, 1, None, None),\n",
    "        (11, 'reserved_02', fmtT.u32, 1, None, None),\n",
    "        (12, 'flags', fmtT.u16, 1, None, None),\n",
    "        (13, 'reserved_03', fmtT.u16, 1, None, None),\n",
    "        (14, 'reserved_04', fmtT.u32, 1, None, None),\n",
    "        (15, 'totalrecs_in_frag_datarecset', fmtT.u32, 1, None, None),\n",
    "        (16, 'fragment_num', fmtT.u32, 1, None, None))\n",
    "    data_section = (17, 'data_section', None, None, None, None)\n",
    "    checksum = (18, 'checksum', fmtT.u32, 1, None, None)\n",
    "\n",
    "    drf_elements = update_elements(drf_elements, offset=0)\n",
    "    print(drf_elements)\n",
    "    staticpart_size = drf_elements[-1][4] + drf_elements[-1][5].size\n",
    "    staticpart_size_fromfile = struct.unpack(drf_elements[1][5].format,buffer[drf_elements[1][4]:drf_elements[2][4]])[0] + drf_elements[2][4]\n",
    "    print(drf_elements[2][4])\n",
    "    data_section = (17, 'data_section', None, None, None)\n",
    "    checksum = (18, 'checksum', fmtT.u32, 1, None)\n",
    "\n",
    "    print(drf_elements)\n",
    "    print('/'*20)\n",
    "    print(f'{staticpart_size} VS {staticpart_size_fromfile}')\n",
    "\n",
    "read_data_block(buffer)"
   ]
  },
  {
   "cell_type": "code",
   "execution_count": 13,
   "metadata": {},
   "outputs": [
    {
     "ename": "SyntaxError",
     "evalue": "invalid syntax (848132284.py, line 1)",
     "output_type": "error",
     "traceback": [
      "\u001b[1;36m  Input \u001b[1;32mIn [13]\u001b[1;36m\u001b[0m\n\u001b[1;33m    from learning.s7k Libraries import pyread7k\u001b[0m\n\u001b[1;37m                      ^\u001b[0m\n\u001b[1;31mSyntaxError\u001b[0m\u001b[1;31m:\u001b[0m invalid syntax\n"
     ]
    }
   ],
   "source": []
  },
  {
   "cell_type": "code",
   "execution_count": 1,
   "metadata": {},
   "outputs": [],
   "source": [
    "class Circle:\n",
    "    def __init__(self, radius):\n",
    "        self._radius = radius\n",
    "\n",
    "    @property\n",
    "    def radius(self):\n",
    "        \"\"\"The radius property.\"\"\"\n",
    "        print(\"Get radius\")\n",
    "        return self._radius\n",
    "\n",
    "    @radius.setter\n",
    "    def radius(self, value):\n",
    "        print(\"Set radius\")\n",
    "        self._radius = value\n",
    "\n",
    "    @radius.deleter\n",
    "    def radius(self):\n",
    "        print(\"Delete radius\")\n",
    "        del self._radius"
   ]
  },
  {
   "cell_type": "code",
   "execution_count": 5,
   "metadata": {},
   "outputs": [
    {
     "name": "stdout",
     "output_type": "stream",
     "text": [
      "Delete radius\n"
     ]
    }
   ],
   "source": [
    "circ1 = Circle(10)\n",
    "\n",
    "del circ1.radius"
   ]
  },
  {
   "cell_type": "code",
   "execution_count": 8,
   "metadata": {},
   "outputs": [
    {
     "name": "stdout",
     "output_type": "stream",
     "text": [
      "('protocol_version', 'offset', 'sync_pattern', 'size', 'optional_data_offset', 'optional_data_id', 'time_', 'record_version', 'record_type_id', 'device_id', 'system_enumerator', 'flags')\n",
      "['protocol_version', 'offset', 'sync_pattern', 'size', 'optional_data_offset', 'optional_data_id', 'record_version', 'record_type_id', 'device_id', 'system_enumerator', 'flags', 'time']\n"
     ]
    }
   ],
   "source": [
    "DRF_PRIMITIVE_FIELDS = (\n",
    "    \"protocol_version\",\n",
    "    \"offset\",\n",
    "    \"sync_pattern\",\n",
    "    \"size\",\n",
    "    \"optional_data_offset\",\n",
    "    \"optional_data_id\",\n",
    "    \"time_\",\n",
    "    \"record_version\",\n",
    "    \"record_type_id\",\n",
    "    \"device_id\",\n",
    "    \"system_enumerator\",\n",
    "    \"flags\",\n",
    ")\n",
    "\n",
    "print(DRF_PRIMITIVE_FIELDS)\n",
    "\n",
    "# Removes partial time fields, and adds a proper time field.\n",
    "DRF_REFINED_FIELDS = list(\n",
    "    filter(lambda name: not name.startswith(\"time_\"), DRF_PRIMITIVE_FIELDS)\n",
    ") + [\"time\"]\n",
    "\n",
    "print(DRF_REFINED_FIELDS)"
   ]
  },
  {
   "cell_type": "code",
   "execution_count": 9,
   "metadata": {},
   "outputs": [],
   "source": [
    "import math\n",
    "\n",
    "class Circle:\n",
    "    def __init__(self, radius):\n",
    "        self.radius = radius\n",
    "\n",
    "    @property\n",
    "    def radius(self):\n",
    "        return self._radius\n",
    "\n",
    "    @radius.setter\n",
    "    def radius(self, value):\n",
    "        self._radius = float(value)\n",
    "\n",
    "    @property\n",
    "    def diameter(self):\n",
    "        return self.radius * 2\n",
    "\n",
    "    @diameter.setter\n",
    "    def diameter(self, value):\n",
    "        self.radius = value / 2"
   ]
  },
  {
   "cell_type": "code",
   "execution_count": 11,
   "metadata": {},
   "outputs": [
    {
     "name": "stdout",
     "output_type": "stream",
     "text": [
      "30.0\n",
      "15.0\n",
      "5.0\n"
     ]
    }
   ],
   "source": [
    "cir = Circle(15)\n",
    "\n",
    "print(cir.diameter)\n",
    "print(cir.radius)\n",
    "\n",
    "cir.diameter = 10\n",
    "\n",
    "print(cir.radius)"
   ]
  },
  {
   "cell_type": "code",
   "execution_count": null,
   "metadata": {},
   "outputs": [],
   "source": []
  },
  {
   "cell_type": "code",
   "execution_count": null,
   "metadata": {},
   "outputs": [],
   "source": []
  },
  {
   "cell_type": "code",
   "execution_count": null,
   "metadata": {},
   "outputs": [],
   "source": []
  }
 ],
 "metadata": {
  "kernelspec": {
   "display_name": "Python 3.10.4",
   "language": "python",
   "name": "python3"
  },
  "language_info": {
   "codemirror_mode": {
    "name": "ipython",
    "version": 3
   },
   "file_extension": ".py",
   "mimetype": "text/x-python",
   "name": "python",
   "nbconvert_exporter": "python",
   "pygments_lexer": "ipython3",
   "version": "3.10.4"
  },
  "orig_nbformat": 4,
  "vscode": {
   "interpreter": {
    "hash": "542b0e3096725a2056735354746e8fb0274aaacae20b326a136954ba503430db"
   }
  }
 },
 "nbformat": 4,
 "nbformat_minor": 2
}
