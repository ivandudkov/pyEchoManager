{
 "cells": [
  {
   "cell_type": "code",
   "execution_count": 15,
   "metadata": {},
   "outputs": [
    {
     "name": "stdout",
     "output_type": "stream",
     "text": [
      "The autoreload extension is already loaded. To reload it, use:\n",
      "  %reload_ext autoreload\n"
     ]
    }
   ],
   "source": [
    "%load_ext autoreload\n",
    "%autoreload 2\n",
    "\n",
    "import sys\n",
    "import os\n",
    "import numpy as np\n",
    "import matplotlib.pyplot as plt\n",
    "from numpy import cos,pi,sin,pi,arccos\n",
    "from pathlib import Path\n",
    "from dataclasses import dataclass, field\n",
    "\n",
    "from datetime import datetime, timezone\n",
    "\n",
    "from cli import cli"
   ]
  },
  {
   "attachments": {},
   "cell_type": "markdown",
   "metadata": {},
   "source": [
    "# Parse acquisition event log"
   ]
  },
  {
   "cell_type": "code",
   "execution_count": 5,
   "metadata": {},
   "outputs": [],
   "source": [
    "@dataclass\n",
    "class PRama_Point:\n",
    "    x_coord: float\n",
    "    y_coord: float\n",
    "    datetime_obj: datetime\n",
    "    "
   ]
  },
  {
   "cell_type": "code",
   "execution_count": 12,
   "metadata": {},
   "outputs": [
    {
     "name": "stdout",
     "output_type": "stream",
     "text": [
      "Searching *.log files in directory:\\\\10.197.125.15\\Public\\ABP53\\abp53_mbes_processing\\MBES_EventLogs\\stage01_SEB\n",
      "Scanned filesets are: \n",
      "\n",
      "0 \\\\10.197.125.15\\Public\\ABP53\\abp53_mbes_processing\\MBES_EventLogs\\stage01_SEB\\Acquisition_EVENT_20230507.log\n",
      "1 \\\\10.197.125.15\\Public\\ABP53\\abp53_mbes_processing\\MBES_EventLogs\\stage01_SEB\\Acquisition_EVENT_20230508.log\n",
      "2 \\\\10.197.125.15\\Public\\ABP53\\abp53_mbes_processing\\MBES_EventLogs\\stage01_SEB\\Acquisition_EVENT_20230509.log\n",
      "3 \\\\10.197.125.15\\Public\\ABP53\\abp53_mbes_processing\\MBES_EventLogs\\stage01_SEB\\Acquisition_EVENT_20230510.log\n",
      "4 \\\\10.197.125.15\\Public\\ABP53\\abp53_mbes_processing\\MBES_EventLogs\\stage01_SEB\\Acquisition_EVENT_20230511.log\n",
      "5 \\\\10.197.125.15\\Public\\ABP53\\abp53_mbes_processing\\MBES_EventLogs\\stage01_SEB\\Acquisition_EVENT_20230512.log\n"
     ]
    }
   ],
   "source": [
    "log_folder_1 = r'\\\\10.197.125.15\\Public\\ABP53\\abp53_mbes_processing\\MBES_EventLogs\\stage03_SEB'\n",
    "log_folder_0= r'\\\\10.197.125.15\\Public\\ABP53\\abp53_mbes_processing\\MBES_EventLogs\\stage02_FZ'\n",
    "log_folder = r'\\\\10.197.125.15\\Public\\ABP53\\abp53_mbes_processing\\MBES_EventLogs\\stage01_SEB'\n",
    "\n",
    "log_list = cli.search(log_folder, '.log')"
   ]
  },
  {
   "cell_type": "code",
   "execution_count": 13,
   "metadata": {},
   "outputs": [
    {
     "name": "stdout",
     "output_type": "stream",
     "text": [
      "Please type two numbers that define the range of filesets you like to copy or move\n",
      "Please type the first number: \n",
      "Please type the second number: \n",
      "Do you want to add more elements? (Y/N)\n",
      "\n",
      "\n",
      "Picked elements:\n",
      "Acquisition_EVENT_20230507.log\n",
      "Acquisition_EVENT_20230508.log\n",
      "Acquisition_EVENT_20230509.log\n",
      "Acquisition_EVENT_20230510.log\n",
      "Acquisition_EVENT_20230511.log\n",
      "Acquisition_EVENT_20230512.log\n"
     ]
    }
   ],
   "source": [
    "log_picked = cli.pick_from_list(log_list)"
   ]
  },
  {
   "cell_type": "code",
   "execution_count": 14,
   "metadata": {},
   "outputs": [],
   "source": [
    "p_rama_points = []\n",
    "\n",
    "for log in log_picked:\n",
    "    with open(log, 'r') as file1:\n",
    "        file_content = file1.read().splitlines()\n",
    "        for line in file_content:\n",
    "            if line.startswith('PR_X'):\n",
    "                line_content = line.split(',')\n",
    "                \n",
    "                datetime_obj = datetime.strptime(line_content[3], 'DT%d.%m.%Y %H:%M:%S.%f')\n",
    "                datetime_obj.replace(tzinfo=timezone.utc)\n",
    "                p_rama_point = PRama_Point(x_coord=float(line_content[0][4:]),\n",
    "                                           y_coord=float(line_content[1][4:]),\n",
    "                                           datetime_obj=datetime_obj)\n",
    "                p_rama_points.append(p_rama_point)\n",
    "                \n",
    "    output = os.path.join(log_folder, os.path.splitext(os.path.basename(log))[0] + '_P_RAMA.csv')\n",
    "\n",
    "    with open(output, 'w') as file2:\n",
    "        file2.write('PR_X,PR_Y,DatetimeUTC\\n')\n",
    "        \n",
    "        for p_rama_point in p_rama_points:\n",
    "            file2.write(f'{p_rama_point.x_coord},{p_rama_point.y_coord},{p_rama_point.datetime_obj.strftime(\"%Y-%m-%dT%H:%M:%S\")}\\n')"
   ]
  },
  {
   "cell_type": "code",
   "execution_count": null,
   "metadata": {},
   "outputs": [],
   "source": []
  }
 ],
 "metadata": {
  "kernelspec": {
   "display_name": "Python 3",
   "language": "python",
   "name": "python3"
  },
  "language_info": {
   "codemirror_mode": {
    "name": "ipython",
    "version": 3
   },
   "file_extension": ".py",
   "mimetype": "text/x-python",
   "name": "python",
   "nbconvert_exporter": "python",
   "pygments_lexer": "ipython3",
   "version": "3.10.10"
  },
  "orig_nbformat": 4
 },
 "nbformat": 4,
 "nbformat_minor": 2
}
