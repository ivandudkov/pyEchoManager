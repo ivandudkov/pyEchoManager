{
 "cells": [
  {
   "cell_type": "code",
   "execution_count": 8,
   "metadata": {},
   "outputs": [
    {
     "name": "stdout",
     "output_type": "stream",
     "text": [
      "The autoreload extension is already loaded. To reload it, use:\n",
      "  %reload_ext autoreload\n"
     ]
    }
   ],
   "source": [
    "import os\n",
    "import numpy as np\n",
    "\n",
    "%load_ext autoreload\n",
    "%autoreload 2\n",
    "\n",
    "from assignsvp import assignsvp as asvp\n",
    "from cli import cli"
   ]
  },
  {
   "attachments": {},
   "cell_type": "markdown",
   "metadata": {},
   "source": [
    "# Модуль: assignsvp\n",
    "\n",
    "Обработка трека PDS и присуждение SVP для файлов PDS"
   ]
  },
  {
   "cell_type": "code",
   "execution_count": 9,
   "metadata": {},
   "outputs": [
    {
     "name": "stdout",
     "output_type": "stream",
     "text": [
      "Searching *.csv files in directory:D:\\aa_yandexcloud\\aa_cloudmbesproceessing\\aa_ans54_processing\\MBES_track\n",
      "Scanned filesets are: \n",
      "\n",
      "0 D:\\aa_yandexcloud\\aa_cloudmbesproceessing\\aa_ans54_processing\\MBES_track\\ANS_54_Finskiy_Bay_Track_All.csv\n",
      "1 D:\\aa_yandexcloud\\aa_cloudmbesproceessing\\aa_ans54_processing\\MBES_track\\ANS_54_SEB_Track_All.csv\n"
     ]
    }
   ],
   "source": [
    "track_folder = r'D:\\aa_yandexcloud\\aa_cloudmbesproceessing\\aa_ans54_processing\\MBES_track'\n",
    "\n",
    "proj = 'WGS84_UTM34N'\n",
    "\n",
    "# Использование функции поиска трек таблиц\n",
    "track_list = cli.search(track_folder, '.csv')"
   ]
  },
  {
   "cell_type": "code",
   "execution_count": 11,
   "metadata": {},
   "outputs": [
    {
     "name": "stdout",
     "output_type": "stream",
     "text": [
      "Please type two numbers that define the range of filesets you like to copy or move\n",
      "Please type the first number: \n",
      "Please type the second number: \n",
      "Do you want to add more elements? (Y/N)\n",
      "\n",
      "\n",
      "Picked elements:\n",
      "ANS_54_Finskiy_Bay_Track_All.csv\n",
      "ANS_54_SEB_Track_All.csv\n"
     ]
    }
   ],
   "source": [
    "# выбор треков для обработки\n",
    "picked_tracksheet = cli.pick_from_list(track_list)"
   ]
  },
  {
   "cell_type": "code",
   "execution_count": 14,
   "metadata": {},
   "outputs": [
    {
     "name": "stdout",
     "output_type": "stream",
     "text": [
      "Searching *.csv files in directory:D:\\aa_yandexcloud\\aa_cloudmbesproceessing\\aa_ans54_processing\n",
      "Scanned filesets are: \n",
      "\n",
      "0 D:\\aa_yandexcloud\\aa_cloudmbesproceessing\\aa_ans54_processing\\ans54_svp_meta.csv\n"
     ]
    }
   ],
   "source": [
    "# выбор svp метатаблицы\n",
    "svpmeta_dir = r'D:\\aa_yandexcloud\\aa_cloudmbesproceessing\\aa_ans54_processing'\n",
    "svpmeta_list = cli.search(svpmeta_dir, '.csv')"
   ]
  },
  {
   "cell_type": "code",
   "execution_count": 15,
   "metadata": {},
   "outputs": [
    {
     "name": "stdout",
     "output_type": "stream",
     "text": [
      "Please type two numbers that define the range of filesets you like to copy or move\n",
      "Please type the first number: \n",
      "Please type the second number: \n",
      "Do you want to add more elements? (Y/N)\n",
      "\n",
      "\n",
      "Picked elements:\n",
      "ans54_svp_meta.csv\n"
     ]
    }
   ],
   "source": [
    "picked_svpmeta = cli.pick_from_list(svpmeta_list)"
   ]
  },
  {
   "cell_type": "code",
   "execution_count": 16,
   "metadata": {},
   "outputs": [
    {
     "name": "stdout",
     "output_type": "stream",
     "text": [
      "over\n",
      "over\n"
     ]
    }
   ],
   "source": [
    "# собственно, обработка\n",
    "from assignsvp import assignsvp as asvp\n",
    "\n",
    "output_folder_full = r'D:\\aa_yandexcloud\\aa_cloudmbesproceessing\\aa_ans54_processing'\n",
    "# output_folder_stend = r'\\\\10.197.125.15\\Public\\ABP53\\abp53_mbes_processing\\MBES_Track\\processed_stend'\n",
    "\n",
    "for track in picked_tracksheet:\n",
    "    \n",
    "    assign_svp = asvp.AssignSvp()\n",
    "    assign_svp.read_filetrack_csv(input=track, i_headseq=[0,1,2,3,4,5], projection=proj)\n",
    "    assign_svp.read_svpmeta(path_svpmeta=picked_svpmeta[0])\n",
    "\n",
    "    assign_svp.create_arrays()\n",
    "    print('over')\n",
    "\n",
    "    output_full = os.path.join(output_folder_full, os.path.basename(track))\n",
    "    # output_stend = os.path.join(output_folder_stend, os.path.basename(track))\n",
    "\n",
    "    assign_svp.save_matched_track(assign_svp.pds_files, assign_svp.svp_profiles, output_full)\n",
    "    # assign_svp.save_matched_track(assign_svp.pds_files, assign_svp.svp_profiles, output_stend, True)"
   ]
  },
  {
   "cell_type": "code",
   "execution_count": null,
   "metadata": {},
   "outputs": [],
   "source": []
  }
 ],
 "metadata": {
  "kernelspec": {
   "display_name": "Python 3",
   "language": "python",
   "name": "python3"
  },
  "language_info": {
   "codemirror_mode": {
    "name": "ipython",
    "version": 3
   },
   "file_extension": ".py",
   "mimetype": "text/x-python",
   "name": "python",
   "nbconvert_exporter": "python",
   "pygments_lexer": "ipython3",
   "version": "3.10.10"
  },
  "orig_nbformat": 4
 },
 "nbformat": 4,
 "nbformat_minor": 2
}
