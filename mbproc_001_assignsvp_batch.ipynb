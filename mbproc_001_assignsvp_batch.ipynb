{
 "cells": [
  {
   "cell_type": "code",
   "execution_count": 18,
   "metadata": {},
   "outputs": [
    {
     "name": "stdout",
     "output_type": "stream",
     "text": [
      "The autoreload extension is already loaded. To reload it, use:\n",
      "  %reload_ext autoreload\n"
     ]
    }
   ],
   "source": [
    "import os\n",
    "import numpy as np\n",
    "\n",
    "%load_ext autoreload\n",
    "%autoreload 2\n",
    "\n",
    "from assignsvp import assignsvp as asvp\n",
    "from cli import cli"
   ]
  },
  {
   "attachments": {},
   "cell_type": "markdown",
   "metadata": {},
   "source": [
    "# Модуль: assignsvp\n",
    "\n",
    "Обработка трека PDS и присуждение SVP для файлов PDS"
   ]
  },
  {
   "cell_type": "code",
   "execution_count": 20,
   "metadata": {},
   "outputs": [
    {
     "name": "stdout",
     "output_type": "stream",
     "text": [
      "Searching *.csv files in directory:Z:\\ABP56\\Log&Track\\PDSRaw\n",
      "Scanned filesets are: \n",
      "\n",
      "0 Z:\\ABP56\\Log&Track\\PDSRaw\\abp56_utm34n_track01.csv\n",
      "1 Z:\\ABP56\\Log&Track\\PDSRaw\\abp56_utm34n_track02.csv\n",
      "2 Z:\\ABP56\\Log&Track\\PDSRaw\\abp56_utm34n_track03.csv\n",
      "3 Z:\\ABP56\\Log&Track\\PDSRaw\\abp56_utm34n_track04.csv\n",
      "4 Z:\\ABP56\\Log&Track\\PDSRaw\\abp56_utm34n_track05.csv\n",
      "5 Z:\\ABP56\\Log&Track\\PDSRaw\\abp56_utm34n_track06.csv\n",
      "6 Z:\\ABP56\\Log&Track\\PDSRaw\\abp56_utm34n_track07.csv\n",
      "7 Z:\\ABP56\\Log&Track\\PDSRaw\\abp56_utm35n_track00.csv\n",
      "8 Z:\\ABP56\\Log&Track\\PDSRaw\\abp56_utm35n_track01.csv\n"
     ]
    }
   ],
   "source": [
    "track_folder = r'Z:\\ABP56\\Log&Track\\PDSRaw'\n",
    "\n",
    "proj = 'WGS84_UTM35N'\n",
    "\n",
    "# Использование функции поиска трек таблиц\n",
    "track_list = cli.search(track_folder, '.csv')"
   ]
  },
  {
   "cell_type": "code",
   "execution_count": 21,
   "metadata": {},
   "outputs": [
    {
     "name": "stdout",
     "output_type": "stream",
     "text": [
      "Please type two numbers that define the range of filesets you like to copy or move\n",
      "Please type the first number: \n"
     ]
    },
    {
     "name": "stdout",
     "output_type": "stream",
     "text": [
      "Please type the second number: \n",
      "Do you want to add more elements? (Y/N)\n",
      "\n",
      "\n",
      "Picked elements:\n",
      "abp56_utm35n_track00.csv\n"
     ]
    }
   ],
   "source": [
    "# выбор треков для обработки\n",
    "picked_tracksheet = cli.pick_from_list(track_list)"
   ]
  },
  {
   "cell_type": "code",
   "execution_count": 22,
   "metadata": {},
   "outputs": [
    {
     "name": "stdout",
     "output_type": "stream",
     "text": [
      "Searching *.csv files in directory:Z:\\ABP56\\CTD&SVP\\Metadata\n",
      "Scanned filesets are: \n",
      "\n",
      "0 Z:\\ABP56\\CTD&SVP\\Metadata\\ABP56_SVPLog_FZ.csv\n",
      "1 Z:\\ABP56\\CTD&SVP\\Metadata\\ABP56_SVPLog_SEB.csv\n",
      "2 Z:\\ABP56\\CTD&SVP\\Metadata\\ABP56_SVPMeta_ALL.csv\n"
     ]
    }
   ],
   "source": [
    "# выбор svp метатаблицы\n",
    "svpmeta_dir = r'Z:\\ABP56\\CTD&SVP\\Metadata'\n",
    "svpmeta_list = cli.search(svpmeta_dir, '.csv')"
   ]
  },
  {
   "cell_type": "code",
   "execution_count": 23,
   "metadata": {},
   "outputs": [
    {
     "name": "stdout",
     "output_type": "stream",
     "text": [
      "Please type two numbers that define the range of filesets you like to copy or move\n",
      "Please type the first number: \n",
      "Please type the second number: \n",
      "Do you want to add more elements? (Y/N)\n",
      "\n",
      "\n",
      "Picked elements:\n",
      "ABP56_SVPLog_FZ.csv\n"
     ]
    }
   ],
   "source": [
    "picked_svpmeta = cli.pick_from_list(svpmeta_list)"
   ]
  },
  {
   "cell_type": "code",
   "execution_count": 24,
   "metadata": {},
   "outputs": [
    {
     "name": "stdout",
     "output_type": "stream",
     "text": [
      "over\n"
     ]
    }
   ],
   "source": [
    "# собственно, обработка\n",
    "from assignsvp import assignsvp as asvp\n",
    "\n",
    "output_folder_full = r'Z:\\ABP56\\Log&Track\\PDSProcessed'\n",
    "# output_folder_stend = r'\\\\10.197.125.15\\Public\\ABP53\\abp53_mbes_processing\\MBES_Track\\processed_stend'\n",
    "\n",
    "for track in picked_tracksheet:\n",
    "    \n",
    "    assign_svp = asvp.AssignSvp()\n",
    "    assign_svp.read_filetrack_csv(input=track, i_headseq=[0,1,2,3,4,5], projection=proj)\n",
    "    assign_svp.read_svpmeta(path_svpmeta=picked_svpmeta[0])\n",
    "\n",
    "    assign_svp.create_arrays()\n",
    "    print('over')\n",
    "\n",
    "    output_full = os.path.join(output_folder_full, os.path.basename(track))\n",
    "    # output_stend = os.path.join(output_folder_stend, os.path.basename(track))\n",
    "\n",
    "    assign_svp.save_matched_track(assign_svp.pds_files, assign_svp.svp_profiles, output_full)\n",
    "    # assign_svp.save_matched_track(assign_svp.pds_files, assign_svp.svp_profiles, output_stend, True)"
   ]
  },
  {
   "cell_type": "code",
   "execution_count": null,
   "metadata": {},
   "outputs": [],
   "source": []
  }
 ],
 "metadata": {
  "kernelspec": {
   "display_name": "Python 3",
   "language": "python",
   "name": "python3"
  },
  "language_info": {
   "codemirror_mode": {
    "name": "ipython",
    "version": 3
   },
   "file_extension": ".py",
   "mimetype": "text/x-python",
   "name": "python",
   "nbconvert_exporter": "python",
   "pygments_lexer": "ipython3",
   "version": "3.12.2"
  },
  "orig_nbformat": 4
 },
 "nbformat": 4,
 "nbformat_minor": 2
}
