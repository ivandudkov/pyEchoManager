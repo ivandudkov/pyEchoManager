{
 "cells": [
  {
   "cell_type": "code",
   "execution_count": 1,
   "metadata": {},
   "outputs": [],
   "source": [
    "%load_ext autoreload\n",
    "%autoreload 2\n",
    "\n",
    "from filemanager import fileset\n",
    "from cli import cli\n",
    "\n",
    "fileset_manager = fileset.PDSFileset()\n",
    "\n",
    "qgis_logs = r'Z:\\ABP56\\Log&Track\\Filesets'\n",
    "filesets_folder = r'Z:\\ABP56\\Log&Track\\Filesets'"
   ]
  },
  {
   "cell_type": "code",
   "execution_count": 2,
   "metadata": {},
   "outputs": [
    {
     "name": "stdout",
     "output_type": "stream",
     "text": [
      "Searching *.csv files in directory:Z:\\ABP56\\Log&Track\\Filesets\n",
      "Scanned filesets are: \n",
      "\n",
      "0 Z:\\ABP56\\Log&Track\\Filesets\\abp56_mbes_fstrack_seb01.csv\n"
     ]
    }
   ],
   "source": [
    "# pick qgis log\n",
    "qgis_log_list = cli.search(qgis_logs, '.csv')"
   ]
  },
  {
   "cell_type": "code",
   "execution_count": 3,
   "metadata": {},
   "outputs": [
    {
     "name": "stdout",
     "output_type": "stream",
     "text": [
      "Please type two numbers that define the range of filesets you like to copy or move\n",
      "Please type the first number: \n",
      "Please type the second number: \n",
      "Do you want to add more elements? (Y/N)\n",
      "\n",
      "\n",
      "Picked elements:\n",
      "abp56_mbes_fstrack_seb01.csv\n"
     ]
    }
   ],
   "source": [
    "qgis_log_picked = cli.pick_from_list(qgis_log_list)"
   ]
  },
  {
   "cell_type": "code",
   "execution_count": 4,
   "metadata": {},
   "outputs": [],
   "source": [
    "import shutil\n",
    "import os\n",
    "\n",
    "def qgislogToFilesets(output_dir, qgis_log):\n",
    "    \n",
    "    filesets = []\n",
    "    svp_filesets = []\n",
    "    filesets_dict = {}\n",
    "\n",
    "    with open(qgis_log, 'r') as csv_file:\n",
    "        file_content = csv_file.read().splitlines()\n",
    "\n",
    "        header = file_content[0].split(',')\n",
    "        \n",
    "        filename_idx = 0\n",
    "        svp_idx = 0\n",
    "        fileset_idx = 0\n",
    "        print(header)\n",
    "        print(filename_idx)\n",
    "        for field in header:\n",
    "            if field == 'Fname' or field == 'fname':\n",
    "                break\n",
    "            else:\n",
    "                filename_idx += 1\n",
    "        for field in header:\n",
    "            if field == 'svp_statio':\n",
    "                break\n",
    "            else:\n",
    "                svp_idx += 1\n",
    "                \n",
    "        for field in header:\n",
    "            if field == 'fileset':\n",
    "                break\n",
    "            else:\n",
    "                fileset_idx += 1\n",
    "    \n",
    "        for num, line in enumerate(file_content[1:]):\n",
    "            line_content = line.split(',')\n",
    "            file_name = line_content[filename_idx]\n",
    "            fileset_name = line_content[fileset_idx]\n",
    "            svp_name = line_content[svp_idx]\n",
    "\n",
    "            if fileset_name in filesets_dict.keys():\n",
    "                filesets_dict[fileset_name].append((file_name, svp_name))\n",
    "            else:\n",
    "                filesets_dict[fileset_name] = []\n",
    "                filesets_dict[fileset_name].append((file_name, svp_name))\n",
    "    \n",
    "    for key in filesets_dict.keys():\n",
    "        fileset_name = key\n",
    "\n",
    "        fs = fileset.PDSFileset()\n",
    "        fs.setname(fileset_name)\n",
    "        \n",
    "        for filename, svp_name in filesets_dict[key]:\n",
    "            fs.addfile(filename=filename, svp_name=svp_name)\n",
    "        filesets.append(fs)\n",
    "        svp_fs = fs.create_svp_filesets()\n",
    "        svp_filesets.append(svp_fs)\n",
    "    \n",
    "    \n",
    "    for fs, svpfs in zip(filesets,svp_filesets):\n",
    "        fs_dir = os.path.join(output_dir,fs.name)\n",
    "        \n",
    "        if not os.path.exists(fs_dir):\n",
    "            os.mkdir(fs_dir)\n",
    "            \n",
    "        print(f'{fs.name} - {len(fs.files)}')\n",
    "        fs.savefileset(dirpath=fs_dir)\n",
    "        len_svp = 0\n",
    "        for svfs in svpfs:\n",
    "            print(f'{svfs.name} - {len(svfs.files)}')\n",
    "            svfs.savefileset(dirpath=fs_dir)\n",
    "            len_svp += len(svfs.files)\n",
    "        print(len_svp)"
   ]
  },
  {
   "cell_type": "code",
   "execution_count": 5,
   "metadata": {},
   "outputs": [
    {
     "name": "stdout",
     "output_type": "stream",
     "text": [
      "['fname', 'begin', 'end', 'uid', 'fname_2', 'tsmp', 'datetime', 'x', 'y', 'svp_statio', 'fname_svps', 'fileset', 'proc_by', 'status']\n",
      "0\n",
      "abp56_id009_RybSouth_Tr_utm34n - 44\n",
      "abp56_id009_RybSouth_Tr_utm34n_ABP56001 - 36\n",
      "abp56_id009_RybSouth_Tr_utm34n_ABP56002 - 8\n",
      "44\n",
      "abp56_id006_SambWest_Tr_utm34n - 29\n",
      "abp56_id006_SambWest_Tr_utm34n_ABP56001 - 29\n",
      "29\n",
      "abp56_id003_DuneDynamics2_Po_utm34n - 85\n",
      "abp56_id003_DuneDynamics2_Po_utm34n_ABP56001 - 81\n",
      "abp56_id003_DuneDynamics2_Po_utm34n_ABP56002 - 4\n",
      "85\n",
      "abp56_id004_Channel_Tr_utm34n - 160\n",
      "abp56_id004_Channel_Tr_utm34n_ABP56001 - 160\n",
      "160\n",
      "abp56_id005_SambWest_Tr_utm34n - 26\n",
      "abp56_id005_SambWest_Tr_utm34n_ABP56001 - 26\n",
      "26\n",
      "abp56_id001_Dune01_Po_utm34n - 140\n",
      "abp56_id001_Dune01_Po_utm34n_ABP56003 - 105\n",
      "abp56_id001_Dune01_Po_utm34n_ABP56002 - 35\n",
      "140\n",
      "abp56_id010_RybSouth_Tr_utm34n - 27\n",
      "abp56_id010_RybSouth_Tr_utm34n_ABP56003 - 27\n",
      "27\n",
      "abp56_id002_Dune01_Po_utm34n - 138\n",
      "abp56_id002_Dune01_Po_utm34n_ABP56002 - 110\n",
      "abp56_id002_Dune01_Po_utm34n_ABP56003 - 23\n",
      "abp56_id002_Dune01_Po_utm34n_ABP56001 - 5\n",
      "138\n",
      "abp56_id007_SambNorth_Tr_utm34n - 56\n",
      "abp56_id007_SambNorth_Tr_utm34n_ABP56001 - 56\n",
      "56\n",
      "abp56_id008_KurSlope_Tr_utm34n - 33\n",
      "abp56_id008_KurSlope_Tr_utm34n_ABP56001 - 33\n",
      "33\n",
      "abp56_id012_GdNorthEast_Tr_utm34n - 40\n",
      "abp56_id012_GdNorthEast_Tr_utm34n_ABP56003 - 40\n",
      "40\n",
      "abp56_id011_RybNorth_Tr_utm34n - 35\n",
      "abp56_id011_RybNorth_Tr_utm34n_ABP56003 - 35\n",
      "35\n",
      "abp56_id013_GdGot_Tr_utm34n - 38\n",
      "abp56_id013_GdGot_Tr_utm34n_ABP56003 - 38\n",
      "38\n"
     ]
    },
    {
     "ename": "",
     "evalue": "",
     "output_type": "error",
     "traceback": [
      "\u001b[1;31mThe Kernel crashed while executing code in the current cell or a previous cell. \n",
      "\u001b[1;31mPlease review the code in the cell(s) to identify a possible cause of the failure. \n",
      "\u001b[1;31mClick <a href='https://aka.ms/vscodeJupyterKernelCrash'>here</a> for more info. \n",
      "\u001b[1;31mView Jupyter <a href='command:jupyter.viewOutput'>log</a> for further details."
     ]
    }
   ],
   "source": [
    "qgislogToFilesets(filesets_folder, qgis_log_picked[0])"
   ]
  },
  {
   "cell_type": "code",
   "execution_count": null,
   "metadata": {},
   "outputs": [],
   "source": []
  }
 ],
 "metadata": {
  "kernelspec": {
   "display_name": "Python 3",
   "language": "python",
   "name": "python3"
  },
  "language_info": {
   "codemirror_mode": {
    "name": "ipython",
    "version": 3
   },
   "file_extension": ".py",
   "mimetype": "text/x-python",
   "name": "python",
   "nbconvert_exporter": "python",
   "pygments_lexer": "ipython3",
   "version": "3.12.2"
  },
  "orig_nbformat": 4
 },
 "nbformat": 4,
 "nbformat_minor": 2
}
