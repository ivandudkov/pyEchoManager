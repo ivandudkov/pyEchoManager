{
 "cells": [
  {
   "cell_type": "code",
   "execution_count": null,
   "metadata": {},
   "outputs": [],
   "source": []
  },
  {
   "cell_type": "code",
   "execution_count": 2,
   "metadata": {},
   "outputs": [
    {
     "name": "stdout",
     "output_type": "stream",
     "text": [
      "The autoreload extension is already loaded. To reload it, use:\n",
      "  %reload_ext autoreload\n"
     ]
    }
   ],
   "source": [
    "%load_ext autoreload\n",
    "%autoreload 2\n",
    "\n",
    "from filemanager import fileset\n",
    "from cli import cli\n",
    "\n",
    "fileset_manager = fileset.PDSFileset()\n",
    "\n",
    "qgis_logs = r'Y:\\PDS-Projects\\DUNES'\n",
    "filesets_folder = r'Y:\\PDS-Projects\\DUNES'"
   ]
  },
  {
   "cell_type": "code",
   "execution_count": 14,
   "metadata": {},
   "outputs": [
    {
     "name": "stdout",
     "output_type": "stream",
     "text": [
      "Searching *.csv files in directory:Y:\\PDS-Projects\\DUNES\n",
      "Scanned filesets are: \n",
      "\n",
      "0 Y:\\PDS-Projects\\DUNES\\fs_Dune_02_ABP47_Ryb.csv\n",
      "1 Y:\\PDS-Projects\\DUNES\\fs_Dune_02_ABP48_Ryb.csv\n"
     ]
    }
   ],
   "source": [
    "# pick qgis log\n",
    "qgis_log_list = cli.search(qgis_logs, '.csv')"
   ]
  },
  {
   "cell_type": "code",
   "execution_count": 15,
   "metadata": {},
   "outputs": [
    {
     "name": "stdout",
     "output_type": "stream",
     "text": [
      "Please type two numbers that define the range of filesets you like to copy or move\n",
      "Please type the first number: \n",
      "Please type the second number: \n",
      "Do you want to add more elements? (Y/N)\n",
      "\n",
      "\n",
      "Picked elements:\n",
      "fs_Dune_02_ABP48_Ryb.csv\n"
     ]
    }
   ],
   "source": [
    "qgis_log_picked = cli.pick_from_list(qgis_log_list)"
   ]
  },
  {
   "cell_type": "code",
   "execution_count": 16,
   "metadata": {},
   "outputs": [
    {
     "data": {
      "text/plain": [
       "['Y:\\\\PDS-Projects\\\\DUNES\\\\fs_Dune_02_ABP48_Ryb.csv']"
      ]
     },
     "execution_count": 16,
     "metadata": {},
     "output_type": "execute_result"
    }
   ],
   "source": [
    "qgis_log_picked"
   ]
  },
  {
   "cell_type": "code",
   "execution_count": 19,
   "metadata": {},
   "outputs": [],
   "source": [
    "import shutil\n",
    "import os\n",
    "\n",
    "def qgislogToFilesets(output_dir, qgis_log, has_svp = False):\n",
    "    \n",
    "    filesets = []\n",
    "    svp_filesets = []\n",
    "    filesets_dict = {}\n",
    "\n",
    "    with open(qgis_log, 'r') as csv_file:\n",
    "        file_content = csv_file.read().splitlines()\n",
    "\n",
    "        header = file_content[0].split(',')\n",
    "        \n",
    "        filename_idx = 0\n",
    "        svp_idx = 0\n",
    "        fileset_idx = 0\n",
    "        print(header)\n",
    "        print(filename_idx)\n",
    "        for field in header:\n",
    "            if field == 'Fname' or field == 'fname' or field == 'FileName':\n",
    "                break\n",
    "            else:\n",
    "                filename_idx += 1\n",
    "        if has_svp:\n",
    "            for field in header:\n",
    "                if field == 'svp_station':\n",
    "                    break\n",
    "                else:\n",
    "                    svp_idx += 1\n",
    "                \n",
    "        for field in header:\n",
    "            if field == 'fileset':\n",
    "                break\n",
    "            elif field == 'FilesetTmp':\n",
    "                break\n",
    "            else:\n",
    "                fileset_idx += 1\n",
    "\n",
    "    \n",
    "        for num, line in enumerate(file_content[1:]):\n",
    "            line_content = line.split(',')\n",
    "            file_name = line_content[filename_idx]\n",
    "            fileset_name = line_content[fileset_idx]\n",
    "            if has_svp:\n",
    "                svp_name = line_content[svp_idx]\n",
    "            else:\n",
    "                svp_name = 'None'\n",
    "\n",
    "            if fileset_name in filesets_dict.keys():\n",
    "                filesets_dict[fileset_name].append((file_name, svp_name))\n",
    "            else:\n",
    "                filesets_dict[fileset_name] = []\n",
    "                filesets_dict[fileset_name].append((file_name, svp_name))\n",
    "    \n",
    "    for key in filesets_dict.keys():\n",
    "        fileset_name = key\n",
    "\n",
    "        fs = fileset.PDSFileset()\n",
    "        fs.setname(fileset_name)\n",
    "        \n",
    "        for filename, svp_name in filesets_dict[key]:\n",
    "            fs.addfile(filename=filename, svp_name=svp_name)\n",
    "        filesets.append(fs)\n",
    "        svp_fs = fs.create_svp_filesets()\n",
    "        svp_filesets.append(svp_fs)\n",
    "    \n",
    "    \n",
    "    for fs, svpfs in zip(filesets,svp_filesets):\n",
    "        fs_dir = os.path.join(output_dir,fs.name)\n",
    "        \n",
    "        if not os.path.exists(fs_dir):\n",
    "            os.mkdir(fs_dir)\n",
    "            \n",
    "        print(f'{fs.name} - {len(fs.files)}')\n",
    "        fs.savefileset(dirpath=fs_dir)\n",
    "        len_svp = 0\n",
    "        for svfs in svpfs:\n",
    "            print(f'{svfs.name} - {len(svfs.files)}')\n",
    "            svfs.savefileset(dirpath=fs_dir)\n",
    "            len_svp += len(svfs.files)\n",
    "        print(len_svp)"
   ]
  },
  {
   "cell_type": "code",
   "execution_count": 20,
   "metadata": {},
   "outputs": [
    {
     "name": "stdout",
     "output_type": "stream",
     "text": [
      "['FileName', 'begin', 'end', 'Project', 'Fileset', 'ProcessedB', 'Status', 'Date', 'Time', 'Projection', 'FilesetTmp', 'Fileset_BS']\n",
      "0\n",
      "fs_Dunes_02_ABP48_Ryb - 154\n",
      "fs_Dunes_02_ABP48_Ryb_None - 154\n",
      "154\n"
     ]
    }
   ],
   "source": [
    "qgislogToFilesets(filesets_folder, qgis_log_picked[0])"
   ]
  },
  {
   "cell_type": "code",
   "execution_count": null,
   "metadata": {},
   "outputs": [],
   "source": []
  }
 ],
 "metadata": {
  "kernelspec": {
   "display_name": "Python 3",
   "language": "python",
   "name": "python3"
  },
  "language_info": {
   "codemirror_mode": {
    "name": "ipython",
    "version": 3
   },
   "file_extension": ".py",
   "mimetype": "text/x-python",
   "name": "python",
   "nbconvert_exporter": "python",
   "pygments_lexer": "ipython3",
   "version": "3.11.0"
  },
  "orig_nbformat": 4
 },
 "nbformat": 4,
 "nbformat_minor": 2
}
