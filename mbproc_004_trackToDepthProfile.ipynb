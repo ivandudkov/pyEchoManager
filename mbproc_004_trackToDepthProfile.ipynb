{
 "cells": [
  {
   "cell_type": "code",
   "execution_count": 1,
   "metadata": {},
   "outputs": [],
   "source": [
    "import os\n",
    "\n",
    "from filemanager import filetrack as ft\n",
    "from cli import cli"
   ]
  },
  {
   "cell_type": "code",
   "execution_count": 3,
   "metadata": {},
   "outputs": [
    {
     "name": "stdout",
     "output_type": "stream",
     "text": [
      "Searching *.csv files in directory:\\\\10.197.125.15\\Public\\ABP53\\abp53_mbes_processing\\MBES_Track\\raw\\stage03SEB\n",
      "Scanned filesets are: \n",
      "\n",
      "0 \\\\10.197.125.15\\Public\\ABP53\\abp53_mbes_processing\\MBES_Track\\raw\\stage03SEB\\abp53stg3_01_20230522_2204_1sec.csv\n",
      "1 \\\\10.197.125.15\\Public\\ABP53\\abp53_mbes_processing\\MBES_Track\\raw\\stage03SEB\\abp53stg3_02_20230522_1219_1sec.csv\n",
      "2 \\\\10.197.125.15\\Public\\ABP53\\abp53_mbes_processing\\MBES_Track\\raw\\stage03SEB\\abp53stg3_03_20230522_2043_1sec.csv\n",
      "3 \\\\10.197.125.15\\Public\\ABP53\\abp53_mbes_processing\\MBES_Track\\raw\\stage03SEB\\abp53stg3_04_20230523_1253_1sec.csv\n",
      "4 \\\\10.197.125.15\\Public\\ABP53\\abp53_mbes_processing\\MBES_Track\\raw\\stage03SEB\\abp53stg3_05_20230524_1122_1sec.csv\n",
      "5 \\\\10.197.125.15\\Public\\ABP53\\abp53_mbes_processing\\MBES_Track\\raw\\stage03SEB\\abp53stg3_06_20230524_2029_1sec.csv\n",
      "6 \\\\10.197.125.15\\Public\\ABP53\\abp53_mbes_processing\\MBES_Track\\raw\\stage03SEB\\abp53stg3_07_20230525_2327_1sec.csv\n",
      "7 \\\\10.197.125.15\\Public\\ABP53\\abp53_mbes_processing\\MBES_Track\\raw\\stage03SEB\\abp53stg3_08_20230526_0949_1sec.csv\n"
     ]
    }
   ],
   "source": [
    "track_folder = r'\\\\10.197.125.15\\Public\\ABP53\\abp53_mbes_processing\\MBES_Track\\raw\\stage03SEB'\n",
    "\n",
    "track_files = cli.search(track_folder, '.csv')"
   ]
  },
  {
   "cell_type": "code",
   "execution_count": 4,
   "metadata": {},
   "outputs": [
    {
     "name": "stdout",
     "output_type": "stream",
     "text": [
      "Please type two numbers that define the range of filesets you like to copy or move\n",
      "Please type the first number: \n",
      "Please type the second number: \n",
      "Do you want to add more elements? (Y/N)\n",
      "\n",
      "\n",
      "Picked elements:\n",
      "abp53stg3_01_20230522_2204_1sec.csv\n",
      "abp53stg3_02_20230522_1219_1sec.csv\n",
      "abp53stg3_03_20230522_2043_1sec.csv\n",
      "abp53stg3_04_20230523_1253_1sec.csv\n",
      "abp53stg3_05_20230524_1122_1sec.csv\n",
      "abp53stg3_06_20230524_2029_1sec.csv\n",
      "abp53stg3_07_20230525_2327_1sec.csv\n",
      "abp53stg3_08_20230526_0949_1sec.csv\n"
     ]
    }
   ],
   "source": [
    "track_picked = cli.pick_from_list(track_files)"
   ]
  },
  {
   "cell_type": "code",
   "execution_count": 5,
   "metadata": {},
   "outputs": [
    {
     "name": "stdout",
     "output_type": "stream",
     "text": [
      "error at line 13902. Nadir: \n"
     ]
    }
   ],
   "source": [
    "track_obj_list = []\n",
    "depth_prof = r'\\\\10.197.125.15\\Public\\ABP53\\abp53_mbes_processing\\MBES_Track\\depth_profile'\n",
    "track_obj = ft.PDSFileTrack()\n",
    "for track_file in track_picked:\n",
    "    track_obj = ft.PDSFileTrack.read_filetrack_csv(track_file, [0,1,2,3,4,5], 'WGS84 UTM34N')\n",
    "    \n",
    "    output = os.path.join(depth_prof, os.path.splitext(os.path.basename(track_file))[0] + '_nadirdepths.csv')\n",
    "    ft.PDSFileTrack.create_nadir_depth_profile(track_obj,output)"
   ]
  },
  {
   "cell_type": "code",
   "execution_count": null,
   "metadata": {},
   "outputs": [],
   "source": []
  }
 ],
 "metadata": {
  "kernelspec": {
   "display_name": "Python 3",
   "language": "python",
   "name": "python3"
  },
  "language_info": {
   "codemirror_mode": {
    "name": "ipython",
    "version": 3
   },
   "file_extension": ".py",
   "mimetype": "text/x-python",
   "name": "python",
   "nbconvert_exporter": "python",
   "pygments_lexer": "ipython3",
   "version": "3.10.10"
  },
  "orig_nbformat": 4
 },
 "nbformat": 4,
 "nbformat_minor": 2
}
