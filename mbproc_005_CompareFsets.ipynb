{
 "cells": [
  {
   "cell_type": "code",
   "execution_count": 5,
   "metadata": {},
   "outputs": [
    {
     "name": "stdout",
     "output_type": "stream",
     "text": [
      "The autoreload extension is already loaded. To reload it, use:\n",
      "  %reload_ext autoreload\n"
     ]
    }
   ],
   "source": [
    "%load_ext autoreload\n",
    "%autoreload 2\n",
    "\n",
    "import os\n",
    "\n",
    "from filemanager import fileset\n",
    "from cli import cli\n",
    "\n",
    "fileset_manager = fileset.PDSFileset()\n",
    "\n",
    "filesets_folder = r'D:\\aa_yandexcloud\\aa_cloudmbesproceessing\\ABP56\\Log&Track\\Filesets'"
   ]
  },
  {
   "cell_type": "code",
   "execution_count": 7,
   "metadata": {},
   "outputs": [
    {
     "name": "stdout",
     "output_type": "stream",
     "text": [
      "Searching *.sub files in directory:D:\\aa_yandexcloud\\aa_cloudmbesproceessing\\ABP56\\Log&Track\\Filesets\n",
      "Scanned filesets are: \n",
      "\n",
      "0 D:\\aa_yandexcloud\\aa_cloudmbesproceessing\\ABP56\\Log&Track\\Filesets\\abp56_id001_Dune01_Po_utm34n.sub\n",
      "1 D:\\aa_yandexcloud\\aa_cloudmbesproceessing\\ABP56\\Log&Track\\Filesets\\abp56_id002_Dune01_Po_utm34n.sub\n",
      "2 D:\\aa_yandexcloud\\aa_cloudmbesproceessing\\ABP56\\Log&Track\\Filesets\\abp56_id003_DuneDynamics2_Po_utm34n.sub\n",
      "3 D:\\aa_yandexcloud\\aa_cloudmbesproceessing\\ABP56\\Log&Track\\Filesets\\abp56_id004_Channel_Tr_utm34n.sub\n",
      "4 D:\\aa_yandexcloud\\aa_cloudmbesproceessing\\ABP56\\Log&Track\\Filesets\\abp56_id005_SambWest_Tr_utm34n.sub\n",
      "5 D:\\aa_yandexcloud\\aa_cloudmbesproceessing\\ABP56\\Log&Track\\Filesets\\abp56_id006_SambWest_Tr_utm34n.sub\n",
      "6 D:\\aa_yandexcloud\\aa_cloudmbesproceessing\\ABP56\\Log&Track\\Filesets\\abp56_id007_SambNorth_Tr_utm34n.sub\n",
      "7 D:\\aa_yandexcloud\\aa_cloudmbesproceessing\\ABP56\\Log&Track\\Filesets\\abp56_id008_KurSlope_Tr_utm34n.sub\n",
      "8 D:\\aa_yandexcloud\\aa_cloudmbesproceessing\\ABP56\\Log&Track\\Filesets\\abp56_id009_RybSouth_Tr_utm34n.sub\n",
      "9 D:\\aa_yandexcloud\\aa_cloudmbesproceessing\\ABP56\\Log&Track\\Filesets\\abp56_id010_RybSouth_Tr_utm34n.sub\n",
      "10 D:\\aa_yandexcloud\\aa_cloudmbesproceessing\\ABP56\\Log&Track\\Filesets\\abp56_id011_RybNorth_Tr_utm34n.sub\n",
      "11 D:\\aa_yandexcloud\\aa_cloudmbesproceessing\\ABP56\\Log&Track\\Filesets\\abp56_id012_GdNorthEast_Tr_utm34n.sub\n",
      "12 D:\\aa_yandexcloud\\aa_cloudmbesproceessing\\ABP56\\Log&Track\\Filesets\\abp56_id013_GdGot_Tr_utm34n.sub\n",
      "13 D:\\aa_yandexcloud\\aa_cloudmbesproceessing\\ABP56\\Log&Track\\Filesets\\abp56_id014_ToGogland_Tr_utm35n.sub\n",
      "14 D:\\aa_yandexcloud\\aa_cloudmbesproceessing\\ABP56\\Log&Track\\Filesets\\abp56_id015_Gogland_Tr_utm35n.sub\n",
      "15 D:\\aa_yandexcloud\\aa_cloudmbesproceessing\\ABP56\\Log&Track\\Filesets\\abp56_id016_Gogland_Tr_utm35n.sub\n",
      "16 D:\\aa_yandexcloud\\aa_cloudmbesproceessing\\ABP56\\Log&Track\\Filesets\\abp56_id017_Gogland_Tr_utm35n.sub\n",
      "17 D:\\aa_yandexcloud\\aa_cloudmbesproceessing\\ABP56\\Log&Track\\Filesets\\abp56_id018_Gogland_Tr_utm35n.sub\n",
      "18 D:\\aa_yandexcloud\\aa_cloudmbesproceessing\\ABP56\\Log&Track\\Filesets\\abp56_id019_Gogland_Tr_utm35n.sub\n",
      "19 D:\\aa_yandexcloud\\aa_cloudmbesproceessing\\ABP56\\Log&Track\\Filesets\\abp56_id020_ToProf1_Tr_utm35n.sub\n",
      "20 D:\\aa_yandexcloud\\aa_cloudmbesproceessing\\ABP56\\Log&Track\\Filesets\\abp56_id021_Prof1_Pr_utm35n.sub\n",
      "21 D:\\aa_yandexcloud\\aa_cloudmbesproceessing\\ABP56\\Log&Track\\Filesets\\abp56_id022_ToProf2_Tr_utm35n.sub\n",
      "22 D:\\aa_yandexcloud\\aa_cloudmbesproceessing\\ABP56\\Log&Track\\Filesets\\abp56_id023_Prof2_Pr_utm35n.sub\n",
      "23 D:\\aa_yandexcloud\\aa_cloudmbesproceessing\\ABP56\\Log&Track\\Filesets\\abp56_id024_Prof2_Pr_utm35n.sub\n",
      "24 D:\\aa_yandexcloud\\aa_cloudmbesproceessing\\ABP56\\Log&Track\\Filesets\\abp56_id025_WreckToPoly_Tr_utm35n.sub\n",
      "25 D:\\aa_yandexcloud\\aa_cloudmbesproceessing\\ABP56\\Log&Track\\Filesets\\abp56_id026_GogPoly_Po_utm35n.sub\n",
      "26 D:\\aa_yandexcloud\\aa_cloudmbesproceessing\\ABP56\\Log&Track\\Filesets\\abp56_id027_Gogland_Tr_utm35n.sub\n",
      "27 D:\\aa_yandexcloud\\aa_cloudmbesproceessing\\ABP56\\Log&Track\\Filesets\\abp56_id028_ToVyborg_Tr_utm35n.sub\n",
      "28 D:\\aa_yandexcloud\\aa_cloudmbesproceessing\\ABP56\\Log&Track\\Filesets\\abp56_id029_ToVyborg_Tr_utm35n.sub\n",
      "29 D:\\aa_yandexcloud\\aa_cloudmbesproceessing\\ABP56\\Log&Track\\Filesets\\abp56_id030_ToVyborg_Tr_utm35n.sub\n",
      "30 D:\\aa_yandexcloud\\aa_cloudmbesproceessing\\ABP56\\Log&Track\\Filesets\\abp56_id031_ToVyborg_Tr_utm35n.sub\n",
      "31 D:\\aa_yandexcloud\\aa_cloudmbesproceessing\\ABP56\\Log&Track\\Filesets\\abp56_id032_ToVyborg_Tr_utm35n.sub\n",
      "32 D:\\aa_yandexcloud\\aa_cloudmbesproceessing\\ABP56\\Log&Track\\Filesets\\abp56_id033_VyborgPo_Po_utm35n.sub\n",
      "33 D:\\aa_yandexcloud\\aa_cloudmbesproceessing\\ABP56\\Log&Track\\Filesets\\abp56_id034_ToKapor_Tr_utm35n.sub\n",
      "34 D:\\aa_yandexcloud\\aa_cloudmbesproceessing\\ABP56\\Log&Track\\Filesets\\abp56_id035_Kapor_Po_utm35n.sub\n",
      "35 D:\\aa_yandexcloud\\aa_cloudmbesproceessing\\ABP56\\Log&Track\\Filesets\\abp56_id036_Kotlin_Tr_utm35n.sub\n",
      "36 D:\\aa_yandexcloud\\aa_cloudmbesproceessing\\ABP56\\Log&Track\\Filesets\\abp56_id037_Kotlin_Tr_utm35n.sub\n",
      "37 D:\\aa_yandexcloud\\aa_cloudmbesproceessing\\ABP56\\Log&Track\\Filesets\\abp56_id038_Diamid_Tr_utm35n.sub\n",
      "38 D:\\aa_yandexcloud\\aa_cloudmbesproceessing\\ABP56\\Log&Track\\Filesets\\abp56_id039_Seskar_Tr_utm35n.sub\n",
      "39 D:\\aa_yandexcloud\\aa_cloudmbesproceessing\\ABP56\\Log&Track\\Filesets\\abp56_id040_Kapor_Po_utm35n.sub\n",
      "40 D:\\aa_yandexcloud\\aa_cloudmbesproceessing\\ABP56\\Log&Track\\Filesets\\abp56_id041_Kapor_Po_utm35n.sub\n",
      "41 D:\\aa_yandexcloud\\aa_cloudmbesproceessing\\ABP56\\Log&Track\\Filesets\\abp56_id042_Seskar_Tr_utm35n.sub\n",
      "42 D:\\aa_yandexcloud\\aa_cloudmbesproceessing\\ABP56\\Log&Track\\Filesets\\abp56_id043_Seskar_Tr_utm35n.sub\n",
      "43 D:\\aa_yandexcloud\\aa_cloudmbesproceessing\\ABP56\\Log&Track\\Filesets\\abp56_id044_Moch_Tr_utm35n.sub\n",
      "44 D:\\aa_yandexcloud\\aa_cloudmbesproceessing\\ABP56\\Log&Track\\Filesets\\abp56_id045_Moch_Tr_utm35n.sub\n",
      "45 D:\\aa_yandexcloud\\aa_cloudmbesproceessing\\ABP56\\Log&Track\\Filesets\\abp56_id046_Gogland_Tr_utm35n.sub\n",
      "46 D:\\aa_yandexcloud\\aa_cloudmbesproceessing\\ABP56\\Log&Track\\Filesets\\abp56_id047_Gogland_Tr_utm35n.sub\n",
      "47 D:\\aa_yandexcloud\\aa_cloudmbesproceessing\\ABP56\\Log&Track\\Filesets\\abp56_id048_GogPoly_Po_utm35n.sub\n",
      "48 D:\\aa_yandexcloud\\aa_cloudmbesproceessing\\ABP56\\Log&Track\\Filesets\\abp56_id049_GogPoly_Po_utm35n.sub\n",
      "49 D:\\aa_yandexcloud\\aa_cloudmbesproceessing\\ABP56\\Log&Track\\Filesets\\abp56_id050_Gogland_Tr_utm35n.sub\n",
      "50 D:\\aa_yandexcloud\\aa_cloudmbesproceessing\\ABP56\\Log&Track\\Filesets\\abp56_id051_Gogland_Tr_utm35n.sub\n",
      "51 D:\\aa_yandexcloud\\aa_cloudmbesproceessing\\ABP56\\Log&Track\\Filesets\\abp56_id052_BaltGasPoly_Po_utm34n.sub\n",
      "52 D:\\aa_yandexcloud\\aa_cloudmbesproceessing\\ABP56\\Log&Track\\Filesets\\abp56_id053_BaltGasPoly_Po_utm34n.sub\n",
      "53 D:\\aa_yandexcloud\\aa_cloudmbesproceessing\\ABP56\\Log&Track\\Filesets\\abp56_id054_BaltGasPoly_Po_utm34n.sub\n",
      "54 D:\\aa_yandexcloud\\aa_cloudmbesproceessing\\ABP56\\Log&Track\\Filesets\\abp56_id055_DuneDynamics03_Po_utm34n.sub\n",
      "55 D:\\aa_yandexcloud\\aa_cloudmbesproceessing\\ABP56\\Log&Track\\Filesets\\abp56_id056_DuneDynamics01_Po_utm34n.sub\n",
      "56 D:\\aa_yandexcloud\\aa_cloudmbesproceessing\\ABP56\\Log&Track\\Filesets\\abp56_id057_RybCont_Po_utm34n.sub\n",
      "57 D:\\aa_yandexcloud\\aa_cloudmbesproceessing\\ABP56\\Log&Track\\Filesets\\abp56_id058_RybCont_Po_utm34n.sub\n",
      "58 D:\\aa_yandexcloud\\aa_cloudmbesproceessing\\ABP56\\Log&Track\\Filesets\\abp56_id059_Dune01_Po_utm34n.sub\n",
      "59 D:\\aa_yandexcloud\\aa_cloudmbesproceessing\\ABP56\\Log&Track\\Filesets\\abp56_id060_Dune01_Po_utm34n.sub\n",
      "60 D:\\aa_yandexcloud\\aa_cloudmbesproceessing\\ABP56\\Log&Track\\Filesets\\abp56_id061_Dune01_Po_utm34n.sub\n",
      "61 D:\\aa_yandexcloud\\aa_cloudmbesproceessing\\ABP56\\Log&Track\\Filesets\\abp56_id062_Dune01_Po_utm34n.sub\n",
      "62 D:\\aa_yandexcloud\\aa_cloudmbesproceessing\\ABP56\\Log&Track\\Filesets\\abp56_id063_Dune01_Po_utm34n.sub\n",
      "63 D:\\aa_yandexcloud\\aa_cloudmbesproceessing\\ABP56\\Log&Track\\Filesets\\abp56_id064_Dune01Gap_Po_utm34n.sub\n",
      "64 D:\\aa_yandexcloud\\aa_cloudmbesproceessing\\ABP56\\Log&Track\\Filesets\\abp56_id065_Dune01Gap_Po_utm34n.sub\n",
      "65 D:\\aa_yandexcloud\\aa_cloudmbesproceessing\\ABP56\\Log&Track\\Filesets\\abp56_id066_Dune02_Po_utm34n.sub\n",
      "66 D:\\aa_yandexcloud\\aa_cloudmbesproceessing\\ABP56\\Log&Track\\Filesets\\abp56_id067_Dune02_Po_utm34n.sub\n",
      "67 D:\\aa_yandexcloud\\aa_cloudmbesproceessing\\ABP56\\Log&Track\\Filesets\\abp56_id068_Dune02_Po_utm34n.sub\n",
      "68 D:\\aa_yandexcloud\\aa_cloudmbesproceessing\\ABP56\\Log&Track\\Filesets\\abp56_id069_Dune02_Po_utm34n.sub\n",
      "69 D:\\aa_yandexcloud\\aa_cloudmbesproceessing\\ABP56\\Log&Track\\Filesets\\abp56_id070_Dune02_Po_utm34n.sub\n",
      "70 D:\\aa_yandexcloud\\aa_cloudmbesproceessing\\ABP56\\Log&Track\\Filesets\\abp56_id071_Dune02_Po_utm34n.sub\n",
      "71 D:\\aa_yandexcloud\\aa_cloudmbesproceessing\\ABP56\\Log&Track\\Filesets\\abp56_id072_Dune02_Po_utm34n.sub\n",
      "72 D:\\aa_yandexcloud\\aa_cloudmbesproceessing\\ABP56\\Log&Track\\Filesets\\abp56_id073_Dune02_Po_utm34n.sub\n",
      "73 D:\\aa_yandexcloud\\aa_cloudmbesproceessing\\ABP56\\Log&Track\\Filesets\\abp56_id074_Dune02_Po_utm34n.sub\n",
      "74 D:\\aa_yandexcloud\\aa_cloudmbesproceessing\\ABP56\\Log&Track\\Filesets\\abp56_id075_Dune02_Po_utm34n.sub\n",
      "75 D:\\aa_yandexcloud\\aa_cloudmbesproceessing\\ABP56\\Log&Track\\Filesets\\abp56_id076_Dune02_Po_utm34n.sub\n",
      "76 D:\\aa_yandexcloud\\aa_cloudmbesproceessing\\ABP56\\Log&Track\\Filesets\\abp56_id077_Dune02_Po_utm34n.sub\n",
      "77 D:\\aa_yandexcloud\\aa_cloudmbesproceessing\\ABP56\\Log&Track\\Filesets\\abp56_id078_Dune02_Tr_utm34n.sub\n",
      "78 D:\\aa_yandexcloud\\aa_cloudmbesproceessing\\ABP56\\Log&Track\\Filesets\\abp56_id079_Dune02_Tr_utm34n.sub\n",
      "79 D:\\aa_yandexcloud\\aa_cloudmbesproceessing\\ABP56\\Log&Track\\Filesets\\abp56_id080_Dune02GNOM_Tr_utm34n.sub\n",
      "80 D:\\aa_yandexcloud\\aa_cloudmbesproceessing\\ABP56\\Log&Track\\Filesets\\abp56_id081_Dune02GNOM_Tr_utm34n.sub\n",
      "81 D:\\aa_yandexcloud\\aa_cloudmbesproceessing\\ABP56\\Log&Track\\Filesets\\abp56_id082_Dune02GNOM_Tr_utm34n.sub\n",
      "82 D:\\aa_yandexcloud\\aa_cloudmbesproceessing\\ABP56\\Log&Track\\Filesets\\abp56_id083_Dune02GNOM_Tr_utm34n.sub\n",
      "83 D:\\aa_yandexcloud\\aa_cloudmbesproceessing\\ABP56\\Log&Track\\Filesets\\abp56_id084_Dune02GNOM_Tr_utm34n.sub\n",
      "84 D:\\aa_yandexcloud\\aa_cloudmbesproceessing\\ABP56\\Log&Track\\Filesets\\abp56_id085_Dune02GNOM_Tr_utm34n.sub\n",
      "85 D:\\aa_yandexcloud\\aa_cloudmbesproceessing\\ABP56\\Log&Track\\Filesets\\abp56_id086_Dune02GNOM_Tr_utm34n.sub\n",
      "86 D:\\aa_yandexcloud\\aa_cloudmbesproceessing\\ABP56\\Log&Track\\Filesets\\abp56_id087_Dune02GNOM_Tr_utm34n.sub\n",
      "87 D:\\aa_yandexcloud\\aa_cloudmbesproceessing\\ABP56\\Log&Track\\Filesets\\abp56_id088_Dune02GNOM_Tr_utm34n.sub\n",
      "88 D:\\aa_yandexcloud\\aa_cloudmbesproceessing\\ABP56\\Log&Track\\Filesets\\abp56_id089_Dune02GNOM_Tr_utm34n.sub\n",
      "89 D:\\aa_yandexcloud\\aa_cloudmbesproceessing\\ABP56\\Log&Track\\Filesets\\abp56_id090_RybSouth_Po_utm34n.sub\n",
      "90 D:\\aa_yandexcloud\\aa_cloudmbesproceessing\\ABP56\\Log&Track\\Filesets\\abp56_id091_RybSouth_Po_utm34n.sub\n",
      "91 D:\\aa_yandexcloud\\aa_cloudmbesproceessing\\ABP56\\Log&Track\\Filesets\\abp56_id092_PeskiPo_Po_utm34n.sub\n",
      "92 D:\\aa_yandexcloud\\aa_cloudmbesproceessing\\ABP56\\Log&Track\\Filesets\\abp56_id093_PeskiPo_Po_utm34n.sub\n",
      "93 D:\\aa_yandexcloud\\aa_cloudmbesproceessing\\ABP56\\Log&Track\\Filesets\\abp56_id094_PeskiPo_Po_utm34n.sub\n",
      "94 D:\\aa_yandexcloud\\aa_cloudmbesproceessing\\ABP56\\Log&Track\\Filesets\\abp56_id095_PeskiPo_Po_utm34n.sub\n",
      "95 D:\\aa_yandexcloud\\aa_cloudmbesproceessing\\ABP56\\Log&Track\\Filesets\\abp56_id096_PeskiPo_Po_utm34n.sub\n",
      "96 D:\\aa_yandexcloud\\aa_cloudmbesproceessing\\ABP56\\Log&Track\\Filesets\\abp56_id097_GdGotCont_Tr_utm34n.sub\n"
     ]
    }
   ],
   "source": [
    "pds_filesets = cli.search(filesets_folder,'.sub')"
   ]
  },
  {
   "cell_type": "code",
   "execution_count": 20,
   "metadata": {},
   "outputs": [],
   "source": [
    "save_to = r'D:\\aa_yandexcloud\\aa_cloudmbesproceessing\\ABP56\\abp56_filesets.txt'\n",
    "\n",
    "fname_fs_strings = []\n",
    "\n",
    "\n",
    "for fileset in pds_filesets:\n",
    "    fs_name = os.path.splitext(os.path.basename(fileset))[0]\n",
    "    \n",
    "    with open(fileset, 'r') as f1:\n",
    "        file_content = f1.read().splitlines()\n",
    "        \n",
    "        for line in file_content[1:]:\n",
    "            \n",
    "            if line.startswith('File'):\n",
    "                line_content = line.split('LogData\\\\')\n",
    "                fname_fs_strings.append(f'{fs_name},{line_content[-1]}')\n",
    "                \n",
    "with open(save_to, 'w') as f2:\n",
    "    f2.write('fileset,fname\\n')\n",
    "    \n",
    "    for line in fname_fs_strings:\n",
    "        f2.write(f'{line}\\n')\n",
    "            \n",
    "    "
   ]
  },
  {
   "cell_type": "code",
   "execution_count": null,
   "metadata": {},
   "outputs": [],
   "source": [
    "\n",
    "\n",
    "\n"
   ]
  },
  {
   "cell_type": "code",
   "execution_count": null,
   "metadata": {},
   "outputs": [],
   "source": []
  }
 ],
 "metadata": {
  "kernelspec": {
   "display_name": "id1054",
   "language": "python",
   "name": "python3"
  },
  "language_info": {
   "codemirror_mode": {
    "name": "ipython",
    "version": 3
   },
   "file_extension": ".py",
   "mimetype": "text/x-python",
   "name": "python",
   "nbconvert_exporter": "python",
   "pygments_lexer": "ipython3",
   "version": "3.11.0"
  }
 },
 "nbformat": 4,
 "nbformat_minor": 2
}
