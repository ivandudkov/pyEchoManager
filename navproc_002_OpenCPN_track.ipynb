{
 "cells": [
  {
   "cell_type": "code",
   "execution_count": 7,
   "metadata": {},
   "outputs": [],
   "source": [
    "%load_ext autoreload\n",
    "%autoreload 2\n",
    "\n",
    "import os\n",
    "from filemanager import file_ext_search as fes\n",
    "from dataclasses import dataclass, field\n",
    "import numpy as np\n",
    "import matplotlib.pyplot as plt\n",
    "from scipy import signal\n",
    "\n",
    "from datetime import datetime, timezone, tzinfo\n",
    "\n",
    "from pyproj import Proj, CRS, Transformer\n",
    "\n",
    "from sbp_tools.sbp_track_processing import process_track, save_track_to_radex, save_track, read_segypos\n",
    "\n",
    "crs_wgs84 = CRS.from_epsg(4326)\n",
    "crs_utm35n = CRS.from_epsg(32635)\n",
    "crs_utm34n = CRS.from_epsg(32634)\n",
    "\n",
    "transformer = Transformer.from_crs(crs_wgs84, crs_utm34n, always_xy=True)"
   ]
  },
  {
   "cell_type": "code",
   "execution_count": 65,
   "metadata": {},
   "outputs": [],
   "source": [
    "def read_opencpn_csv(path):\n",
    "    \n",
    "    with open(path, 'r') as f1:\n",
    "        f1_content = f1.read().splitlines()\n",
    "        \n",
    "        line_num = len(f1_content)\n",
    "        \n",
    "        f1_array = np.zeros((4, len(f1_content[1:])))\n",
    "        \n",
    "        for num, line in enumerate(f1_content[1:]):\n",
    "            line_content = line.split(',')\n",
    "            \n",
    "            f1_array[0,num] = num\n",
    "            f1_array[1,num] = datetime.timestamp(datetime.strptime(line_content[4],'%Y/%m/%d %H:%M:%S+00'))\n",
    "            f1_array[2,num] = float(line_content[5])\n",
    "            f1_array[3,num] = float(line_content[6])\n",
    "            \n",
    "            \n",
    "            # calculate bearing\n",
    "            \n",
    "        \n",
    "    return f1_array\n",
    "            "
   ]
  },
  {
   "cell_type": "code",
   "execution_count": 72,
   "metadata": {},
   "outputs": [],
   "source": [
    "path = r'C:\\YandexDisk\\aa_cloudmbesproceessing\\AI-68\\track_processing\\OpenCPN_track_StationPC_AlmostFinal_(SvetlChannel).csv'\n",
    "\n",
    "track_array = read_opencpn_csv(path)"
   ]
  },
  {
   "cell_type": "code",
   "execution_count": 73,
   "metadata": {},
   "outputs": [],
   "source": [
    "diff_array = np.diff(track_array[1])\n",
    "\n",
    "save_to = r'C:\\YandexDisk\\aa_cloudmbesproceessing\\AI-68\\track_processing\\OpenCPN_track_StationPC_AlmostFinal_(SvetlChannel)_proc.csv'\n",
    "\n",
    "with open(save_to, 'w') as f2:\n",
    "    f2.write('num,timestamp,x,y,diff,group,datetime\\n')\n",
    "    \n",
    "    group = 0\n",
    "    \n",
    "    for num, time in enumerate(track_array[1,:]):\n",
    "        f2.write(f'{track_array[0,num]},{track_array[1,num]},')\n",
    "        f2.write(f'{track_array[2,num]},{track_array[3,num]},')\n",
    "        \n",
    "        if num > 0:\n",
    "            f2.write(f'{diff_array[num-1]},')\n",
    "            \n",
    "            if diff_array[num-1] > 2000:\n",
    "                group += 1\n",
    "            elif diff_array[num-1] < 0:\n",
    "                group += 1\n",
    "        else:\n",
    "            f2.write('0,')\n",
    "        f2.write(f'{group},{datetime.strftime(datetime.fromtimestamp(track_array[1,num], timezone.utc), '%Y-%m-%dT%H:%M:%S')}\\n')\n",
    "                \n"
   ]
  },
  {
   "cell_type": "code",
   "execution_count": null,
   "metadata": {},
   "outputs": [],
   "source": []
  }
 ],
 "metadata": {
  "kernelspec": {
   "display_name": "id_13pc",
   "language": "python",
   "name": "python3"
  },
  "language_info": {
   "codemirror_mode": {
    "name": "ipython",
    "version": 3
   },
   "file_extension": ".py",
   "mimetype": "text/x-python",
   "name": "python",
   "nbconvert_exporter": "python",
   "pygments_lexer": "ipython3",
   "version": "3.12.2"
  }
 },
 "nbformat": 4,
 "nbformat_minor": 2
}
