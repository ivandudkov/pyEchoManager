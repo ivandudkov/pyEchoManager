{
 "cells": [
  {
   "cell_type": "code",
   "execution_count": 2,
   "metadata": {},
   "outputs": [],
   "source": [
    "%load_ext autoreload\n",
    "%autoreload 2\n",
    "\n",
    "import os\n",
    "from cli import cli\n",
    "from filemanager import file_ext_search as fes"
   ]
  },
  {
   "cell_type": "code",
   "execution_count": 6,
   "metadata": {},
   "outputs": [
    {
     "name": "stdout",
     "output_type": "stream",
     "text": [
      "Searching *.dat files in directory:C:\\YandexDisk\\aa_cloudmbesproceessing\\aa_abp55_processing\\gis_project\\SBP_profiles\n",
      "Scanned filesets are: \n",
      "\n",
      "0 C:\\YandexDisk\\aa_cloudmbesproceessing\\aa_abp55_processing\\gis_project\\SBP_profiles\\FZ_Prof01.dat\n",
      "1 C:\\YandexDisk\\aa_cloudmbesproceessing\\aa_abp55_processing\\gis_project\\SBP_profiles\\FZ_Prof02.dat\n",
      "2 C:\\YandexDisk\\aa_cloudmbesproceessing\\aa_abp55_processing\\gis_project\\SBP_profiles\\FZ_Prof03.dat\n",
      "3 C:\\YandexDisk\\aa_cloudmbesproceessing\\aa_abp55_processing\\gis_project\\SBP_profiles\\FZ_Prof04.dat\n",
      "4 C:\\YandexDisk\\aa_cloudmbesproceessing\\aa_abp55_processing\\gis_project\\SBP_profiles\\FZ_Prof05.dat\n",
      "5 C:\\YandexDisk\\aa_cloudmbesproceessing\\aa_abp55_processing\\gis_project\\SBP_profiles\\FZ_Prof06.dat\n",
      "6 C:\\YandexDisk\\aa_cloudmbesproceessing\\aa_abp55_processing\\gis_project\\SBP_profiles\\SEB_Prof01.dat\n",
      "7 C:\\YandexDisk\\aa_cloudmbesproceessing\\aa_abp55_processing\\gis_project\\SBP_profiles\\SEB_Prof02.dat\n",
      "8 C:\\YandexDisk\\aa_cloudmbesproceessing\\aa_abp55_processing\\gis_project\\SBP_profiles\\SEB_Prof03.dat\n",
      "9 C:\\YandexDisk\\aa_cloudmbesproceessing\\aa_abp55_processing\\gis_project\\SBP_profiles\\SEB_Prof04.dat\n",
      "10 C:\\YandexDisk\\aa_cloudmbesproceessing\\aa_abp55_processing\\gis_project\\SBP_profiles\\SEB_Prof05.dat\n",
      "11 C:\\YandexDisk\\aa_cloudmbesproceessing\\aa_abp55_processing\\gis_project\\SBP_profiles\\SEB_Prof06.dat\n",
      "12 C:\\YandexDisk\\aa_cloudmbesproceessing\\aa_abp55_processing\\gis_project\\SBP_profiles\\SEB_Prof07.dat\n",
      "13 C:\\YandexDisk\\aa_cloudmbesproceessing\\aa_abp55_processing\\gis_project\\SBP_profiles\\SEB_Prof08.dat\n",
      "14 C:\\YandexDisk\\aa_cloudmbesproceessing\\aa_abp55_processing\\gis_project\\SBP_profiles\\SEB_Prof09.dat\n",
      "15 C:\\YandexDisk\\aa_cloudmbesproceessing\\aa_abp55_processing\\gis_project\\SBP_profiles\\SEB_Prof10.dat\n",
      "16 C:\\YandexDisk\\aa_cloudmbesproceessing\\aa_abp55_processing\\gis_project\\SBP_profiles\\SEB_Prof11.dat\n",
      "17 C:\\YandexDisk\\aa_cloudmbesproceessing\\aa_abp55_processing\\gis_project\\SBP_profiles\\SEB_Prof12.dat\n"
     ]
    }
   ],
   "source": [
    "path = r'C:\\YandexDisk\\aa_cloudmbesproceessing\\aa_abp55_processing\\gis_project\\SBP_profiles'\n",
    "\n",
    "prof_files = cli.search(path,'.dat')\n",
    "\n",
    "fz = []\n",
    "seb = []\n",
    "\n",
    "\n",
    "def read_prof_file(file, group_list):\n",
    "    with open(file, 'r') as f1:\n",
    "        file_content = f1.read().splitlines()\n",
    "        \n",
    "        fname = os.path.splitext(os.path.basename(file))[0]\n",
    "        \n",
    "        for num, line in enumerate(file_content):\n",
    "            group_list.append(f'{num} {line} {fname}')\n",
    "\n",
    "for file in prof_files:\n",
    "    if os.path.basename(file).startswith('FZ'):\n",
    "        read_prof_file(file, fz)\n",
    "        \n",
    "    elif os.path.basename(file).startswith('SEB'):\n",
    "        with open(file, 'r') as f2:\n",
    "            read_prof_file(file, seb)\n",
    "            \n",
    "def save_prof_track(group, path, fname):\n",
    "    with open(os.path.join(path, fname), 'w') as f2:\n",
    "        f2.write('numo numi x y z profile\\n')\n",
    "\n",
    "        for num, line in enumerate(group):\n",
    "            f2.write(f'{num} {line}\\n')\n",
    "\n",
    "save_prof_track(seb,path,'SEB_Profiles.txt')"
   ]
  },
  {
   "cell_type": "code",
   "execution_count": null,
   "metadata": {},
   "outputs": [],
   "source": [
    "import os\n",
    "from cli import cli\n",
    "\n",
    "path = r'C:\\YandexDisk\\aa_cloudmbesproceessing\\aa_abp55_processing\\DTM\\CSV_From_Realtime'\n",
    "\n",
    "csv_files = cli.search(path, '.csv')\n",
    "\n",
    "\n",
    "for file in csv_files:\n",
    "    print(f'Start processing {file}')\n",
    "    xyz = []\n",
    "    \n",
    "    new_file = os.path.join(path,'mod_' + os.path.basename(file))\n",
    "    with open(file, 'r') as f1:\n",
    "        f1_content = f1.read().splitlines()\n",
    "        \n",
    "        for line in f1_content:\n",
    "            line_content = line.split(';')\n",
    "            x = line_content[0]\n",
    "            y = line_content[1]\n",
    "            z = line_content[2]\n",
    "            xyz.append(f'{x},{y},{z}\\n')\n",
    "            \n",
    "            \n",
    "    with open(new_file, 'w') as f2:\n",
    "        f2.write('x,y,z\\n')\n",
    "        \n",
    "        for xyz_line in xyz:\n",
    "            f2.write(xyz_line)\n",
    "            \n",
    "    print(f'file {file} done')"
   ]
  },
  {
   "cell_type": "code",
   "execution_count": null,
   "metadata": {},
   "outputs": [],
   "source": []
  },
  {
   "cell_type": "code",
   "execution_count": null,
   "metadata": {},
   "outputs": [],
   "source": []
  },
  {
   "cell_type": "code",
   "execution_count": null,
   "metadata": {},
   "outputs": [],
   "source": []
  }
 ],
 "metadata": {
  "kernelspec": {
   "display_name": "id_13pc",
   "language": "python",
   "name": "python3"
  },
  "language_info": {
   "codemirror_mode": {
    "name": "ipython",
    "version": 3
   },
   "file_extension": ".py",
   "mimetype": "text/x-python",
   "name": "python",
   "nbconvert_exporter": "python",
   "pygments_lexer": "ipython3",
   "version": "3.12.2"
  }
 },
 "nbformat": 4,
 "nbformat_minor": 2
}
