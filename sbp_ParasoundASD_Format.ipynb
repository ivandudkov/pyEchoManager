{
 "cells": [
  {
   "cell_type": "code",
   "execution_count": 1,
   "metadata": {},
   "outputs": [],
   "source": [
    "import os\n",
    "from datetime import datetime, time, date\n",
    "from filemanager import file_ext_search as fes\n",
    "from dataclasses import dataclass, field\n",
    "from collections import defaultdict, namedtuple\n",
    "\n",
    "import numpy as np\n",
    "import matplotlib.pyplot as plt\n",
    "from scipy import signal"
   ]
  },
  {
   "cell_type": "code",
   "execution_count": 2,
   "metadata": {},
   "outputs": [
    {
     "name": "stdout",
     "output_type": "stream",
     "text": [
      "2021-09-17 13:39:20.986000\n"
     ]
    }
   ],
   "source": [
    "am = datetime.fromtimestamp(1631878760.986)\n",
    "print(am)"
   ]
  },
  {
   "cell_type": "code",
   "execution_count": 3,
   "metadata": {},
   "outputs": [],
   "source": [
    "filepath = r'D:\\InspectingP70Data\\P70_data\\SEB\\PS3SLF_2021-09-17T110351Z_00047728.asd.acf'\n",
    "filepath_idx = r'D:\\InspectingP70Data\\P70_data\\SEB\\PS3SLF_2021-09-17T110351Z_00047728.asd.acf.idx'\n",
    "\n",
    "@dataclass\n",
    "class IDXFile():\n",
    "    name: str\n",
    "    start_byte: int\n",
    "    end_byte: int\n",
    "    size: int\n",
    "\n",
    "def read_idx_file(path):\n",
    "    idx_files = []\n",
    "    with open(path, 'r') as f1:\n",
    "        f1_content = f1.read().splitlines()\n",
    "        for line in f1_content:\n",
    "            lc = line.split()\n",
    "            \n",
    "            name =  lc[2]\n",
    "            start_byte = int(lc[0])\n",
    "            size = int(lc[1])\n",
    "            end_byte = start_byte + size - 1\n",
    "            \n",
    "            idx_files.append(IDXFile(name=name, start_byte=start_byte, end_byte=end_byte, size=size))\n",
    "            \n",
    "    return idx_files\n"
   ]
  },
  {
   "cell_type": "code",
   "execution_count": 4,
   "metadata": {},
   "outputs": [],
   "source": [
    "idx_files = read_idx_file(filepath_idx)"
   ]
  },
  {
   "cell_type": "code",
   "execution_count": 5,
   "metadata": {},
   "outputs": [
    {
     "data": {
      "text/plain": [
       "0.3461635"
      ]
     },
     "execution_count": 5,
     "metadata": {},
     "output_type": "execute_result"
    }
   ],
   "source": [
    "@dataclass\n",
    "class XMLHeader:\n",
    "    name: str\n",
    "    start_byte: int\n",
    "    end_byte: int\n",
    "    root: int\n",
    "    \n",
    "class ASDFile:\n",
    "    pass\n",
    "\n",
    "with open(filepath, 'rb') as f2:\n",
    "    buffer = f2.read()\n",
    "    xml_size = None\n",
    "    loop = True\n",
    "    \n",
    "    start = 0\n",
    "    \n",
    "    # Decode XML part\n",
    "    while loop:\n",
    "        try:\n",
    "            buffer[start:start+1].decode(encoding='utf-8', errors='strict')\n",
    "        except:\n",
    "            loop = False\n",
    "        else:\n",
    "            start += 1  \n",
    "\n",
    "import xml.etree.ElementTree as ET\n",
    "am = buffer[0:start].decode(encoding='utf-8', errors='strict')\n",
    "root2 = ET.fromstring(am)\n",
    "root2.tag\n",
    "root2.attrib\n",
    "root2[1][2][2]\n",
    "float(root2[1][2][3].text)"
   ]
  },
  {
   "cell_type": "code",
   "execution_count": 6,
   "metadata": {},
   "outputs": [
    {
     "name": "stdout",
     "output_type": "stream",
     "text": [
      "<?xml version =\"1.0\" encoding=\"UTF-8\" ?>\n",
      "<!-- created by ATLAS PARASOUND DS-3/P70 -->\n",
      "<soundings xmlns=\"asd_xml_schema_vers2_10\" xmlns:xsi=\"http://www.w3.org/2001/XMLSchema-instance\" xsi:schemaLocation=\"asd_xml_schema_vers2_10 asd_xml_schema.xsd\" title=\"ATLAS Sounding Data\" system=\"ATLAS PARASOUND DS-3/P70\" systemId=\"PS3\" cmVersion=\"3.3.4.21\" spmVersion=\"2019-03-22/10:20  76.80.423  V1.8 \" tbfVersion=\"JS:V002.039\" spmFPGAVersion=\"10121800\" DM80Version=\"4.20\" docDaytime=\"2021-09-17T11:03:51Z\" noOfSoundings=\"4\" reducedASD=\"false\">\n",
      "\t<installation calibrDate=\"2021-04-21T07:56:35\" sysZOffset=\"0\" xOffset=\"5.86\" yOffset=\"0.57\" zOffset=\"5.76\" yawOffset=\"0\" pitchOffset=\"0\" rollOffset=\"0\" tx_xOffset=\"5.86\" tx_yOffset=\"0.57\" tx_zOffset=\"5.76\" tx_yawOffset=\"0\" tx_pitchOffset=\"0\" tx_rollOffset=\"0\"/>\n",
      "\t<auxData baseTimeTag=\"1631876630.058\">\n",
      "\t\t<motionData name=\"OCTANS III\" xOffset=\"0.000\" yOffset=\"0.000\" zOffset=\"0.000\" yawOffset=\"0.00000000\" appliedLatency=\"0.000\" status=\"0\" pitchOffset=\"0.00000000\" rollOffset=\"0.00000000\">\n",
      "\t\t\t<quality noItems=\"176\" allPlausible=\"false\">p p p p p p p p p p p p p p p p p p f p p p p p p p p p p p p p p p p p p p p p p p p p p p p f p p p p p p p p p p p p p p p p p p p p p p p p p p p p p p p p p p p p p p p p p p p p p p p p p p p p p p p p p p p p p p p p p p f p p p p p p p p p p p p p p p p p p p f p p p p p p p p p p p p p p p p p p p p p p p p p p p p p p p p p p p p p p p p p </quality>\n",
      "\t\t\t<heave noScans=\"176\" startTimeRel2TRG=\"-0.498\" scanInterval=\"0.010\" notation=\"decimal\" unit=\"m\">0.0000 0.0000 0.0000 0.0000 0.0000 0.0000 0.0000 0.0000 0.0000 0.0000 0.0000 0.0000 0.0000 0.0000 0.0000 0.0000 0.0000 0.0000 0 0.0000 0.0000 0.0000 0.0000 0.0000 0.0000 0.0000 0.0000 0.0000 0.0000 0.0000 0.0000 0.0000 0.0000 0.0000 0.0000 0.0000 0.0000 0.0000 0.0000 0.0000 0.0000 0.0000 0.0000 0.0000 0.0000 0.0000 0.0000 0 0.0000 0.0000 0.0000 0.0000 0.0000 0.0000 0.0000 0.0000 0.0000 0.0000 0.0000 0.0000 0.0000 0.0000 0.0000 0.0000 0.0000 0.0000 0.0000 0.0000 0.0000 0.0000 0.0000 0.0000 0.0000 0.0000 0.0000 0.0000 0.0000 0.0000 0.0000 0.0000 0.0100 0.0100 0.0100 0.0100 0.0100 0.0100 0.0100 0.0100 0.0100 0.0100 0.0100 0.0100 0.0100 0.0100 0.0100 0.0100 0.0100 0.0100 0.0100 0.0100 0.0100 0.0100 0.0100 0.0200 0.0200 0.0200 0.0200 0.0200 0.0200 0.0200 0.0200 0.0200 0.0200 0.0200 0 0.0200 0.0200 0.0200 0.0200 0.0200 0.0200 0.0200 0.0300 0.0300 0.0300 0.0300 0.0300 0.0300 0.0300 0.0300 0.0300 0.0300 0.0300 0.0300 0 0.0300 0.0300 0.0300 0.0300 0.0400 0.0400 0.0400 0.0400 0.0400 0.0400 0.0400 0.0400 0.0400 0.0400 0.0400 0.0400 0.0400 0.0400 0.0400 0.0400 0.0400 0.0400 0.0500 0.0500 0.0500 0.0500 0.0500 0.0500 0.0500 0.0500 0.0500 0.0500 0.0500 0.0500 0.0500 0.0500 0.0500 0.0500 0.0500 0.0600 0.0600 </heave>\n",
      "\t\t\t<roll noScans=\"176\" startTimeRel2TRG=\"-0.498\" scanInterval=\"0.010\" notation=\"decimal\" unit=\"rad\">1.727876e-002 1.727876e-002 1.710423e-002 1.727876e-002 1.710423e-002 1.710423e-002 1.710423e-002 1.710423e-002 1.710423e-002 1.710423e-002 1.710423e-002 1.710423e-002 1.710423e-002 1.710423e-002 1.710423e-002 1.710423e-002 1.710423e-002 1.710423e-002 0 1.710423e-002 1.710423e-002 1.710423e-002 1.710423e-002 1.710423e-002 1.692969e-002 1.692969e-002 1.710423e-002 1.692969e-002 1.692969e-002 1.692969e-002 1.692969e-002 1.692969e-002 1.692969e-002 1.692969e-002 1.692969e-002 1.692969e-002 1.692969e-002 1.692969e-002 1.692969e-002 1.692969e-002 1.692969e-002 1.692969e-002 1.692969e-002 1.692969e-002 1.692969e-002 1.692969e-002 1.692969e-002 0 1.692969e-002 1.692969e-002 1.692969e-002 1.692969e-002 1.692969e-002 1.692969e-002 1.692969e-002 1.692969e-002 1.692969e-002 1.692969e-002 1.692969e-002 1.692969e-002 1.692969e-002 1.692969e-002 1.692969e-002 1.692969e-002 1.692969e-002 1.692969e-002 1.692969e-002 1.692969e-002 1.692969e-002 1.692969e-002 1.692969e-002 1.692969e-002 1.692969e-002 1.692969e-002 1.692969e-002 1.692969e-002 1.710423e-002 1.692969e-002 1.710423e-002 1.710423e-002 1.692969e-002 1.710423e-002 1.710423e-002 1.710423e-002 1.710423e-002 1.710423e-002 1.710423e-002 1.710423e-002 1.710423e-002 1.710423e-002 1.710423e-002 1.710423e-002 1.710423e-002 1.710423e-002 1.710423e-002 1.710423e-002 1.710423e-002 1.710423e-002 1.710423e-002 1.710423e-002 1.710423e-002 1.727876e-002 1.727876e-002 1.710423e-002 1.727876e-002 1.727876e-002 1.727876e-002 1.727876e-002 1.727876e-002 1.727876e-002 1.727876e-002 1.727876e-002 1.727876e-002 1.727876e-002 0 1.727876e-002 1.745329e-002 1.727876e-002 1.745329e-002 1.745329e-002 1.745329e-002 1.745329e-002 1.745329e-002 1.745329e-002 1.745329e-002 1.745329e-002 1.745329e-002 1.762782e-002 1.762782e-002 1.745329e-002 1.762782e-002 1.762782e-002 1.762782e-002 1.762782e-002 0 1.762782e-002 1.762782e-002 1.762782e-002 1.762782e-002 1.780236e-002 1.762782e-002 1.780236e-002 1.780236e-002 1.780236e-002 1.780236e-002 1.780236e-002 1.780236e-002 1.797689e-002 1.780236e-002 1.780236e-002 1.797689e-002 1.797689e-002 1.797689e-002 1.797689e-002 1.797689e-002 1.797689e-002 1.797689e-002 1.797689e-002 1.815142e-002 1.815142e-002 1.815142e-002 1.815142e-002 1.815142e-002 1.815142e-002 1.832596e-002 1.832596e-002 1.815142e-002 1.832596e-002 1.832596e-002 1.832596e-002 1.832596e-002 1.832596e-002 1.832596e-002 1.850049e-002 1.850049e-002 1.850049e-002 </roll>\n",
      "\t\t\t<pitch noScans=\"176\" startTimeRel2TRG=\"-0.498\" scanInterval=\"0.010\" notation=\"decimal\" unit=\"rad\">8.377580e-003 8.377580e-003 8.377580e-003 8.377580e-003 8.377580e-003 8.377580e-003 8.377580e-003 8.377580e-003 8.377580e-003 8.377580e-003 8.377580e-003 8.377580e-003 8.203047e-003 8.203047e-003 8.203047e-003 8.203047e-003 8.203047e-003 8.203047e-003 0 8.203047e-003 8.203047e-003 8.203047e-003 8.203047e-003 8.203047e-003 8.028513e-003 8.028513e-003 8.028513e-003 8.028513e-003 8.028513e-003 8.028513e-003 8.028513e-003 8.028513e-003 8.028513e-003 8.028513e-003 8.028513e-003 7.853981e-003 7.853981e-003 7.853981e-003 7.853981e-003 7.853981e-003 7.853981e-003 7.853981e-003 7.853981e-003 7.853981e-003 7.853981e-003 7.679448e-003 7.679448e-003 0 7.679448e-003 7.679448e-003 7.679448e-003 7.679448e-003 7.679448e-003 7.679448e-003 7.504915e-003 7.504915e-003 7.504915e-003 7.504915e-003 7.504915e-003 7.504915e-003 7.504915e-003 7.504915e-003 7.504915e-003 7.330383e-003 7.330383e-003 7.330383e-003 7.330383e-003 7.330383e-003 7.330383e-003 7.330383e-003 7.330383e-003 7.155849e-003 7.155849e-003 7.155849e-003 7.155849e-003 7.155849e-003 7.155849e-003 7.155849e-003 7.155849e-003 6.981316e-003 6.981316e-003 6.981316e-003 6.981316e-003 6.981316e-003 6.981316e-003 6.981316e-003 6.981316e-003 6.806784e-003 6.806784e-003 6.806784e-003 6.806784e-003 6.806784e-003 6.806784e-003 6.632250e-003 6.632250e-003 6.632250e-003 6.632250e-003 6.632250e-003 6.632250e-003 6.632250e-003 6.457717e-003 6.457717e-003 6.457717e-003 6.457717e-003 6.457717e-003 6.457717e-003 6.457717e-003 6.457717e-003 6.283185e-003 6.283185e-003 6.283185e-003 6.283185e-003 6.283185e-003 6.283185e-003 0 6.283185e-003 6.108651e-003 6.108651e-003 6.108651e-003 6.108651e-003 6.108651e-003 6.108651e-003 5.934119e-003 5.934119e-003 5.934119e-003 5.934119e-003 5.934119e-003 5.934119e-003 5.934119e-003 5.934119e-003 5.759586e-003 5.759586e-003 5.759586e-003 5.759586e-003 0 5.759586e-003 5.759586e-003 5.585053e-003 5.585053e-003 5.585053e-003 5.585053e-003 5.585053e-003 5.585053e-003 5.585053e-003 5.410521e-003 5.410521e-003 5.410521e-003 5.410521e-003 5.410521e-003 5.410521e-003 5.410521e-003 5.410521e-003 5.410521e-003 5.235987e-003 5.235987e-003 5.235987e-003 5.235987e-003 5.235987e-003 5.235987e-003 5.235987e-003 5.235987e-003 5.235987e-003 5.061454e-003 5.061454e-003 5.061454e-003 5.061454e-003 5.061454e-003 5.061454e-003 5.061454e-003 5.061454e-003 5.061454e-003 4.886922e-003 4.886922e-003 4.886922e-003 4.886922e-003 4.886922e-003 </pitch>\n",
      "\t\t</motionData>\n",
      "\t\t<headingData>\n",
      "\t\t\t<timeTagOffset noItems=\"17\">-0.407 -0.307 -0.206 -0.107 -0.007 0.093 0.193 0.293 0.393 0.593 0.693 0.794 0.893 0.993 1.093 1.193 1.293 </timeTagOffset>\n",
      "\t\t\t<quality noItems=\"17\" allPlausible=\"true\">p p p p p p p p p p p p p p p p p </quality>\n",
      "\t\t\t<heading noItems=\"17\">4.049164e-001 4.049164e-001 4.049164e-001 4.049164e-001 4.049164e-001 4.049164e-001 4.049164e-001 4.049164e-001 4.049164e-001 4.049164e-001 4.049164e-001 4.049164e-001 4.049164e-001 4.031711e-001 4.031711e-001 4.031711e-001 4.031711e-001 </heading>\n",
      "\t\t</headingData>\n",
      "\t\t<positionData name=\"NMEA Std GPS\" xOffset=\"0.000\" yOffset=\"0.000\" zOffset=\"0.000\" latency=\"0.000\" quality=\"0\">\n",
      "\t\t\t<timeTagOffset noItems=\"1\">-1.031 </timeTagOffset>\n",
      "\t\t\t<quality noItems=\"1\" allPlausible=\"true\">p </quality>\n",
      "\t\t\t<lat noItems=\"1\">9.582172e-001 </lat>\n",
      "\t\t\t<lon noItems=\"1\">3.461635e-001 </lon>\n",
      "\t\t</positionData>\n",
      "\t\t<speedCourseData name=\"NMEA Std GPS\" xOffset=\"0.000\" yOffset=\"0.000\" zOffset=\"0.000\">\n",
      "\t\t\t<timeTagOffset noItems=\"1\">-0.091 </timeTagOffset>\n",
      "\t\t\t<quality noItems=\"1\" allPlausible=\"true\">p </quality>\n",
      "\t\t\t<cog noItems=\"1\">4.171337e-001 </cog>\n",
      "\t\t\t<sog noItems=\"1\">2.50 </sog>\n",
      "\t\t</speedCourseData>\n",
      "\t\t<depthData name=\"PS3\">\n",
      "\t\t\t<timeTagOffset noItems=\"1\">0.300 </timeTagOffset>\n",
      "\t\t\t<quality noItems=\"1\" allPlausible=\"true\">p </quality>\n",
      "\t\t\t<depth noItems=\"1\">32.54 </depth>\n",
      "\t\t</depthData>\n",
      "\t\t<depthData name=\"PS3_LF\">\n",
      "\t\t\t<timeTagOffset noItems=\"1\">0.000 </timeTagOffset>\n",
      "\t\t\t<quality noItems=\"1\" allPlausible=\"true\">p </quality>\n",
      "\t\t\t<depth noItems=\"1\">33.10 </depth>\n",
      "\t\t</depthData>\n",
      "\t\t<depthData name=\"manual\">\n",
      "\t\t\t<timeTagOffset noItems=\"1\">0 </timeTagOffset>\n",
      "\t\t\t<quality noItems=\"1\" allPlausible=\"true\">p </quality>\n",
      "\t\t\t<depth noItems=\"1\">1e+002 </depth>\n",
      "\t\t</depthData>\n",
      "\t</auxData>\n",
      "\t<ps3 boMode=\"1\" boModeName=\"P-SBP-SBES_ShallowWater_Petrov\">\n",
      "\t\t<ctrlSettings min=\"10\" max=\"50\" trackingWinMode=\"fixed (min/max)\" penetration=\"100\"/>\n",
      "\t\t<draughtSettings source=\"manual\"/>\n",
      "\t\t<txSeqSettings mode=\"single pulse\"/>\n",
      "\t\t<srcLevelSettings mode=\"power\" txPowerMan=\"75.000000\"/>\n",
      "\t\t<trgSettings trgMode=\"auto\"/>\n",
      "\t\t<pulseLenSettings mode=\"manual\" lengthMan=\"0.000500\"/>\n",
      "\t\t<pulseShapeSettings mode=\"rectangular\"></pulseShapeSettings>\n",
      "\t\t<carrierFreqSettings reqPhf=\"21000\" reqSlf=\"2000\"/>\n",
      "\t\t<beamSteeringSettings mode=\"stabilized-hdg\" rollSteering=\"0.000000\" pitchSteering=\"0.000000\"/>\n",
      "\t\t<txBeamWidthSettings mode=\"manual\"/>\n",
      "\t\t<rxBeamWidthSettings mode=\"manual\"/>\n",
      "\t\t<rxBandWidthSettings mode=\"manual\"/>\n",
      "\t\t<rxAmplSettings mode=\"manual\" gain=\"0.000000\" gainShift=\"20.000000\"/>\n",
      "\t\t<depthSrcSettings source=\"PS3\"/>\n",
      "\t\t<cSrcSettings cKeelSource=\"system\" cMeanSource=\"system profile\"/>\n",
      "\t\t<profileSettings mode=\"full\"/>\n",
      "\t\t<targetSettings waterColumnTargetsOn=\"false\" pulseCorrelationOn=\"false\" targetTpeSel=\"no\" targetTpeOn=\"false\" targetTpeLimit=\"2\"/>\n",
      "\t</ps3>\n",
      "\t<general cMean=\"1477.667970\" cKeel=\"1483.400024\" draught=\"5.760000\" isDraughtCorrected=\"false\">\n",
      "\t\t<adc ADCSampleRate=\"97656\" ADCScaleFactor=\"9.183600e-005\" ADCRangeMin=\"-2147483648\" ADCRangeMax=\"2147483647\"/>\n",
      "\t</general>\n",
      "\t<sounding identNo=\"477280\" time=\"2021-09-17T11:03:50\" timeTRG=\"1631876630.058355\" freqType=\"SLF\" noHardBeams=\"1\" noAmplitudes=\"1\" overdrive=\"false\">\n",
      "\t\t<tx noPulses=\"1\" heaveCorrection=\"0\" voltage=\"139.000000\" dutyCycle=\"0.896000\" srcLevel=\"244.050656\">\n",
      "\t\t\t<pulse timeRel2TRG=\"0.004000\" length=\"0.001500\" type=\"chirp\" shape=\"Rectangular.shp\" phf=\"21000\" slf=\"2000\" shf=\"44000\" freqShift=\"2034\" shading=\"1\">\n",
      "\t\t\t\t<direction abs=\"false\" N=\"0.000000\" E=\"0.000000\" D=\"1.000000\"/>\n",
      "\t\t\t</pulse>\n",
      "\t\t</tx>\n",
      "\t\t<rx signalCarrierFreq=\"0\" gain=\"0.000000\" sampleRate=\"12207.000000\" bandwidth=\"2034\" spreadingLoss=\"0.000000\" absorption=\"0.000000\">\n",
      "\t\t</rx>\n",
      "\t\t<targets noTargets=\"1\" noBottomTargets=\"1\" noRayTracedTargets=\"0\" noRayTracedBottomTargets=\"0\">\n",
      "\t\t\t<target time=\"1631876630.062355\" index=\"0\" pulseCorrelationOn=\"true\" dist=\"0.037023\" type=\"BOTTOM\" ampl=\"0.804690\" ampldB=\"-9.85\" snRatio=\"9.12\" class=\"very-credible\">\n",
      "\t\t\t\t<dir abs=\"false\" N=\"0.000000\" E=\"0.000000\" D=\"1.000000\"/>\n",
      "\t\t\t</target>\n",
      "\t\t</targets>\n",
      "\t\t<profiles subIdentNo=\"0\" shading=\"1\" pulseNoRef=\"1\" pulseCorrelationOn=\"true\" bandwidth=\"2034\">\n",
      "\t\t\t<direction abs=\"false\" N=\"0.000000\" E=\"0.000000\" D=\"1.000000\"/>\n",
      "\t\t<amplitudes noScans=\"1956\" startTimeRel2TRG=\"0.014090\" scanInterval=\"8.192021e-005\" notation=\"binary-complex\"/>\n",
      "\t\t</profiles>\n",
      "\t</sounding>\n",
      "\t<sounding identNo=\"477440\" time=\"2021-09-17T11:03:50\" timeTRG=\"1631876630.358358\" freqType=\"SLF\" noHardBeams=\"1\" noAmplitudes=\"1\" overdrive=\"false\">\n",
      "\t\t<tx noPulses=\"1\" heaveCorrection=\"0\" voltage=\"139.000000\" dutyCycle=\"0.896000\" srcLevel=\"244.050656\">\n",
      "\t\t\t<pulse timeRel2TRG=\"0.004000\" length=\"0.001500\" type=\"chirp\" shape=\"Rectangular.shp\" phf=\"21000\" slf=\"2000\" shf=\"44000\" freqShift=\"2034\" shading=\"1\">\n",
      "\t\t\t\t<direction abs=\"false\" N=\"0.000000\" E=\"0.000000\" D=\"1.000000\"/>\n",
      "\t\t\t</pulse>\n",
      "\t\t</tx>\n",
      "\t\t<rx signalCarrierFreq=\"0\" gain=\"0.000000\" sampleRate=\"12207.000000\" bandwidth=\"2034\" spreadingLoss=\"0.000000\" absorption=\"0.000000\">\n",
      "\t\t</rx>\n",
      "\t\t<targets noTargets=\"0\" noBottomTargets=\"0\" noRayTracedTargets=\"0\" noRayTracedBottomTargets=\"0\"/>\n",
      "\t\t<profiles subIdentNo=\"0\" shading=\"1\" pulseNoRef=\"1\" pulseCorrelationOn=\"true\" bandwidth=\"2034\">\n",
      "\t\t\t<direction abs=\"false\" N=\"0.000000\" E=\"0.000000\" D=\"1.000000\"/>\n",
      "\t\t<amplitudes noScans=\"1956\" startTimeRel2TRG=\"0.014090\" scanInterval=\"8.192021e-005\" notation=\"binary-complex\"/>\n",
      "\t\t</profiles>\n",
      "\t</sounding>\n",
      "\t<sounding identNo=\"477600\" time=\"2021-09-17T11:03:50\" timeTRG=\"1631876630.658361\" freqType=\"SLF\" noHardBeams=\"1\" noAmplitudes=\"1\" overdrive=\"false\">\n",
      "\t\t<tx noPulses=\"1\" heaveCorrection=\"0\" voltage=\"139.000000\" dutyCycle=\"0.896000\" srcLevel=\"244.050656\">\n",
      "\t\t\t<pulse timeRel2TRG=\"0.004000\" length=\"0.001500\" type=\"chirp\" shape=\"Rectangular.shp\" phf=\"21000\" slf=\"2000\" shf=\"44000\" freqShift=\"2034\" shading=\"1\">\n",
      "\t\t\t\t<direction abs=\"false\" N=\"0.000000\" E=\"0.000000\" D=\"1.000000\"/>\n",
      "\t\t\t</pulse>\n",
      "\t\t</tx>\n",
      "\t\t<rx signalCarrierFreq=\"0\" gain=\"0.000000\" sampleRate=\"12207.000000\" bandwidth=\"2034\" spreadingLoss=\"0.000000\" absorption=\"0.000000\">\n",
      "\t\t</rx>\n",
      "\t\t<targets noTargets=\"0\" noBottomTargets=\"0\" noRayTracedTargets=\"0\" noRayTracedBottomTargets=\"0\"/>\n",
      "\t\t<profiles subIdentNo=\"0\" shading=\"1\" pulseNoRef=\"1\" pulseCorrelationOn=\"true\" bandwidth=\"2034\">\n",
      "\t\t\t<direction abs=\"false\" N=\"0.000000\" E=\"0.000000\" D=\"1.000000\"/>\n",
      "\t\t<amplitudes noScans=\"1956\" startTimeRel2TRG=\"0.014090\" scanInterval=\"8.192021e-005\" notation=\"binary-complex\"/>\n",
      "\t\t</profiles>\n",
      "\t</sounding>\n",
      "\t<sounding identNo=\"477760\" time=\"2021-09-17T11:03:50\" timeTRG=\"1631876630.958361\" freqType=\"SLF\" noHardBeams=\"1\" noAmplitudes=\"1\" overdrive=\"false\">\n",
      "\t\t<tx noPulses=\"1\" heaveCorrection=\"0\" voltage=\"139.000000\" dutyCycle=\"0.896000\" srcLevel=\"244.050656\">\n",
      "\t\t\t<pulse timeRel2TRG=\"0.004000\" length=\"0.001500\" type=\"chirp\" shape=\"Rectangular.shp\" phf=\"21000\" slf=\"2000\" shf=\"44000\" freqShift=\"2034\" shading=\"1\">\n",
      "\t\t\t\t<direction abs=\"false\" N=\"0.000000\" E=\"0.000000\" D=\"1.000000\"/>\n",
      "\t\t\t</pulse>\n",
      "\t\t</tx>\n",
      "\t\t<rx signalCarrierFreq=\"0\" gain=\"0.000000\" sampleRate=\"12207.000000\" bandwidth=\"2034\" spreadingLoss=\"0.000000\" absorption=\"0.000000\">\n",
      "\t\t</rx>\n",
      "\t\t<targets noTargets=\"1\" noBottomTargets=\"1\" noRayTracedTargets=\"0\" noRayTracedBottomTargets=\"0\">\n",
      "\t\t\t<target time=\"1631876630.962361\" index=\"0\" pulseCorrelationOn=\"true\" dist=\"0.036765\" type=\"BOTTOM\" ampl=\"0.504162\" ampldB=\"-13.91\" snRatio=\"7.13\" class=\"very-credible\">\n",
      "\t\t\t\t<dir abs=\"false\" N=\"0.000000\" E=\"0.000000\" D=\"1.000000\"/>\n",
      "\t\t\t</target>\n",
      "\t\t</targets>\n",
      "\t\t<profiles subIdentNo=\"0\" shading=\"1\" pulseNoRef=\"1\" pulseCorrelationOn=\"true\" bandwidth=\"2034\">\n",
      "\t\t\t<direction abs=\"false\" N=\"0.000000\" E=\"0.000000\" D=\"1.000000\"/>\n",
      "\t\t<amplitudes noScans=\"1956\" startTimeRel2TRG=\"0.014090\" scanInterval=\"8.192021e-005\" notation=\"binary-complex\"/>\n",
      "\t\t</profiles>\n",
      "\t</sounding>\n",
      "</soundings>\n",
      "\n"
     ]
    }
   ],
   "source": [
    "print(am)"
   ]
  },
  {
   "cell_type": "code",
   "execution_count": 7,
   "metadata": {},
   "outputs": [],
   "source": [
    "\n",
    "def _util_gen_elements(fields, names):\n",
    "    results = []\n",
    "    name_index = 0\n",
    "    for field in fields:\n",
    "        part_a, part_b, *_ = field\n",
    "        if part_a is None:\n",
    "            results.append(tuple([None, part_b]))\n",
    "        else:\n",
    "            results.append(tuple([names[name_index], part_a]))\n",
    "            name_index += 1\n",
    "    return results\n",
    "\n",
    "_ElementTypes = namedtuple(\n",
    "    \"_ElementTypes\",\n",
    "    [\n",
    "        # These are the canonical names of low-level element types:\n",
    "        \"c8\",\n",
    "        \"i8\",\n",
    "        \"u8\",  # 3 int types of 1 byte\n",
    "        \"i16\",\n",
    "        \"u16\",  # 2 int types of 2 bytes\n",
    "        \"i32\",\n",
    "        \"u32\",  # 2 int types of 4 bytes\n",
    "        \"i64\",\n",
    "        \"u64\",  # 2 int types of 8 bytes\n",
    "        \"f32\",  # 1 float type of 4 bytes\n",
    "        \"f64\",  # 1 float type of 4 bytes\n",
    "    ],\n",
    ")\n",
    "elemT = _ElementTypes(**dict(zip(_ElementTypes._fields, _ElementTypes._fields)))\n",
    "\n",
    "def elemD_(name: str, fmt: str, count=1):\n",
    "    return (name, (fmt, count))\n",
    "\n",
    "map_size_to_fmt = dict(\n",
    "    (\n",
    "        (elemT.c8, (\"c\", \"B\", 1)),\n",
    "        (elemT.i8, (\"b\", \"b\", 1)),\n",
    "        (elemT.u8, (\"B\", \"u1\", 1)),\n",
    "        (elemT.i16, (\"h\", \"i2\", 2)),\n",
    "        (elemT.u16, (\"H\", \"u2\", 2)),\n",
    "        (elemT.i32, (\"i\", \"i4\", 4)),\n",
    "        (elemT.u32, (\"I\", \"u4\", 4)),\n",
    "        (elemT.i64, (\"q\", \"i8\", 8)),\n",
    "        (elemT.u64, (\"Q\", \"u8\", 8)),\n",
    "        (elemT.f32, (\"f\", \"f4\", 4)),\n",
    "        (elemT.f64, (\"d\", \"f8\", 8)),\n",
    "    )\n",
    ")\n",
    "\n",
    "# _byte_order_fmt = \"<\" # Little Endian\n",
    "_byte_order_fmt = \">\" # Big Endian\n",
    "\n",
    "class ASDXMLHeader:\n",
    "    \n",
    "    def __init__(self):\n",
    "        pass\n",
    "\n",
    "class ASDDataBlock:\n",
    "    \n",
    "    def __init__(self):\n",
    "        pass"
   ]
  },
  {
   "cell_type": "code",
   "execution_count": 49,
   "metadata": {},
   "outputs": [],
   "source": []
  },
  {
   "cell_type": "code",
   "execution_count": 54,
   "metadata": {},
   "outputs": [
    {
     "data": {
      "text/plain": [
       "{'c8': ('c', 'B', 1),\n",
       " 'i8': ('b', 'b', 1),\n",
       " 'u8': ('B', 'u1', 1),\n",
       " 'i16': ('h', 'i2', 2),\n",
       " 'u16': ('H', 'u2', 2),\n",
       " 'i32': ('i', 'i4', 4),\n",
       " 'u32': ('I', 'u4', 4),\n",
       " 'i64': ('q', 'i8', 8),\n",
       " 'u64': ('Q', 'u8', 8),\n",
       " 'f32': ('f', 'f4', 4),\n",
       " 'f64': ('d', 'f8', 8)}"
      ]
     },
     "execution_count": 54,
     "metadata": {},
     "output_type": "execute_result"
    }
   ],
   "source": [
    "map_size_to_fmt"
   ]
  },
  {
   "cell_type": "code",
   "execution_count": 53,
   "metadata": {},
   "outputs": [
    {
     "data": {
      "text/plain": [
       "{'c8': 'c8',\n",
       " 'i8': 'i8',\n",
       " 'u8': 'u8',\n",
       " 'i16': 'i16',\n",
       " 'u16': 'u16',\n",
       " 'i32': 'i32',\n",
       " 'u32': 'u32',\n",
       " 'i64': 'i64',\n",
       " 'u64': 'u64',\n",
       " 'f32': 'f32',\n",
       " 'f64': 'f64'}"
      ]
     },
     "execution_count": 53,
     "metadata": {},
     "output_type": "execute_result"
    }
   ],
   "source": []
  },
  {
   "cell_type": "code",
   "execution_count": 8,
   "metadata": {},
   "outputs": [
    {
     "name": "stdout",
     "output_type": "stream",
     "text": [
      "(b'\\xff\\xff\\xff\\xff',)\n",
      "(0, 32)\n",
      "(0, 8)\n",
      "(1956,)\n",
      "(b'0101',)\n",
      "(b' SLF',)\n",
      "(b'00477280',)\n",
      "(0,)\n",
      "(1,)\n"
     ]
    }
   ],
   "source": [
    "import struct\n",
    "# Decode Binary Header part\n",
    "# 32 Bytes\n",
    "\n",
    "# 0 ... 3: Binary Header Separator\n",
    "bin_sep = struct.Struct('>4s')\n",
    "bin_separator = bin_sep.unpack(buffer[start:start+bin_sep.size])\n",
    "start_next = start + bin_sep.size\n",
    "print(bin_separator)\n",
    "\n",
    "# 4 ... 5 Header Length (32 Byte)\n",
    "head_len = struct.Struct('>2b')\n",
    "head_length = head_len.unpack(buffer[start_next:start_next+head_len.size])\n",
    "start_next = start_next + head_len.size\n",
    "print(head_length)\n",
    "\n",
    "# 6 ... 7 Byter Per Sample\n",
    "b_per_sample = struct.Struct('>h')\n",
    "bytes_per_sample = head_len.unpack(buffer[start_next:start_next+b_per_sample.size])\n",
    "start_next = start_next + b_per_sample.size\n",
    "print(bytes_per_sample)\n",
    "\n",
    "# 8 ... 11 Number of Samples (h=0..F)\n",
    "num_sample = struct.Struct('>I')\n",
    "number_samples = num_sample.unpack(buffer[start_next:start_next+num_sample.size])\n",
    "# number_of_samples = int.from_bytes(number_samples[0], byteorder='big')\n",
    "start_next = start_next + num_sample.size\n",
    "print(number_samples)\n",
    "\n",
    "# 12 ... 15 Header Version (0100 for Version 1.0)\n",
    "h_ver = struct.Struct('>4s')\n",
    "header_version = h_ver.unpack(buffer[start_next:start_next+h_ver.size])\n",
    "start_next = start_next + h_ver.size\n",
    "print(header_version)\n",
    "\n",
    "# 16 ... 19 Data Type, e.g. _PAR/_PLF etc (_ is a space; 0x20)\n",
    "d_type = struct.Struct('>4s')\n",
    "data_type = d_type.unpack(buffer[start_next:start_next+d_type.size])\n",
    "start_next = start_next + d_type.size\n",
    "print(data_type)\n",
    "\n",
    "# 20 ... 27 Ident Number (resp. # see below)\n",
    "ident_num = struct.Struct('>8s')\n",
    "ident_number = ident_num.unpack(buffer[start_next:start_next+ident_num.size])\n",
    "start_next = start_next + ident_num.size\n",
    "print(ident_number)\n",
    "\n",
    "# 28 ... 29 Subsident Number (vers. 1.1)\n",
    "subsid_num = struct.Struct('>H')\n",
    "subsident_num = subsid_num.unpack(buffer[start_next:start_next+subsid_num.size])\n",
    "start_next = start_next + subsid_num.size\n",
    "print(subsident_num)\n",
    "# 30 ... 31 Flags 0..15; 0 - Complex Sample, 1 - Polar Coordinates, 2..15 - Reserve\n",
    "# 0000 - real nums, 0001 - complex numbers with real and imaginary part\n",
    "fl = struct.Struct('>H')\n",
    "flags = fl.unpack(buffer[start_next:start_next+fl.size])\n",
    "start_next = start_next + fl.size\n",
    "print(flags)\n"
   ]
  },
  {
   "cell_type": "code",
   "execution_count": 61,
   "metadata": {},
   "outputs": [],
   "source": [
    "start_next2 = start_next\n",
    "noScans=1956 \n",
    "startTimeRel2TRG=0.014090 \n",
    "scanInterval=8.192021e-005\n",
    "\n",
    "real = []\n",
    "imag = []\n",
    "complex = []\n",
    "times = []\n",
    "# Data. Each sample - 8 bytes\n",
    "samp = struct.Struct('>2l')\n",
    "\n",
    "for i in range(noScans):\n",
    "    sample = samp.unpack(buffer[start_next2:start_next2+samp.size])\n",
    "    start_next2 = start_next2 + samp.size\n",
    "    real.append(sample[1])\n",
    "    imag.append(sample[0])\n",
    "    # complex.append(sample[0])\n",
    "    \n",
    "    \n",
    "    sample_time = scanInterval*i\n",
    "        \n",
    "    times.append(sample_time)\n",
    "\n",
    "\n"
   ]
  },
  {
   "cell_type": "code",
   "execution_count": 40,
   "metadata": {},
   "outputs": [
    {
     "data": {
      "text/plain": [
       "1956"
      ]
     },
     "execution_count": 40,
     "metadata": {},
     "output_type": "execute_result"
    }
   ],
   "source": [
    "len(real)"
   ]
  },
  {
   "cell_type": "code",
   "execution_count": 74,
   "metadata": {},
   "outputs": [],
   "source": [
    "complex = (np.array(real) + np.array(imag)).T"
   ]
  },
  {
   "cell_type": "code",
   "execution_count": 70,
   "metadata": {},
   "outputs": [],
   "source": [
    "times2 = np.array(times)*-1"
   ]
  },
  {
   "cell_type": "code",
   "execution_count": 71,
   "metadata": {},
   "outputs": [
    {
     "data": {
      "text/plain": [
       "array([-0.00000000e+00, -8.19202100e-05, -1.63840420e-04, ...,\n",
       "       -1.59990170e-01, -1.60072090e-01, -1.60154011e-01])"
      ]
     },
     "execution_count": 71,
     "metadata": {},
     "output_type": "execute_result"
    }
   ],
   "source": [
    "times2"
   ]
  },
  {
   "cell_type": "code",
   "execution_count": 76,
   "metadata": {},
   "outputs": [
    {
     "data": {
      "image/png": "[encoded data removed]",
      "text/plain": [
       "<Figure size 640x480 with 1 Axes>"
      ]
     },
     "metadata": {},
     "output_type": "display_data"
    }
   ],
   "source": [
    "# import libraries\n",
    "import matplotlib.pyplot as plt\n",
    "import numpy as np\n",
    "  \n",
    "# create data of complex numbers using numpy\n",
    "data = np.arange(8) + 1j*np.arange(-4, 4)\n",
    "  \n",
    "# extract real part using numpy\n",
    "x = real\n",
    "# extract imaginary part using numpy\n",
    "y = imag\n",
    "  \n",
    "# plot the complex numbers\n",
    "plt.plot(complex, times)\n",
    "plt.ylabel('Imaginary')\n",
    "plt.xlabel('Real')\n",
    "plt.show()"
   ]
  },
  {
   "cell_type": "code",
   "execution_count": 43,
   "metadata": {},
   "outputs": [],
   "source": [
    "import segyio"
   ]
  },
  {
   "cell_type": "code",
   "execution_count": 44,
   "metadata": {},
   "outputs": [],
   "source": [
    "def create_segy(path, spec):\n",
    "    with segyio.create(path, spec) as f1:\n",
    "        pass\n",
    "    \n",
    "def create_spec():\n",
    "    pass"
   ]
  },
  {
   "cell_type": "code",
   "execution_count": 45,
   "metadata": {},
   "outputs": [],
   "source": [
    "spec = segyio.spec()"
   ]
  },
  {
   "cell_type": "code",
   "execution_count": 17,
   "metadata": {},
   "outputs": [
    {
     "data": {
      "text/plain": [
       "0"
      ]
     },
     "execution_count": 17,
     "metadata": {},
     "output_type": "execute_result"
    }
   ],
   "source": [
    "spec.ext_headers"
   ]
  },
  {
   "cell_type": "code",
   "execution_count": 46,
   "metadata": {},
   "outputs": [],
   "source": [
    "complex = np.array(real) + np.array(imag)"
   ]
  },
  {
   "cell_type": "code",
   "execution_count": 47,
   "metadata": {},
   "outputs": [],
   "source": [
    "complex_2D = complex.reshape((1,len(complex)))"
   ]
  },
  {
   "cell_type": "code",
   "execution_count": 26,
   "metadata": {},
   "outputs": [
    {
     "data": {
      "text/plain": [
       "array([nan, nan, nan, ..., nan, nan, nan])"
      ]
     },
     "execution_count": 26,
     "metadata": {},
     "output_type": "execute_result"
    }
   ],
   "source": [
    "complex_2D[0,:]"
   ]
  },
  {
   "cell_type": "code",
   "execution_count": 48,
   "metadata": {},
   "outputs": [],
   "source": [
    "noScans=1956 \n",
    "startTimeRel2TRG=0.014090 \n",
    "scanInterval=8.192021e-005"
   ]
  },
  {
   "cell_type": "code",
   "execution_count": 28,
   "metadata": {},
   "outputs": [
    {
     "data": {
      "text/plain": [
       "0.08192021000000001"
      ]
     },
     "execution_count": 28,
     "metadata": {},
     "output_type": "execute_result"
    }
   ],
   "source": [
    "scanInterval*1000"
   ]
  },
  {
   "cell_type": "code",
   "execution_count": 49,
   "metadata": {},
   "outputs": [
    {
     "name": "stderr",
     "output_type": "stream",
     "text": [
      "c:\\prog\\anaconda3\\envs\\venv_id1054\\lib\\site-packages\\segyio\\utils.py:23: RuntimeWarning: Implicit conversion from int32 to float32 (narrowing)\n",
      "  warnings.warn(msg.format(x.dtype, dtype), RuntimeWarning)\n"
     ]
    }
   ],
   "source": [
    "filepath_segy = r'D:\\InspectingP70Data\\P70_data\\SEB\\PS3SLF_2021-09-17T110351Z_00047728.sgy'\n",
    "\n",
    "segyio.tools.from_array2D(filename=filepath_segy, data=complex_2D, dt=0.125)"
   ]
  },
  {
   "cell_type": "code",
   "execution_count": null,
   "metadata": {},
   "outputs": [],
   "source": []
  }
 ],
 "metadata": {
  "kernelspec": {
   "display_name": "Python 3",
   "language": "python",
   "name": "python3"
  },
  "language_info": {
   "codemirror_mode": {
    "name": "ipython",
    "version": 3
   },
   "file_extension": ".py",
   "mimetype": "text/x-python",
   "name": "python",
   "nbconvert_exporter": "python",
   "pygments_lexer": "ipython3",
   "version": "3.10.10"
  },
  "orig_nbformat": 4
 },
 "nbformat": 4,
 "nbformat_minor": 2
}
