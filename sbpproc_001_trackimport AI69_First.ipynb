{
 "cells": [
  {
   "cell_type": "code",
   "execution_count": 3,
   "metadata": {},
   "outputs": [
    {
     "name": "stdout",
     "output_type": "stream",
     "text": [
      "The autoreload extension is already loaded. To reload it, use:\n",
      "  %reload_ext autoreload\n"
     ]
    }
   ],
   "source": [
    "%load_ext autoreload\n",
    "%autoreload 2\n",
    "\n",
    "import os\n",
    "from filemanager import file_ext_search as fes\n",
    "from dataclasses import dataclass, field\n",
    "import numpy as np\n",
    "import matplotlib.pyplot as plt\n",
    "from scipy import signal\n",
    "\n",
    "from pyproj import Proj, CRS, Transformer\n",
    "from sbp_tools.sbp_track_processing import process_track, save_track_to_radex, save_track, read_segypos\n",
    "\n",
    "crs_wgs84 = CRS.from_epsg(4326)\n",
    "crs_world_mercator = CRS.from_epsg(3395)\n",
    "transformer = Transformer.from_crs(crs_wgs84, crs_world_mercator, always_xy=True)\n",
    "\n",
    "data_path = r'D:\\AI69_Processing\\CONV_SEGY\\p001_NoNavData_NavFixed'\n",
    "# track\n",
    "save_to = r'D:\\AI69_Processing\\SeismicDataAI69_p001_NoNavData_NavFixed.txt'\n",
    "\n",
    "is_utm = False\n",
    "is_arcsec = True\n",
    "coord_scaler = 1\n",
    "smooth = False\n",
    "year_check = False\n",
    "year = 2024\n",
    "\n",
    "is_arcsec = False\n",
    "is_utm = True"
   ]
  },
  {
   "cell_type": "code",
   "execution_count": 4,
   "metadata": {},
   "outputs": [
    {
     "name": "stdout",
     "output_type": "stream",
     "text": [
      "Searching *.txt files in directory:D:\\AI69_Processing\\CONV_SEGY\\p001_NoNavData_NavFixed\n",
      "48\n",
      "File AI6820241028_015617_RAW_LF_WM_rawpos is done 1 of 48\n",
      "File AI6820241028_020618_RAW_LF_WM_rawpos is done 2 of 48\n",
      "File AI6820241028_021441_RAW_LF_WM_rawpos is done 3 of 48\n",
      "File AI6820241028_022418_RAW_LF_WM_rawpos is done 4 of 48\n",
      "File AI6820241028_023419_RAW_LF_WM_rawpos is done 5 of 48\n",
      "File AI6820241028_024419_RAW_LF_WM_rawpos is done 6 of 48\n",
      "File AI6820241028_025419_RAW_LF_WM_rawpos is done 7 of 48\n",
      "File AI6820241028_030420_RAW_LF_WM_rawpos is done 8 of 48\n",
      "File AI6820241028_031420_RAW_LF_WM_rawpos is done 9 of 48\n",
      "File AI6820241028_032421_RAW_LF_WM_rawpos is done 10 of 48\n",
      "File AI6820241028_033421_RAW_LF_WM_rawpos is done 11 of 48\n",
      "File AI6820241028_034422_RAW_LF_WM_rawpos is done 12 of 48\n",
      "File AI6820241028_035422_RAW_LF_WM_rawpos is done 13 of 48\n",
      "File AI6820241028_035911_RAW_LF_WM_rawpos is done 14 of 48\n",
      "File AI6820241028_040912_RAW_LF_WM_rawpos is done 15 of 48\n",
      "File AI6920241028_041729_CH_RAW_LF_WM_rawpos is done 16 of 48\n",
      "File AI6920241028_042731_CH_RAW_LF_WM_rawpos is done 17 of 48\n",
      "File AI6920241028_043732_CH_RAW_LF_WM_rawpos is done 18 of 48\n",
      "File AI6920241028_043733_CH_RAW_LF_WM_rawpos is done 19 of 48\n",
      "File AI6920241028_043756_RAW_LF_WM_rawpos is done 20 of 48\n",
      "File AI6920241028_043920_RAW_LF_WM_rawpos is done 21 of 48\n",
      "File AI6920241028_044921_RAW_LF_WM_rawpos is done 22 of 48\n",
      "File AI6920241028_045922_RAW_LF_WM_rawpos is done 23 of 48\n",
      "File AI6920241028_050923_RAW_LF_WM_rawpos is done 24 of 48\n",
      "File AI6920241028_051924_RAW_LF_WM_rawpos is done 25 of 48\n",
      "File AI6920241028_052814_RAW_LF_WM_rawpos is done 26 of 48\n",
      "File AI6920241028_052900_RAW_LF_WM_rawpos is done 27 of 48\n",
      "File AI6920241028_053251_RAW_LF_WM_rawpos is done 28 of 48\n",
      "File AI6920241028_054252_RAW_LF_WM_rawpos is done 29 of 48\n",
      "File AI6920241028_055137_RAW_LF_WM_rawpos is done 30 of 48\n",
      "File AI6920241028_055139_RAW_LF_WM_rawpos is done 31 of 48\n",
      "File AI6920241028_055148_RAW_LF_WM_rawpos is done 32 of 48\n",
      "File AI6920241028_060149_RAW_LF_WM_rawpos is done 33 of 48\n",
      "File AI6920241028_061150_RAW_LF_WM_rawpos is done 34 of 48\n",
      "File AI6920241028_062151_RAW_LF_WM_rawpos is done 35 of 48\n",
      "File AI6920241028_063152_RAW_LF_WM_rawpos is done 36 of 48\n",
      "File AI6920241028_064153_RAW_LF_WM_rawpos is done 37 of 48\n",
      "File AI6920241028_065155_RAW_LF_WM_rawpos is done 38 of 48\n",
      "File AI6920241028_070156_RAW_LF_WM_rawpos is done 39 of 48\n",
      "File AI6920241028_071157_RAW_LF_WM_rawpos is done 40 of 48\n",
      "File AI6920241028_072158_RAW_LF_WM_rawpos is done 41 of 48\n",
      "File AI6920241028_073159_RAW_LF_WM_rawpos is done 42 of 48\n",
      "File AI6920241028_074200_RAW_LF_WM_rawpos is done 43 of 48\n",
      "File AI6920241028_075201_RAW_LF_WM_rawpos is done 44 of 48\n",
      "File AI6920241028_080203_RAW_LF_WM_rawpos is done 45 of 48\n",
      "File AI6920241028_081204_RAW_LF_WM_rawpos is done 46 of 48\n",
      "File AI6920241028_082205_RAW_LF_WM_rawpos is done 47 of 48\n",
      "File AI6920241028_083322_RAW_LF_WM_rawpos is done 48 of 48\n"
     ]
    }
   ],
   "source": [
    "pos_files = fes.file_ext_search('.txt', data_path, recursive=False)\n",
    "print(len(pos_files))\n",
    "\n",
    "# pos_files_LF = []\n",
    "# pos_files_LF = pos_files\n",
    "\n",
    "# for file in pos_files:\n",
    "#     if 'LF1' in file:\n",
    "#         pos_files_LF.append(file)\n",
    "\n",
    "pos_files_LF = pos_files  \n",
    "    \n",
    "\n",
    "segy_pos_objs = []\n",
    "bad_data_dict = {}\n",
    "fine_data_dict = {}\n",
    "\n",
    "read_segypos(pos_files_LF, fine_data_dict, bad_data_dict, segy_pos_objs, year, utm_coords = is_utm, arcsecs=is_arcsec, coord_scale=coord_scaler)\n",
    "process_track(segy_pos_objs, transformer, window_length=201, smooth=smooth, utm_coords=is_utm)\n",
    "save_track(segy_pos_objs, save_to, smoothed=smooth)\n",
    "# save_track_to_radex(segy_pos_objs)"
   ]
  },
  {
   "cell_type": "markdown",
   "metadata": {},
   "source": [
    "## SORT BY FILESETS"
   ]
  },
  {
   "cell_type": "code",
   "execution_count": 3,
   "metadata": {},
   "outputs": [
    {
     "name": "stdout",
     "output_type": "stream",
     "text": [
      "Searching *.sgy files in directory:D:\\AI69_Processing\\CONV_SEGY\\TEST_NOHEAVE\n"
     ]
    }
   ],
   "source": [
    "from sbp_tools.sbp_fileset_sort import read_sbplog, upd_segy_path, sort_files_by_fset\n",
    "\n",
    "segy_path = r'D:\\AI69_Processing\\CONV_SEGY\\SBP_SORTED'\n",
    "segy_files = fes.file_ext_search('.sgy', segy_path, recursive=False)\n",
    "\n",
    "qgis_log = r'D:\\AI69_Processing\\ai69_sbp_filetrack_wgs84.csv'\n",
    "sbp_files = read_sbplog(qgis_log, 1, -3)\n",
    "\n",
    "upd_segy_path(sbp_files, segy_files)"
   ]
  },
  {
   "cell_type": "code",
   "execution_count": 4,
   "metadata": {},
   "outputs": [
    {
     "data": {
      "text/plain": [
       "[SegyFile(name='AI6920241031_085535_RAW_LF.sgy', fileset='ai69_id022_TransitToPoly02King_Pr', path=''),\n",
       " SegyFile(name='AI6920241029_232608_RAW_LF.sgy', fileset='ai69_id005_ABRPoly01_Pr', path=''),\n",
       " SegyFile(name='AI6920241029_111209_CH_RAW_LF.sgy', fileset='ai69_id001_ABRPoly01_Pr', path=''),\n",
       " SegyFile(name='AI6920241031_092538_RAW_LF.sgy', fileset='ai69_id022_TransitToPoly02King_Pr', path=''),\n",
       " SegyFile(name='AI6920241029_093151_CH_RAW_LF.sgy', fileset='ai69_id001_ABRPoly01_Pr', path=''),\n",
       " SegyFile(name='AI6920241029_053543_CH_RAW_LF.sgy', fileset='ai69_id108_TransitToABR_Pr', path=''),\n",
       " SegyFile(name='AI6920241030_134215_BM_WC15_7kHz_500-1000_RAW_LF.sgy', fileset='ai69_id015_ABRPoly01WC01-26_St', path=''),\n",
       " SegyFile(name='AI6920241029_064109_CH_RAW_LF.sgy', fileset='ai69_id001_ABRPoly01_Pr', path=''),\n",
       " SegyFile(name='AI6920241029_054650_CH_RAW_LF.sgy', fileset='ai69_id108_TransitToABR_Pr', path=''),\n",
       " SegyFile(name='AI6920241029_141003_CH_RAW_LF.sgy', fileset='ai69_id002_ABRPoly01_Pr', path=''),\n",
       " SegyFile(name='AI6920241029_070113_CH_RAW_LF.sgy', fileset='ai69_id001_ABRPoly01_Pr', path=''),\n",
       " SegyFile(name='AI6920241029_042726_CH_RAW_LF.sgy', fileset='ai69_id107_TransitToABRExperiments_Pr', path=''),\n",
       " SegyFile(name='AI6920241031_102545_RAW_LF.sgy', fileset='ai69_id023_TransitToPoly02King_Pr', path=''),\n",
       " SegyFile(name='AI6920241028_225033_RAW_LF.sgy', fileset='ai69_id104_TransitToABR_Pr', path=''),\n",
       " SegyFile(name='AI6920241029_053419_CH_RAW_LF.sgy', fileset='ai69_id107_TransitToABRExperiments_Pr', path=''),\n",
       " SegyFile(name='AI6920241029_130958_CH_RAW_LF.sgy', fileset='ai69_id002_ABRPoly01_Pr', path=''),\n",
       " SegyFile(name='AI6920241030_190832_RAW_LF.sgy', fileset='ai69_id018_ABRPoly01WC_St', path=''),\n",
       " SegyFile(name='AI6920241028_222031_RAW_LF.sgy', fileset='ai69_id104_TransitToABR_Pr', path=''),\n",
       " SegyFile(name='AI6920241031_013348_RAW_LF.sgy', fileset='ai69_id021_ABRPoly01_Pr', path=''),\n",
       " SegyFile(name='AI6920241030_183831_RAW_LF.sgy', fileset='ai69_id018_ABRPoly01WC_St', path='')]"
      ]
     },
     "execution_count": 4,
     "metadata": {},
     "output_type": "execute_result"
    }
   ],
   "source": [
    "sbp_files[0:20]"
   ]
  },
  {
   "cell_type": "code",
   "execution_count": 5,
   "metadata": {},
   "outputs": [],
   "source": [
    "path_sort_to = segy_path\n",
    "sort_files_by_fset(sbp_files, path_sort_to, is_acf=False)"
   ]
  },
  {
   "cell_type": "markdown",
   "metadata": {},
   "source": [
    "## REPLICA"
   ]
  },
  {
   "cell_type": "code",
   "execution_count": 8,
   "metadata": {},
   "outputs": [
    {
     "name": "stdout",
     "output_type": "stream",
     "text": [
      "Searching *.sgy files in directory:D:\\AI69_Processing\\CONV_SEGY\\TEST_NOHEAVE\n"
     ]
    }
   ],
   "source": [
    "@dataclass\n",
    "class SGYFile:\n",
    "    sgy_dir: str\n",
    "    sgy_prof: str\n",
    "    sgy_file: str\n",
    "    sgy_fileproc: str\n",
    "    \n",
    "\n",
    "data_path = r'D:\\AI69_Processing\\CONV_SEGY\\SBP_SORTED'\n",
    "data_path = r'D:\\AI69_Processing\\CONV_SEGY\\TEST_NOHEAVE'\n",
    "save_replica_path = r'D:\\AI69_Processing\\CONV_SEGY'\n",
    "replica_name = r'replica_ai69_NOHEAVE.txt'\n",
    "segy_files = []\n",
    "\n",
    "\n",
    "sgy_files = fes.file_ext_search('.sgy', data_path, recursive=True)\n",
    "\n",
    "for filepath in sgy_files:\n",
    "    sgy_file_name = os.path.splitext(os.path.basename(filepath))[0]\n",
    "    sgy_dir = os.path.dirname(filepath)\n",
    "    sgy_prof = os.path.basename(sgy_dir)\n",
    "    \n",
    "    if '_proc' in sgy_file_name:\n",
    "        pass\n",
    "    else:\n",
    "        segy_files.append(SGYFile(sgy_dir=sgy_dir,\n",
    "                                  sgy_prof=sgy_prof,\n",
    "                                  sgy_file=sgy_file_name,\n",
    "                                  sgy_fileproc=sgy_file_name+'_proc'))\n",
    "        \n",
    "# Replica\n",
    "with open(os.path.join(save_replica_path, replica_name), 'w') as f1:\n",
    "    f1.write('prof_folder\\tprofile\\n')\n",
    "    \n",
    "    prof_dir = {}\n",
    "    \n",
    "    for file in segy_files:\n",
    "        if file.sgy_prof in prof_dir.keys():\n",
    "            pass\n",
    "        else:\n",
    "            prof_dir[file.sgy_prof] = file.sgy_dir\n",
    "        \n",
    "        \n",
    "    keys = sorted(list(prof_dir.keys()))\n",
    "\n",
    "    for prof in keys:    \n",
    "        f1.write(f'{prof_dir[prof]}\\t{prof}\\n')"
   ]
  },
  {
   "cell_type": "code",
   "execution_count": null,
   "metadata": {},
   "outputs": [],
   "source": []
  }
 ],
 "metadata": {
  "kernelspec": {
   "display_name": "id1054",
   "language": "python",
   "name": "python3"
  },
  "language_info": {
   "codemirror_mode": {
    "name": "ipython",
    "version": 3
   },
   "file_extension": ".py",
   "mimetype": "text/x-python",
   "name": "python",
   "nbconvert_exporter": "python",
   "pygments_lexer": "ipython3",
   "version": "3.11.0"
  },
  "orig_nbformat": 4
 },
 "nbformat": 4,
 "nbformat_minor": 2
}
