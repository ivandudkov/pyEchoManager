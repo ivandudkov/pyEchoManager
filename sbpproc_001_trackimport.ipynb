{
 "cells": [
  {
   "cell_type": "code",
   "execution_count": 1,
   "metadata": {},
   "outputs": [],
   "source": [
    "import os\n",
    "from filemanager import file_ext_search as fes\n",
    "from pyproj import Proj, CRS, Transformer\n",
    "from sbp_tools.sbp_track_processing import read_segypos, process_track, save_track, save_track_to_radex\n",
    "\n",
    "crs_wgs84 = CRS.from_epsg(4326)\n",
    "crs_utm35n = CRS.from_epsg(32635)\n",
    "crs_utm34n = CRS.from_epsg(32634)\n",
    "\n",
    "transformer = Transformer.from_crs(crs_wgs84, crs_utm34n, always_xy=True)"
   ]
  },
  {
   "cell_type": "code",
   "execution_count": 2,
   "metadata": {},
   "outputs": [
    {
     "name": "stdout",
     "output_type": "stream",
     "text": [
      "Searching *.rawpos files in directory:C:\\Data\n",
      "385\n",
      "Number of bad lines in abp49_id061_GdDeep_Tr_wgs84utm34n: 88\n",
      "Number of bad lines in abp49_id062_GdDeep_Tr_wgs84utm34n: 30603\n",
      "Number of bad lines in abp49_id071_BaltSlope_Tr_wgs84utm34n: 1747\n",
      "Number of bad lines in abp49_id159_SambNorth_Tr_wgs84utm34n: 10390\n",
      "Number of bad lines in abp49_id160_SambNorth_Tr_wgs84utm34n: 19712\n",
      "Number of bad lines in abp49_id161_SambNorth_Tr_wgs84utm34n: 534\n",
      "Number of bad lines in abp49_id162_SambNorth_Tr_wgs84utm34n: 498\n",
      "Number of bad lines in abp49_id164_SambNorth_Tr_wgs84utm34n: 4619\n",
      "Number of bad lines in abp49_id171_VGProfs_Pr_wgs84utm34n: 4519\n",
      "Number of bad lines in abp49_id173_VGProfs_Pr_wgs84utm34n: 1609\n",
      "Number of bad lines in abp49_id178_VGProfs_Pr_wgs84utm34n: 3112\n",
      "Number of bad lines in abp49_id282_SambNorthPo1_Po_wgs84utm34n: 9215\n",
      "Number of bad lines in abp49_id374_SambNorthPo1_Po_wgs84utm34n: 2004\n"
     ]
    }
   ],
   "source": [
    "data_path = r'C:\\Data'\n",
    "# track\n",
    "save_to = r'H:\\SBP_DATA\\test.txt'\n",
    "\n",
    "is_utm = True\n",
    "year = 2022\n",
    "pos_files = fes.file_ext_search('.rawpos', data_path, recursive=True)\n",
    "print(len(pos_files))\n",
    "\n",
    "segy_pos_objs = []\n",
    "bad_data_dict = {}\n",
    "fine_data_dict = {}\n",
    "\n",
    "read_segypos(pos_files, fine_data_dict, bad_data_dict, segy_pos_objs, year, utm_coords = is_utm)\n",
    "process_track(segy_pos_objs, transformer, window_length=201, smooth=True, utm_coords=is_utm)\n",
    "# save_track(segy_pos_objs, save_to)\n",
    "save_track_to_radex(segy_pos_objs)"
   ]
  },
  {
   "cell_type": "code",
   "execution_count": null,
   "metadata": {},
   "outputs": [],
   "source": []
  }
 ],
 "metadata": {
  "kernelspec": {
   "display_name": "Python 3",
   "language": "python",
   "name": "python3"
  },
  "language_info": {
   "codemirror_mode": {
    "name": "ipython",
    "version": 3
   },
   "file_extension": ".py",
   "mimetype": "text/x-python",
   "name": "python",
   "nbconvert_exporter": "python",
   "pygments_lexer": "ipython3",
   "version": "3.11.0"
  },
  "orig_nbformat": 4
 },
 "nbformat": 4,
 "nbformat_minor": 2
}
