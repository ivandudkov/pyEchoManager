{
 "cells": [
  {
   "cell_type": "code",
   "execution_count": 4,
   "metadata": {},
   "outputs": [],
   "source": [
    "import os\n",
    "from filemanager import file_ext_search as fes\n",
    "from dataclasses import dataclass, field\n",
    "import numpy as np\n",
    "import matplotlib.pyplot as plt\n",
    "from scipy import signal\n",
    "\n",
    "from pyproj import Proj, CRS, Transformer"
   ]
  },
  {
   "cell_type": "code",
   "execution_count": 5,
   "metadata": {},
   "outputs": [],
   "source": [
    "@dataclass\n",
    "class SegyPosFile:\n",
    "    name: str\n",
    "    path: str\n",
    "    fin_traceno: int = 0\n",
    "    datetime: list = field(default_factory=list)\n",
    "    traceno: list = field(default_factory=list)\n",
    "    cdp_x: list = field(default_factory=list)\n",
    "    cdp_x_smoothed: list = field(default_factory=list)\n",
    "    cdp_y_smoothed: list = field(default_factory=list)\n",
    "    cdp_x_cartesian_smoothed: list = field(default_factory=list)\n",
    "    cdp_y_cartesian_smoothed: list = field(default_factory=list)\n",
    "    cdp_y: list = field(default_factory=list)\n",
    "    year: list = field(default_factory=list)\n",
    "    day: list = field(default_factory=list)\n",
    "    hour: list = field(default_factory=list)\n",
    "    minute: list = field(default_factory=list)\n",
    "    second: list = field(default_factory=list)"
   ]
  },
  {
   "cell_type": "code",
   "execution_count": 6,
   "metadata": {},
   "outputs": [],
   "source": [
    "def read_segypos(pos_files, finedict, baddict, posobj_list, year, utm_coords=False):\n",
    "    for pos_file in pos_files:\n",
    "        segy_name = os.path.splitext(os.path.basename(pos_file))[0]\n",
    "        pos_obj = SegyPosFile(name=segy_name, path=pos_file)\n",
    "        \n",
    "        number = 0\n",
    "        has_error = False\n",
    "        was_before = False\n",
    "        \n",
    "        with open(pos_file, 'r') as file1:\n",
    "            file_content = file1.read().splitlines()\n",
    "            \n",
    "            for line in file_content[1:]:\n",
    "                line_content = line.split()\n",
    "\n",
    "crs_wgs84 = CRS.from_epsg(4326)\n",
    "crs_utm35n = CRS.from_epsg(32635)\n",
    "crs_utm34n = CRS.from_epsg(32634)\n",
    "\n",
    "transformer = Transformer.from_crs(crs_wgs84, crs_utm34n, always_xy=True)"
   ]
  },
  {
   "cell_type": "code",
   "execution_count": 8,
   "metadata": {},
   "outputs": [
    {
     "name": "stdout",
     "output_type": "stream",
     "text": [
      "Searching *.txt files in directory:C:\\Data\\ABP56_FZ_UTM35N\\sgy_ps3_SLF_FIXED\n",
      "360\n",
      "Number of bad lines in segy_-0_W2_SLF2406191320_LL_car_pds-coords_rawpos: 38\n"
     ]
    },
    {
     "ename": "IndexError",
     "evalue": "list index out of range",
     "output_type": "error",
     "traceback": [
      "\u001b[1;31m---------------------------------------------------------------------------\u001b[0m",
      "\u001b[1;31mIndexError\u001b[0m                                Traceback (most recent call last)",
      "Cell \u001b[1;32mIn[8], line 24\u001b[0m\n\u001b[0;32m     22\u001b[0m read_segypos(pos_files, fine_data_dict, bad_data_dict, segy_pos_objs, year, utm_coords \u001b[38;5;241m=\u001b[39m is_utm)\n\u001b[0;32m     23\u001b[0m \u001b[38;5;66;03m# process_track(segy_pos_objs, transformer, window_length=201, smooth=False, utm_coords=is_utm)\u001b[39;00m\n\u001b[1;32m---> 24\u001b[0m \u001b[43msave_track\u001b[49m\u001b[43m(\u001b[49m\u001b[43msegy_pos_objs\u001b[49m\u001b[43m,\u001b[49m\u001b[43m \u001b[49m\u001b[43msave_to\u001b[49m\u001b[43m)\u001b[49m\n\u001b[0;32m     25\u001b[0m \u001b[38;5;66;03m# save_track_to_radex(segy_pos_objs)\u001b[39;00m\n",
      "File \u001b[1;32md:\\aa_PythonWorkspace\\pyEchoManager\\sbp_tools\\sbp_track_processing.py:172\u001b[0m, in \u001b[0;36msave_track\u001b[1;34m(pos_objs, save_to)\u001b[0m\n\u001b[0;32m    169\u001b[0m     name \u001b[38;5;241m=\u001b[39m segy_pos_obj\u001b[38;5;241m.\u001b[39mname\n\u001b[0;32m    171\u001b[0m \u001b[38;5;28;01mfor\u001b[39;00m num_i,traceno \u001b[38;5;129;01min\u001b[39;00m \u001b[38;5;28menumerate\u001b[39m(segy_pos_obj\u001b[38;5;241m.\u001b[39mtraceno):\n\u001b[1;32m--> 172\u001b[0m     file2\u001b[38;5;241m.\u001b[39mwrite(\u001b[38;5;124mf\u001b[39m\u001b[38;5;124m'\u001b[39m\u001b[38;5;132;01m{\u001b[39;00mnum_o\u001b[38;5;132;01m}\u001b[39;00m\u001b[38;5;124m,\u001b[39m\u001b[38;5;132;01m{\u001b[39;00mnum_i\u001b[38;5;132;01m}\u001b[39;00m\u001b[38;5;124m,\u001b[39m\u001b[38;5;132;01m{\u001b[39;00mname\u001b[38;5;132;01m}\u001b[39;00m\u001b[38;5;124m,\u001b[39m\u001b[38;5;132;01m{\u001b[39;00msegy_pos_obj\u001b[38;5;241m.\u001b[39mdatetime[num_i]\u001b[38;5;132;01m}\u001b[39;00m\u001b[38;5;124m,\u001b[39m\u001b[38;5;132;01m{\u001b[39;00msegy_pos_obj\u001b[38;5;241m.\u001b[39mtraceno[num_i]\u001b[38;5;132;01m}\u001b[39;00m\u001b[38;5;124m,\u001b[39m\u001b[38;5;132;01m{\u001b[39;00m\u001b[43msegy_pos_obj\u001b[49m\u001b[38;5;241;43m.\u001b[39;49m\u001b[43mcdp_x_cartesian_smoothed\u001b[49m\u001b[43m[\u001b[49m\u001b[43mnum_i\u001b[49m\u001b[43m]\u001b[49m\u001b[38;5;132;01m}\u001b[39;00m\u001b[38;5;124m,\u001b[39m\u001b[38;5;124m'\u001b[39m)\n\u001b[0;32m    173\u001b[0m     file2\u001b[38;5;241m.\u001b[39mwrite(\u001b[38;5;124mf\u001b[39m\u001b[38;5;124m'\u001b[39m\u001b[38;5;132;01m{\u001b[39;00msegy_pos_obj\u001b[38;5;241m.\u001b[39mcdp_y_cartesian_smoothed[num_i]\u001b[38;5;132;01m}\u001b[39;00m\u001b[38;5;124m,\u001b[39m\u001b[38;5;132;01m{\u001b[39;00msegy_pos_obj\u001b[38;5;241m.\u001b[39myear[num_i]\u001b[38;5;132;01m}\u001b[39;00m\u001b[38;5;124m,\u001b[39m\u001b[38;5;132;01m{\u001b[39;00msegy_pos_obj\u001b[38;5;241m.\u001b[39mday[num_i]\u001b[38;5;132;01m}\u001b[39;00m\u001b[38;5;124m,\u001b[39m\u001b[38;5;132;01m{\u001b[39;00msegy_pos_obj\u001b[38;5;241m.\u001b[39mhour[num_i]\u001b[38;5;132;01m}\u001b[39;00m\u001b[38;5;124m,\u001b[39m\u001b[38;5;132;01m{\u001b[39;00msegy_pos_obj\u001b[38;5;241m.\u001b[39mminute[num_i]\u001b[38;5;132;01m}\u001b[39;00m\u001b[38;5;124m,\u001b[39m\u001b[38;5;124m'\u001b[39m)\n\u001b[0;32m    174\u001b[0m     file2\u001b[38;5;241m.\u001b[39mwrite(\u001b[38;5;124mf\u001b[39m\u001b[38;5;124m'\u001b[39m\u001b[38;5;132;01m{\u001b[39;00msegy_pos_obj\u001b[38;5;241m.\u001b[39msecond[num_i]\u001b[38;5;132;01m}\u001b[39;00m\u001b[38;5;130;01m\\n\u001b[39;00m\u001b[38;5;124m'\u001b[39m)\n",
      "\u001b[1;31mIndexError\u001b[0m: list index out of range"
     ]
    }
   ],
   "source": [
    "from sbp_tools.sbp_track_processing import process_track, save_track_to_radex, save_track, read_segypos\n",
    "\n",
    "crs_wgs84 = CRS.from_epsg(4326)\n",
    "crs_utm35n = CRS.from_epsg(32635)\n",
    "crs_utm34n = CRS.from_epsg(32634)\n",
    "\n",
    "transformer = Transformer.from_crs(crs_wgs84, crs_utm34n, always_xy=True)\n",
    "\n",
    "data_path = r'C:\\Data\\ABP56_FZ_UTM35N\\sgy_ps3_SLF_FIXED'\n",
    "# track\n",
    "save_to = r'C:\\Data\\ABP56_FZ_UTM35N\\abp56_utm35n_track.txt'\n",
    "\n",
    "is_utm = True\n",
    "year = 2024\n",
    "pos_files = fes.file_ext_search('.txt', data_path, recursive=True)\n",
    "print(len(pos_files))\n",
    "\n",
    "segy_pos_objs = []\n",
    "bad_data_dict = {}\n",
    "fine_data_dict = {}\n",
    "\n",
    "read_segypos(pos_files, fine_data_dict, bad_data_dict, segy_pos_objs, year, utm_coords = is_utm)\n",
    "# process_track(segy_pos_objs, transformer, window_length=201, smooth=False, utm_coords=is_utm)\n",
    "save_track(segy_pos_objs, save_to)\n",
    "# save_track_to_radex(segy_pos_objs)"
   ]
  },
  {
   "cell_type": "code",
   "execution_count": null,
   "metadata": {},
   "outputs": [],
   "source": []
  }
 ],
 "metadata": {
  "kernelspec": {
   "display_name": "Python 3",
   "language": "python",
   "name": "python3"
  },
  "language_info": {
   "codemirror_mode": {
    "name": "ipython",
    "version": 3
   },
   "file_extension": ".py",
   "mimetype": "text/x-python",
   "name": "python",
   "nbconvert_exporter": "python",
   "pygments_lexer": "ipython3",
   "version": "3.11.0"
  },
  "orig_nbformat": 4
 },
 "nbformat": 4,
 "nbformat_minor": 2
}
