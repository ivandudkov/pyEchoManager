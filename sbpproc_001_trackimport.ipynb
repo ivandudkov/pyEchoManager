{
 "cells": [
  {
   "cell_type": "code",
   "execution_count": 4,
   "metadata": {},
   "outputs": [],
   "source": [
    "import os\n",
    "from filemanager import file_ext_search as fes\n",
    "from dataclasses import dataclass, field\n",
    "import numpy as np\n",
    "import matplotlib.pyplot as plt\n",
    "from scipy import signal\n",
    "\n",
    "from pyproj import Proj, CRS, Transformer"
   ]
  },
  {
   "cell_type": "code",
   "execution_count": 5,
   "metadata": {},
   "outputs": [],
   "source": [
    "@dataclass\n",
    "class SegyPosFile:\n",
    "    name: str\n",
    "    path: str\n",
    "    fin_traceno: int = 0\n",
    "    datetime: list = field(default_factory=list)\n",
    "    traceno: list = field(default_factory=list)\n",
    "    cdp_x: list = field(default_factory=list)\n",
    "    cdp_x_smoothed: list = field(default_factory=list)\n",
    "    cdp_y_smoothed: list = field(default_factory=list)\n",
    "    cdp_x_cartesian_smoothed: list = field(default_factory=list)\n",
    "    cdp_y_cartesian_smoothed: list = field(default_factory=list)\n",
    "    cdp_y: list = field(default_factory=list)\n",
    "    year: list = field(default_factory=list)\n",
    "    day: list = field(default_factory=list)\n",
    "    hour: list = field(default_factory=list)\n",
    "    minute: list = field(default_factory=list)\n",
    "    second: list = field(default_factory=list)"
   ]
  },
  {
   "cell_type": "code",
   "execution_count": 6,
   "metadata": {},
   "outputs": [],
   "source": [
    "def read_segypos(pos_files, finedict, baddict, posobj_list, year, utm_coords=False):\n",
    "    for pos_file in pos_files:\n",
    "        segy_name = os.path.splitext(os.path.basename(pos_file))[0]\n",
    "        pos_obj = SegyPosFile(name=segy_name, path=pos_file)\n",
    "        \n",
    "        number = 0\n",
    "        has_error = False\n",
    "        was_before = False\n",
    "        \n",
    "        with open(pos_file, 'r') as file1:\n",
    "            file_content = file1.read().splitlines()\n",
    "            \n",
    "            for line in file_content[1:]:\n",
    "                line_content = line.split()\n",
    "\n",
    "crs_wgs84 = CRS.from_epsg(4326)\n",
    "crs_utm35n = CRS.from_epsg(32635)\n",
    "crs_utm34n = CRS.from_epsg(32634)\n",
    "\n",
    "transformer = Transformer.from_crs(crs_wgs84, crs_utm34n, always_xy=True)"
   ]
  },
  {
   "cell_type": "code",
   "execution_count": 7,
   "metadata": {},
   "outputs": [
    {
     "name": "stdout",
     "output_type": "stream",
     "text": [
      "Searching *.txt files in directory:C:\\Data\\ABP56_FZ_UTM35N\\sgy_ps3_SLF_FIXED\n",
      "360\n"
     ]
    }
   ],
   "source": [
    "from sbp_tools.sbp_track_processing import process_track, save_track_to_radex, save_track\n",
    "\n",
    "crs_wgs84 = CRS.from_epsg(4326)\n",
    "crs_utm35n = CRS.from_epsg(32635)\n",
    "crs_utm34n = CRS.from_epsg(32634)\n",
    "\n",
    "transformer = Transformer.from_crs(crs_wgs84, crs_utm34n, always_xy=True)\n",
    "\n",
    "data_path = r'C:\\Data\\ABP56_FZ_UTM35N\\sgy_ps3_SLF_FIXED'\n",
    "# track\n",
    "save_to = r'C:\\Data\\ABP56_FZ_UTM35N\\abp56_utm35n_track.txt'\n",
    "\n",
    "is_utm = True\n",
    "year = 2024\n",
    "pos_files = fes.file_ext_search('.txt', data_path, recursive=True)\n",
    "print(len(pos_files))\n",
    "\n",
    "segy_pos_objs = []\n",
    "bad_data_dict = {}\n",
    "fine_data_dict = {}\n",
    "\n",
    "read_segypos(pos_files, fine_data_dict, bad_data_dict, segy_pos_objs, year, utm_coords = is_utm)\n",
    "# process_track(segy_pos_objs, transformer, window_length=201, smooth=False, utm_coords=is_utm)\n",
    "save_track(segy_pos_objs, save_to)\n",
    "# save_track_to_radex(segy_pos_objs)"
   ]
  },
  {
   "cell_type": "code",
   "execution_count": null,
   "metadata": {},
   "outputs": [],
   "source": []
  }
 ],
 "metadata": {
  "kernelspec": {
   "display_name": "Python 3",
   "language": "python",
   "name": "python3"
  },
  "language_info": {
   "codemirror_mode": {
    "name": "ipython",
    "version": 3
   },
   "file_extension": ".py",
   "mimetype": "text/x-python",
   "name": "python",
   "nbconvert_exporter": "python",
   "pygments_lexer": "ipython3",
   "version": "3.11.0"
  },
  "orig_nbformat": 4
 },
 "nbformat": 4,
 "nbformat_minor": 2
}
