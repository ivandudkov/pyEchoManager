{
 "cells": [
  {
   "cell_type": "code",
   "execution_count": 2,
   "metadata": {},
   "outputs": [],
   "source": [
    "%load_ext autoreload\n",
    "%autoreload 2\n",
    "\n",
    "import os\n",
    "from filemanager import file_ext_search as fes\n",
    "from dataclasses import dataclass, field\n",
    "import numpy as np\n",
    "import matplotlib.pyplot as plt\n",
    "from scipy import signal\n",
    "\n",
    "from pyproj import Proj, CRS, Transformer"
   ]
  },
  {
   "cell_type": "code",
   "execution_count": 11,
   "metadata": {},
   "outputs": [
    {
     "name": "stdout",
     "output_type": "stream",
     "text": [
      "Searching *.txt files in directory:C:\\Data\\ABP56_FZ_UTM35N\\sgy_ps3_SLF_FIXED\n",
      "513\n",
      "Number of bad lines in segy_-0_W2_SLF2406191320_LL_car_pds-coords_rawpos: 38\n"
     ]
    }
   ],
   "source": [
    "from sbp_tools.sbp_track_processing import process_track, save_track_to_radex, save_track, read_segypos\n",
    "\n",
    "crs_wgs84 = CRS.from_epsg(4326)\n",
    "crs_utm35n = CRS.from_epsg(32635)\n",
    "crs_utm34n = CRS.from_epsg(32634)\n",
    "\n",
    "transformer = Transformer.from_crs(crs_wgs84, crs_utm34n, always_xy=True)\n",
    "\n",
    "data_path = r'C:\\Data\\ABP56_FZ_UTM35N\\sgy_ps3_SLF_FIXED'\n",
    "# track\n",
    "save_to = r'C:\\Data\\ABP56_FZ_UTM35N\\sgy_ps3_SLF_FIXED\\abp56_utm35n_track.txt'\n",
    "\n",
    "is_utm = True\n",
    "smooth = False\n",
    "year = 2024\n",
    "pos_files = fes.file_ext_search('.txt', data_path, recursive=True)\n",
    "print(len(pos_files))\n",
    "\n",
    "segy_pos_objs = []\n",
    "bad_data_dict = {}\n",
    "fine_data_dict = {}\n",
    "\n",
    "read_segypos(pos_files, fine_data_dict, bad_data_dict, segy_pos_objs, year, utm_coords = is_utm)\n",
    "# process_track(segy_pos_objs, transformer, window_length=201, smooth=smooth, utm_coords=is_utm)\n",
    "# save_track(segy_pos_objs, save_to, smoothed=smooth)\n",
    "# save_track_to_radex(segy_pos_objs)"
   ]
  },
  {
   "cell_type": "code",
   "execution_count": 12,
   "metadata": {},
   "outputs": [],
   "source": [
    "from shutil import move\n",
    "\n",
    "move_to_bad_data = r'C:\\Data\\ABP56_FZ_UTM35N\\sgy_ps3_SLF_FIXED_Bad'\n",
    "\n",
    "\n",
    "for file in bad_data_dict.keys():\n",
    "    segy_name = file[:-7]\n",
    "    sgy_path = os.path.join(data_path, segy_name + '.sgy')\n",
    "    pos_path = os.path.join(data_path,file + '.txt')\n",
    "    \n",
    "    move(sgy_path, move_to_bad_data)\n",
    "    move(pos_path, move_to_bad_data)"
   ]
  },
  {
   "cell_type": "code",
   "execution_count": null,
   "metadata": {},
   "outputs": [],
   "source": []
  }
 ],
 "metadata": {
  "kernelspec": {
   "display_name": "Python 3",
   "language": "python",
   "name": "python3"
  },
  "language_info": {
   "codemirror_mode": {
    "name": "ipython",
    "version": 3
   },
   "file_extension": ".py",
   "mimetype": "text/x-python",
   "name": "python",
   "nbconvert_exporter": "python",
   "pygments_lexer": "ipython3",
   "version": "3.11.0"
  },
  "orig_nbformat": 4
 },
 "nbformat": 4,
 "nbformat_minor": 2
}
