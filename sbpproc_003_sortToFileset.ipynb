{
 "cells": [
  {
   "cell_type": "code",
   "execution_count": 1,
   "metadata": {},
   "outputs": [],
   "source": [
    "%load_ext autoreload\n",
    "%autoreload 2\n",
    "\n",
    "from sbp_tools.sbp_fileset_sort import read_sbplog, upd_segy_path, sort_files_by_fset\n",
    "import numpy as np\n",
    "\n",
    "from filemanager import file_ext_search as fes"
   ]
  },
  {
   "cell_type": "code",
   "execution_count": 6,
   "metadata": {},
   "outputs": [
    {
     "name": "stdout",
     "output_type": "stream",
     "text": [
      "Searching *.sgy files in directory:C:\\Data\\AI69\\p012_Poly01_Ivan_conv\n"
     ]
    }
   ],
   "source": [
    "segy_path = r'C:\\Data\\AI69\\p012_Poly01_Ivan_conv'\n",
    "segy_files = fes.file_ext_search('.sgy', segy_path, recursive=False)\n",
    "\n",
    "qgis_log = r'C:\\Data\\AI69\\p012_Poly01.csv'\n",
    "sbp_files = read_sbplog(qgis_log, 1, -1)"
   ]
  },
  {
   "cell_type": "code",
   "execution_count": 7,
   "metadata": {},
   "outputs": [],
   "source": [
    "upd_segy_path(sbp_files, segy_files)"
   ]
  },
  {
   "cell_type": "code",
   "execution_count": 8,
   "metadata": {},
   "outputs": [
    {
     "data": {
      "text/plain": [
       "[SegyFile(name='AI6920241029_140002_CH_RAW_LF.sgy', fileset='ai69_id002_ABRPoly01_Pr', path=''),\n",
       " SegyFile(name='AI6920241028_101251_RAW_LF.sgy', fileset='None', path=''),\n",
       " SegyFile(name='AI6920241029_035012_RAW_LF.sgy', fileset='None', path=''),\n",
       " SegyFile(name='AI6920241028_231035_RAW_LF.sgy', fileset='None', path=''),\n",
       " SegyFile(name='AI6920241028_193958_CH_RAW_LF_Exp01_Chirp-Gain51.sgy', fileset='None', path=''),\n",
       " SegyFile(name='AI6920241029_112736_CH_RAW_LF.sgy', fileset='ai69_id002_ABRPoly01_Pr', path=''),\n",
       " SegyFile(name='AI6920241028_160310_RAW_LF.sgy', fileset='None', path=''),\n",
       " SegyFile(name='AI6920241028_205237_LF_Exp03_4kHz-5p-Gain65.sgy', fileset='None', path=''),\n",
       " SegyFile(name='AI6920241028_122923_RAW_LF.sgy', fileset='None', path=''),\n",
       " SegyFile(name='AI6920241028_130928_RAW_LF.sgy', fileset='None', path=''),\n",
       " SegyFile(name='AI6920241028_175456_RAW_LF.sgy', fileset='None', path=''),\n",
       " SegyFile(name='AI6920241029_095155_CH_RAW_LF.sgy', fileset='ai69_id001_ABRPoly01_Pr', path=''),\n",
       " SegyFile(name='AI6920241029_064109_CH_RAW_LF.sgy', fileset='ai69_id001_ABRPoly01_Pr', path=''),\n",
       " SegyFile(name='AI6920241028_204237_LF_Exp03_4kHz-5p-Gain65.sgy', fileset='None', path=''),\n",
       " SegyFile(name='AI6920241028_212239_RAW_LF_Exp03_4kHz-5p-Gain65.sgy', fileset='None', path=''),\n",
       " SegyFile(name='AI6920241029_141003_CH_RAW_LF.sgy', fileset='ai69_id002_ABRPoly01_Pr', path=''),\n",
       " SegyFile(name='AI6920241028_135933_RAW_LF.sgy', fileset='None', path=''),\n",
       " SegyFile(name='AI6920241028_201237_LF_Exp02_3kHz-5p-Gain65.sgy', fileset='None', path=''),\n",
       " SegyFile(name='AI6920241028_173312_RAW_LF.sgy', fileset='None', path=''),\n",
       " SegyFile(name='AI6920241029_052500_RAW_LF_Exp05_4kHz-LowGain2.sgy', fileset='None', path='')]"
      ]
     },
     "execution_count": 8,
     "metadata": {},
     "output_type": "execute_result"
    }
   ],
   "source": [
    "sbp_files[0:20]"
   ]
  },
  {
   "cell_type": "code",
   "execution_count": 9,
   "metadata": {},
   "outputs": [],
   "source": [
    "path_sort_to = segy_path\n",
    "sort_files_by_fset(sbp_files, path_sort_to, is_acf=False)\n"
   ]
  },
  {
   "cell_type": "code",
   "execution_count": 17,
   "metadata": {},
   "outputs": [
    {
     "name": "stdout",
     "output_type": "stream",
     "text": [
      "ai68_id024_GdCenter\n",
      "ai68_id025_GdCenter\n",
      "ai68_id026_GdCenter\n",
      "ai68_id027_GdCenter\n",
      "ai68_id028_GotSlope\n",
      "ai68_id029_GotSlope\n",
      "ai68_id030_GdCenter\n",
      "ai68_id031_GdSlope\n",
      "ai68_id032_BaltSlope\n",
      "ai68_id033_BaltSlope\n",
      "ai68_id034_BaltSlope\n",
      "ai68_id035_GdCenter\n",
      "ai68_id036_GdCenter\n",
      "ai68_id037_GdCenter\n",
      "ai68_id038_GdCenter\n",
      "ai68_id039_GotSlope\n",
      "ai68_id040_GotSlope\n"
     ]
    }
   ],
   "source": [
    "fs = []\n",
    "\n",
    "for file in sbp_files:\n",
    "    if file.fileset != 'None' and file.path != '':\n",
    "        fs.append(file.fileset)\n",
    "        \n",
    "\n",
    "new = np.unique(fs)\n",
    "for fi in new:\n",
    "    print(fi)"
   ]
  },
  {
   "cell_type": "code",
   "execution_count": null,
   "metadata": {},
   "outputs": [],
   "source": []
  }
 ],
 "metadata": {
  "kernelspec": {
   "display_name": "id_13pc",
   "language": "python",
   "name": "python3"
  },
  "language_info": {
   "codemirror_mode": {
    "name": "ipython",
    "version": 3
   },
   "file_extension": ".py",
   "mimetype": "text/x-python",
   "name": "python",
   "nbconvert_exporter": "python",
   "pygments_lexer": "ipython3",
   "version": "3.12.2"
  },
  "orig_nbformat": 4
 },
 "nbformat": 4,
 "nbformat_minor": 2
}
