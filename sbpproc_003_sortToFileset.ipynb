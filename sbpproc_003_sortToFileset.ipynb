{
 "cells": [
  {
   "cell_type": "code",
   "execution_count": 11,
   "metadata": {},
   "outputs": [
    {
     "name": "stdout",
     "output_type": "stream",
     "text": [
      "The autoreload extension is already loaded. To reload it, use:\n",
      "  %reload_ext autoreload\n"
     ]
    }
   ],
   "source": [
    "%load_ext autoreload\n",
    "%autoreload 2\n",
    "\n",
    "from sbp_tools.sbp_fileset_sort import read_sbplog, upd_segy_path, sort_files_by_fset\n",
    "import numpy as np\n",
    "\n",
    "from filemanager import file_ext_search as fes"
   ]
  },
  {
   "cell_type": "code",
   "execution_count": 12,
   "metadata": {},
   "outputs": [
    {
     "name": "stdout",
     "output_type": "stream",
     "text": [
      "Searching *.sgy files in directory:F:\\AI-68\\SBP_SES2000_DATA\\AI-68_SBP003_CONV_SEGY\\FZ_stg2_GEOCOORDS_ALL\n"
     ]
    }
   ],
   "source": [
    "segy_path = r'F:\\AI-68\\SBP_SES2000_DATA\\AI-68_SBP003_CONV_SEGY\\FZ_stg2_GEOCOORDS_ALL'\n",
    "segy_files = fes.file_ext_search('.sgy', segy_path, recursive=False)\n",
    "\n",
    "qgis_log = r'D:\\aa_yandexcloud\\aa_cloudmbesproceessing\\AI-68\\ai-68_sbp_profiles_for_SEISM_FZ_stg02.csv'\n",
    "sbp_files = read_sbplog(qgis_log, 0, -1)"
   ]
  },
  {
   "cell_type": "code",
   "execution_count": 13,
   "metadata": {},
   "outputs": [],
   "source": [
    "upd_segy_path(sbp_files, segy_files)"
   ]
  },
  {
   "cell_type": "code",
   "execution_count": 14,
   "metadata": {},
   "outputs": [
    {
     "data": {
      "text/plain": [
       "[SegyFile(name='AI6820240910_172132_MF_RAW_LF1.sgy', fileset='ai68_forseis_sbp_id009_FZ_line220', path='F:\\\\AI-68\\\\SBP_SES2000_DATA\\\\AI-68_SBP003_CONV_SEGY\\\\FZ_stg2_GEOCOORDS_ALL\\\\AI6820240910_172132_MF_RAW_LF1.sgy'),\n",
       " SegyFile(name='AI6820240907_061519_MF_RAW_LF1.sgy', fileset='None', path='F:\\\\AI-68\\\\SBP_SES2000_DATA\\\\AI-68_SBP003_CONV_SEGY\\\\FZ_stg2_GEOCOORDS_ALL\\\\AI6820240907_061519_MF_RAW_LF1.sgy'),\n",
       " SegyFile(name='AI6820240908_234953_MF_RAW_LF1.sgy', fileset='ai68_forseis_sbp_id004_FZ_line198', path='F:\\\\AI-68\\\\SBP_SES2000_DATA\\\\AI-68_SBP003_CONV_SEGY\\\\FZ_stg2_GEOCOORDS_ALL\\\\AI6820240908_234953_MF_RAW_LF1.sgy'),\n",
       " SegyFile(name='AI6820240909_105311_MF_RAW_LF1.sgy', fileset='None', path='F:\\\\AI-68\\\\SBP_SES2000_DATA\\\\AI-68_SBP003_CONV_SEGY\\\\FZ_stg2_GEOCOORDS_ALL\\\\AI6820240909_105311_MF_RAW_LF1.sgy'),\n",
       " SegyFile(name='AI6820240903_200541_MF_RAW_LF1.sgy', fileset='None', path='F:\\\\AI-68\\\\SBP_SES2000_DATA\\\\AI-68_SBP003_CONV_SEGY\\\\FZ_stg2_GEOCOORDS_ALL\\\\AI6820240903_200541_MF_RAW_LF1.sgy'),\n",
       " SegyFile(name='AI6820240911_185641_MF_RAW_LF1.sgy', fileset='None', path='F:\\\\AI-68\\\\SBP_SES2000_DATA\\\\AI-68_SBP003_CONV_SEGY\\\\FZ_stg2_GEOCOORDS_ALL\\\\AI6820240911_185641_MF_RAW_LF1.sgy'),\n",
       " SegyFile(name='AI6820240909_120058_MF_RAW_LF1.sgy', fileset='None', path='F:\\\\AI-68\\\\SBP_SES2000_DATA\\\\AI-68_SBP003_CONV_SEGY\\\\FZ_stg2_GEOCOORDS_ALL\\\\AI6820240909_120058_MF_RAW_LF1.sgy'),\n",
       " SegyFile(name='AI6820240903_171616_MF_RAW_LF1.sgy', fileset='None', path='F:\\\\AI-68\\\\SBP_SES2000_DATA\\\\AI-68_SBP003_CONV_SEGY\\\\FZ_stg2_GEOCOORDS_ALL\\\\AI6820240903_171616_MF_RAW_LF1.sgy'),\n",
       " SegyFile(name='AI6820240904_011503_MF_RAW_LF1.sgy', fileset='None', path='F:\\\\AI-68\\\\SBP_SES2000_DATA\\\\AI-68_SBP003_CONV_SEGY\\\\FZ_stg2_GEOCOORDS_ALL\\\\AI6820240904_011503_MF_RAW_LF1.sgy'),\n",
       " SegyFile(name='AI6820240907_145904_MF_RAW_LF1.sgy', fileset='None', path='F:\\\\AI-68\\\\SBP_SES2000_DATA\\\\AI-68_SBP003_CONV_SEGY\\\\FZ_stg2_GEOCOORDS_ALL\\\\AI6820240907_145904_MF_RAW_LF1.sgy'),\n",
       " SegyFile(name='AI6820240910_232608_MF_RAW_LF1.sgy', fileset='None', path='F:\\\\AI-68\\\\SBP_SES2000_DATA\\\\AI-68_SBP003_CONV_SEGY\\\\FZ_stg2_GEOCOORDS_ALL\\\\AI6820240910_232608_MF_RAW_LF1.sgy'),\n",
       " SegyFile(name='AI6820240906_043007_MF_RAW_LF1.sgy', fileset='None', path='F:\\\\AI-68\\\\SBP_SES2000_DATA\\\\AI-68_SBP003_CONV_SEGY\\\\FZ_stg2_GEOCOORDS_ALL\\\\AI6820240906_043007_MF_RAW_LF1.sgy'),\n",
       " SegyFile(name='AI6820240907_141401_MF_RAW_LF1.sgy', fileset='None', path='F:\\\\AI-68\\\\SBP_SES2000_DATA\\\\AI-68_SBP003_CONV_SEGY\\\\FZ_stg2_GEOCOORDS_ALL\\\\AI6820240907_141401_MF_RAW_LF1.sgy'),\n",
       " SegyFile(name='AI6820240909_233006_MF_RAW_LF1.sgy', fileset='None', path='F:\\\\AI-68\\\\SBP_SES2000_DATA\\\\AI-68_SBP003_CONV_SEGY\\\\FZ_stg2_GEOCOORDS_ALL\\\\AI6820240909_233006_MF_RAW_LF1.sgy'),\n",
       " SegyFile(name='AI6820240905_185036_MF_RAW_LF1.sgy', fileset='None', path='F:\\\\AI-68\\\\SBP_SES2000_DATA\\\\AI-68_SBP003_CONV_SEGY\\\\FZ_stg2_GEOCOORDS_ALL\\\\AI6820240905_185036_MF_RAW_LF1.sgy'),\n",
       " SegyFile(name='AI6820240912_011837_MF_RAW_LF1.sgy', fileset='None', path='F:\\\\AI-68\\\\SBP_SES2000_DATA\\\\AI-68_SBP003_CONV_SEGY\\\\FZ_stg2_GEOCOORDS_ALL\\\\AI6820240912_011837_MF_RAW_LF1.sgy'),\n",
       " SegyFile(name='AI6820240908_104408_MF_RAW_LF1.sgy', fileset='None', path='F:\\\\AI-68\\\\SBP_SES2000_DATA\\\\AI-68_SBP003_CONV_SEGY\\\\FZ_stg2_GEOCOORDS_ALL\\\\AI6820240908_104408_MF_RAW_LF1.sgy'),\n",
       " SegyFile(name='AI6820240905_040006_MF_RAW_LF1.sgy', fileset='None', path='F:\\\\AI-68\\\\SBP_SES2000_DATA\\\\AI-68_SBP003_CONV_SEGY\\\\FZ_stg2_GEOCOORDS_ALL\\\\AI6820240905_040006_MF_RAW_LF1.sgy'),\n",
       " SegyFile(name='AI6820240909_192518_MF_RAW_LF1.sgy', fileset='None', path='F:\\\\AI-68\\\\SBP_SES2000_DATA\\\\AI-68_SBP003_CONV_SEGY\\\\FZ_stg2_GEOCOORDS_ALL\\\\AI6820240909_192518_MF_RAW_LF1.sgy'),\n",
       " SegyFile(name='AI6820240905_030005_MF_RAW_LF1.sgy', fileset='None', path='F:\\\\AI-68\\\\SBP_SES2000_DATA\\\\AI-68_SBP003_CONV_SEGY\\\\FZ_stg2_GEOCOORDS_ALL\\\\AI6820240905_030005_MF_RAW_LF1.sgy')]"
      ]
     },
     "execution_count": 14,
     "metadata": {},
     "output_type": "execute_result"
    }
   ],
   "source": [
    "sbp_files[0:20]"
   ]
  },
  {
   "cell_type": "code",
   "execution_count": 15,
   "metadata": {},
   "outputs": [],
   "source": [
    "path_sort_to = segy_path\n",
    "sort_files_by_fset(sbp_files, path_sort_to, is_acf=False)\n"
   ]
  },
  {
   "cell_type": "code",
   "execution_count": 17,
   "metadata": {},
   "outputs": [
    {
     "name": "stdout",
     "output_type": "stream",
     "text": [
      "ai68_id024_GdCenter\n",
      "ai68_id025_GdCenter\n",
      "ai68_id026_GdCenter\n",
      "ai68_id027_GdCenter\n",
      "ai68_id028_GotSlope\n",
      "ai68_id029_GotSlope\n",
      "ai68_id030_GdCenter\n",
      "ai68_id031_GdSlope\n",
      "ai68_id032_BaltSlope\n",
      "ai68_id033_BaltSlope\n",
      "ai68_id034_BaltSlope\n",
      "ai68_id035_GdCenter\n",
      "ai68_id036_GdCenter\n",
      "ai68_id037_GdCenter\n",
      "ai68_id038_GdCenter\n",
      "ai68_id039_GotSlope\n",
      "ai68_id040_GotSlope\n"
     ]
    }
   ],
   "source": [
    "fs = []\n",
    "\n",
    "for file in sbp_files:\n",
    "    if file.fileset != 'None' and file.path != '':\n",
    "        fs.append(file.fileset)\n",
    "        \n",
    "\n",
    "new = np.unique(fs)\n",
    "for fi in new:\n",
    "    print(fi)"
   ]
  },
  {
   "cell_type": "code",
   "execution_count": null,
   "metadata": {},
   "outputs": [],
   "source": []
  }
 ],
 "metadata": {
  "kernelspec": {
   "display_name": "Python 3",
   "language": "python",
   "name": "python3"
  },
  "language_info": {
   "codemirror_mode": {
    "name": "ipython",
    "version": 3
   },
   "file_extension": ".py",
   "mimetype": "text/x-python",
   "name": "python",
   "nbconvert_exporter": "python",
   "pygments_lexer": "ipython3",
   "version": "3.11.0"
  },
  "orig_nbformat": 4
 },
 "nbformat": 4,
 "nbformat_minor": 2
}
