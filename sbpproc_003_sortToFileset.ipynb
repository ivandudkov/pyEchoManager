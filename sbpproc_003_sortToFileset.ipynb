{
 "cells": [
  {
   "cell_type": "code",
   "execution_count": 1,
   "metadata": {},
   "outputs": [],
   "source": [
    "from sbp_tools.sbp_fileset_sort import read_sbplog, upd_segy_path, sort_files_by_fset\n",
    "import numpy as np\n",
    "\n",
    "from filemanager import file_ext_search as fes"
   ]
  },
  {
   "cell_type": "code",
   "execution_count": 7,
   "metadata": {},
   "outputs": [
    {
     "name": "stdout",
     "output_type": "stream",
     "text": [
      "Searching *.sgy files in directory:C:\\Data\\ABP56_FZ_UTM35N\\sgy_ps3_SLF_FIXED\n"
     ]
    }
   ],
   "source": [
    "segy_path = r'C:\\Data\\ABP56_FZ_UTM35N\\sgy_ps3_SLF_FIXED'\n",
    "segy_files = fes.file_ext_search('.sgy', segy_path, recursive=False)\n",
    "\n",
    "qgis_log = r'C:\\Data\\abp56_sbp_filesets.csv'\n",
    "sbp_files = read_sbplog(qgis_log, 1, -1)"
   ]
  },
  {
   "cell_type": "code",
   "execution_count": 8,
   "metadata": {},
   "outputs": [],
   "source": [
    "upd_segy_path(sbp_files, segy_files)"
   ]
  },
  {
   "cell_type": "code",
   "execution_count": 9,
   "metadata": {},
   "outputs": [
    {
     "data": {
      "text/plain": [
       "[SegyFile(name='segy_-0_W2_SLF2406160759_LL_car_pds-coords_0.sgy', fileset='None', path=''),\n",
       " SegyFile(name='segy_-0_W2_SLF2406160759_LL_car_pds-coords.sgy', fileset='None', path=''),\n",
       " SegyFile(name='segy_-0_W2_SLF2406160811_LL_car_pds-coords_0.sgy', fileset='None', path=''),\n",
       " SegyFile(name='segy_-0_W2_SLF2406160811_LL_car_pds-coords.sgy', fileset='None', path=''),\n",
       " SegyFile(name='segy_-0_W2_SLF2406160821_LL_car_pds-coords_0.sgy', fileset='None', path=''),\n",
       " SegyFile(name='segy_-0_W2_SLF2406160821_LL_car_pds-coords.sgy', fileset='None', path=''),\n",
       " SegyFile(name='segy_-0_W2_SLF2406160831_LL_car_pds-coords_0.sgy', fileset='None', path=''),\n",
       " SegyFile(name='segy_-0_W2_SLF2406160831_LL_car_pds-coords.sgy', fileset='None', path=''),\n",
       " SegyFile(name='segy_-0_W2_SLF2406160841_LL_car_pds-coords_0.sgy', fileset='None', path=''),\n",
       " SegyFile(name='segy_-0_W2_SLF2406160841_LL_car_pds-coords.sgy', fileset='None', path=''),\n",
       " SegyFile(name='segy_-0_W2_SLF2406160851_LL_car_pds-coords_0.sgy', fileset='None', path=''),\n",
       " SegyFile(name='segy_-0_W2_SLF2406160851_LL_car_pds-coords.sgy', fileset='None', path=''),\n",
       " SegyFile(name='segy_-0_W2_SLF2406160901_LL_car_pds-coords_0.sgy', fileset='None', path=''),\n",
       " SegyFile(name='segy_-0_W2_SLF2406160901_LL_car_pds-coords.sgy', fileset='None', path=''),\n",
       " SegyFile(name='segy_-0_W2_SLF2406160911_LL_car_pds-coords_0.sgy', fileset='None', path=''),\n",
       " SegyFile(name='segy_-0_W2_SLF2406160911_LL_car_pds-coords.sgy', fileset='None', path=''),\n",
       " SegyFile(name='segy_-0_W2_SLF2406160921_LL_car_pds-coords_0.sgy', fileset='None', path=''),\n",
       " SegyFile(name='segy_-0_W2_SLF2406160921_LL_car_pds-coords.sgy', fileset='None', path=''),\n",
       " SegyFile(name='segy_-0_W2_SLF2406160931_LL_car_pds-coords_0.sgy', fileset='None', path=''),\n",
       " SegyFile(name='segy_-0_W2_SLF2406160931_LL_car_pds-coords.sgy', fileset='None', path='')]"
      ]
     },
     "execution_count": 9,
     "metadata": {},
     "output_type": "execute_result"
    }
   ],
   "source": [
    "sbp_files[0:20]"
   ]
  },
  {
   "cell_type": "code",
   "execution_count": 10,
   "metadata": {},
   "outputs": [],
   "source": [
    "path_sort_to = segy_path\n",
    "sort_files_by_fset(sbp_files, path_sort_to)\n"
   ]
  },
  {
   "cell_type": "code",
   "execution_count": 14,
   "metadata": {},
   "outputs": [
    {
     "name": "stdout",
     "output_type": "stream",
     "text": [
      "ai61_seb_001_RNF_Po\n",
      "ai61_seb_002_RNF_Po\n",
      "ai61_seb_003_RNF_Po\n",
      "ai61_seb_004_RNF_Po\n",
      "ai61_seb_005_RNF_Po\n",
      "ai61_seb_006_RNF_Po\n",
      "ai61_seb_007_RNF_Po\n",
      "ai61_seb_010_RNF_Po\n",
      "ai61_seb_012_RNF_Po\n",
      "ai61_seb_013_RNF_Po\n",
      "ai61_seb_015_RNF_Po\n"
     ]
    }
   ],
   "source": [
    "fs = []\n",
    "\n",
    "for file in sbp_files:\n",
    "    if file.fileset != 'None' and file.path != '':\n",
    "        fs.append(file.fileset)\n",
    "        \n",
    "\n",
    "new = np.unique(fs)\n",
    "for fi in new:\n",
    "    print(fi)"
   ]
  },
  {
   "cell_type": "code",
   "execution_count": null,
   "metadata": {},
   "outputs": [],
   "source": []
  }
 ],
 "metadata": {
  "kernelspec": {
   "display_name": "Python 3",
   "language": "python",
   "name": "python3"
  },
  "language_info": {
   "codemirror_mode": {
    "name": "ipython",
    "version": 3
   },
   "file_extension": ".py",
   "mimetype": "text/x-python",
   "name": "python",
   "nbconvert_exporter": "python",
   "pygments_lexer": "ipython3",
   "version": "3.11.0"
  },
  "orig_nbformat": 4
 },
 "nbformat": 4,
 "nbformat_minor": 2
}
