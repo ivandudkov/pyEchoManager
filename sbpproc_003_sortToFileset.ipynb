{
 "cells": [
  {
   "cell_type": "code",
   "execution_count": 1,
   "metadata": {},
   "outputs": [],
   "source": [
    "import os\n",
    "from datetime import datetime, timezone\n",
    "from dataclasses import dataclass, field\n",
    "import numpy as np\n",
    "import matplotlib.pyplot as plt\n",
    "import shutil\n",
    "\n",
    "from filemanager import file_ext_search as fes\n",
    "from cli import cli"
   ]
  },
  {
   "cell_type": "code",
   "execution_count": 2,
   "metadata": {},
   "outputs": [],
   "source": [
    "@dataclass\n",
    "class SegyFile:\n",
    "    name: str\n",
    "    fileset: str\n",
    "    path: str"
   ]
  },
  {
   "cell_type": "code",
   "execution_count": 3,
   "metadata": {},
   "outputs": [],
   "source": [
    "\n",
    "def read_sbplog(path, fname_idx, fs_idx, sep=','):\n",
    "    sbp_files = []\n",
    "    \n",
    "    with open(path, 'r') as f1:\n",
    "        file_content = f1.read().splitlines()\n",
    "        \n",
    "        for idx, line in enumerate(file_content):\n",
    "            line_content = line.split(sep)\n",
    "            \n",
    "            if idx == 0:\n",
    "                pass\n",
    "            else:\n",
    "                fname = line_content[fname_idx] + '.sgy'\n",
    "                \n",
    "                fileset = line_content[fs_idx]\n",
    "                if fileset == '':\n",
    "                    fileset = 'None'\n",
    "                sbp_file = SegyFile(name=fname,fileset=fileset,path='')\n",
    "                sbp_files.append(sbp_file)\n",
    "                \n",
    "    return sbp_files\n",
    "\n",
    "def upd_segy_path(sgy_objs, pathlist):\n",
    "    for path in pathlist:\n",
    "        filename = os.path.basename(path)\n",
    "        \n",
    "        for sgy_obj in sgy_objs:\n",
    "            if sgy_obj.name == filename:\n",
    "                sgy_obj.path = path\n",
    "                \n",
    "\n",
    "def sort_files_by_fset(sgy_objs, path_sort_to):\n",
    "    dirlist = [direct.path for direct in os.scandir(path_sort_to) if os.DirEntry.is_dir(direct)]\n",
    "    \n",
    "    for obj in sgy_objs:\n",
    "        if obj.fileset == 'None':\n",
    "            pass\n",
    "        \n",
    "        elif obj.path == '':\n",
    "            pass\n",
    "        \n",
    "        else:\n",
    "            fset_dir = os.path.join(path_sort_to, obj.fileset)\n",
    "            \n",
    "            if fset_dir in dirlist:\n",
    "                shutil.move(obj.path, fset_dir)\n",
    "                obj.path = os.path.join(fset_dir, os.path.basename(obj.path))\n",
    "                \n",
    "            else:\n",
    "                os.mkdir(fset_dir)\n",
    "                dirlist.append(fset_dir)\n",
    "\n",
    "                shutil.move(obj.path, fset_dir)\n",
    "                obj.path = os.path.join(fset_dir, os.path.basename(obj.path))"
   ]
  },
  {
   "cell_type": "code",
   "execution_count": 8,
   "metadata": {},
   "outputs": [
    {
     "name": "stdout",
     "output_type": "stream",
     "text": [
      "Searching *.sgy files in directory:F:\\ABP49_CruiseData\\Parasound P-70\\sgy_ps3\n"
     ]
    }
   ],
   "source": [
    "segy_path1 = r'F:\\ABP49_CruiseData\\Parasound P-70\\sgy_ps3'\n",
    "segy_files1 = fes.file_ext_search('.sgy', segy_path1)\n",
    "\n",
    "qgis_log = r'D:\\SBP and Seismic\\abp49_filesets.csv'\n",
    "sbp_files = read_sbplog(qgis_log, 1, -1)"
   ]
  },
  {
   "cell_type": "code",
   "execution_count": 9,
   "metadata": {},
   "outputs": [],
   "source": [
    "upd_segy_path(sbp_files, segy_files1)"
   ]
  },
  {
   "cell_type": "code",
   "execution_count": 10,
   "metadata": {},
   "outputs": [
    {
     "data": {
      "text/plain": [
       "[SegyFile(name='test-1_W2-SLF_ABP49_SLF2206090228_UTM-34_car.sgy', fileset='abp49_medu_taran_06', path='F:\\\\ABP49_CruiseData\\\\Parasound P-70\\\\sgy_ps3\\\\test-1_W2-SLF_ABP49_SLF2206090228_UTM-34_car.sgy'),\n",
       " SegyFile(name='test-1_W2-SLF_ABP49_SLF2206091249_UTM-34_car.sgy', fileset='abp49_medu_taran_07', path='F:\\\\ABP49_CruiseData\\\\Parasound P-70\\\\sgy_ps3\\\\test-1_W2-SLF_ABP49_SLF2206091249_UTM-34_car.sgy'),\n",
       " SegyFile(name='test-1_W2-ABP49_SLF_SLF2206101110_UTM-34_car.sgy', fileset='abp49_medu_taran_09', path='F:\\\\ABP49_CruiseData\\\\Parasound P-70\\\\sgy_ps3\\\\test-1_W2-ABP49_SLF_SLF2206101110_UTM-34_car.sgy'),\n",
       " SegyFile(name='test-1_W2-SLF_ABP49_SLF2206061021_UTM-34_car.sgy', fileset='abp49_medu_taran_02', path='F:\\\\ABP49_CruiseData\\\\Parasound P-70\\\\sgy_ps3\\\\test-1_W2-SLF_ABP49_SLF2206061021_UTM-34_car.sgy'),\n",
       " SegyFile(name='test-1_W2-SLF_ABP49_SLF2206061300_UTM-34_car.sgy', fileset='abp49_medu_taran_11', path='F:\\\\ABP49_CruiseData\\\\Parasound P-70\\\\sgy_ps3\\\\test-1_W2-SLF_ABP49_SLF2206061300_UTM-34_car.sgy'),\n",
       " SegyFile(name='test-1_W2-ABP49_SLF_SLF2206110701_UTM-34_car.sgy', fileset='abp49_medu_taran_05', path='F:\\\\ABP49_CruiseData\\\\Parasound P-70\\\\sgy_ps3\\\\test-1_W2-ABP49_SLF_SLF2206110701_UTM-34_car.sgy'),\n",
       " SegyFile(name='test-1_W2-SLF_ABP49_SLF2206090746_UTM-34_car.sgy', fileset='abp49_medu_taran_10', path='F:\\\\ABP49_CruiseData\\\\Parasound P-70\\\\sgy_ps3\\\\test-1_W2-SLF_ABP49_SLF2206090746_UTM-34_car.sgy'),\n",
       " SegyFile(name='test-1_W2-SLF_ABP49_SLF2206061308_UTM-34_car.sgy', fileset='abp49_medu_taran_11', path='F:\\\\ABP49_CruiseData\\\\Parasound P-70\\\\sgy_ps3\\\\test-1_W2-SLF_ABP49_SLF2206061308_UTM-34_car.sgy'),\n",
       " SegyFile(name='test-1_W2-SLF_ABP49_SLF2206061051_UTM-34_car.sgy', fileset='abp49_medu_taran_02', path='F:\\\\ABP49_CruiseData\\\\Parasound P-70\\\\sgy_ps3\\\\test-1_W2-SLF_ABP49_SLF2206061051_UTM-34_car.sgy'),\n",
       " SegyFile(name='test-1_W2-SLF_ABP49_SLF2206061011_UTM-34_car.sgy', fileset='abp49_medu_taran_02', path='F:\\\\ABP49_CruiseData\\\\Parasound P-70\\\\sgy_ps3\\\\test-1_W2-SLF_ABP49_SLF2206061011_UTM-34_car.sgy'),\n",
       " SegyFile(name='test-1_W2-ABP49_SLF_SLF2206101049_UTM-34_car.sgy', fileset='abp49_medu_taran_09', path='F:\\\\ABP49_CruiseData\\\\Parasound P-70\\\\sgy_ps3\\\\test-1_W2-ABP49_SLF_SLF2206101049_UTM-34_car.sgy'),\n",
       " SegyFile(name='test-1_W2-SLF_ABP49_SLF2206090046_UTM-34_car.sgy', fileset='abp49_medu_taran_03', path='F:\\\\ABP49_CruiseData\\\\Parasound P-70\\\\sgy_ps3\\\\test-1_W2-SLF_ABP49_SLF2206090046_UTM-34_car.sgy'),\n",
       " SegyFile(name='test-1_W2-SLF_ABP49_SLF2206061331_UTM-34_car.sgy', fileset='abp49_medu_taran_11', path='F:\\\\ABP49_CruiseData\\\\Parasound P-70\\\\sgy_ps3\\\\test-1_W2-SLF_ABP49_SLF2206061331_UTM-34_car.sgy'),\n",
       " SegyFile(name='test-1_W2-ABP49_SLF_SLF2206102053_UTM-34_car.sgy', fileset='abp49_medu_taran_04', path='F:\\\\ABP49_CruiseData\\\\Parasound P-70\\\\sgy_ps3\\\\test-1_W2-ABP49_SLF_SLF2206102053_UTM-34_car.sgy'),\n",
       " SegyFile(name='test-1_W2-ABP49_SLF_SLF2206110725_UTM-34_car.sgy', fileset='abp49_medu_taran_05', path='F:\\\\ABP49_CruiseData\\\\Parasound P-70\\\\sgy_ps3\\\\test-1_W2-ABP49_SLF_SLF2206110725_UTM-34_car.sgy'),\n",
       " SegyFile(name='test-1_W2-SLF_ABP49_SLF2206090200_UTM-34_car.sgy', fileset='abp49_medu_taran_06', path='F:\\\\ABP49_CruiseData\\\\Parasound P-70\\\\sgy_ps3\\\\test-1_W2-SLF_ABP49_SLF2206090200_UTM-34_car.sgy'),\n",
       " SegyFile(name='test-1_W2-SLF_ABP49_SLF2206090100_UTM-34_car.sgy', fileset='abp49_medu_taran_03', path='F:\\\\ABP49_CruiseData\\\\Parasound P-70\\\\sgy_ps3\\\\test-1_W2-SLF_ABP49_SLF2206090100_UTM-34_car.sgy'),\n",
       " SegyFile(name='test-1_W2-SLF_ABP49_SLF2206061316_UTM-34_car.sgy', fileset='abp49_medu_taran_11', path='F:\\\\ABP49_CruiseData\\\\Parasound P-70\\\\sgy_ps3\\\\test-1_W2-SLF_ABP49_SLF2206061316_UTM-34_car.sgy'),\n",
       " SegyFile(name='test-1_W2-SLF_ABP49_SLF2206091227_UTM-34_car.sgy', fileset='abp49_medu_taran_07', path='F:\\\\ABP49_CruiseData\\\\Parasound P-70\\\\sgy_ps3\\\\test-1_W2-SLF_ABP49_SLF2206091227_UTM-34_car.sgy'),\n",
       " SegyFile(name='test-1_W2-SLF_ABP49_SLF2206061036_UTM-34_car.sgy', fileset='abp49_medu_taran_02', path='F:\\\\ABP49_CruiseData\\\\Parasound P-70\\\\sgy_ps3\\\\test-1_W2-SLF_ABP49_SLF2206061036_UTM-34_car.sgy'),\n",
       " SegyFile(name='test-1_W2-SLF_ABP49_SLF2206061323_UTM-34_car.sgy', fileset='abp49_medu_taran_11', path='F:\\\\ABP49_CruiseData\\\\Parasound P-70\\\\sgy_ps3\\\\test-1_W2-SLF_ABP49_SLF2206061323_UTM-34_car.sgy'),\n",
       " SegyFile(name='test-1_W2-SLF_ABP49_SLF2206060521_UTM-34_car.sgy', fileset='abp49_medu_taran_01', path='F:\\\\ABP49_CruiseData\\\\Parasound P-70\\\\sgy_ps3\\\\test-1_W2-SLF_ABP49_SLF2206060521_UTM-34_car.sgy'),\n",
       " SegyFile(name='test-1_W2-ABP49_SLF_SLF2206102027_UTM-34_car.sgy', fileset='abp49_medu_taran_04', path='F:\\\\ABP49_CruiseData\\\\Parasound P-70\\\\sgy_ps3\\\\test-1_W2-ABP49_SLF_SLF2206102027_UTM-34_car.sgy'),\n",
       " SegyFile(name='test-1_W2-SLF_ABP49_SLF2206061252_UTM-34_car.sgy', fileset='abp49_medu_taran_11', path='F:\\\\ABP49_CruiseData\\\\Parasound P-70\\\\sgy_ps3\\\\test-1_W2-SLF_ABP49_SLF2206061252_UTM-34_car.sgy'),\n",
       " SegyFile(name='test-1_W2-ABP49_SLF_SLF2206110633_UTM-34_car.sgy', fileset='abp49_medu_taran_05', path='F:\\\\ABP49_CruiseData\\\\Parasound P-70\\\\sgy_ps3\\\\test-1_W2-ABP49_SLF_SLF2206110633_UTM-34_car.sgy'),\n",
       " SegyFile(name='test-1_W2-SLF_ABP49_SLF2206060513_UTM-34_car.sgy', fileset='abp49_medu_taran_01', path='F:\\\\ABP49_CruiseData\\\\Parasound P-70\\\\sgy_ps3\\\\test-1_W2-SLF_ABP49_SLF2206060513_UTM-34_car.sgy'),\n",
       " SegyFile(name='test-1_W2-SLF_ABP49_SLF2206061243_UTM-34_car.sgy', fileset='abp49_medu_taran_11', path='F:\\\\ABP49_CruiseData\\\\Parasound P-70\\\\sgy_ps3\\\\test-1_W2-SLF_ABP49_SLF2206061243_UTM-34_car.sgy'),\n",
       " SegyFile(name='test-1_W2-ABP49_SLF_SLF2206100209_UTM-34_car.sgy', fileset='abp49_medu_taran_08', path='F:\\\\ABP49_CruiseData\\\\Parasound P-70\\\\sgy_ps3\\\\test-1_W2-ABP49_SLF_SLF2206100209_UTM-34_car.sgy'),\n",
       " SegyFile(name='test-1_W2-SLF_ABP49_SLF2206061044_UTM-34_car.sgy', fileset='abp49_medu_taran_02', path='F:\\\\ABP49_CruiseData\\\\Parasound P-70\\\\sgy_ps3\\\\test-1_W2-SLF_ABP49_SLF2206061044_UTM-34_car.sgy'),\n",
       " SegyFile(name='test-1_W2-ABP49_SLF_SLF2206100147_UTM-34_car.sgy', fileset='abp49_medu_taran_08', path='F:\\\\ABP49_CruiseData\\\\Parasound P-70\\\\sgy_ps3\\\\test-1_W2-ABP49_SLF_SLF2206100147_UTM-34_car.sgy'),\n",
       " SegyFile(name='test-1_W2-SLF_ABP49_SLF2206061309_UTM-34_car.sgy', fileset='abp49_medu_taran_11', path='F:\\\\ABP49_CruiseData\\\\Parasound P-70\\\\sgy_ps3\\\\test-1_W2-SLF_ABP49_SLF2206061309_UTM-34_car.sgy'),\n",
       " SegyFile(name='test-1_W2-SLF_ABP49_SLF2206090807_UTM-34_car.sgy', fileset='abp49_medu_taran_10', path='F:\\\\ABP49_CruiseData\\\\Parasound P-70\\\\sgy_ps3\\\\test-1_W2-SLF_ABP49_SLF2206090807_UTM-34_car.sgy'),\n",
       " SegyFile(name='test-1_W2-ABP49_SLF_SLF2206101131_UTM-34_car.sgy', fileset='abp49_medu_taran_09', path='F:\\\\ABP49_CruiseData\\\\Parasound P-70\\\\sgy_ps3\\\\test-1_W2-ABP49_SLF_SLF2206101131_UTM-34_car.sgy'),\n",
       " SegyFile(name='test-1_W2-SLF_ABP49_SLF2206061029_UTM-34_car.sgy', fileset='abp49_medu_taran_02', path='F:\\\\ABP49_CruiseData\\\\Parasound P-70\\\\sgy_ps3\\\\test-1_W2-SLF_ABP49_SLF2206061029_UTM-34_car.sgy'),\n",
       " SegyFile(name='test-1_W2-SLF_ABP49_SLF2206090032_UTM-34_car.sgy', fileset='abp49_medu_taran_03', path='F:\\\\ABP49_CruiseData\\\\Parasound P-70\\\\sgy_ps3\\\\test-1_W2-SLF_ABP49_SLF2206090032_UTM-34_car.sgy'),\n",
       " SegyFile(name='test-1_W2-SLF_ABP49_SLF2206090214_UTM-34_car.sgy', fileset='abp49_medu_taran_06', path='F:\\\\ABP49_CruiseData\\\\Parasound P-70\\\\sgy_ps3\\\\test-1_W2-SLF_ABP49_SLF2206090214_UTM-34_car.sgy'),\n",
       " SegyFile(name='test-1_W2-SLF_ABP49_SLF2206060506_UTM-34_car.sgy', fileset='abp49_medu_taran_01', path='F:\\\\ABP49_CruiseData\\\\Parasound P-70\\\\sgy_ps3\\\\test-1_W2-SLF_ABP49_SLF2206060506_UTM-34_car.sgy'),\n",
       " SegyFile(name='test-1_W2-SLF_ABP49_SLF2206061014_UTM-34_car.sgy', fileset='abp49_medu_taran_02', path='F:\\\\ABP49_CruiseData\\\\Parasound P-70\\\\sgy_ps3\\\\test-1_W2-SLF_ABP49_SLF2206061014_UTM-34_car.sgy'),\n",
       " SegyFile(name='test-1_W2-ABP49_SLF_SLF2206100126_UTM-34_car.sgy', fileset='abp49_medu_taran_08', path='F:\\\\ABP49_CruiseData\\\\Parasound P-70\\\\sgy_ps3\\\\test-1_W2-ABP49_SLF_SLF2206100126_UTM-34_car.sgy'),\n",
       " SegyFile(name='test-1_W2-SLF_ABP49_SLF2206061338_UTM-34_car.sgy', fileset='abp49_medu_taran_11', path='F:\\\\ABP49_CruiseData\\\\Parasound P-70\\\\sgy_ps3\\\\test-1_W2-SLF_ABP49_SLF2206061338_UTM-34_car.sgy')]"
      ]
     },
     "execution_count": 10,
     "metadata": {},
     "output_type": "execute_result"
    }
   ],
   "source": [
    "sbp_files"
   ]
  },
  {
   "cell_type": "code",
   "execution_count": 11,
   "metadata": {},
   "outputs": [],
   "source": [
    "path_sort_to = r'F:\\ABP49_CruiseData\\Parasound P-70\\sgy_ps3'\n",
    "sort_files_by_fset(sbp_files, path_sort_to)\n"
   ]
  },
  {
   "cell_type": "code",
   "execution_count": null,
   "metadata": {},
   "outputs": [],
   "source": []
  }
 ],
 "metadata": {
  "kernelspec": {
   "display_name": "Python 3",
   "language": "python",
   "name": "python3"
  },
  "language_info": {
   "codemirror_mode": {
    "name": "ipython",
    "version": 3
   },
   "file_extension": ".py",
   "mimetype": "text/x-python",
   "name": "python",
   "nbconvert_exporter": "python",
   "pygments_lexer": "ipython3",
   "version": "3.10.10"
  },
  "orig_nbformat": 4
 },
 "nbformat": 4,
 "nbformat_minor": 2
}
