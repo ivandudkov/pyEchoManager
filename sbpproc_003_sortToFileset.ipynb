{
 "cells": [
  {
   "cell_type": "code",
   "execution_count": 1,
   "metadata": {},
   "outputs": [],
   "source": [
    "import os\n",
    "from datetime import datetime, timezone\n",
    "from dataclasses import dataclass, field\n",
    "import numpy as np\n",
    "import matplotlib.pyplot as plt\n",
    "import shutil\n",
    "\n",
    "from filemanager import file_ext_search as fes\n",
    "from cli import cli"
   ]
  },
  {
   "cell_type": "code",
   "execution_count": 2,
   "metadata": {},
   "outputs": [],
   "source": [
    "@dataclass\n",
    "class SegyFile:\n",
    "    name: str\n",
    "    fileset: str\n",
    "    path: str"
   ]
  },
  {
   "cell_type": "code",
   "execution_count": 26,
   "metadata": {},
   "outputs": [],
   "source": [
    "\n",
    "def read_sbplog(path, fname_idx, fs_idx, sep=',', encoding='utf-8'):\n",
    "    sbp_files = []\n",
    "    \n",
    "    with open(path, 'r', encoding=encoding) as f1:\n",
    "        file_content = f1.read().splitlines()\n",
    "        \n",
    "        for idx, line in enumerate(file_content):\n",
    "            line_content = line.split(sep)\n",
    "            \n",
    "            if idx == 0:\n",
    "                pass\n",
    "            else:\n",
    "                fname = line_content[fname_idx] + '.sgy'\n",
    "                \n",
    "                fileset = line_content[fs_idx]\n",
    "                if fileset == '':\n",
    "                    fileset = 'None'\n",
    "                sbp_file = SegyFile(name=fname,fileset=fileset,path='')\n",
    "                sbp_files.append(sbp_file)\n",
    "                \n",
    "    return sbp_files\n",
    "\n",
    "def upd_segy_path(sgy_objs, pathlist):\n",
    "    for path in pathlist:\n",
    "        filename = os.path.basename(path)\n",
    "        \n",
    "        for sgy_obj in sgy_objs:\n",
    "            if sgy_obj.name == filename:\n",
    "                sgy_obj.path = path\n",
    "                \n",
    "\n",
    "def sort_files_by_fset(sgy_objs, path_sort_to):\n",
    "    dirlist = [direct.path for direct in os.scandir(path_sort_to) if os.DirEntry.is_dir(direct)]\n",
    "    \n",
    "    for obj in sgy_objs:\n",
    "        if obj.fileset == 'None':\n",
    "            pass\n",
    "        elif obj.fileset == '':\n",
    "            pass\n",
    "        elif obj.path == '':\n",
    "            pass\n",
    "        \n",
    "        else:\n",
    "            fset_dir = os.path.join(path_sort_to, obj.fileset)\n",
    "            \n",
    "            if fset_dir in dirlist:\n",
    "                shutil.move(obj.path, fset_dir)\n",
    "                obj.path = os.path.join(fset_dir, os.path.basename(obj.path))\n",
    "                \n",
    "            else:\n",
    "                os.mkdir(fset_dir)\n",
    "                dirlist.append(fset_dir)\n",
    "\n",
    "                shutil.move(obj.path, fset_dir)\n",
    "                obj.path = os.path.join(fset_dir, os.path.basename(obj.path))"
   ]
  },
  {
   "cell_type": "code",
   "execution_count": 35,
   "metadata": {},
   "outputs": [
    {
     "name": "stdout",
     "output_type": "stream",
     "text": [
      "Searching *.sgy files in directory:H:\\SBP_DATA\\ABP48\n"
     ]
    },
    {
     "ename": "RuntimeError",
     "evalue": "Searching was unsuccessful. There are no .sgy files in H:\\SBP_DATA\\ABP48 folder",
     "output_type": "error",
     "traceback": [
      "\u001b[1;31m---------------------------------------------------------------------------\u001b[0m",
      "\u001b[1;31mRuntimeError\u001b[0m                              Traceback (most recent call last)",
      "Cell \u001b[1;32mIn[35], line 2\u001b[0m\n\u001b[0;32m      1\u001b[0m segy_path \u001b[38;5;241m=\u001b[39m \u001b[38;5;124mr\u001b[39m\u001b[38;5;124m'\u001b[39m\u001b[38;5;124mH:\u001b[39m\u001b[38;5;124m\\\u001b[39m\u001b[38;5;124mSBP_DATA\u001b[39m\u001b[38;5;124m\\\u001b[39m\u001b[38;5;124mABP48\u001b[39m\u001b[38;5;124m'\u001b[39m\n\u001b[1;32m----> 2\u001b[0m segy_files \u001b[38;5;241m=\u001b[39m \u001b[43mfes\u001b[49m\u001b[38;5;241;43m.\u001b[39;49m\u001b[43mfile_ext_search\u001b[49m\u001b[43m(\u001b[49m\u001b[38;5;124;43m'\u001b[39;49m\u001b[38;5;124;43m.sgy\u001b[39;49m\u001b[38;5;124;43m'\u001b[39;49m\u001b[43m,\u001b[49m\u001b[43m \u001b[49m\u001b[43msegy_path\u001b[49m\u001b[43m,\u001b[49m\u001b[43m \u001b[49m\u001b[43mrecursive\u001b[49m\u001b[38;5;241;43m=\u001b[39;49m\u001b[38;5;28;43;01mFalse\u001b[39;49;00m\u001b[43m)\u001b[49m\n\u001b[0;32m      4\u001b[0m windows_1251_encoding \u001b[38;5;241m=\u001b[39m \u001b[38;5;124m'\u001b[39m\u001b[38;5;124mcp1251\u001b[39m\u001b[38;5;124m'\u001b[39m\n\u001b[0;32m      6\u001b[0m qgis_log \u001b[38;5;241m=\u001b[39m \u001b[38;5;124mr\u001b[39m\u001b[38;5;124m'\u001b[39m\u001b[38;5;124mH:\u001b[39m\u001b[38;5;124m\\\u001b[39m\u001b[38;5;124mSBP_DATA\u001b[39m\u001b[38;5;124m\\\u001b[39m\u001b[38;5;124mabp48_sbp_profile_names.csv\u001b[39m\u001b[38;5;124m'\u001b[39m\n",
      "File \u001b[1;32md:\\aa_PythonWorkspace\\pyEchoManager\\filemanager\\file_ext_search.py:60\u001b[0m, in \u001b[0;36mfile_ext_search\u001b[1;34m(extension, path, search_up, recursive)\u001b[0m\n\u001b[0;32m     58\u001b[0m                 count \u001b[38;5;241m+\u001b[39m\u001b[38;5;241m=\u001b[39m \u001b[38;5;241m1\u001b[39m\n\u001b[0;32m     59\u001b[0m \u001b[38;5;28;01melif\u001b[39;00m \u001b[38;5;28mlen\u001b[39m(paths) \u001b[38;5;241m==\u001b[39m \u001b[38;5;241m0\u001b[39m \u001b[38;5;129;01mand\u001b[39;00m search_up \u001b[38;5;241m==\u001b[39m \u001b[38;5;28;01mFalse\u001b[39;00m:\n\u001b[1;32m---> 60\u001b[0m     \u001b[38;5;28;01mraise\u001b[39;00m \u001b[38;5;167;01mRuntimeError\u001b[39;00m(\u001b[38;5;124mf\u001b[39m\u001b[38;5;124m'\u001b[39m\u001b[38;5;124mSearching was unsuccessful. There are no \u001b[39m\u001b[38;5;132;01m{\u001b[39;00mextension\u001b[38;5;132;01m}\u001b[39;00m\u001b[38;5;124m files in \u001b[39m\u001b[38;5;132;01m{\u001b[39;00mpath\u001b[38;5;132;01m}\u001b[39;00m\u001b[38;5;124m folder\u001b[39m\u001b[38;5;124m'\u001b[39m)\n\u001b[0;32m     62\u001b[0m \u001b[38;5;28;01mif\u001b[39;00m \u001b[38;5;28mlen\u001b[39m(paths) \u001b[38;5;241m==\u001b[39m \u001b[38;5;241m0\u001b[39m:\n\u001b[0;32m     63\u001b[0m     \u001b[38;5;28;01mraise\u001b[39;00m \u001b[38;5;167;01mRuntimeError\u001b[39;00m(\u001b[38;5;124mf\u001b[39m\u001b[38;5;124m'\u001b[39m\u001b[38;5;124mSearching was unsuccessful. There are no \u001b[39m\u001b[38;5;132;01m{\u001b[39;00mextension\u001b[38;5;132;01m}\u001b[39;00m\u001b[38;5;124m files in \u001b[39m\u001b[38;5;132;01m{\u001b[39;00mpath\u001b[38;5;132;01m}\u001b[39;00m\u001b[38;5;124m folder\u001b[39m\u001b[38;5;124m'\u001b[39m)\n",
      "\u001b[1;31mRuntimeError\u001b[0m: Searching was unsuccessful. There are no .sgy files in H:\\SBP_DATA\\ABP48 folder"
     ]
    }
   ],
   "source": [
    "segy_path = r'H:\\SBP_DATA\\ABP48'\n",
    "segy_files = fes.file_ext_search('.sgy', segy_path, recursive=False)\n",
    "\n",
    "windows_1251_encoding = 'cp1251'\n",
    "\n",
    "qgis_log = r'H:\\SBP_DATA\\abp48_sbp_profile_names.csv'\n",
    "sbp_files = read_sbplog(qgis_log, 0, -2, encoding=windows_1251_encoding)"
   ]
  },
  {
   "cell_type": "code",
   "execution_count": 32,
   "metadata": {},
   "outputs": [],
   "source": [
    "upd_segy_path(sbp_files, segy_files)"
   ]
  },
  {
   "cell_type": "code",
   "execution_count": 33,
   "metadata": {},
   "outputs": [
    {
     "data": {
      "text/plain": [
       "[SegyFile(name='Profile-0_W2-SEB_SLF2306201310_LL_car.sgy', fileset='None', path='H:\\\\SBP_DATA\\\\ANS54\\\\SEB\\\\Profile-0_W2-SEB_SLF2306201310_LL_car.sgy'),\n",
       " SegyFile(name='SEB_A.7-11_W2-SEB_SLF2306202204_LL_car.sgy', fileset='ans54_id023_RybCenterPo_Po_utm34n', path='H:\\\\SBP_DATA\\\\ANS54\\\\SEB\\\\SEB_A.7-11_W2-SEB_SLF2306202204_LL_car.sgy'),\n",
       " SegyFile(name='SAM1_43-44-78_W2-SEB_SLF2306220153_LL_car.sgy', fileset='ans54_id057_RybCenterPo_Po_utm34n', path='H:\\\\SBP_DATA\\\\ANS54\\\\SEB\\\\SAM1_43-44-78_W2-SEB_SLF2306220153_LL_car.sgy'),\n",
       " SegyFile(name='Profile-0_W2-SEB_SLF2306201752_LL_car.sgy', fileset='ans54_id004_WideSlope_Tr_utm34n', path='H:\\\\SBP_DATA\\\\ANS54\\\\SEB\\\\Profile-0_W2-SEB_SLF2306201752_LL_car.sgy'),\n",
       " SegyFile(name='Profile-0_W2-SEB_SLF2306201552_LL_car.sgy', fileset='ans54_id003_WideSlope_Tr_utm34n', path='H:\\\\SBP_DATA\\\\ANS54\\\\SEB\\\\Profile-0_W2-SEB_SLF2306201552_LL_car.sgy'),\n",
       " SegyFile(name='SAM1_18-30_W2-SEB_SLF2306210253_LL_car.sgy', fileset='ans54_id031_RybCenterPo_Po_utm34n', path='H:\\\\SBP_DATA\\\\ANS54\\\\SEB\\\\SAM1_18-30_W2-SEB_SLF2306210253_LL_car.sgy'),\n",
       " SegyFile(name='SEB_A..4-5-7_W2-SEB_SLF2306202057_LL_car.sgy', fileset='ans54_id018_RybCenterPo_Po_utm34n', path='H:\\\\SBP_DATA\\\\ANS54\\\\SEB\\\\SEB_A..4-5-7_W2-SEB_SLF2306202057_LL_car.sgy'),\n",
       " SegyFile(name='SAM1_44-79_W2-SEB_SLF2306220218_LL_car.sgy', fileset='ans54_id067_RybCenterPo_Po_utm34n', path='H:\\\\SBP_DATA\\\\ANS54\\\\SEB\\\\SAM1_44-79_W2-SEB_SLF2306220218_LL_car.sgy'),\n",
       " SegyFile(name='SAM1_37-38-66_W2-SEB_SLF2306212014_LL_car.sgy', fileset='ans54_id047_RybCenterPo_Po_utm34n', path='H:\\\\SBP_DATA\\\\ANS54\\\\SEB\\\\SAM1_37-38-66_W2-SEB_SLF2306212014_LL_car.sgy'),\n",
       " SegyFile(name='SAM1_46-47-85_W2-SEB _SLF2306220917_LL_car.sgy', fileset='ans54_id006_SambWest_Tr_utm34n', path=''),\n",
       " SegyFile(name='SAM1_36-37-64_W2-SEB_SLF2306211916_LL_car.sgy', fileset='ans54_id048_RybCenterPo_Po_utm34n', path='H:\\\\SBP_DATA\\\\ANS54\\\\SEB\\\\SAM1_36-37-64_W2-SEB_SLF2306211916_LL_car.sgy'),\n",
       " SegyFile(name='SAM1_29-30-49_W2-SEB_SLF2306211127_LL_car.sgy', fileset='ans54_id061_RybCenterPo_Po_utm34n', path='H:\\\\SBP_DATA\\\\ANS54\\\\SEB\\\\SAM1_29-30-49_W2-SEB_SLF2306211127_LL_car.sgy'),\n",
       " SegyFile(name='SAM1_36-63_W2-SEB_SLF2306211832_LL_car.sgy', fileset='ans54_id048_RybCenterPo_Po_utm34n', path='H:\\\\SBP_DATA\\\\ANS54\\\\SEB\\\\SAM1_36-63_W2-SEB_SLF2306211832_LL_car.sgy'),\n",
       " SegyFile(name='SAM1_34-61_W2-SEB_SLF2306211725_LL_car.sgy', fileset='ans54_id046_RybCenterPo_Po_utm34n', path='H:\\\\SBP_DATA\\\\ANS54\\\\SEB\\\\SAM1_34-61_W2-SEB_SLF2306211725_LL_car.sgy'),\n",
       " SegyFile(name='SAM1_40-41-72_W2-SEB_SLF2306212307_LL_car.sgy', fileset='ans54_id072_RybCenterPo_Po_utm34n', path='H:\\\\SBP_DATA\\\\ANS54\\\\SEB\\\\SAM1_40-41-72_W2-SEB_SLF2306212307_LL_car.sgy'),\n",
       " SegyFile(name='SAM1_19-36_W2-SEB_SLF2306210425_LL_car.sgy', fileset='ans54_id032_RybCenterPo_Po_utm34n', path='H:\\\\SBP_DATA\\\\ANS54\\\\SEB\\\\SAM1_19-36_W2-SEB_SLF2306210425_LL_car.sgy'),\n",
       " SegyFile(name='SAM1_39-69_W2-SEB_SLF2306212116_LL_car.sgy', fileset='ans54_id051_RybCenterPo_Po_utm34n', path='H:\\\\SBP_DATA\\\\ANS54\\\\SEB\\\\SAM1_39-69_W2-SEB_SLF2306212116_LL_car.sgy'),\n",
       " SegyFile(name='SAM1_31-32-53_W2-SEB_SLF2306211311_LL_car.sgy', fileset='ans54_id042_RybCenterPo_Po_utm34n', path='H:\\\\SBP_DATA\\\\ANS54\\\\SEB\\\\SAM1_31-32-53_W2-SEB_SLF2306211311_LL_car.sgy'),\n",
       " SegyFile(name='SEB_A..3_4-5_W2-SEB_SLF2306202029_LL_car.sgy', fileset='ans54_id016_RybCenterPo_Po_utm34n', path='H:\\\\SBP_DATA\\\\ANS54\\\\SEB\\\\SEB_A..3_4-5_W2-SEB_SLF2306202029_LL_car.sgy'),\n",
       " SegyFile(name='SEB_A.6-9_W2-SEB_SLF2306202134_LL_car.sgy', fileset='ans54_id020_RybCenterPo_Po_utm34n', path='H:\\\\SBP_DATA\\\\ANS54\\\\SEB\\\\SEB_A.6-9_W2-SEB_SLF2306202134_LL_car.sgy')]"
      ]
     },
     "execution_count": 33,
     "metadata": {},
     "output_type": "execute_result"
    }
   ],
   "source": [
    "sbp_files[0:20]"
   ]
  },
  {
   "cell_type": "code",
   "execution_count": 34,
   "metadata": {},
   "outputs": [],
   "source": [
    "path_sort_to = segy_path\n",
    "sort_files_by_fset(sbp_files, path_sort_to)\n"
   ]
  },
  {
   "cell_type": "code",
   "execution_count": 14,
   "metadata": {},
   "outputs": [
    {
     "name": "stdout",
     "output_type": "stream",
     "text": [
      "ai61_seb_001_RNF_Po\n",
      "ai61_seb_002_RNF_Po\n",
      "ai61_seb_003_RNF_Po\n",
      "ai61_seb_004_RNF_Po\n",
      "ai61_seb_005_RNF_Po\n",
      "ai61_seb_006_RNF_Po\n",
      "ai61_seb_007_RNF_Po\n",
      "ai61_seb_010_RNF_Po\n",
      "ai61_seb_012_RNF_Po\n",
      "ai61_seb_013_RNF_Po\n",
      "ai61_seb_015_RNF_Po\n"
     ]
    }
   ],
   "source": [
    "fs = []\n",
    "\n",
    "for file in sbp_files:\n",
    "    if file.fileset != 'None' and file.path != '':\n",
    "        fs.append(file.fileset)\n",
    "        \n",
    "\n",
    "new = np.unique(fs)\n",
    "for fi in new:\n",
    "    print(fi)"
   ]
  },
  {
   "cell_type": "code",
   "execution_count": null,
   "metadata": {},
   "outputs": [],
   "source": []
  }
 ],
 "metadata": {
  "kernelspec": {
   "display_name": "Python 3",
   "language": "python",
   "name": "python3"
  },
  "language_info": {
   "codemirror_mode": {
    "name": "ipython",
    "version": 3
   },
   "file_extension": ".py",
   "mimetype": "text/x-python",
   "name": "python",
   "nbconvert_exporter": "python",
   "pygments_lexer": "ipython3",
   "version": "3.11.0"
  },
  "orig_nbformat": 4
 },
 "nbformat": 4,
 "nbformat_minor": 2
}
