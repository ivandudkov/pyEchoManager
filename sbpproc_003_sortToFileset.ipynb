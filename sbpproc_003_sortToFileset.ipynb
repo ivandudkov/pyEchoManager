{
 "cells": [
  {
   "cell_type": "code",
   "execution_count": 16,
   "metadata": {},
   "outputs": [
    {
     "name": "stdout",
     "output_type": "stream",
     "text": [
      "The autoreload extension is already loaded. To reload it, use:\n",
      "  %reload_ext autoreload\n"
     ]
    }
   ],
   "source": [
    "%load_ext autoreload\n",
    "%autoreload 2\n",
    "\n",
    "from sbp_tools.sbp_fileset_sort import read_sbplog, upd_segy_path, sort_files_by_fset\n",
    "import numpy as np\n",
    "\n",
    "from filemanager import file_ext_search as fes"
   ]
  },
  {
   "cell_type": "code",
   "execution_count": 15,
   "metadata": {},
   "outputs": [
    {
     "name": "stdout",
     "output_type": "stream",
     "text": [
      "Searching *.sgy files in directory:F:\\SBP_SES\\AI-68_converted\\SEB_stg01_GEOCOORDS_ALL\n"
     ]
    }
   ],
   "source": [
    "segy_path = r'F:\\SBP_SES\\AI-68_converted\\SEB_stg01_GEOCOORDS_ALL'\n",
    "segy_files = fes.file_ext_search('.sgy', segy_path, recursive=False)\n",
    "\n",
    "qgis_log = r'C:\\YandexDisk\\aa_cloudmbesproceessing\\AI-68\\ai68_seb_profiles.csv'\n",
    "sbp_files = read_sbplog(qgis_log, 0, -4)"
   ]
  },
  {
   "cell_type": "code",
   "execution_count": 16,
   "metadata": {},
   "outputs": [],
   "source": [
    "upd_segy_path(sbp_files, segy_files)"
   ]
  },
  {
   "cell_type": "code",
   "execution_count": 17,
   "metadata": {},
   "outputs": [
    {
     "data": {
      "text/plain": [
       "[SegyFile(name='AI6820240827_095512_MF_RAW_HF2.sgy', fileset='ai68_id001_BaltSlope', path='F:\\\\SBP_SES\\\\AI-68_converted\\\\SEB_stg01_GEOCOORDS_ALL\\\\AI6820240827_095512_MF_RAW_HF2.sgy'),\n",
       " SegyFile(name='AI6820240827_095512_MF_RAW_HF3.sgy', fileset='ai68_id001_BaltSlope', path='F:\\\\SBP_SES\\\\AI-68_converted\\\\SEB_stg01_GEOCOORDS_ALL\\\\AI6820240827_095512_MF_RAW_HF3.sgy'),\n",
       " SegyFile(name='AI6820240827_201642_MF_RAW_HF3.sgy', fileset='ai68_id010_GdPoly01', path='F:\\\\SBP_SES\\\\AI-68_converted\\\\SEB_stg01_GEOCOORDS_ALL\\\\AI6820240827_201642_MF_RAW_HF3.sgy'),\n",
       " SegyFile(name='AI6820240828_054524_MF_RAW_HF1.sgy', fileset='ai68_id017_GdPoly01', path='F:\\\\SBP_SES\\\\AI-68_converted\\\\SEB_stg01_GEOCOORDS_ALL\\\\AI6820240828_054524_MF_RAW_HF1.sgy'),\n",
       " SegyFile(name='AI6820240827_221649_MF_RAW_HF1.sgy', fileset='ai68_id011_GdPoly01', path='F:\\\\SBP_SES\\\\AI-68_converted\\\\SEB_stg01_GEOCOORDS_ALL\\\\AI6820240827_221649_MF_RAW_HF1.sgy'),\n",
       " SegyFile(name='AI6820240827_201642_MF_RAW_HF1.sgy', fileset='ai68_id010_GdPoly01', path='F:\\\\SBP_SES\\\\AI-68_converted\\\\SEB_stg01_GEOCOORDS_ALL\\\\AI6820240827_201642_MF_RAW_HF1.sgy'),\n",
       " SegyFile(name='AI6820240828_054524_MF_RAW_HF2.sgy', fileset='ai68_id017_GdPoly01', path='F:\\\\SBP_SES\\\\AI-68_converted\\\\SEB_stg01_GEOCOORDS_ALL\\\\AI6820240828_054524_MF_RAW_HF2.sgy'),\n",
       " SegyFile(name='AI6820240827_201642_MF_RAW_HF2.sgy', fileset='ai68_id010_GdPoly01', path='F:\\\\SBP_SES\\\\AI-68_converted\\\\SEB_stg01_GEOCOORDS_ALL\\\\AI6820240827_201642_MF_RAW_HF2.sgy'),\n",
       " SegyFile(name='AI6820240827_191639_MF_RAW_HF1.sgy', fileset='ai68_id008_GdPoly01', path='F:\\\\SBP_SES\\\\AI-68_converted\\\\SEB_stg01_GEOCOORDS_ALL\\\\AI6820240827_191639_MF_RAW_HF1.sgy'),\n",
       " SegyFile(name='AI6820240828_041518_MF_RAW_LF1.sgy', fileset='ai68_id016_GdPoly01', path='F:\\\\SBP_SES\\\\AI-68_converted\\\\SEB_stg01_GEOCOORDS_ALL\\\\AI6820240828_041518_MF_RAW_LF1.sgy'),\n",
       " SegyFile(name='AI6820240827_165555_MF_RAW_LF3.sgy', fileset='ai68_id006_BaltSlope', path='F:\\\\SBP_SES\\\\AI-68_converted\\\\SEB_stg01_GEOCOORDS_ALL\\\\AI6820240827_165555_MF_RAW_LF3.sgy'),\n",
       " SegyFile(name='AI6820240828_034516_MF_RAW_LF2.sgy', fileset='ai68_id016_GdPoly01', path='F:\\\\SBP_SES\\\\AI-68_converted\\\\SEB_stg01_GEOCOORDS_ALL\\\\AI6820240828_034516_MF_RAW_LF2.sgy'),\n",
       " SegyFile(name='AI6820240827_191639_MF_RAW_HF2.sgy', fileset='ai68_id008_GdPoly01', path='F:\\\\SBP_SES\\\\AI-68_converted\\\\SEB_stg01_GEOCOORDS_ALL\\\\AI6820240827_191639_MF_RAW_HF2.sgy'),\n",
       " SegyFile(name='AI6820240828_034516_MF_RAW_LF3.sgy', fileset='ai68_id016_GdPoly01', path='F:\\\\SBP_SES\\\\AI-68_converted\\\\SEB_stg01_GEOCOORDS_ALL\\\\AI6820240828_034516_MF_RAW_LF3.sgy'),\n",
       " SegyFile(name='AI6820240827_233154_MF_RAW_HF2.sgy', fileset='ai68_id012_GdPoly01', path='F:\\\\SBP_SES\\\\AI-68_converted\\\\SEB_stg01_GEOCOORDS_ALL\\\\AI6820240827_233154_MF_RAW_HF2.sgy'),\n",
       " SegyFile(name='AI6820240827_165555_MF_RAW_LF1.sgy', fileset='ai68_id006_BaltSlope', path='F:\\\\SBP_SES\\\\AI-68_converted\\\\SEB_stg01_GEOCOORDS_ALL\\\\AI6820240827_165555_MF_RAW_LF1.sgy'),\n",
       " SegyFile(name='AI6820240827_221649_MF_RAW_HF2.sgy', fileset='ai68_id011_GdPoly01', path='F:\\\\SBP_SES\\\\AI-68_converted\\\\SEB_stg01_GEOCOORDS_ALL\\\\AI6820240827_221649_MF_RAW_HF2.sgy'),\n",
       " SegyFile(name='AI6820240827_233154_MF_RAW_HF3.sgy', fileset='ai68_id012_GdPoly01', path='F:\\\\SBP_SES\\\\AI-68_converted\\\\SEB_stg01_GEOCOORDS_ALL\\\\AI6820240827_233154_MF_RAW_HF3.sgy'),\n",
       " SegyFile(name='AI6820240827_165555_MF_RAW_LF2.sgy', fileset='ai68_id006_BaltSlope', path='F:\\\\SBP_SES\\\\AI-68_converted\\\\SEB_stg01_GEOCOORDS_ALL\\\\AI6820240827_165555_MF_RAW_LF2.sgy'),\n",
       " SegyFile(name='AI6820240828_034516_MF_RAW_LF1.sgy', fileset='ai68_id016_GdPoly01', path='F:\\\\SBP_SES\\\\AI-68_converted\\\\SEB_stg01_GEOCOORDS_ALL\\\\AI6820240828_034516_MF_RAW_LF1.sgy')]"
      ]
     },
     "execution_count": 17,
     "metadata": {},
     "output_type": "execute_result"
    }
   ],
   "source": [
    "sbp_files[0:20]"
   ]
  },
  {
   "cell_type": "code",
   "execution_count": 18,
   "metadata": {},
   "outputs": [],
   "source": [
    "path_sort_to = segy_path\n",
    "sort_files_by_fset(sbp_files, path_sort_to, is_acf=True)\n"
   ]
  },
  {
   "cell_type": "code",
   "execution_count": 17,
   "metadata": {},
   "outputs": [
    {
     "name": "stdout",
     "output_type": "stream",
     "text": [
      "ai68_id024_GdCenter\n",
      "ai68_id025_GdCenter\n",
      "ai68_id026_GdCenter\n",
      "ai68_id027_GdCenter\n",
      "ai68_id028_GotSlope\n",
      "ai68_id029_GotSlope\n",
      "ai68_id030_GdCenter\n",
      "ai68_id031_GdSlope\n",
      "ai68_id032_BaltSlope\n",
      "ai68_id033_BaltSlope\n",
      "ai68_id034_BaltSlope\n",
      "ai68_id035_GdCenter\n",
      "ai68_id036_GdCenter\n",
      "ai68_id037_GdCenter\n",
      "ai68_id038_GdCenter\n",
      "ai68_id039_GotSlope\n",
      "ai68_id040_GotSlope\n"
     ]
    }
   ],
   "source": [
    "fs = []\n",
    "\n",
    "for file in sbp_files:\n",
    "    if file.fileset != 'None' and file.path != '':\n",
    "        fs.append(file.fileset)\n",
    "        \n",
    "\n",
    "new = np.unique(fs)\n",
    "for fi in new:\n",
    "    print(fi)"
   ]
  },
  {
   "cell_type": "code",
   "execution_count": null,
   "metadata": {},
   "outputs": [],
   "source": []
  }
 ],
 "metadata": {
  "kernelspec": {
   "display_name": "Python 3",
   "language": "python",
   "name": "python3"
  },
  "language_info": {
   "codemirror_mode": {
    "name": "ipython",
    "version": 3
   },
   "file_extension": ".py",
   "mimetype": "text/x-python",
   "name": "python",
   "nbconvert_exporter": "python",
   "pygments_lexer": "ipython3",
   "version": "3.12.2"
  },
  "orig_nbformat": 4
 },
 "nbformat": 4,
 "nbformat_minor": 2
}
