{
 "cells": [
  {
   "cell_type": "code",
   "execution_count": 1,
   "metadata": {},
   "outputs": [],
   "source": [
    "from sbp_tools.sbp_fileset_sort import read_sbplog, upd_segy_path, sort_files_by_fset\n",
    "import numpy as np\n",
    "\n",
    "from filemanager import file_ext_search as fes"
   ]
  },
  {
   "cell_type": "code",
   "execution_count": 2,
   "metadata": {},
   "outputs": [],
   "source": [
    "@dataclass\n",
    "class SegyFile:\n",
    "    name: str\n",
    "    fileset: str\n",
    "    path: str"
   ]
  },
  {
   "cell_type": "code",
   "execution_count": 3,
   "metadata": {},
   "outputs": [],
   "source": [
    "\n",
    "def read_sbplog(path, fname_idx, fs_idx, sep=','):\n",
    "    sbp_files = []\n",
    "    \n",
    "    with open(path, 'r') as f1:\n",
    "        file_content = f1.read().splitlines()\n",
    "        \n",
    "        for idx, line in enumerate(file_content):\n",
    "            line_content = line.split(sep)\n",
    "            \n",
    "            if idx == 0:\n",
    "                pass\n",
    "            else:\n",
    "                fname = (line_content[fname_idx] + '.sgy').replace(\"\\\"\", \"\")\n",
    "                \n",
    "                fileset = line_content[fs_idx]\n",
    "                if fileset == '':\n",
    "                    fileset = 'None'\n",
    "                sbp_file = SegyFile(name=fname,fileset=fileset,path='')\n",
    "                sbp_files.append(sbp_file)\n",
    "                \n",
    "    return sbp_files\n",
    "\n",
    "def upd_segy_path(sgy_objs, pathlist):\n",
    "    for path in pathlist:\n",
    "        filename = os.path.basename(path)\n",
    "        \n",
    "        for sgy_obj in sgy_objs:\n",
    "            if sgy_obj.name == filename:\n",
    "                sgy_obj.path = path\n",
    "                \n",
    "\n",
    "def sort_files_by_fset(sgy_objs, path_sort_to):\n",
    "    dirlist = [direct.path for direct in os.scandir(path_sort_to) if os.DirEntry.is_dir(direct)]\n",
    "    \n",
    "    for obj in sgy_objs:\n",
    "        if obj.fileset == 'None':\n",
    "            pass\n",
    "        elif obj.fileset == '':\n",
    "            pass\n",
    "        elif obj.path == '':\n",
    "            pass\n",
    "        \n",
    "        else:\n",
    "            fset_dir = os.path.join(path_sort_to, obj.fileset)\n",
    "            \n",
    "            if fset_dir in dirlist:\n",
    "                shutil.move(obj.path, fset_dir)\n",
    "                obj.path = os.path.join(fset_dir, os.path.basename(obj.path))\n",
    "                \n",
    "            else:\n",
    "                os.mkdir(fset_dir)\n",
    "                dirlist.append(fset_dir)\n",
    "\n",
    "                shutil.move(obj.path, fset_dir)\n",
    "                obj.path = os.path.join(fset_dir, os.path.basename(obj.path))"
   ]
  },
  {
   "cell_type": "code",
   "execution_count": 12,
   "metadata": {},
   "outputs": [
    {
     "name": "stdout",
     "output_type": "stream",
     "text": [
      "Searching *.sgy files in directory:E:\\SBP_DATA\\ABP49\n"
     ]
    }
   ],
   "source": [
    "segy_path = r'E:\\SBP_DATA\\ABP49'\n",
    "segy_files = fes.file_ext_search('.sgy', segy_path, recursive=False)\n",
    "\n",
    "qgis_log = r'E:\\SBP_DATA\\abp49_sbp_profile_names_notall.csv'\n",
    "sbp_files = read_sbplog(qgis_log, 1, -1)"
   ]
  },
  {
   "cell_type": "code",
   "execution_count": 13,
   "metadata": {},
   "outputs": [],
   "source": [
    "upd_segy_path(sbp_files, segy_files)"
   ]
  },
  {
   "cell_type": "code",
   "execution_count": 14,
   "metadata": {},
   "outputs": [
    {
     "data": {
      "text/plain": [
       "[SegyFile(name='test-1_W2_SLF2206120124_UTM-34_car.sgy', fileset='abp49_id054_TaranProf2_Pr_wgs84utm34n', path='E:\\\\SBP_DATA\\\\ABP49\\\\test-1_W2_SLF2206120124_UTM-34_car.sgy'),\n",
       " SegyFile(name='test-1_W2-ABP49_SLF_SLF2206100826_UTM-34_car.sgy', fileset='abp49_id258_SambNorthPo1_Po_wgs84utm34n', path='E:\\\\SBP_DATA\\\\ABP49\\\\test-1_W2-ABP49_SLF_SLF2206100826_UTM-34_car.sgy'),\n",
       " SegyFile(name='test-1_W2-ABP49_SLF_SLF2206100944_UTM-34_car.sgy', fileset='abp49_id252_SambNorthPo1_Po_wgs84utm34n', path='E:\\\\SBP_DATA\\\\ABP49\\\\test-1_W2-ABP49_SLF_SLF2206100944_UTM-34_car.sgy'),\n",
       " SegyFile(name='test-1_W2-SLF_ABP49_SLF2206090228_UTM-34_car.sgy', fileset='abp49_id298_SambNorthPo1_Po_wgs84utm34n', path='E:\\\\SBP_DATA\\\\ABP49\\\\test-1_W2-SLF_ABP49_SLF2206090228_UTM-34_car.sgy'),\n",
       " SegyFile(name='test-1_W2_SLF2206141821_UTM-34_env.sgy', fileset='abp49_id216_SambNorthPo1_Po_wgs84utm34n', path='E:\\\\SBP_DATA\\\\ABP49\\\\test-1_W2_SLF2206141821_UTM-34_env.sgy'),\n",
       " SegyFile(name='test-1_W2-SLF_ABP49_SLF2206031309_UTM-34_car.sgy', fileset='abp49_id017_ValleyPo_Po_wgs84utm34n', path='E:\\\\SBP_DATA\\\\ABP49\\\\test-1_W2-SLF_ABP49_SLF2206031309_UTM-34_car.sgy'),\n",
       " SegyFile(name='test-1_W2_SLF2206120054_UTM-34_car.sgy', fileset='abp49_id054_TaranProf2_Pr_wgs84utm34n', path='E:\\\\SBP_DATA\\\\ABP49\\\\test-1_W2_SLF2206120054_UTM-34_car.sgy'),\n",
       " SegyFile(name='test-1_W2-SLF_ABP49_SLF2206060836_UTM-34_car.sgy', fileset='abp49_id304_SambNorthPo1_Po_wgs84utm34n', path='E:\\\\SBP_DATA\\\\ABP49\\\\test-1_W2-SLF_ABP49_SLF2206060836_UTM-34_car.sgy'),\n",
       " SegyFile(name='test-1_W2-SLF_ABP49_SLF2206060708_UTM-34_car.sgy', fileset='abp49_id315_SambNorthPo1_Po_wgs84utm34n', path='E:\\\\SBP_DATA\\\\ABP49\\\\test-1_W2-SLF_ABP49_SLF2206060708_UTM-34_car.sgy'),\n",
       " SegyFile(name='test-1_W2-SLF_ABP49_SLF2206082353_UTM-34_car.sgy', fileset='abp49_id305_SambNorthPo1_Po_wgs84utm34n', path='E:\\\\SBP_DATA\\\\ABP49\\\\test-1_W2-SLF_ABP49_SLF2206082353_UTM-34_car.sgy'),\n",
       " SegyFile(name='test-1_W2-SLF_ABP49_SLF2206070043_UTM-32_car.sgy', fileset='None', path='E:\\\\SBP_DATA\\\\ABP49\\\\test-1_W2-SLF_ABP49_SLF2206070043_UTM-32_car.sgy'),\n",
       " SegyFile(name='test-1_W2-SLF_ABP49_SLF2206091249_UTM-34_car.sgy', fileset='abp49_id281_SambNorthPo1_Po_wgs84utm34n', path='E:\\\\SBP_DATA\\\\ABP49\\\\test-1_W2-SLF_ABP49_SLF2206091249_UTM-34_car.sgy'),\n",
       " SegyFile(name='test-1_W2-ABP49_SLF_SLF2206092008_UTM-34_car.sgy', fileset='abp49_id338_SambNorthPo1_Po_wgs84utm34n', path='E:\\\\SBP_DATA\\\\ABP49\\\\test-1_W2-ABP49_SLF_SLF2206092008_UTM-34_car.sgy'),\n",
       " SegyFile(name='test-1_W2-ABP49_SLF_SLF2206101110_UTM-34_car.sgy', fileset='abp49_id254_SambNorthPo1_Po_wgs84utm34n', path='E:\\\\SBP_DATA\\\\ABP49\\\\test-1_W2-ABP49_SLF_SLF2206101110_UTM-34_car.sgy'),\n",
       " SegyFile(name='test-1_W2-ABP49_SLF_SLF2206110242_UTM-32_car.sgy', fileset='None', path='E:\\\\SBP_DATA\\\\ABP49\\\\test-1_W2-ABP49_SLF_SLF2206110242_UTM-32_car.sgy'),\n",
       " SegyFile(name='test-1_W2-ABP49_SLF_SLF2206101536_UTM-34_car.sgy', fileset='None', path='E:\\\\SBP_DATA\\\\ABP49\\\\test-1_W2-ABP49_SLF_SLF2206101536_UTM-34_car.sgy'),\n",
       " SegyFile(name='test-1_W2_SLF2206130859_UTM-34_car.sgy', fileset='abp49_id010_GdGotNorth_Tr_wgs84utm34n', path='E:\\\\SBP_DATA\\\\ABP49\\\\test-1_W2_SLF2206130859_UTM-34_car.sgy'),\n",
       " SegyFile(name='test-1_W2_SLF2206130100_UTM-34_car.sgy', fileset='abp49_id007_GdGotNorth_Tr_wgs84utm34n', path='E:\\\\SBP_DATA\\\\ABP49\\\\test-1_W2_SLF2206130100_UTM-34_car.sgy'),\n",
       " SegyFile(name='test-1_W2_SLF2206131129_UTM-34_car.sgy', fileset='abp49_id011_GdGotLong_Pr_wgs84utm34n', path='E:\\\\SBP_DATA\\\\ABP49\\\\test-1_W2_SLF2206131129_UTM-34_car.sgy'),\n",
       " SegyFile(name='test-1_W2-SLF_ABP49_SLF2206030104_UTM-32_car.sgy', fileset='None', path='E:\\\\SBP_DATA\\\\ABP49\\\\test-1_W2-SLF_ABP49_SLF2206030104_UTM-32_car.sgy')]"
      ]
     },
     "execution_count": 14,
     "metadata": {},
     "output_type": "execute_result"
    }
   ],
   "source": [
    "sbp_files[0:20]"
   ]
  },
  {
   "cell_type": "code",
   "execution_count": 15,
   "metadata": {},
   "outputs": [],
   "source": [
    "path_sort_to = segy_path\n",
    "sort_files_by_fset(sbp_files, path_sort_to)\n"
   ]
  },
  {
   "cell_type": "code",
   "execution_count": 14,
   "metadata": {},
   "outputs": [
    {
     "name": "stdout",
     "output_type": "stream",
     "text": [
      "ai61_seb_001_RNF_Po\n",
      "ai61_seb_002_RNF_Po\n",
      "ai61_seb_003_RNF_Po\n",
      "ai61_seb_004_RNF_Po\n",
      "ai61_seb_005_RNF_Po\n",
      "ai61_seb_006_RNF_Po\n",
      "ai61_seb_007_RNF_Po\n",
      "ai61_seb_010_RNF_Po\n",
      "ai61_seb_012_RNF_Po\n",
      "ai61_seb_013_RNF_Po\n",
      "ai61_seb_015_RNF_Po\n"
     ]
    }
   ],
   "source": [
    "fs = []\n",
    "\n",
    "for file in sbp_files:\n",
    "    if file.fileset != 'None' and file.path != '':\n",
    "        fs.append(file.fileset)\n",
    "        \n",
    "\n",
    "new = np.unique(fs)\n",
    "for fi in new:\n",
    "    print(fi)"
   ]
  },
  {
   "cell_type": "code",
   "execution_count": null,
   "metadata": {},
   "outputs": [],
   "source": []
  }
 ],
 "metadata": {
  "kernelspec": {
   "display_name": "Python 3",
   "language": "python",
   "name": "python3"
  },
  "language_info": {
   "codemirror_mode": {
    "name": "ipython",
    "version": 3
   },
   "file_extension": ".py",
   "mimetype": "text/x-python",
   "name": "python",
   "nbconvert_exporter": "python",
   "pygments_lexer": "ipython3",
   "version": "3.12.2"
  },
  "orig_nbformat": 4
 },
 "nbformat": 4,
 "nbformat_minor": 2
}
