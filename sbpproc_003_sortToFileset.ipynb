{
 "cells": [
  {
   "cell_type": "code",
   "execution_count": 2,
   "metadata": {},
   "outputs": [
    {
     "name": "stdout",
     "output_type": "stream",
     "text": [
      "The autoreload extension is already loaded. To reload it, use:\n",
      "  %reload_ext autoreload\n"
     ]
    }
   ],
   "source": [
    "%load_ext autoreload\n",
    "%autoreload 2\n",
    "\n",
    "from sbp_tools.sbp_fileset_sort import read_sbplog, upd_segy_path, sort_files_by_fset\n",
    "import numpy as np\n",
    "\n",
    "from filemanager import file_ext_search as fes"
   ]
  },
  {
   "cell_type": "code",
   "execution_count": 7,
   "metadata": {},
   "outputs": [
    {
     "name": "stdout",
     "output_type": "stream",
     "text": [
      "Searching *.sgy files in directory:D:\\AI69_Processing\\CONV_SEGY\\p001_NoNavData_NavFixed\n"
     ]
    }
   ],
   "source": [
    "segy_path = r'D:\\AI69_Processing\\CONV_SEGY\\p001_NoNavData_NavFixed'\n",
    "segy_files = fes.file_ext_search('.sgy', segy_path, recursive=False)\n",
    "\n",
    "qgis_log = r'D:\\AI69_Processing\\ai69_sbp_filetrack_wgs84.csv'\n",
    "sbp_files = read_sbplog(qgis_log, 1, -4)"
   ]
  },
  {
   "cell_type": "code",
   "execution_count": 8,
   "metadata": {},
   "outputs": [],
   "source": [
    "upd_segy_path(sbp_files, segy_files)"
   ]
  },
  {
   "cell_type": "code",
   "execution_count": 9,
   "metadata": {},
   "outputs": [
    {
     "data": {
      "text/plain": [
       "[SegyFile(name='AI6920241031_085535_RAW_LF.sgy', fileset='ai69_id022_TransitToPoly02King_Pr', path=''),\n",
       " SegyFile(name='AI6920241029_232608_RAW_LF.sgy', fileset='ai69_id005_ABRPoly01_Pr', path=''),\n",
       " SegyFile(name='AI6920241029_111209_CH_RAW_LF.sgy', fileset='ai69_id001_ABRPoly01_Pr', path=''),\n",
       " SegyFile(name='AI6920241031_092538_RAW_LF.sgy', fileset='ai69_id022_TransitToPoly02King_Pr', path=''),\n",
       " SegyFile(name='AI6920241029_093151_CH_RAW_LF.sgy', fileset='ai69_id001_ABRPoly01_Pr', path=''),\n",
       " SegyFile(name='AI6920241029_053543_CH_RAW_LF.sgy', fileset='ai69_id108_TransitToABR_Pr', path=''),\n",
       " SegyFile(name='AI6920241030_134215_BM_WC15_7kHz_500-1000_RAW_LF.sgy', fileset='ai69_id015_ABRPoly01WC01-26_St', path=''),\n",
       " SegyFile(name='AI6920241029_064109_CH_RAW_LF.sgy', fileset='ai69_id001_ABRPoly01_Pr', path=''),\n",
       " SegyFile(name='AI6920241029_054650_CH_RAW_LF.sgy', fileset='ai69_id108_TransitToABR_Pr', path=''),\n",
       " SegyFile(name='AI6920241029_141003_CH_RAW_LF.sgy', fileset='ai69_id002_ABRPoly01_Pr', path=''),\n",
       " SegyFile(name='AI6920241029_070113_CH_RAW_LF.sgy', fileset='ai69_id001_ABRPoly01_Pr', path=''),\n",
       " SegyFile(name='AI6920241029_042726_CH_RAW_LF.sgy', fileset='ai69_id107_TransitToABRExperiments_Pr', path=''),\n",
       " SegyFile(name='AI6920241031_102545_RAW_LF.sgy', fileset='ai69_id023_TransitToPoly02King_Pr', path=''),\n",
       " SegyFile(name='AI6920241028_225033_RAW_LF.sgy', fileset='ai69_id104_TransitToABR_Pr', path=''),\n",
       " SegyFile(name='AI6920241029_053419_CH_RAW_LF.sgy', fileset='ai69_id107_TransitToABRExperiments_Pr', path=''),\n",
       " SegyFile(name='AI6920241029_130958_CH_RAW_LF.sgy', fileset='ai69_id002_ABRPoly01_Pr', path=''),\n",
       " SegyFile(name='AI6920241030_190832_RAW_LF.sgy', fileset='ai69_id018_ABRPoly01WC_St', path=''),\n",
       " SegyFile(name='AI6920241028_222031_RAW_LF.sgy', fileset='ai69_id104_TransitToABR_Pr', path=''),\n",
       " SegyFile(name='AI6920241031_013348_RAW_LF.sgy', fileset='ai69_id021_ABRPoly01_Pr', path=''),\n",
       " SegyFile(name='AI6920241030_183831_RAW_LF.sgy', fileset='ai69_id018_ABRPoly01WC_St', path='')]"
      ]
     },
     "execution_count": 9,
     "metadata": {},
     "output_type": "execute_result"
    }
   ],
   "source": [
    "sbp_files[0:20]"
   ]
  },
  {
   "cell_type": "code",
   "execution_count": 10,
   "metadata": {},
   "outputs": [],
   "source": [
    "path_sort_to = segy_path\n",
    "sort_files_by_fset(sbp_files, path_sort_to, is_acf=False)\n"
   ]
  },
  {
   "cell_type": "code",
   "execution_count": 17,
   "metadata": {},
   "outputs": [
    {
     "name": "stdout",
     "output_type": "stream",
     "text": [
      "ai68_id024_GdCenter\n",
      "ai68_id025_GdCenter\n",
      "ai68_id026_GdCenter\n",
      "ai68_id027_GdCenter\n",
      "ai68_id028_GotSlope\n",
      "ai68_id029_GotSlope\n",
      "ai68_id030_GdCenter\n",
      "ai68_id031_GdSlope\n",
      "ai68_id032_BaltSlope\n",
      "ai68_id033_BaltSlope\n",
      "ai68_id034_BaltSlope\n",
      "ai68_id035_GdCenter\n",
      "ai68_id036_GdCenter\n",
      "ai68_id037_GdCenter\n",
      "ai68_id038_GdCenter\n",
      "ai68_id039_GotSlope\n",
      "ai68_id040_GotSlope\n"
     ]
    }
   ],
   "source": [
    "fs = []\n",
    "\n",
    "for file in sbp_files:\n",
    "    if file.fileset != 'None' and file.path != '':\n",
    "        fs.append(file.fileset)\n",
    "        \n",
    "\n",
    "new = np.unique(fs)\n",
    "for fi in new:\n",
    "    print(fi)"
   ]
  },
  {
   "cell_type": "code",
   "execution_count": null,
   "metadata": {},
   "outputs": [],
   "source": []
  }
 ],
 "metadata": {
  "kernelspec": {
   "display_name": "id1054",
   "language": "python",
   "name": "python3"
  },
  "language_info": {
   "codemirror_mode": {
    "name": "ipython",
    "version": 3
   },
   "file_extension": ".py",
   "mimetype": "text/x-python",
   "name": "python",
   "nbconvert_exporter": "python",
   "pygments_lexer": "ipython3",
   "version": "3.11.0"
  },
  "orig_nbformat": 4
 },
 "nbformat": 4,
 "nbformat_minor": 2
}
