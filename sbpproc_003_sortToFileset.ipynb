{
 "cells": [
  {
   "cell_type": "code",
   "execution_count": 16,
   "metadata": {},
   "outputs": [
    {
     "name": "stdout",
     "output_type": "stream",
     "text": [
      "The autoreload extension is already loaded. To reload it, use:\n",
      "  %reload_ext autoreload\n"
     ]
    }
   ],
   "source": [
    "%load_ext autoreload\n",
    "%autoreload 2\n",
    "\n",
    "from sbp_tools.sbp_fileset_sort import read_sbplog, upd_segy_path, sort_files_by_fset\n",
    "import numpy as np\n",
    "\n",
    "from filemanager import file_ext_search as fes"
   ]
  },
  {
   "cell_type": "code",
   "execution_count": 17,
   "metadata": {},
   "outputs": [
    {
     "name": "stdout",
     "output_type": "stream",
     "text": [
      "Searching *.acf files in directory:D:\\ABP49_Processing\n"
     ]
    }
   ],
   "source": [
    "segy_path = r'D:\\ABP49_Processing'\n",
    "segy_files = fes.file_ext_search('.acf', segy_path, recursive=False)\n",
    "\n",
    "qgis_log = r'C:\\Data\\abp49_p70_acf_slf_path.csv'\n",
    "sbp_files = read_sbplog(qgis_log, 1, -1, if_acf=True)"
   ]
  },
  {
   "cell_type": "code",
   "execution_count": 18,
   "metadata": {},
   "outputs": [],
   "source": [
    "upd_segy_path(sbp_files, segy_files)"
   ]
  },
  {
   "cell_type": "code",
   "execution_count": 19,
   "metadata": {},
   "outputs": [
    {
     "data": {
      "text/plain": [
       "[SegyFile(name='PS3SLF_2022-06-07T064448Z_01837424.asd.acf', fileset='None', path='D:\\\\ABP49_Processing\\\\PS3SLF_2022-06-07T064448Z_01837424.asd.acf'),\n",
       " SegyFile(name='PS3SLF_2022-06-06T045548Z_00233136.asd.acf', fileset='None', path='D:\\\\ABP49_Processing\\\\PS3SLF_2022-06-06T045548Z_00233136.asd.acf'),\n",
       " SegyFile(name='PS3SLF_2022-06-06T053759Z_00553952.asd.acf', fileset='None', path='D:\\\\ABP49_Processing\\\\PS3SLF_2022-06-06T053759Z_00553952.asd.acf'),\n",
       " SegyFile(name='PS3SLF_2022-06-14T193531Z_00450464.asd.acf', fileset='None', path='D:\\\\ABP49_Processing\\\\PS3SLF_2022-06-14T193531Z_00450464.asd.acf'),\n",
       " SegyFile(name='PS3SLF_2022-06-06T063842Z_00136256.asd.acf', fileset='None', path='D:\\\\ABP49_Processing\\\\PS3SLF_2022-06-06T063842Z_00136256.asd.acf'),\n",
       " SegyFile(name='PS3SLF_2022-06-10T190053Z_00002352.asd.acf', fileset='None', path='D:\\\\ABP49_Processing\\\\PS3SLF_2022-06-10T190053Z_00002352.asd.acf'),\n",
       " SegyFile(name='PS3SLF_2022-06-21T172930Z_00345888.asd.acf', fileset='None', path='D:\\\\ABP49_Processing\\\\PS3SLF_2022-06-21T172930Z_00345888.asd.acf'),\n",
       " SegyFile(name='PS3SLF_2022-06-06T063844Z_00136512.asd.acf', fileset='None', path='D:\\\\ABP49_Processing\\\\PS3SLF_2022-06-06T063844Z_00136512.asd.acf'),\n",
       " SegyFile(name='PS3SLF_2022-06-14T154833Z_00000480.asd.acf', fileset='None', path='D:\\\\ABP49_Processing\\\\PS3SLF_2022-06-14T154833Z_00000480.asd.acf'),\n",
       " SegyFile(name='PS3SLF_2022-06-03T193307Z_05781424.asd.acf', fileset='abp49_GdGot', path='D:\\\\ABP49_Processing\\\\PS3SLF_2022-06-03T193307Z_05781424.asd.acf'),\n",
       " SegyFile(name='PS3SLF_2022-06-10T233738Z_00732208.asd.acf', fileset='None', path='D:\\\\ABP49_Processing\\\\PS3SLF_2022-06-10T233738Z_00732208.asd.acf'),\n",
       " SegyFile(name='PS3SLF_2022-06-09T175314Z_03567680.asd.acf', fileset='None', path='D:\\\\ABP49_Processing\\\\PS3SLF_2022-06-09T175314Z_03567680.asd.acf'),\n",
       " SegyFile(name='PS3SLF_2022-06-15T192854Z_00327184.asd.acf', fileset='None', path='D:\\\\ABP49_Processing\\\\PS3SLF_2022-06-15T192854Z_00327184.asd.acf'),\n",
       " SegyFile(name='PS3SLF_2022-06-06T070841Z_00366336.asd.acf', fileset='None', path='D:\\\\ABP49_Processing\\\\PS3SLF_2022-06-06T070841Z_00366336.asd.acf'),\n",
       " SegyFile(name='PS3SLF_2022-06-18T012844Z_02239536.asd.acf', fileset='None', path='D:\\\\ABP49_Processing\\\\PS3SLF_2022-06-18T012844Z_02239536.asd.acf'),\n",
       " SegyFile(name='PS3SLF_2022-06-01T124838Z_02757104.asd.acf', fileset='None', path='D:\\\\ABP49_Processing\\\\PS3SLF_2022-06-01T124838Z_02757104.asd.acf'),\n",
       " SegyFile(name='PS3SLF_2022-06-19T003912Z_10118768.asd.acf', fileset='None', path='D:\\\\ABP49_Processing\\\\PS3SLF_2022-06-19T003912Z_10118768.asd.acf'),\n",
       " SegyFile(name='PS3SLF_2022-06-19T183252Z_00059808.asd.acf', fileset='None', path='D:\\\\ABP49_Processing\\\\PS3SLF_2022-06-19T183252Z_00059808.asd.acf'),\n",
       " SegyFile(name='PS3SLF_2022-06-09T040235Z_00342016.asd.acf', fileset='None', path='D:\\\\ABP49_Processing\\\\PS3SLF_2022-06-09T040235Z_00342016.asd.acf'),\n",
       " SegyFile(name='PS3SLF_2022-06-09T225539Z_00030880.asd.acf', fileset='None', path='D:\\\\ABP49_Processing\\\\PS3SLF_2022-06-09T225539Z_00030880.asd.acf')]"
      ]
     },
     "execution_count": 19,
     "metadata": {},
     "output_type": "execute_result"
    }
   ],
   "source": [
    "sbp_files[0:20]"
   ]
  },
  {
   "cell_type": "code",
   "execution_count": 20,
   "metadata": {},
   "outputs": [],
   "source": [
    "path_sort_to = segy_path\n",
    "sort_files_by_fset(sbp_files, path_sort_to, is_acf=True)\n"
   ]
  },
  {
   "cell_type": "code",
   "execution_count": 14,
   "metadata": {},
   "outputs": [
    {
     "name": "stdout",
     "output_type": "stream",
     "text": [
      "ai61_seb_001_RNF_Po\n",
      "ai61_seb_002_RNF_Po\n",
      "ai61_seb_003_RNF_Po\n",
      "ai61_seb_004_RNF_Po\n",
      "ai61_seb_005_RNF_Po\n",
      "ai61_seb_006_RNF_Po\n",
      "ai61_seb_007_RNF_Po\n",
      "ai61_seb_010_RNF_Po\n",
      "ai61_seb_012_RNF_Po\n",
      "ai61_seb_013_RNF_Po\n",
      "ai61_seb_015_RNF_Po\n"
     ]
    }
   ],
   "source": [
    "fs = []\n",
    "\n",
    "for file in sbp_files:\n",
    "    if file.fileset != 'None' and file.path != '':\n",
    "        fs.append(file.fileset)\n",
    "        \n",
    "\n",
    "new = np.unique(fs)\n",
    "for fi in new:\n",
    "    print(fi)"
   ]
  },
  {
   "cell_type": "code",
   "execution_count": null,
   "metadata": {},
   "outputs": [],
   "source": []
  }
 ],
 "metadata": {
  "kernelspec": {
   "display_name": "Python 3",
   "language": "python",
   "name": "python3"
  },
  "language_info": {
   "codemirror_mode": {
    "name": "ipython",
    "version": 3
   },
   "file_extension": ".py",
   "mimetype": "text/x-python",
   "name": "python",
   "nbconvert_exporter": "python",
   "pygments_lexer": "ipython3",
   "version": "3.11.0"
  },
  "orig_nbformat": 4
 },
 "nbformat": 4,
 "nbformat_minor": 2
}
