{
 "cells": [
  {
   "cell_type": "code",
   "execution_count": 1,
   "metadata": {},
   "outputs": [],
   "source": [
    "import os\n",
    "from datetime import datetime, timezone\n",
    "from dataclasses import dataclass, field\n",
    "import numpy as np\n",
    "import matplotlib.pyplot as plt\n",
    "import shutil\n",
    "\n",
    "from filemanager import file_ext_search as fes\n",
    "from cli import cli"
   ]
  },
  {
   "cell_type": "code",
   "execution_count": 2,
   "metadata": {},
   "outputs": [],
   "source": [
    "@dataclass\n",
    "class SegyFile:\n",
    "    name: str\n",
    "    fileset: str\n",
    "    path: str"
   ]
  },
  {
   "cell_type": "code",
   "execution_count": 3,
   "metadata": {},
   "outputs": [],
   "source": [
    "\n",
    "def read_sbplog(path, fname_idx, fs_idx, sep=','):\n",
    "    sbp_files = []\n",
    "    \n",
    "    with open(path, 'r') as f1:\n",
    "        file_content = f1.read().splitlines()\n",
    "        \n",
    "        for idx, line in enumerate(file_content):\n",
    "            line_content = line.split(sep)\n",
    "            \n",
    "            if idx == 0:\n",
    "                pass\n",
    "            else:\n",
    "                fname = line_content[fname_idx] + '.sgy'\n",
    "                \n",
    "                fileset = line_content[fs_idx]\n",
    "                if fileset == '':\n",
    "                    fileset = 'None'\n",
    "                sbp_file = SegyFile(name=fname,fileset=fileset,path='')\n",
    "                sbp_files.append(sbp_file)\n",
    "                \n",
    "    return sbp_files\n",
    "\n",
    "def upd_segy_path(sgy_objs, pathlist):\n",
    "    for path in pathlist:\n",
    "        filename = os.path.basename(path)\n",
    "        \n",
    "        for sgy_obj in sgy_objs:\n",
    "            if sgy_obj.name == filename:\n",
    "                sgy_obj.path = path\n",
    "                \n",
    "\n",
    "def sort_files_by_fset(sgy_objs, path_sort_to):\n",
    "    dirlist = [direct.path for direct in os.scandir(path_sort_to) if os.DirEntry.is_dir(direct)]\n",
    "    \n",
    "    for obj in sgy_objs:\n",
    "        if obj.fileset == 'None':\n",
    "            pass\n",
    "        elif obj.fileset == '':\n",
    "            pass\n",
    "        elif obj.path == '':\n",
    "            pass\n",
    "        \n",
    "        else:\n",
    "            fset_dir = os.path.join(path_sort_to, obj.fileset)\n",
    "            \n",
    "            if fset_dir in dirlist:\n",
    "                shutil.move(obj.path, fset_dir)\n",
    "                obj.path = os.path.join(fset_dir, os.path.basename(obj.path))\n",
    "                \n",
    "            else:\n",
    "                os.mkdir(fset_dir)\n",
    "                dirlist.append(fset_dir)\n",
    "\n",
    "                shutil.move(obj.path, fset_dir)\n",
    "                obj.path = os.path.join(fset_dir, os.path.basename(obj.path))"
   ]
  },
  {
   "cell_type": "code",
   "execution_count": 10,
   "metadata": {},
   "outputs": [
    {
     "name": "stdout",
     "output_type": "stream",
     "text": [
      "Searching *.sgy files in directory:D:\\SBP and Seismic\\ai61_SBP\\AI-61_BH\n"
     ]
    }
   ],
   "source": [
    "segy_path1 = r'D:\\SBP and Seismic\\ai61_SBP\\AI-61_BH'\n",
    "segy_files1 = fes.file_ext_search('.sgy', segy_path1, recursive=True)\n",
    "\n",
    "qgis_log = r'D:\\SBP and Seismic\\ai61_filesets.csv'\n",
    "sbp_files = read_sbplog(qgis_log, 2, -1)"
   ]
  },
  {
   "cell_type": "code",
   "execution_count": 11,
   "metadata": {},
   "outputs": [],
   "source": [
    "upd_segy_path(sbp_files, segy_files1)"
   ]
  },
  {
   "cell_type": "code",
   "execution_count": 12,
   "metadata": {},
   "outputs": [
    {
     "data": {
      "text/plain": [
       "[SegyFile(name='AI61_20220706_135707_RAW_LF.sgy', fileset='None', path=''),\n",
       " SegyFile(name='AI61_20220629_125138_RAW_LF.sgy', fileset='None', path=''),\n",
       " SegyFile(name='AI61_20220702_102636_RAW_LF.sgy', fileset='None', path=''),\n",
       " SegyFile(name='AI61_20220701_135827_RAW_LF.sgy', fileset='ai61_seb_005_RNF_Po', path='D:\\\\SBP and Seismic\\\\ai61_SBP\\\\AI-61_BH\\\\AI61_p042\\\\AI61_20220701_135827_RAW_LF.sgy'),\n",
       " SegyFile(name='AI61_20220704_145500_RAW_LF.sgy', fileset='None', path=''),\n",
       " SegyFile(name='AI61_20220706_113315_RAW_LF.sgy', fileset='None', path=''),\n",
       " SegyFile(name='AI61_20220709_000000_RAW_LF.sgy', fileset='None', path=''),\n",
       " SegyFile(name='AI61_20220628_164322_RAW_LF.sgy', fileset='None', path=''),\n",
       " SegyFile(name='AI61_20220707_142714_RAW_LF.sgy', fileset='None', path=''),\n",
       " SegyFile(name='AI61_20220629_074513_RAW_LF.sgy', fileset='None', path='')]"
      ]
     },
     "execution_count": 12,
     "metadata": {},
     "output_type": "execute_result"
    }
   ],
   "source": [
    "sbp_files[60:70]"
   ]
  },
  {
   "cell_type": "code",
   "execution_count": 13,
   "metadata": {},
   "outputs": [],
   "source": [
    "path_sort_to = r'D:\\SBP and Seismic\\ai61_SBP\\AI-61_BH'\n",
    "sort_files_by_fset(sbp_files, path_sort_to)\n"
   ]
  },
  {
   "cell_type": "code",
   "execution_count": 14,
   "metadata": {},
   "outputs": [
    {
     "name": "stdout",
     "output_type": "stream",
     "text": [
      "ai61_seb_001_RNF_Po\n",
      "ai61_seb_002_RNF_Po\n",
      "ai61_seb_003_RNF_Po\n",
      "ai61_seb_004_RNF_Po\n",
      "ai61_seb_005_RNF_Po\n",
      "ai61_seb_006_RNF_Po\n",
      "ai61_seb_007_RNF_Po\n",
      "ai61_seb_010_RNF_Po\n",
      "ai61_seb_012_RNF_Po\n",
      "ai61_seb_013_RNF_Po\n",
      "ai61_seb_015_RNF_Po\n"
     ]
    }
   ],
   "source": [
    "fs = []\n",
    "\n",
    "for file in sbp_files:\n",
    "    if file.fileset != 'None' and file.path != '':\n",
    "        fs.append(file.fileset)\n",
    "        \n",
    "\n",
    "new = np.unique(fs)\n",
    "for fi in new:\n",
    "    print(fi)"
   ]
  },
  {
   "cell_type": "code",
   "execution_count": null,
   "metadata": {},
   "outputs": [],
   "source": []
  }
 ],
 "metadata": {
  "kernelspec": {
   "display_name": "Python 3",
   "language": "python",
   "name": "python3"
  },
  "language_info": {
   "codemirror_mode": {
    "name": "ipython",
    "version": 3
   },
   "file_extension": ".py",
   "mimetype": "text/x-python",
   "name": "python",
   "nbconvert_exporter": "python",
   "pygments_lexer": "ipython3",
   "version": "3.10.10"
  },
  "orig_nbformat": 4
 },
 "nbformat": 4,
 "nbformat_minor": 2
}
