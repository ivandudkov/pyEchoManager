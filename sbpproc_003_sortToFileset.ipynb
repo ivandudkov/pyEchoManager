{
 "cells": [
  {
   "cell_type": "code",
   "execution_count": 1,
   "metadata": {},
   "outputs": [],
   "source": [
    "import os\n",
    "from datetime import datetime, timezone\n",
    "from dataclasses import dataclass, field\n",
    "import numpy as np\n",
    "import matplotlib.pyplot as plt\n",
    "import shutil\n",
    "\n",
    "from filemanager import file_ext_search as fes\n",
    "from cli import cli"
   ]
  },
  {
   "cell_type": "code",
   "execution_count": 12,
   "metadata": {},
   "outputs": [],
   "source": [
    "@dataclass\n",
    "class SegyFile:\n",
    "    name: str\n",
    "    fileset: str\n",
    "    path: str"
   ]
  },
  {
   "cell_type": "code",
   "execution_count": 13,
   "metadata": {},
   "outputs": [],
   "source": [
    "\n",
    "def read_sbplog(path, fname_idx, fs_idx, sep=','):\n",
    "    sbp_files = []\n",
    "    \n",
    "    with open(path, 'r') as f1:\n",
    "        file_content = f1.read().splitlines()\n",
    "        \n",
    "        for idx, line in enumerate(file_content):\n",
    "            line_content = line.split(sep)\n",
    "            \n",
    "            if idx == 0:\n",
    "                pass\n",
    "            else:\n",
    "                fname = line_content[fname_idx][:-7] + '.sgy'\n",
    "                \n",
    "                fileset = line_content[fs_idx]\n",
    "                if fileset == '':\n",
    "                    fileset = 'None'\n",
    "                sbp_file = SegyFile(name=fname,fileset=fileset,path='')\n",
    "                sbp_files.append(sbp_file)\n",
    "                \n",
    "    return sbp_files\n",
    "\n",
    "def upd_segy_path(sgy_objs, pathlist):\n",
    "    for path in pathlist:\n",
    "        filename = os.path.basename(path)\n",
    "        \n",
    "        for sgy_obj in sgy_objs:\n",
    "            if sgy_obj.name == filename:\n",
    "                sgy_obj.path = path\n",
    "                \n",
    "\n",
    "def sort_files_by_fset(sgy_objs, path_sort_to):\n",
    "    dirlist = [direct.path for direct in os.scandir(path_sort_to) if os.DirEntry.is_dir(direct)]\n",
    "    \n",
    "    for obj in sgy_objs:\n",
    "        if obj.fileset == 'None':\n",
    "            pass\n",
    "        elif obj.fileset == '':\n",
    "            pass\n",
    "        elif obj.path == '':\n",
    "            pass\n",
    "        \n",
    "        else:\n",
    "            fset_dir = os.path.join(path_sort_to, obj.fileset)\n",
    "            \n",
    "            if fset_dir in dirlist:\n",
    "                shutil.move(obj.path, fset_dir)\n",
    "                obj.path = os.path.join(fset_dir, os.path.basename(obj.path))\n",
    "                \n",
    "            else:\n",
    "                os.mkdir(fset_dir)\n",
    "                dirlist.append(fset_dir)\n",
    "\n",
    "                shutil.move(obj.path, fset_dir)\n",
    "                obj.path = os.path.join(fset_dir, os.path.basename(obj.path))"
   ]
  },
  {
   "cell_type": "code",
   "execution_count": 22,
   "metadata": {},
   "outputs": [
    {
     "name": "stdout",
     "output_type": "stream",
     "text": [
      "Searching *.sgy files in directory:D:\\ABP55\\Parasound_P70\\ABP55_35n\\sgy_ps3\n"
     ]
    }
   ],
   "source": [
    "segy_path = r'D:\\ABP55\\Parasound_P70\\ABP55_35n\\sgy_ps3'\n",
    "segy_files = fes.file_ext_search('.sgy', segy_path, recursive=True)\n",
    "\n",
    "qgis_log = r'C:\\YandexDisk\\aa_cloudmbesproceessing\\aa_abp55_processing\\gis_project\\abp55_sbp_profile_names.csv'\n",
    "sbp_files = read_sbplog(qgis_log, 0, -1)"
   ]
  },
  {
   "cell_type": "code",
   "execution_count": 23,
   "metadata": {},
   "outputs": [],
   "source": [
    "upd_segy_path(sbp_files, segy_files)"
   ]
  },
  {
   "cell_type": "code",
   "execution_count": 24,
   "metadata": {},
   "outputs": [
    {
     "data": {
      "text/plain": [
       "[SegyFile(name='W2_SLF2312110850_LL_car.sgy', fileset='abp55_id070_Rybachyi_Tr_utm34n', path=''),\n",
       " SegyFile(name='W2_SLF2312131220_LL_car.sgy', fileset='abp55_id046_GdGot_Tr_utm34n', path=''),\n",
       " SegyFile(name='W2_SLF2312130210_LL_car.sgy', fileset='abp55_id041_GdDeep_Pr_utm34n', path=''),\n",
       " SegyFile(name='W2_SLF2312121418_LL_car.sgy', fileset='None', path=''),\n",
       " SegyFile(name='W2_SLF2312122028_LL_car.sgy', fileset='abp55_id043_GdDeep_Tr_utm34n', path=''),\n",
       " SegyFile(name='W2_SLF2312091856_LL_car.sgy', fileset='abp55_id017_GdSouth_Tr_utm34n', path=''),\n",
       " SegyFile(name='W2_SLF2312112041_LL_car.sgy', fileset='abp55_id121_Peski_Po_utm34n', path=''),\n",
       " SegyFile(name='W2_SLF2312110708_LL_car.sgy', fileset='abp55_id042_GdDeep_Tr_utm34n', path=''),\n",
       " SegyFile(name='W2_SLF2312202125_LL_car.sgy', fileset='abp55_id105_Peski_Tr_utm34n', path=''),\n",
       " SegyFile(name='W2_SLF2312091151_LL_car.sgy', fileset='abp55_id004_Channel_Tr_utm34n', path='')]"
      ]
     },
     "execution_count": 24,
     "metadata": {},
     "output_type": "execute_result"
    }
   ],
   "source": [
    "sbp_files[60:70]"
   ]
  },
  {
   "cell_type": "code",
   "execution_count": 25,
   "metadata": {},
   "outputs": [],
   "source": [
    "path_sort_to = segy_path\n",
    "sort_files_by_fset(sbp_files, path_sort_to)\n"
   ]
  },
  {
   "cell_type": "code",
   "execution_count": 14,
   "metadata": {},
   "outputs": [
    {
     "name": "stdout",
     "output_type": "stream",
     "text": [
      "ai61_seb_001_RNF_Po\n",
      "ai61_seb_002_RNF_Po\n",
      "ai61_seb_003_RNF_Po\n",
      "ai61_seb_004_RNF_Po\n",
      "ai61_seb_005_RNF_Po\n",
      "ai61_seb_006_RNF_Po\n",
      "ai61_seb_007_RNF_Po\n",
      "ai61_seb_010_RNF_Po\n",
      "ai61_seb_012_RNF_Po\n",
      "ai61_seb_013_RNF_Po\n",
      "ai61_seb_015_RNF_Po\n"
     ]
    }
   ],
   "source": [
    "fs = []\n",
    "\n",
    "for file in sbp_files:\n",
    "    if file.fileset != 'None' and file.path != '':\n",
    "        fs.append(file.fileset)\n",
    "        \n",
    "\n",
    "new = np.unique(fs)\n",
    "for fi in new:\n",
    "    print(fi)"
   ]
  },
  {
   "cell_type": "code",
   "execution_count": null,
   "metadata": {},
   "outputs": [],
   "source": []
  }
 ],
 "metadata": {
  "kernelspec": {
   "display_name": "Python 3",
   "language": "python",
   "name": "python3"
  },
  "language_info": {
   "codemirror_mode": {
    "name": "ipython",
    "version": 3
   },
   "file_extension": ".py",
   "mimetype": "text/x-python",
   "name": "python",
   "nbconvert_exporter": "python",
   "pygments_lexer": "ipython3",
   "version": "3.12.2"
  },
  "orig_nbformat": 4
 },
 "nbformat": 4,
 "nbformat_minor": 2
}
