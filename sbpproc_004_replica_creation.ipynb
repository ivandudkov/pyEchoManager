{
 "cells": [
  {
   "cell_type": "code",
   "execution_count": 1,
   "metadata": {},
   "outputs": [],
   "source": [
    "import os\n",
    "from datetime import datetime, time, date\n",
    "from filemanager import file_ext_search as fes\n",
    "from dataclasses import dataclass, field\n",
    "import numpy as np\n",
    "import matplotlib.pyplot as plt\n",
    "from scipy import signal\n",
    "\n",
    "@dataclass\n",
    "class SGYFile:\n",
    "    sgy_dir: str\n",
    "    sgy_prof: str\n",
    "    sgy_file: str\n",
    "    sgy_fileproc: str"
   ]
  },
  {
   "cell_type": "code",
   "execution_count": 6,
   "metadata": {},
   "outputs": [
    {
     "name": "stdout",
     "output_type": "stream",
     "text": [
      "Searching *.sgy files in directory:H:\\SBP_DATA\\ANS54\\SEB\n"
     ]
    }
   ],
   "source": [
    "data_path = r'H:\\SBP_DATA\\ANS54\\SEB'\n",
    "segy_files = []\n",
    "\n",
    "sgy_files = fes.file_ext_search('.sgy', data_path, recursive=True)\n",
    "\n",
    "for filepath in sgy_files:\n",
    "    sgy_file_name = os.path.splitext(os.path.basename(filepath))[0]\n",
    "    sgy_dir = os.path.dirname(filepath)\n",
    "    sgy_prof = os.path.basename(sgy_dir)\n",
    "    \n",
    "    if '_proc' in sgy_file_name:\n",
    "        pass\n",
    "    else:\n",
    "        segy_files.append(SGYFile(sgy_dir=sgy_dir,\n",
    "                                  sgy_prof=sgy_prof,\n",
    "                                  sgy_file=sgy_file_name,\n",
    "                                  sgy_fileproc=sgy_file_name+'_proc'))\n",
    "    "
   ]
  },
  {
   "cell_type": "code",
   "execution_count": 7,
   "metadata": {},
   "outputs": [],
   "source": [
    "save_path = r'H:\\SBP_DATA'\n",
    "# Replica\n",
    "with open(os.path.join(save_path, 'replica_ans54_utm34n.txt'), 'w') as f1:\n",
    "    f1.write('prof_folder\\tprofile\\n')\n",
    "    \n",
    "    prof_dir = {}\n",
    "    \n",
    "    for file in segy_files:\n",
    "        if file.sgy_prof in prof_dir.keys():\n",
    "            pass\n",
    "        else:\n",
    "            prof_dir[file.sgy_prof] = file.sgy_dir\n",
    "        \n",
    "        \n",
    "    keys = sorted(list(prof_dir.keys()))\n",
    "\n",
    "    for prof in keys:    \n",
    "        f1.write(f'{prof_dir[prof]}\\t{prof}\\n')\n"
   ]
  },
  {
   "cell_type": "code",
   "execution_count": null,
   "metadata": {},
   "outputs": [],
   "source": []
  }
 ],
 "metadata": {
  "kernelspec": {
   "display_name": "Python 3",
   "language": "python",
   "name": "python3"
  },
  "language_info": {
   "codemirror_mode": {
    "name": "ipython",
    "version": 3
   },
   "file_extension": ".py",
   "mimetype": "text/x-python",
   "name": "python",
   "nbconvert_exporter": "python",
   "pygments_lexer": "ipython3",
   "version": "3.11.0"
  },
  "orig_nbformat": 4
 },
 "nbformat": 4,
 "nbformat_minor": 2
}
