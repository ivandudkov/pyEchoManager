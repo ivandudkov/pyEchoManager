{
 "cells": [
  {
   "cell_type": "code",
   "execution_count": 1,
   "metadata": {},
   "outputs": [],
   "source": [
    "import os\n",
    "from datetime import datetime, time, date\n",
    "from filemanager import file_ext_search as fes\n",
    "from dataclasses import dataclass, field\n",
    "import numpy as np\n",
    "import matplotlib.pyplot as plt\n",
    "from scipy import signal\n",
    "\n",
    "@dataclass\n",
    "class SGYFile:\n",
    "    sgy_dir: str\n",
    "    sgy_prof: str\n",
    "    sgy_file: str\n",
    "    sgy_fileproc: str"
   ]
  },
  {
   "cell_type": "code",
   "execution_count": 4,
   "metadata": {},
   "outputs": [
    {
     "name": "stdout",
     "output_type": "stream",
     "text": [
      "Searching *.sgy files in directory:D:\\SBP and Seismic\\ai61_SBP\\AI-61_conv\n"
     ]
    }
   ],
   "source": [
    "data_path = r'D:\\SBP and Seismic\\ai61_SBP\\AI-61_conv'\n",
    "segy_files = []\n",
    "\n",
    "sgy_files = fes.file_ext_search('.sgy', data_path, recursive=True)\n",
    "\n",
    "for filepath in sgy_files:\n",
    "    sgy_file_name = os.path.splitext(os.path.basename(filepath))[0]\n",
    "    sgy_dir = os.path.dirname(filepath)\n",
    "    sgy_prof = os.path.basename(sgy_dir)\n",
    "    \n",
    "    if '_proc' in sgy_file_name:\n",
    "        pass\n",
    "    else:\n",
    "        segy_files.append(SGYFile(sgy_dir=sgy_dir,\n",
    "                                  sgy_prof=sgy_prof,\n",
    "                                  sgy_file=sgy_file_name,\n",
    "                                  sgy_fileproc=sgy_file_name+'_proc'))\n",
    "    "
   ]
  },
  {
   "cell_type": "code",
   "execution_count": 3,
   "metadata": {},
   "outputs": [],
   "source": [
    "data_path = r'D:\\SBP and Seismic'\n",
    "# Replica\n",
    "with open(os.path.join(data_path, 'replica_AI61.txt'), 'w') as f1:\n",
    "    f1.write('prof_folder\\tfile_name\\tfile_name_proc\\tprof_name\\n')\n",
    "    \n",
    "    for file in segy_files:\n",
    "        f1.write(f'{file.sgy_dir}\\t{file.sgy_file}\\t{file.sgy_fileproc}\\t{file.sgy_prof}\\n')\n"
   ]
  },
  {
   "cell_type": "code",
   "execution_count": null,
   "metadata": {},
   "outputs": [],
   "source": []
  }
 ],
 "metadata": {
  "kernelspec": {
   "display_name": "Python 3",
   "language": "python",
   "name": "python3"
  },
  "language_info": {
   "codemirror_mode": {
    "name": "ipython",
    "version": 3
   },
   "file_extension": ".py",
   "mimetype": "text/x-python",
   "name": "python",
   "nbconvert_exporter": "python",
   "pygments_lexer": "ipython3",
   "version": "3.10.10"
  },
  "orig_nbformat": 4
 },
 "nbformat": 4,
 "nbformat_minor": 2
}
