{
 "cells": [
  {
   "cell_type": "code",
   "execution_count": 5,
   "metadata": {},
   "outputs": [],
   "source": [
    "import os\n",
    "from datetime import datetime, time, date\n",
    "from filemanager import file_ext_search as fes\n",
    "from dataclasses import dataclass, field\n",
    "import numpy as np\n",
    "import matplotlib.pyplot as plt\n",
    "from scipy import signal\n",
    "from scipy import stats"
   ]
  },
  {
   "cell_type": "code",
   "execution_count": 8,
   "metadata": {},
   "outputs": [
    {
     "name": "stdout",
     "output_type": "stream",
     "text": [
      "Searching *.csv files in directory:D:\\aa_yandexcloud\\aa_cloudsbpprocessing\\RNF2022\\ABP53_RNFSVP\n",
      "Harmonic Mean Sound Speed: 1458.6552751729023 m/s\n"
     ]
    }
   ],
   "source": [
    "svp_folder = r'D:\\aa_yandexcloud\\aa_cloudsbpprocessing\\RNF2022\\ABP53_RNFSVP'\n",
    "\n",
    "\n",
    "svp_samples = []\n",
    "\n",
    "svp_paths = fes.file_ext_search(extension='.csv', path=svp_folder)\n",
    "\n",
    "for file in svp_paths:\n",
    "    with open(file, 'r') as f1:\n",
    "        file_content = f1.read().splitlines()\n",
    "        \n",
    "    \n",
    "        \n",
    "        for line in file_content[5:]:\n",
    "            line_content = line.split(',')\n",
    "            \n",
    "            depth = float(line_content[0])\n",
    "            if depth < 5.6:\n",
    "                svp_samples.append(float(line_content[1]))                \n",
    "\n",
    "\n",
    "h_mean = stats.hmean(svp_samples)\n",
    "print(f'Harmonic Mean Sound Speed: {h_mean} m/s')\n",
    "            "
   ]
  },
  {
   "cell_type": "code",
   "execution_count": 9,
   "metadata": {},
   "outputs": [],
   "source": [
    "dtm_xyz = r'D:\\aa_yandexcloud\\aa_cloudsbpprocessing\\RNF2022\\ABP53_RNFPoly_10m_XYZ.csv'\n",
    "output = r'D:\\aa_yandexcloud\\aa_cloudsbpprocessing\\RNF2022\\ABP53_RNFPoly_10m_XYZ_twtt.csv'\n",
    "\n",
    "xyz = []\n",
    "\n",
    "with open(dtm_xyz, 'r') as f2:\n",
    "    file_content = f2.read().splitlines()\n",
    "    \n",
    "    for line in file_content:\n",
    "        line_content = line.split(' ')\n",
    "        \n",
    "        x = line_content[0]\n",
    "        y = line_content[1]\n",
    "        z = float(line_content[2])\n",
    "        \n",
    "        if z < -200:\n",
    "            pass\n",
    "        else:\n",
    "            new_z = z*-1/h_mean*2\n",
    "            xyz.append((x,y,str(new_z)))\n",
    "            \n",
    "with open(output, 'w') as f3:\n",
    "    f3.write('x\\ty\\ttwtt\\n')\n",
    "    \n",
    "    for xyz_tuple in xyz:\n",
    "        f3.write(f'{xyz_tuple[0]}\\t{xyz_tuple[1]}\\t{xyz_tuple[2]}\\n')"
   ]
  },
  {
   "cell_type": "code",
   "execution_count": null,
   "metadata": {},
   "outputs": [],
   "source": []
  },
  {
   "cell_type": "code",
   "execution_count": null,
   "metadata": {},
   "outputs": [],
   "source": []
  },
  {
   "cell_type": "code",
   "execution_count": null,
   "metadata": {},
   "outputs": [],
   "source": []
  },
  {
   "cell_type": "code",
   "execution_count": null,
   "metadata": {},
   "outputs": [],
   "source": []
  }
 ],
 "metadata": {
  "kernelspec": {
   "display_name": "Python 3",
   "language": "python",
   "name": "python3"
  },
  "language_info": {
   "codemirror_mode": {
    "name": "ipython",
    "version": 3
   },
   "file_extension": ".py",
   "mimetype": "text/x-python",
   "name": "python",
   "nbconvert_exporter": "python",
   "pygments_lexer": "ipython3",
   "version": "3.10.10"
  }
 },
 "nbformat": 4,
 "nbformat_minor": 2
}
