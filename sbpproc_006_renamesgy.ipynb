{
 "cells": [
  {
   "cell_type": "code",
   "execution_count": 1,
   "metadata": {},
   "outputs": [],
   "source": [
    "import os\n",
    "\n",
    "from filemanager import file_ext_search as fes\n",
    "import re"
   ]
  },
  {
   "cell_type": "code",
   "execution_count": 2,
   "metadata": {},
   "outputs": [],
   "source": [
    "def fix_filenames(sgy_paths, split_string):\n",
    "    \n",
    "    \n",
    "    prev_name = ''\n",
    "    \n",
    "    for sgy_file in sgy_paths:\n",
    "        name = os.path.basename(sgy_file)\n",
    "        dir = os.path.dirname(sgy_file)\n",
    "        \n",
    "        reg_split = re.split(split_string, name)\n",
    "        \n",
    "        fixed_name = split_string + reg_split[-1]\n",
    "        \n",
    "        new_path = os.path.join(dir, fixed_name)\n",
    "        \n",
    "        \n",
    "        try:\n",
    "            os.rename(sgy_file, new_path)\n",
    "        except:\n",
    "            count = 2\n",
    "            \n",
    "            fixed_name2 = split_string + reg_split[-1][:-4] + f'_{count}' +'.sgy'\n",
    "            \n",
    "            if fixed_name2 == prev_name:\n",
    "                count += 1\n",
    "                fixed_name2 = split_string + reg_split[-1][:-4] + f'_{count}' +'.sgy'\n",
    "\n",
    "            new_path2 = os.path.join(dir, fixed_name2)\n",
    "            os.rename(sgy_file, new_path2)\n",
    "            \n",
    "            prev_name = fixed_name2\n",
    "            \n",
    "            \n",
    "        else:\n",
    "            pass\n",
    "        "
   ]
  },
  {
   "cell_type": "code",
   "execution_count": 4,
   "metadata": {},
   "outputs": [
    {
     "name": "stdout",
     "output_type": "stream",
     "text": [
      "Searching *.sgy files in directory:C:\\Data\n"
     ]
    }
   ],
   "source": [
    "data_path = r'C:\\Data'\n",
    "segy_files = []\n",
    "\n",
    "sgy_files = fes.file_ext_search('.sgy', data_path, recursive=True)"
   ]
  },
  {
   "cell_type": "code",
   "execution_count": 5,
   "metadata": {},
   "outputs": [],
   "source": [
    "fix_filenames(sgy_files, r'SLF21')"
   ]
  },
  {
   "cell_type": "code",
   "execution_count": null,
   "metadata": {},
   "outputs": [],
   "source": []
  }
 ],
 "metadata": {
  "kernelspec": {
   "display_name": "id1054",
   "language": "python",
   "name": "python3"
  },
  "language_info": {
   "codemirror_mode": {
    "name": "ipython",
    "version": 3
   },
   "file_extension": ".py",
   "mimetype": "text/x-python",
   "name": "python",
   "nbconvert_exporter": "python",
   "pygments_lexer": "ipython3",
   "version": "3.11.0"
  }
 },
 "nbformat": 4,
 "nbformat_minor": 2
}
