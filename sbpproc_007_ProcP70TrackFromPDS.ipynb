{
 "cells": [
  {
   "cell_type": "code",
   "execution_count": 1,
   "id": "0ca4c63c-150f-4953-a71a-8e2f0e6f0772",
   "metadata": {},
   "outputs": [],
   "source": [
    "%load_ext autoreload\n",
    "%autoreload 2\n",
    "\n",
    "\n",
    "import os\n",
    "from datetime import datetime, timezone, timedelta\n",
    "\n",
    "\n",
    "from sbp_tools.sbp_track_processing import proc_track_from_pds\n",
    "from filemanager import file_ext_search as fes\n",
    "from cli import cli"
   ]
  },
  {
   "cell_type": "code",
   "execution_count": 2,
   "id": "0d296970-08a3-41a7-9937-9fba2e9acabb",
   "metadata": {},
   "outputs": [
    {
     "name": "stdout",
     "output_type": "stream",
     "text": [
      "Searching *.csv files in directory:D:\\aa_yandexcloud\\aa_cloudmbesproceessing\\ABP56\\Log&Track\\ParasoundTrack\\utm34n\n",
      "Scanned filesets are: \n",
      "\n",
      "0 D:\\aa_yandexcloud\\aa_cloudmbesproceessing\\ABP56\\Log&Track\\ParasoundTrack\\utm34n\\abp56_utm34n_P70_track01.csv\n",
      "1 D:\\aa_yandexcloud\\aa_cloudmbesproceessing\\ABP56\\Log&Track\\ParasoundTrack\\utm34n\\abp56_utm34n_P70_track02.csv\n",
      "2 D:\\aa_yandexcloud\\aa_cloudmbesproceessing\\ABP56\\Log&Track\\ParasoundTrack\\utm34n\\abp56_utm34n_P70_track03.csv\n",
      "3 D:\\aa_yandexcloud\\aa_cloudmbesproceessing\\ABP56\\Log&Track\\ParasoundTrack\\utm34n\\abp56_utm34n_P70_track04.csv\n",
      "4 D:\\aa_yandexcloud\\aa_cloudmbesproceessing\\ABP56\\Log&Track\\ParasoundTrack\\utm34n\\abp56_utm34n_P70_track04_1.csv\n",
      "5 D:\\aa_yandexcloud\\aa_cloudmbesproceessing\\ABP56\\Log&Track\\ParasoundTrack\\utm34n\\abp56_utm34n_P70_track05.csv\n",
      "6 D:\\aa_yandexcloud\\aa_cloudmbesproceessing\\ABP56\\Log&Track\\ParasoundTrack\\utm34n\\abp56_utm34n_P70_track06.csv\n",
      "7 D:\\aa_yandexcloud\\aa_cloudmbesproceessing\\ABP56\\Log&Track\\ParasoundTrack\\utm34n\\abp56_utm34n_P70_track07.csv\n",
      "8 D:\\aa_yandexcloud\\aa_cloudmbesproceessing\\ABP56\\Log&Track\\ParasoundTrack\\utm34n\\abp56_utm34n_P70_track08.csv\n",
      "9 D:\\aa_yandexcloud\\aa_cloudmbesproceessing\\ABP56\\Log&Track\\ParasoundTrack\\utm34n\\abp56_utm34n_P70_track09.csv\n"
     ]
    }
   ],
   "source": [
    "track_folder = r'D:\\aa_yandexcloud\\aa_cloudmbesproceessing\\ABP56\\Log&Track\\ParasoundTrack\\utm34n'\n",
    "\n",
    "# Использование функции поиска файлов\n",
    "trackfiles = cli.search(track_folder, '.csv')\n"
   ]
  },
  {
   "cell_type": "code",
   "execution_count": 6,
   "id": "e5825224-af3d-40f0-a2ef-8fa99d4a3546",
   "metadata": {},
   "outputs": [
    {
     "name": "stdout",
     "output_type": "stream",
     "text": [
      "Please type two numbers that define the range of filesets you like to copy or move\n",
      "Please type the first number: \n"
     ]
    },
    {
     "name": "stdout",
     "output_type": "stream",
     "text": [
      " 7\n"
     ]
    },
    {
     "name": "stdout",
     "output_type": "stream",
     "text": [
      "Please type the second number: \n"
     ]
    },
    {
     "name": "stdout",
     "output_type": "stream",
     "text": [
      " 7\n"
     ]
    },
    {
     "name": "stdout",
     "output_type": "stream",
     "text": [
      "Do you want to add more filesets? (Y/N)\n"
     ]
    },
    {
     "name": "stdout",
     "output_type": "stream",
     "text": [
      " n\n"
     ]
    }
   ],
   "source": [
    "chosen_trackfiles = cli.pick_from_list(fileset_paths_from=trackfiles)"
   ]
  },
  {
   "cell_type": "code",
   "execution_count": 7,
   "id": "4239b0ff-66bb-4810-bc14-7ce3bcc2b612",
   "metadata": {},
   "outputs": [],
   "source": [
    "proc_track_from_pds(chosen_trackfiles)"
   ]
  },
  {
   "cell_type": "code",
   "execution_count": null,
   "id": "5fe0642a-d14b-4d36-9185-ee0378a6930d",
   "metadata": {},
   "outputs": [],
   "source": []
  },
  {
   "cell_type": "code",
   "execution_count": null,
   "id": "d9034aba-9df7-464d-af01-8eb769139e57",
   "metadata": {},
   "outputs": [],
   "source": []
  }
 ],
 "metadata": {
  "kernelspec": {
   "display_name": "Python 3 (ipykernel)",
   "language": "python",
   "name": "python3"
  },
  "language_info": {
   "codemirror_mode": {
    "name": "ipython",
    "version": 3
   },
   "file_extension": ".py",
   "mimetype": "text/x-python",
   "name": "python",
   "nbconvert_exporter": "python",
   "pygments_lexer": "ipython3",
   "version": "3.11.0"
  }
 },
 "nbformat": 4,
 "nbformat_minor": 5
}
