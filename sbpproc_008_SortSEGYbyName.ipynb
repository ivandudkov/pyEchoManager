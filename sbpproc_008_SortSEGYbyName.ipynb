{
 "cells": [
  {
   "cell_type": "code",
   "execution_count": 1,
   "metadata": {},
   "outputs": [],
   "source": [
    "%load_ext autoreload\n",
    "%autoreload 2\n",
    "\n",
    "\n",
    "import os\n",
    "from datetime import datetime, timezone, timedelta\n",
    "\n",
    "\n",
    "from sbp_tools.sbp_track_processing import proc_track_from_pds\n",
    "from sbp_tools import sbp_fileset_sort\n",
    "\n",
    "from filemanager import file_ext_search as fes\n",
    "from cli import cli\n"
   ]
  },
  {
   "cell_type": "code",
   "execution_count": 2,
   "metadata": {},
   "outputs": [
    {
     "name": "stdout",
     "output_type": "stream",
     "text": [
      "Searching *.sgy files in directory:D:\\ABP56\\Parasound\\ABP56_SEB_UTM34N\\sgy_ps3_SLF\n"
     ]
    }
   ],
   "source": [
    "folder = r'D:\\ABP56\\Parasound\\ABP56_SEB_UTM34N\\sgy_ps3_SLF'\n",
    "\n",
    "# Использование функции поиска файлов\n",
    "trackfiles = fes.file_ext_search('.sgy', folder)"
   ]
  },
  {
   "cell_type": "code",
   "execution_count": 3,
   "metadata": {},
   "outputs": [],
   "source": [
    "sbp_fileset_sort.sort_p70_segy_by_yearday(trackfiles, folder)"
   ]
  },
  {
   "cell_type": "code",
   "execution_count": null,
   "metadata": {},
   "outputs": [],
   "source": []
  },
  {
   "cell_type": "code",
   "execution_count": null,
   "metadata": {},
   "outputs": [],
   "source": []
  },
  {
   "cell_type": "code",
   "execution_count": null,
   "metadata": {},
   "outputs": [],
   "source": []
  },
  {
   "cell_type": "code",
   "execution_count": null,
   "metadata": {},
   "outputs": [],
   "source": []
  }
 ],
 "metadata": {
  "kernelspec": {
   "display_name": "id_13pc",
   "language": "python",
   "name": "python3"
  },
  "language_info": {
   "codemirror_mode": {
    "name": "ipython",
    "version": 3
   },
   "file_extension": ".py",
   "mimetype": "text/x-python",
   "name": "python",
   "nbconvert_exporter": "python",
   "pygments_lexer": "ipython3",
   "version": "3.12.2"
  }
 },
 "nbformat": 4,
 "nbformat_minor": 2
}
