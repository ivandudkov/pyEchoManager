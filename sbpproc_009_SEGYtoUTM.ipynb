{
 "cells": [
  {
   "cell_type": "code",
   "execution_count": 1,
   "metadata": {},
   "outputs": [],
   "source": [
    "import os\n",
    "from datetime import datetime, time, date\n",
    "from filemanager import file_ext_search as fes\n",
    "from dataclasses import dataclass, field\n",
    "import numpy as np\n",
    "\n",
    "import segyio"
   ]
  },
  {
   "cell_type": "code",
   "execution_count": null,
   "metadata": {},
   "outputs": [],
   "source": [
    "path = r'D:\\aa_yandexcloud\\MyProjects\\InspectingP70Data\\P70_data\\Profile-0_W1_SLF2109171103_LL_car.sgy'\n",
    "\n",
    "\n",
    "with segyio.open(filename=path, mode=\"r\",\n",
    "                            strict = False,\n",
    "                            ignore_geometry = True,\n",
    "                            endian = 'big') as f:\n",
    "    # print(np.shape(f.trace.raw[:]))\n",
    "    # plot_rawtraces(f.trace.raw[:])\n",
    "    \n",
    "    print('\\n_____SEG-Y FILE____\\n')\n",
    "    \n",
    "    print(f'Sample format: {f.format}')\n",
    "    print(f'Sample count: {len(f.samples)}')\n",
    "    print(f'Trace count: {f.tracecount}')\n",
    "    \n",
    "    \n",
    "    # modes are: .trace, .header, .iline/xline, .fast/slow, .depth_slice\n",
    "    # .gather, .text, .bin\n",
    "    \n",
    "    # 2D seismic profiles are unstructured files\n",
    "    # .trace and .header are the only modes available for unstructured files\n",
    "    # traces are enumerated: 0..len(f.trace)\n",
    "    # .trace mode - offers raw adressing of traces as they are laid out in the file\n",
    "    # Reading a trace yields a numpy ndarray, and\n",
    "    # reading multiple traces yields a generator of ndarray's\n",
    "    \n",
    "    # .header mode - accessing items yield header objects instead of numpy ndarray\n",
    "    # Headers are dict-like objects, where\n",
    "    # keys are integers, seismic unix-style keys and segyio enums\n",
    "    \n",
    "    print(f.samples)\n",
    "    print(f.trace)\n",
    "    print(f.trace[0])"
   ]
  },
  {
   "cell_type": "code",
   "execution_count": null,
   "metadata": {},
   "outputs": [],
   "source": []
  },
  {
   "cell_type": "code",
   "execution_count": null,
   "metadata": {},
   "outputs": [],
   "source": []
  },
  {
   "cell_type": "code",
   "execution_count": null,
   "metadata": {},
   "outputs": [],
   "source": []
  },
  {
   "cell_type": "code",
   "execution_count": null,
   "metadata": {},
   "outputs": [],
   "source": []
  }
 ],
 "metadata": {
  "kernelspec": {
   "display_name": "id_13pc",
   "language": "python",
   "name": "python3"
  },
  "language_info": {
   "codemirror_mode": {
    "name": "ipython",
    "version": 3
   },
   "file_extension": ".py",
   "mimetype": "text/x-python",
   "name": "python",
   "nbconvert_exporter": "python",
   "pygments_lexer": "ipython3",
   "version": "3.12.2"
  }
 },
 "nbformat": 4,
 "nbformat_minor": 2
}
