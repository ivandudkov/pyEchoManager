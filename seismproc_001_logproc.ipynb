{
 "cells": [
  {
   "cell_type": "code",
   "execution_count": 2,
   "metadata": {},
   "outputs": [
    {
     "name": "stdout",
     "output_type": "stream",
     "text": [
      "The autoreload extension is already loaded. To reload it, use:\n",
      "  %reload_ext autoreload\n"
     ]
    }
   ],
   "source": [
    "%load_ext autoreload\n",
    "%autoreload 2\n",
    "\n",
    "import sys\n",
    "import os\n",
    "import numpy as np\n",
    "import matplotlib.pyplot as plt\n",
    "from numpy import cos,pi,sin,pi,arccos\n",
    "from pathlib import Path\n",
    "from dataclasses import dataclass, field\n",
    "\n",
    "from datetime import datetime, timezone\n",
    "\n",
    "from cli import cli"
   ]
  },
  {
   "cell_type": "code",
   "execution_count": 8,
   "metadata": {},
   "outputs": [
    {
     "name": "stdout",
     "output_type": "stream",
     "text": [
      "Searching *.log files in directory:D:\\abp53_seismic\\LogFiles\n",
      "Scanned filesets are: \n",
      "\n",
      "0 D:\\abp53_seismic\\LogFiles\\SCS_Survey-2.0000.log\n",
      "1 D:\\abp53_seismic\\LogFiles\\SCS_Survey-3.0000.log\n",
      "2 D:\\abp53_seismic\\LogFiles\\SCS_Survey.0000.log\n",
      "3 D:\\abp53_seismic\\LogFiles\\SCS_Survey1.0000.log\n",
      "4 D:\\abp53_seismic\\LogFiles\\SCS_Survey1.0001.log\n",
      "5 D:\\abp53_seismic\\LogFiles\\SCS_Survey1.0002.log\n"
     ]
    }
   ],
   "source": [
    "log_folder = r'D:\\abp53_seismic\\LogFiles'\n",
    "\n",
    "log_list = cli.search(log_folder, '.log')"
   ]
  },
  {
   "cell_type": "code",
   "execution_count": 9,
   "metadata": {},
   "outputs": [
    {
     "name": "stdout",
     "output_type": "stream",
     "text": [
      "Please type two numbers that define the range of filesets you like to copy or move\n",
      "Please type the first number: \n",
      "Please type the second number: \n",
      "Do you want to add more elements? (Y/N)\n",
      "\n",
      "\n",
      "Picked elements:\n",
      "SCS_Survey-2.0000.log\n",
      "SCS_Survey-3.0000.log\n",
      "SCS_Survey.0000.log\n",
      "SCS_Survey1.0000.log\n",
      "SCS_Survey1.0001.log\n",
      "SCS_Survey1.0002.log\n"
     ]
    }
   ],
   "source": [
    "log_picked = cli.pick_from_list(log_list)"
   ]
  },
  {
   "cell_type": "code",
   "execution_count": 10,
   "metadata": {},
   "outputs": [],
   "source": [
    "gga_parsed = []\n",
    "\n",
    "for log in log_picked:\n",
    "    with open(log, 'r') as file1:\n",
    "        file_content = file1.read().splitlines()\n",
    "        # $GPGGA,143033.35,5517.06912,N,02048.55407,E,5,07,0.00,4.70,M,0.00,M,1.00,0001*75 - Received at 14:30:33.14 for File 3193\n",
    "        for line in file_content:\n",
    "            if line.startswith('$GPGGA'):\n",
    "                line_content = line.split(',')\n",
    "                time = line_content[1]\n",
    "                lat = float(line_content[2][0:2]) + float(line_content[2][2:])/60\n",
    "                lon = float(line_content[4][0:3]) + float(line_content[4][3:])/60\n",
    "                filenum = line_content[-1].split(' ')[-1]\n",
    "                \n",
    "                gga_parsed.append((filenum,time,lat,lon))\n",
    "                \n",
    "save_to = r'D:\\abp53_seismic\\LogFiles\\seism_path.csv'\n",
    "\n",
    "with open(save_to,'w') as file2:\n",
    "    file2.write('file,time,lat,lon\\n')\n",
    "    \n",
    "    for gga in gga_parsed:\n",
    "        file2.write(f'{gga[0]},{gga[1]},{gga[2]},{gga[3]}\\n')\n",
    "\n",
    "        \n",
    "        \n",
    "        "
   ]
  },
  {
   "cell_type": "code",
   "execution_count": null,
   "metadata": {},
   "outputs": [],
   "source": []
  },
  {
   "cell_type": "code",
   "execution_count": null,
   "metadata": {},
   "outputs": [],
   "source": []
  },
  {
   "cell_type": "code",
   "execution_count": null,
   "metadata": {},
   "outputs": [],
   "source": []
  }
 ],
 "metadata": {
  "kernelspec": {
   "display_name": "Python 3",
   "language": "python",
   "name": "python3"
  },
  "language_info": {
   "codemirror_mode": {
    "name": "ipython",
    "version": 3
   },
   "file_extension": ".py",
   "mimetype": "text/x-python",
   "name": "python",
   "nbconvert_exporter": "python",
   "pygments_lexer": "ipython3",
   "version": "3.10.10"
  },
  "orig_nbformat": 4
 },
 "nbformat": 4,
 "nbformat_minor": 2
}
