{
 "cells": [
  {
   "cell_type": "code",
   "execution_count": 1,
   "metadata": {},
   "outputs": [],
   "source": [
    "%load_ext autoreload\n",
    "%autoreload 2\n",
    "import os\n",
    "import sys\n",
    "if not '..' in sys.path:\n",
    "    sys.path.append('..')\n",
    "    \n",
    "from cli import cli"
   ]
  },
  {
   "cell_type": "code",
   "execution_count": 2,
   "metadata": {},
   "outputs": [],
   "source": [
    "def write_miniSVP_metadata(SVP_path, SVP_list_path):\n",
    "    with open(SVP_path, 'r') as f:\n",
    "        file_content = f.read().splitlines()\n",
    "\n",
    "    date = file_content[0].split(' ')[1].split('/')\n",
    "    time = file_content[0].split(' ')[2].split(':')\n",
    "\n",
    "    datetime = f'{date[2]}-{date[1]}-{date[0]}T{time[0]}:{time[1]}:{time[2]}'\n",
    "    serial_num = file_content[2].split(' ')[2]\n",
    "    filename = os.path.split(SVP_path)[-1].split('.')[0]\n",
    "\n",
    "    if os.path.exists(SVP_list_path):\n",
    "        with open(SVP_list_path, 'a') as f:\n",
    "            f.write(f\"{datetime}\\t{serial_num}\\t{filename}\\n\")\n",
    "    else:\n",
    "        with open(SVP_list_path, 'w') as f:\n",
    "            f.write('Datatime\\tS/N\\tFname\\n')\n",
    "            f.write(f\"{datetime}\\t{serial_num}\\t{filename}\\n\")"
   ]
  },
  {
   "cell_type": "markdown",
   "metadata": {},
   "source": [
    "# MiniSVP format parser.\n",
    "\n",
    "Скрипт для выгрузки из .TXT Valeport MiniSVP метаданных о времени записи файла, его имени и серийном номере зонда.\n",
    "\n",
    "Это необходимо для формирования таблицы SVP зондирований"
   ]
  },
  {
   "attachments": {},
   "cell_type": "markdown",
   "metadata": {},
   "source": [
    "## MINI SVP 43946"
   ]
  },
  {
   "cell_type": "code",
   "execution_count": 6,
   "metadata": {},
   "outputs": [
    {
     "name": "stdout",
     "output_type": "stream",
     "text": [
      "Searching *.TXT files in directory:Z:\\ABP56\\CTD&SVP\\Valeport\n",
      "Scanned filesets are: \n",
      "\n",
      "0 Z:\\ABP56\\CTD&SVP\\Valeport\\V000165.TXT\n",
      "1 Z:\\ABP56\\CTD&SVP\\Valeport\\V000167.TXT\n",
      "2 Z:\\ABP56\\CTD&SVP\\Valeport\\V000169.TXT\n",
      "3 Z:\\ABP56\\CTD&SVP\\Valeport\\V000175.TXT\n",
      "4 Z:\\ABP56\\CTD&SVP\\Valeport\\V000177.TXT\n",
      "5 Z:\\ABP56\\CTD&SVP\\Valeport\\V000179.TXT\n",
      "6 Z:\\ABP56\\CTD&SVP\\Valeport\\V000182.TXT\n",
      "7 Z:\\ABP56\\CTD&SVP\\Valeport\\V000185.TXT\n",
      "8 Z:\\ABP56\\CTD&SVP\\Valeport\\V000187.TXT\n",
      "9 Z:\\ABP56\\CTD&SVP\\Valeport\\V000190.TXT\n",
      "10 Z:\\ABP56\\CTD&SVP\\Valeport\\V000192.TXT\n",
      "11 Z:\\ABP56\\CTD&SVP\\Valeport\\V000195.TXT\n",
      "12 Z:\\ABP56\\CTD&SVP\\Valeport\\V000197.TXT\n",
      "13 Z:\\ABP56\\CTD&SVP\\Valeport\\V000200.TXT\n"
     ]
    }
   ],
   "source": [
    "miniSVP_49 = r'Z:\\ABP56\\CTD&SVP\\Valeport'\n",
    "logproc_dir = r'Z:\\ABP56\\Log&Track\\SVPMeta'\n",
    "\n",
    "SVP_path_list = cli.search(miniSVP_49, '.TXT')"
   ]
  },
  {
   "cell_type": "code",
   "execution_count": 7,
   "metadata": {},
   "outputs": [
    {
     "name": "stdout",
     "output_type": "stream",
     "text": [
      "Please type two numbers that define the range of filesets you like to copy or move\n",
      "Please type the first number: \n",
      "Please type the second number: \n",
      "Do you want to add more elements? (Y/N)\n",
      "\n",
      "\n",
      "Picked elements:\n",
      "V000165.TXT\n",
      "V000167.TXT\n",
      "V000169.TXT\n",
      "V000175.TXT\n",
      "V000177.TXT\n",
      "V000179.TXT\n",
      "V000182.TXT\n",
      "V000185.TXT\n",
      "V000187.TXT\n",
      "V000190.TXT\n",
      "V000192.TXT\n",
      "V000195.TXT\n",
      "V000197.TXT\n",
      "V000200.TXT\n"
     ]
    }
   ],
   "source": [
    "SVP_picked = cli.pick_from_list(SVP_path_list)\n"
   ]
  },
  {
   "cell_type": "code",
   "execution_count": 9,
   "metadata": {},
   "outputs": [],
   "source": [
    "for path in SVP_picked:\n",
    "    write_miniSVP_metadata(path, os.path.join(logproc_dir, 'svp_meta.txt'))"
   ]
  },
  {
   "attachments": {},
   "cell_type": "markdown",
   "metadata": {},
   "source": [
    "## MINI SVP 75749"
   ]
  },
  {
   "cell_type": "code",
   "execution_count": 11,
   "metadata": {},
   "outputs": [
    {
     "name": "stdout",
     "output_type": "stream",
     "text": [
      "Searching *.TXT files in directory:\\\\10.197.125.15\\Public\\ABP53\\abp53_mbes_processing\\SVP_data\\75749\\MiniSVP\n",
      "Scanned filesets are: \n",
      "\n",
      "0 \\\\10.197.125.15\\Public\\ABP53\\abp53_mbes_processing\\SVP_data\\75749\\MiniSVP\\V000010.TXT\n",
      "1 \\\\10.197.125.15\\Public\\ABP53\\abp53_mbes_processing\\SVP_data\\75749\\MiniSVP\\V000011.TXT\n",
      "2 \\\\10.197.125.15\\Public\\ABP53\\abp53_mbes_processing\\SVP_data\\75749\\MiniSVP\\V000013.TXT\n"
     ]
    }
   ],
   "source": [
    "miniSVP_49 = r'\\\\10.197.125.15\\Public\\ABP53\\abp53_mbes_processing\\SVP_data\\75749\\MiniSVP'\n",
    "logproc_dir = r'\\\\10.197.125.15\\Public\\ABP53\\abp53_mbes_processing\\Обработка журнала станций'\n",
    "\n",
    "SVP_path_list = cli.search(miniSVP_49, '.TXT')"
   ]
  },
  {
   "cell_type": "code",
   "execution_count": 12,
   "metadata": {},
   "outputs": [
    {
     "name": "stdout",
     "output_type": "stream",
     "text": [
      "Please type two numbers that define the range of filesets you like to copy or move\n",
      "Please type the first number: \n",
      "Please type the second number: \n",
      "Do you want to add more elements? (Y/N)\n",
      "\n",
      "\n",
      "Picked elements:\n",
      "V000010.TXT\n",
      "V000011.TXT\n",
      "V000013.TXT\n"
     ]
    }
   ],
   "source": [
    "SVP_picked = cli.pick_from_list(SVP_path_list)"
   ]
  },
  {
   "cell_type": "code",
   "execution_count": 13,
   "metadata": {},
   "outputs": [],
   "source": [
    "for path in SVP_picked:\n",
    "    write_miniSVP_metadata(path, os.path.join(logproc_dir, '75749_meta.txt'))"
   ]
  },
  {
   "cell_type": "code",
   "execution_count": null,
   "metadata": {},
   "outputs": [],
   "source": []
  }
 ],
 "metadata": {
  "kernelspec": {
   "display_name": "Python 3",
   "language": "python",
   "name": "python3"
  },
  "language_info": {
   "codemirror_mode": {
    "name": "ipython",
    "version": 3
   },
   "file_extension": ".py",
   "mimetype": "text/x-python",
   "name": "python",
   "nbconvert_exporter": "python",
   "pygments_lexer": "ipython3",
   "version": "3.12.2"
  },
  "orig_nbformat": 4
 },
 "nbformat": 4,
 "nbformat_minor": 2
}
