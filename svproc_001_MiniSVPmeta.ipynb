{
 "cells": [
  {
   "cell_type": "code",
   "execution_count": 1,
   "metadata": {},
   "outputs": [],
   "source": [
    "%load_ext autoreload\n",
    "%autoreload 2\n",
    "import os\n",
    "import sys\n",
    "if not '..' in sys.path:\n",
    "    sys.path.append('..')\n",
    "    \n",
    "from cli import cli\n",
    "\n",
    "from svp_proc.minisvp_meta import write_miniSVP_metadata"
   ]
  },
  {
   "cell_type": "markdown",
   "metadata": {},
   "source": [
    "# MiniSVP format parser.\n",
    "\n",
    "Скрипт для выгрузки из .TXT Valeport MiniSVP метаданных о времени записи файла, его имени и серийном номере зонда.\n",
    "\n",
    "Это необходимо для формирования таблицы SVP зондирований"
   ]
  },
  {
   "attachments": {},
   "cell_type": "markdown",
   "metadata": {},
   "source": [
    "## MINI SVP 43946"
   ]
  },
  {
   "cell_type": "code",
   "execution_count": 2,
   "metadata": {},
   "outputs": [
    {
     "name": "stdout",
     "output_type": "stream",
     "text": [
      "Searching *.TXT files in directory:Z:\\ABP56\\CTD&SVP\\Valeport\n",
      "Scanned filesets are: \n",
      "\n",
      "0 Z:\\ABP56\\CTD&SVP\\Valeport\\V000001.TXT\n",
      "1 Z:\\ABP56\\CTD&SVP\\Valeport\\V000003.TXT\n",
      "2 Z:\\ABP56\\CTD&SVP\\Valeport\\V000006.TXT\n",
      "3 Z:\\ABP56\\CTD&SVP\\Valeport\\V000008.TXT\n",
      "4 Z:\\ABP56\\CTD&SVP\\Valeport\\V000010.TXT\n",
      "5 Z:\\ABP56\\CTD&SVP\\Valeport\\V000013.TXT\n",
      "6 Z:\\ABP56\\CTD&SVP\\Valeport\\V000016.TXT\n",
      "7 Z:\\ABP56\\CTD&SVP\\Valeport\\V000018.TXT\n",
      "8 Z:\\ABP56\\CTD&SVP\\Valeport\\V000021.TXT\n",
      "9 Z:\\ABP56\\CTD&SVP\\Valeport\\V000023.TXT\n",
      "10 Z:\\ABP56\\CTD&SVP\\Valeport\\V000026.TXT\n",
      "11 Z:\\ABP56\\CTD&SVP\\Valeport\\V000028.TXT\n",
      "12 Z:\\ABP56\\CTD&SVP\\Valeport\\V000030.TXT\n",
      "13 Z:\\ABP56\\CTD&SVP\\Valeport\\V000032.TXT\n",
      "14 Z:\\ABP56\\CTD&SVP\\Valeport\\V000034.TXT\n",
      "15 Z:\\ABP56\\CTD&SVP\\Valeport\\V000037.TXT\n",
      "16 Z:\\ABP56\\CTD&SVP\\Valeport\\V000039.TXT\n",
      "17 Z:\\ABP56\\CTD&SVP\\Valeport\\V000042.TXT\n",
      "18 Z:\\ABP56\\CTD&SVP\\Valeport\\V000045.TXT\n",
      "19 Z:\\ABP56\\CTD&SVP\\Valeport\\V000047.TXT\n",
      "20 Z:\\ABP56\\CTD&SVP\\Valeport\\V000049.TXT\n",
      "21 Z:\\ABP56\\CTD&SVP\\Valeport\\V000165.TXT\n",
      "22 Z:\\ABP56\\CTD&SVP\\Valeport\\V000167.TXT\n",
      "23 Z:\\ABP56\\CTD&SVP\\Valeport\\V000169.TXT\n",
      "24 Z:\\ABP56\\CTD&SVP\\Valeport\\V000175.TXT\n",
      "25 Z:\\ABP56\\CTD&SVP\\Valeport\\V000177.TXT\n",
      "26 Z:\\ABP56\\CTD&SVP\\Valeport\\V000179.TXT\n",
      "27 Z:\\ABP56\\CTD&SVP\\Valeport\\V000182.TXT\n",
      "28 Z:\\ABP56\\CTD&SVP\\Valeport\\V000185.TXT\n",
      "29 Z:\\ABP56\\CTD&SVP\\Valeport\\V000187.TXT\n",
      "30 Z:\\ABP56\\CTD&SVP\\Valeport\\V000190.TXT\n",
      "31 Z:\\ABP56\\CTD&SVP\\Valeport\\V000192.TXT\n",
      "32 Z:\\ABP56\\CTD&SVP\\Valeport\\V000195.TXT\n",
      "33 Z:\\ABP56\\CTD&SVP\\Valeport\\V000197.TXT\n",
      "34 Z:\\ABP56\\CTD&SVP\\Valeport\\V000200.TXT\n",
      "35 Z:\\ABP56\\CTD&SVP\\Valeport\\V000203.TXT\n",
      "36 Z:\\ABP56\\CTD&SVP\\Valeport\\V000207.TXT\n",
      "37 Z:\\ABP56\\CTD&SVP\\Valeport\\V000209.TXT\n",
      "38 Z:\\ABP56\\CTD&SVP\\Valeport\\V000213.TXT\n",
      "39 Z:\\ABP56\\CTD&SVP\\Valeport\\V000216.TXT\n",
      "40 Z:\\ABP56\\CTD&SVP\\Valeport\\V000218.TXT\n",
      "41 Z:\\ABP56\\CTD&SVP\\Valeport\\V000222.TXT\n",
      "42 Z:\\ABP56\\CTD&SVP\\Valeport\\V000225.TXT\n",
      "43 Z:\\ABP56\\CTD&SVP\\Valeport\\V000228.TXT\n",
      "44 Z:\\ABP56\\CTD&SVP\\Valeport\\V000230.TXT\n",
      "45 Z:\\ABP56\\CTD&SVP\\Valeport\\V000232.TXT\n",
      "46 Z:\\ABP56\\CTD&SVP\\Valeport\\V000234.TXT\n",
      "47 Z:\\ABP56\\CTD&SVP\\Valeport\\V000236.TXT\n",
      "48 Z:\\ABP56\\CTD&SVP\\Valeport\\V000238.TXT\n",
      "49 Z:\\ABP56\\CTD&SVP\\Valeport\\V000241.TXT\n",
      "50 Z:\\ABP56\\CTD&SVP\\Valeport\\V000245.TXT\n",
      "51 Z:\\ABP56\\CTD&SVP\\Valeport\\V000248.TXT\n",
      "52 Z:\\ABP56\\CTD&SVP\\Valeport\\V000251.TXT\n",
      "53 Z:\\ABP56\\CTD&SVP\\Valeport\\V000253.TXT\n",
      "54 Z:\\ABP56\\CTD&SVP\\Valeport\\V000256.TXT\n",
      "55 Z:\\ABP56\\CTD&SVP\\Valeport\\V000258.TXT\n",
      "56 Z:\\ABP56\\CTD&SVP\\Valeport\\V000260.TXT\n",
      "57 Z:\\ABP56\\CTD&SVP\\Valeport\\V000264.TXT\n",
      "58 Z:\\ABP56\\CTD&SVP\\Valeport\\V000267.TXT\n",
      "59 Z:\\ABP56\\CTD&SVP\\Valeport\\V000269.TXT\n",
      "60 Z:\\ABP56\\CTD&SVP\\Valeport\\V000271.TXT\n",
      "61 Z:\\ABP56\\CTD&SVP\\Valeport\\V000274.TXT\n",
      "62 Z:\\ABP56\\CTD&SVP\\Valeport\\V000277.TXT\n",
      "63 Z:\\ABP56\\CTD&SVP\\Valeport\\V000279.TXT\n",
      "64 Z:\\ABP56\\CTD&SVP\\Valeport\\V000281.TXT\n",
      "65 Z:\\ABP56\\CTD&SVP\\Valeport\\V000283.TXT\n",
      "66 Z:\\ABP56\\CTD&SVP\\Valeport\\V000285.TXT\n",
      "67 Z:\\ABP56\\CTD&SVP\\Valeport\\V000288.TXT\n",
      "68 Z:\\ABP56\\CTD&SVP\\Valeport\\V000290.TXT\n",
      "69 Z:\\ABP56\\CTD&SVP\\Valeport\\V000293.TXT\n",
      "70 Z:\\ABP56\\CTD&SVP\\Valeport\\V000296.TXT\n",
      "71 Z:\\ABP56\\CTD&SVP\\Valeport\\V000300.TXT\n",
      "72 Z:\\ABP56\\CTD&SVP\\Valeport\\V000302.TXT\n",
      "73 Z:\\ABP56\\CTD&SVP\\Valeport\\V000304.TXT\n",
      "74 Z:\\ABP56\\CTD&SVP\\Valeport\\V000307.TXT\n",
      "75 Z:\\ABP56\\CTD&SVP\\Valeport\\V000309.TXT\n",
      "76 Z:\\ABP56\\CTD&SVP\\Valeport\\V000311.TXT\n",
      "77 Z:\\ABP56\\CTD&SVP\\Valeport\\V000313.TXT\n",
      "78 Z:\\ABP56\\CTD&SVP\\Valeport\\V000316.TXT\n",
      "79 Z:\\ABP56\\CTD&SVP\\Valeport\\V000318.TXT\n",
      "80 Z:\\ABP56\\CTD&SVP\\Valeport\\V000320.TXT\n",
      "81 Z:\\ABP56\\CTD&SVP\\Valeport\\V000322.TXT\n",
      "82 Z:\\ABP56\\CTD&SVP\\Valeport\\V000324.TXT\n",
      "83 Z:\\ABP56\\CTD&SVP\\Valeport\\V000327.TXT\n",
      "84 Z:\\ABP56\\CTD&SVP\\Valeport\\V000330.TXT\n",
      "85 Z:\\ABP56\\CTD&SVP\\Valeport\\V000332.TXT\n",
      "86 Z:\\ABP56\\CTD&SVP\\Valeport\\V000334.TXT\n",
      "87 Z:\\ABP56\\CTD&SVP\\Valeport\\V000336.TXT\n",
      "88 Z:\\ABP56\\CTD&SVP\\Valeport\\V000338.TXT\n",
      "89 Z:\\ABP56\\CTD&SVP\\Valeport\\V000340.TXT\n",
      "90 Z:\\ABP56\\CTD&SVP\\Valeport\\V000343.TXT\n",
      "91 Z:\\ABP56\\CTD&SVP\\Valeport\\V000346.TXT\n",
      "92 Z:\\ABP56\\CTD&SVP\\Valeport\\V000350.TXT\n",
      "93 Z:\\ABP56\\CTD&SVP\\Valeport\\V000353.TXT\n",
      "94 Z:\\ABP56\\CTD&SVP\\Valeport\\V000356.TXT\n",
      "95 Z:\\ABP56\\CTD&SVP\\Valeport\\V000359.TXT\n",
      "96 Z:\\ABP56\\CTD&SVP\\Valeport\\V000362.TXT\n",
      "97 Z:\\ABP56\\CTD&SVP\\Valeport\\V000364.TXT\n",
      "98 Z:\\ABP56\\CTD&SVP\\Valeport\\V000366.TXT\n",
      "99 Z:\\ABP56\\CTD&SVP\\Valeport\\V000368.TXT\n",
      "100 Z:\\ABP56\\CTD&SVP\\Valeport\\V000370.TXT\n"
     ]
    }
   ],
   "source": [
    "miniSVP_49 = r'Z:\\ABP56\\CTD&SVP\\Valeport'\n",
    "logproc_dir = r'Z:\\ABP56\\CTD&SVP\\Metadata'\n",
    "\n",
    "SVP_path_list = cli.search(miniSVP_49, '.TXT')"
   ]
  },
  {
   "cell_type": "code",
   "execution_count": 3,
   "metadata": {},
   "outputs": [
    {
     "name": "stdout",
     "output_type": "stream",
     "text": [
      "Please type two numbers that define the range of filesets you like to copy or move\n",
      "Please type the first number: \n"
     ]
    },
    {
     "name": "stdout",
     "output_type": "stream",
     "text": [
      "Please type the second number: \n",
      "Do you want to add more elements? (Y/N)\n",
      "\n",
      "\n",
      "Picked elements:\n",
      "V000023.TXT\n",
      "V000026.TXT\n",
      "V000028.TXT\n",
      "V000030.TXT\n",
      "V000032.TXT\n",
      "V000034.TXT\n",
      "V000037.TXT\n",
      "V000039.TXT\n",
      "V000042.TXT\n",
      "V000045.TXT\n",
      "V000047.TXT\n",
      "V000049.TXT\n"
     ]
    }
   ],
   "source": [
    "SVP_picked = cli.pick_from_list(SVP_path_list)\n"
   ]
  },
  {
   "cell_type": "code",
   "execution_count": 4,
   "metadata": {},
   "outputs": [],
   "source": [
    "for path in SVP_picked:\n",
    "    write_miniSVP_metadata(path, os.path.join(logproc_dir, 'svp_meta_023-049.txt'))"
   ]
  },
  {
   "attachments": {},
   "cell_type": "markdown",
   "metadata": {},
   "source": [
    "## MINI SVP 75749"
   ]
  },
  {
   "cell_type": "code",
   "execution_count": 11,
   "metadata": {},
   "outputs": [
    {
     "name": "stdout",
     "output_type": "stream",
     "text": [
      "Searching *.TXT files in directory:\\\\10.197.125.15\\Public\\ABP53\\abp53_mbes_processing\\SVP_data\\75749\\MiniSVP\n",
      "Scanned filesets are: \n",
      "\n",
      "0 \\\\10.197.125.15\\Public\\ABP53\\abp53_mbes_processing\\SVP_data\\75749\\MiniSVP\\V000010.TXT\n",
      "1 \\\\10.197.125.15\\Public\\ABP53\\abp53_mbes_processing\\SVP_data\\75749\\MiniSVP\\V000011.TXT\n",
      "2 \\\\10.197.125.15\\Public\\ABP53\\abp53_mbes_processing\\SVP_data\\75749\\MiniSVP\\V000013.TXT\n"
     ]
    }
   ],
   "source": [
    "miniSVP_49 = r'\\\\10.197.125.15\\Public\\ABP53\\abp53_mbes_processing\\SVP_data\\75749\\MiniSVP'\n",
    "logproc_dir = r'\\\\10.197.125.15\\Public\\ABP53\\abp53_mbes_processing\\Обработка журнала станций'\n",
    "\n",
    "SVP_path_list = cli.search(miniSVP_49, '.TXT')"
   ]
  },
  {
   "cell_type": "code",
   "execution_count": 12,
   "metadata": {},
   "outputs": [
    {
     "name": "stdout",
     "output_type": "stream",
     "text": [
      "Please type two numbers that define the range of filesets you like to copy or move\n",
      "Please type the first number: \n",
      "Please type the second number: \n",
      "Do you want to add more elements? (Y/N)\n",
      "\n",
      "\n",
      "Picked elements:\n",
      "V000010.TXT\n",
      "V000011.TXT\n",
      "V000013.TXT\n"
     ]
    }
   ],
   "source": [
    "SVP_picked = cli.pick_from_list(SVP_path_list)"
   ]
  },
  {
   "cell_type": "code",
   "execution_count": 13,
   "metadata": {},
   "outputs": [],
   "source": [
    "for path in SVP_picked:\n",
    "    write_miniSVP_metadata(path, os.path.join(logproc_dir, '75749_meta.txt'))"
   ]
  },
  {
   "cell_type": "code",
   "execution_count": null,
   "metadata": {},
   "outputs": [],
   "source": []
  }
 ],
 "metadata": {
  "kernelspec": {
   "display_name": "Python 3",
   "language": "python",
   "name": "python3"
  },
  "language_info": {
   "codemirror_mode": {
    "name": "ipython",
    "version": 3
   },
   "file_extension": ".py",
   "mimetype": "text/x-python",
   "name": "python",
   "nbconvert_exporter": "python",
   "pygments_lexer": "ipython3",
   "version": "3.12.2"
  },
  "orig_nbformat": 4
 },
 "nbformat": 4,
 "nbformat_minor": 2
}
