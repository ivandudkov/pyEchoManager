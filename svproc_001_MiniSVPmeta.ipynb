{
 "cells": [
  {
   "cell_type": "code",
   "execution_count": 1,
   "metadata": {},
   "outputs": [],
   "source": [
    "%load_ext autoreload\n",
    "%autoreload 2\n",
    "import os\n",
    "import sys\n",
    "if not '..' in sys.path:\n",
    "    sys.path.append('..')\n",
    "    \n",
    "from cli import cli\n",
    "\n",
    "from svp_proc.minisvp_meta import write_miniSVP_metadata"
   ]
  },
  {
   "cell_type": "markdown",
   "metadata": {},
   "source": [
    "# MiniSVP format parser.\n",
    "\n",
    "Скрипт для выгрузки из .TXT Valeport MiniSVP метаданных о времени записи файла, его имени и серийном номере зонда.\n",
    "\n",
    "Это необходимо для формирования таблицы SVP зондирований"
   ]
  },
  {
   "attachments": {},
   "cell_type": "markdown",
   "metadata": {},
   "source": [
    "## MINI SVP 43946"
   ]
  },
  {
   "cell_type": "code",
   "execution_count": 5,
   "metadata": {},
   "outputs": [
    {
     "name": "stdout",
     "output_type": "stream",
     "text": [
      "Searching *.TXT files in directory:D:\\aa_yandexcloud\\aa_cloudmbesproceessing\\ABP56\\CTD&SVP\\Valeport\\75748\n",
      "Scanned filesets are: \n",
      "\n",
      "0 D:\\aa_yandexcloud\\aa_cloudmbesproceessing\\ABP56\\CTD&SVP\\Valeport\\75748\\V000160.TXT\n",
      "1 D:\\aa_yandexcloud\\aa_cloudmbesproceessing\\ABP56\\CTD&SVP\\Valeport\\75748\\V000163.TXT\n",
      "2 D:\\aa_yandexcloud\\aa_cloudmbesproceessing\\ABP56\\CTD&SVP\\Valeport\\75748\\V000165.TXT\n",
      "3 D:\\aa_yandexcloud\\aa_cloudmbesproceessing\\ABP56\\CTD&SVP\\Valeport\\75748\\V000167.TXT\n",
      "4 D:\\aa_yandexcloud\\aa_cloudmbesproceessing\\ABP56\\CTD&SVP\\Valeport\\75748\\V000170.TXT\n"
     ]
    }
   ],
   "source": [
    "miniSVP_49 = r'D:\\aa_yandexcloud\\aa_cloudmbesproceessing\\ABP56\\CTD&SVP\\Valeport\\75748'\n",
    "logproc_dir = r'D:\\aa_yandexcloud\\aa_cloudmbesproceessing\\ABP56\\CTD&SVP\\Metadata'\n",
    "\n",
    "SVP_path_list = cli.search(miniSVP_49, '.TXT')"
   ]
  },
  {
   "cell_type": "code",
   "execution_count": 6,
   "metadata": {},
   "outputs": [
    {
     "name": "stdout",
     "output_type": "stream",
     "text": [
      "Please type two numbers that define the range of filesets you like to copy or move\n",
      "Please type the first number: \n"
     ]
    },
    {
     "name": "stdout",
     "output_type": "stream",
     "text": [
      "Please type the second number: \n",
      "Do you want to add more elements? (Y/N)\n",
      "\n",
      "\n",
      "Picked elements:\n",
      "V000160.TXT\n",
      "V000163.TXT\n",
      "V000165.TXT\n",
      "V000167.TXT\n",
      "V000170.TXT\n"
     ]
    }
   ],
   "source": [
    "SVP_picked = cli.pick_from_list(SVP_path_list)\n"
   ]
  },
  {
   "cell_type": "code",
   "execution_count": 7,
   "metadata": {},
   "outputs": [],
   "source": [
    "for path in SVP_picked:\n",
    "    write_miniSVP_metadata(path, os.path.join(logproc_dir, 'svp_meta75748_all.txt'))"
   ]
  },
  {
   "attachments": {},
   "cell_type": "markdown",
   "metadata": {},
   "source": [
    "## MINI SVP 75749"
   ]
  },
  {
   "cell_type": "code",
   "execution_count": 11,
   "metadata": {},
   "outputs": [
    {
     "name": "stdout",
     "output_type": "stream",
     "text": [
      "Searching *.TXT files in directory:\\\\10.197.125.15\\Public\\ABP53\\abp53_mbes_processing\\SVP_data\\75749\\MiniSVP\n",
      "Scanned filesets are: \n",
      "\n",
      "0 \\\\10.197.125.15\\Public\\ABP53\\abp53_mbes_processing\\SVP_data\\75749\\MiniSVP\\V000010.TXT\n",
      "1 \\\\10.197.125.15\\Public\\ABP53\\abp53_mbes_processing\\SVP_data\\75749\\MiniSVP\\V000011.TXT\n",
      "2 \\\\10.197.125.15\\Public\\ABP53\\abp53_mbes_processing\\SVP_data\\75749\\MiniSVP\\V000013.TXT\n"
     ]
    }
   ],
   "source": [
    "miniSVP_49 = r'\\\\10.197.125.15\\Public\\ABP53\\abp53_mbes_processing\\SVP_data\\75749\\MiniSVP'\n",
    "logproc_dir = r'\\\\10.197.125.15\\Public\\ABP53\\abp53_mbes_processing\\Обработка журнала станций'\n",
    "\n",
    "SVP_path_list = cli.search(miniSVP_49, '.TXT')"
   ]
  },
  {
   "cell_type": "code",
   "execution_count": 12,
   "metadata": {},
   "outputs": [
    {
     "name": "stdout",
     "output_type": "stream",
     "text": [
      "Please type two numbers that define the range of filesets you like to copy or move\n",
      "Please type the first number: \n",
      "Please type the second number: \n",
      "Do you want to add more elements? (Y/N)\n",
      "\n",
      "\n",
      "Picked elements:\n",
      "V000010.TXT\n",
      "V000011.TXT\n",
      "V000013.TXT\n"
     ]
    }
   ],
   "source": [
    "SVP_picked = cli.pick_from_list(SVP_path_list)"
   ]
  },
  {
   "cell_type": "code",
   "execution_count": 13,
   "metadata": {},
   "outputs": [],
   "source": [
    "for path in SVP_picked:\n",
    "    write_miniSVP_metadata(path, os.path.join(logproc_dir, '75749_meta.txt'))"
   ]
  },
  {
   "cell_type": "code",
   "execution_count": null,
   "metadata": {},
   "outputs": [],
   "source": []
  }
 ],
 "metadata": {
  "kernelspec": {
   "display_name": "Python 3",
   "language": "python",
   "name": "python3"
  },
  "language_info": {
   "codemirror_mode": {
    "name": "ipython",
    "version": 3
   },
   "file_extension": ".py",
   "mimetype": "text/x-python",
   "name": "python",
   "nbconvert_exporter": "python",
   "pygments_lexer": "ipython3",
   "version": "3.11.0"
  },
  "orig_nbformat": 4
 },
 "nbformat": 4,
 "nbformat_minor": 2
}
