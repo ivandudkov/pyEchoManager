{
 "cells": [
  {
   "attachments": {},
   "cell_type": "markdown",
   "metadata": {},
   "source": [
    "# Преобразование csv Sound Speed Manager в .svp PDS2000\n",
    "\n",
    "Скрипт для конвертации обработанных в SoundSpeedManager .TXT данных Valeport MiniSVP в формат .svp для проекта PDS2000\n",
    "\n",
    "Для данного скрипта необходим журнал SVP зондирований, с шапкой: ['NumO', 'Num', 'S/N', 'FileName', 'Date', 'TimeUTC', 'DateTimeUTCOpCPN', 'DateTimeUTCProbe', 'Station', 'Location', 'latN', 'lonE']\n",
    "\n",
    "S/N - серийный номер зонда; FileName - Имя файла .TXT; DateTimeUTCOpCPN -  время станции зондирования в UTC (не время из шапки файла .TXT; Station - название/номер станции"
   ]
  },
  {
   "cell_type": "code",
   "execution_count": 5,
   "metadata": {},
   "outputs": [],
   "source": [
    "import os\n",
    "from cli import cli\n",
    "\n",
    "def read_my_svp_logbook(path):\n",
    "    sn_list = []\n",
    "    fn_list = []\n",
    "    dt_list = []\n",
    "    st_list = []\n",
    "\n",
    "    with open(path) as f:\n",
    "        file_content = f.read().splitlines()\n",
    "        header = 1\n",
    "        for line in file_content:\n",
    "            if header == 1:\n",
    "                pass\n",
    "            else:\n",
    "                line_content = line.split(',')\n",
    "                # header: ['NumO', 'Num', 'S/N', 'FileName', 'Date', 'TimeUTC', 'DateTimeUTCOpCPN', 'DateTimeUTCProbe', 'Station', 'Location', 'latN', 'lonE']\n",
    "                # header: Num\tS/NorType\tFileName\tDatetimeUTC\tStation\tX\tY\tLat\tLon\n",
    "                sn_list.append(line_content[1])\n",
    "                fn_list.append(line_content[2])\n",
    "                dt_list.append(line_content[3])\n",
    "                st_list.append(line_content[4])\n",
    "            header = 0\n",
    "        return sn_list, fn_list, dt_list, st_list\n",
    "\n",
    "def modify_output_file_name(sn_or_type, logpath, output_path, filetype='SSMminiSVP'):\n",
    "    # Read logbook\n",
    "    sn_list, fn_list, dt_list, st_list = read_my_svp_logbook(logpath)\n",
    "    \n",
    "    # Get the file name\n",
    "    out_folder_path, out_fname_ext2_ext1 = os.path.split(output_path)\n",
    "    out_fname_ext2, out_ext1 = os.path.splitext(out_fname_ext2_ext1)\n",
    "    out_fname, ext2 = os.path.splitext(out_fname_ext2)\n",
    "\n",
    "    if filetype == 'SSMminiSVP':\n",
    "        fname = out_fname\n",
    "    elif filetype == 'Idronaut' or filetype == 'CTD90':\n",
    "        fname = out_fname_ext2\n",
    "    \n",
    "    # Find the file in the logbook\n",
    "    for lnum, fn in enumerate(fn_list):\n",
    "        if fn == fname:\n",
    "            if sn_list[lnum] == str(sn_or_type):\n",
    "                mod_out_fname = f'{st_list[lnum]}_{sn_list[lnum]}_{fn_list[lnum]}'\n",
    "                # modify output path\n",
    "                mod_fname_ext = mod_out_fname + '.svp'\n",
    "                mod_out_path = os.path.join(out_folder_path, mod_fname_ext)\n",
    "                \n",
    "                if mod_out_path is None:\n",
    "                    raise RuntimeError('Modified path is None. Something wrong with the code or the data')\n",
    "                return mod_out_path\n",
    "\n",
    "def convert_SMMcsv_to_PDSsvp(SSMcsv_path, PDSsvp_path):\n",
    "    # Step 1. Read Sound Speed Manager .csv file\n",
    "    pdepth = []\n",
    "    pSV = []\n",
    "    ptemp = []\n",
    "    psal = []\n",
    "\n",
    "    with open(SSMcsv_path, 'r') as f:\n",
    "        # field order: depth, sound speed, salinity, temperature\n",
    "        line_start = 5  # previous 5 lines are parts of a header\n",
    "        filecontent = f.read().splitlines()[line_start:]\n",
    "        for line in filecontent:\n",
    "            line_content = line.split(',')\n",
    "            pdepth.append(float(line_content[0]))\n",
    "            pSV.append(float(line_content[1]))\n",
    "            ptemp.append(float(line_content[3]))\n",
    "            psal.append(float(line_content[2]))\n",
    "\n",
    "    # Step 2. Create a new PDS2000 .svp and update it by SSM .csv values\n",
    "    pheader = '[POINTS]\\n'\n",
    "    pnum_end = len(pdepth)\n",
    "    offset_header = '\\n[OFFSET]\\n'\n",
    "    sv_offset_name = 'SVOffset'\n",
    "    sv_offset = '0'\n",
    "    sv_offset_line = '{:} = {:}\\n\\n'.format(sv_offset_name,\n",
    "                                        sv_offset)\n",
    "\n",
    "    # field order: depth, sound velocity, temperature, salinity\n",
    "    with open(PDSsvp_path, 'w') as f:\n",
    "        f.write(pheader)\n",
    "        for pnum in range(pnum_end):\n",
    "            # field order: depth, sound velocity, temperature, salinity\n",
    "            point = 'Point({:d}) = {:f},{:f},{:f},{:f}\\n'.format(pnum+1,\n",
    "                                                                 pdepth[pnum]*-1, \n",
    "                                                                 pSV[pnum], \n",
    "                                                                 ptemp[pnum], \n",
    "                                                                 psal[pnum])\n",
    "            f.write(point)\n",
    "        f.write(offset_header)\n",
    "        f.write(sv_offset_line)\n",
    "\n",
    "############################"
   ]
  },
  {
   "attachments": {},
   "cell_type": "markdown",
   "metadata": {},
   "source": [
    "serial_number_list - list с серийными номерами зондов\n",
    "\n",
    "data_folder_list1 - list с путями до папок с .csv данными (обработанными в SSM данными SVP зондов)\n",
    "\n",
    "my_svp_log_path - путь до журнала SVP зондирований"
   ]
  },
  {
   "cell_type": "code",
   "execution_count": 9,
   "metadata": {},
   "outputs": [
    {
     "name": "stdout",
     "output_type": "stream",
     "text": [
      "Searching *.csv files in directory:Z:\\ABP56\\CTD&SVP\\SoundSpeedManager\n",
      "Scanned filesets are: \n",
      "\n",
      "0 Z:\\ABP56\\CTD&SVP\\SoundSpeedManager\\V000165.csv\n",
      "1 Z:\\ABP56\\CTD&SVP\\SoundSpeedManager\\V000167.csv\n",
      "2 Z:\\ABP56\\CTD&SVP\\SoundSpeedManager\\V000169.csv\n"
     ]
    }
   ],
   "source": [
    "miniSVP_43946 = r'Z:\\ABP56\\CTD&SVP\\SoundSpeedManager'\n",
    "miniSVP_43946FZ = r'D:\\aa_yandexcloud\\aa_cruises\\ABP53\\abp53_mbes_processing\\SVP_data\\43946\\MiniSVP_stg02'\n",
    "# miniSVP_75749 = r'\\\\10.197.125.15\\Public\\ABP53\\abp53_mbes_processing\\SVP_data\\75749\\MiniSVP'\n",
    "# miniSVP_mypc = r'C:\\Users\\IvanDudkov\\AppData\\Local\\HydrOffice\\Sound Speed\\outputs'\n",
    "# CTD90_folder = r'\\\\10.197.125.15\\Public\\ABP53\\abp53_mbes_processing\\SVP_data\\CTD90\\stage3_FZ'\n",
    "# CTD48_folder = r'\\\\10.197.125.15\\Public\\ABP53\\abp53_mbes_processing\\SVP_data\\CTD48\\stage3_FZ'\n",
    "\n",
    "my_svp_log_path = r'Z:\\ABP56\\Log&Track\\SVPMetaProc\\ABP56_SVPMeta_SEB_1-3.csv'\n",
    "\n",
    "SSM_csv_list = cli.search(miniSVP_43946, '.csv')"
   ]
  },
  {
   "cell_type": "code",
   "execution_count": 10,
   "metadata": {},
   "outputs": [
    {
     "name": "stdout",
     "output_type": "stream",
     "text": [
      "Please type two numbers that define the range of filesets you like to copy or move\n",
      "Please type the first number: \n",
      "Please type the second number: \n",
      "Do you want to add more elements? (Y/N)\n",
      "\n",
      "\n",
      "Picked elements:\n",
      "V000165.csv\n",
      "V000167.csv\n",
      "V000169.csv\n"
     ]
    }
   ],
   "source": [
    "SSM_picked = cli.pick_from_list(SSM_csv_list)"
   ]
  },
  {
   "cell_type": "code",
   "execution_count": 11,
   "metadata": {},
   "outputs": [
    {
     "name": "stdout",
     "output_type": "stream",
     "text": [
      "Z:\\ABP56\\CTD&SVP\\SoundSpeedManager\\ABP56001_43946_V000165.svp\n",
      "Z:\\ABP56\\CTD&SVP\\SoundSpeedManager\\ABP56002_43946_V000167.svp\n",
      "Z:\\ABP56\\CTD&SVP\\SoundSpeedManager\\ABP56003_43946_V000169.svp\n"
     ]
    }
   ],
   "source": [
    "miniSVP_sn = 43946\n",
    "miniSVP_sn_2 = 75749\n",
    "CTD90_type = 'CTD90'\n",
    "CTD48_type = 'CTD48'\n",
    "\n",
    "for SSM_csv_path in SSM_picked:\n",
    "    PDS_svp_path = modify_output_file_name(miniSVP_sn, my_svp_log_path, SSM_csv_path)\n",
    "    print(PDS_svp_path)\n",
    "    if PDS_svp_path != None:\n",
    "        convert_SMMcsv_to_PDSsvp(SSM_csv_path, PDS_svp_path)"
   ]
  },
  {
   "cell_type": "code",
   "execution_count": null,
   "metadata": {},
   "outputs": [],
   "source": []
  }
 ],
 "metadata": {
  "kernelspec": {
   "display_name": "Python 3",
   "language": "python",
   "name": "python3"
  },
  "language_info": {
   "codemirror_mode": {
    "name": "ipython",
    "version": 3
   },
   "file_extension": ".py",
   "mimetype": "text/x-python",
   "name": "python",
   "nbconvert_exporter": "python",
   "pygments_lexer": "ipython3",
   "version": "3.12.2"
  },
  "orig_nbformat": 4
 },
 "nbformat": 4,
 "nbformat_minor": 2
}
