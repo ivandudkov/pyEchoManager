{
 "cells": [
  {
   "cell_type": "code",
   "execution_count": 1,
   "metadata": {},
   "outputs": [],
   "source": [
    "%load_ext autoreload\n",
    "%autoreload 2\n",
    "import os\n",
    "import sys\n",
    "if not '..' in sys.path:\n",
    "    sys.path.append('..')\n",
    "    \n",
    "from cli import cli"
   ]
  },
  {
   "cell_type": "code",
   "execution_count": 3,
   "metadata": {},
   "outputs": [
    {
     "name": "stdout",
     "output_type": "stream",
     "text": [
      "Searching *.txt files in directory:Z:\\ABP56\\CTD&SVP\\SVPMeta\n",
      "Scanned filesets are: \n",
      "\n",
      "0 Z:\\ABP56\\CTD&SVP\\SVPMeta\\svp_meta.txt\n",
      "1 Z:\\ABP56\\CTD&SVP\\SVPMeta\\svp_meta_coords.txt\n"
     ]
    }
   ],
   "source": [
    "svp_meta_path = r'Z:\\ABP56\\CTD&SVP\\SVPMeta'\n",
    "SVP_path_list = cli.search(svp_meta_path, '.txt')\n",
    "picked = SVP_path_list[-1]"
   ]
  },
  {
   "cell_type": "code",
   "execution_count": 30,
   "metadata": {},
   "outputs": [
    {
     "name": "stdout",
     "output_type": "stream",
     "text": [
      "['055°', \"18.1302'\", 'N', '020°', \"46.2133'\", 'E']\n",
      "lat: 55.30217 lon: 20.770221666666668\n",
      "['055°', \"16.0919'\", 'N', '020°', \"46.1207'\", 'E']\n",
      "lat: 55.26819833333333 lon: 20.768678333333334\n",
      "['055°', \"18.0345'\", 'N', '020°', \"51.1485'\", 'E']\n",
      "lat: 55.300575 lon: 20.852475\n",
      "[['055°', \"18.1302'\", 'N', '020°', \"46.2133'\", 'E', 485412.10002264386, 6128441.485728577], ['055°', \"16.0919'\", 'N', '020°', \"46.1207'\", 'E', 485301.57256090624, 6124661.309530639], ['055°', \"18.0345'\", 'N', '020°', \"51.1485'\", 'E', 490633.7231972227, 6128249.85079789]]\n"
     ]
    }
   ],
   "source": [
    "from pyproj import Proj, CRS, Transformer\n",
    "\n",
    "crs_wgs84 = CRS.from_epsg(4326)\n",
    "crs_utm35n = CRS.from_epsg(32635)\n",
    "crs_utm34n = CRS.from_epsg(32634)\n",
    "transformer_utm35n = Transformer.from_crs(crs_wgs84, crs_utm35n, always_xy=True)\n",
    "transformer_utm34n = Transformer.from_crs(crs_wgs84, crs_utm34n, always_xy=True)\n",
    "\n",
    "\n",
    "def convert_coords(filepath, utm_zone, type):\n",
    "    \n",
    "    crs_wgs84 = CRS.from_epsg(4326)\n",
    "    crs_utm35n = CRS.from_epsg(32635)\n",
    "    crs_utm34n = CRS.from_epsg(32634)\n",
    "    transformer_utm35n = Transformer.from_crs(crs_wgs84, crs_utm35n, always_xy=True)\n",
    "    transformer_utm34n = Transformer.from_crs(crs_wgs84, crs_utm34n, always_xy=True)\n",
    "\n",
    "    \n",
    "    if utm_zone == '34n':\n",
    "        transformer = transformer_utm34n\n",
    "    elif utm_zone == '35n':\n",
    "        transformer = transformer_utm35n\n",
    "    else:\n",
    "        raise RuntimeError('Please, choose 34n or 34n utm zone')\n",
    "  \n",
    "        \n",
    "    lines = []\n",
    "\n",
    "    with open(filepath, 'r') as f1:\n",
    "        file_content = f1.read().splitlines()\n",
    "        \n",
    "        for line in file_content[:]:\n",
    "            if type == 'decimal':\n",
    "                line_content = line.split('\\t')\n",
    "                print(line_content)\n",
    "                lat = float(line_content[0])\n",
    "                lon = float(line_content[1])\n",
    "                \n",
    "            elif type == 'opencpn':\n",
    "                # format: 055° 16.0919' N 020° 46.1207' E\n",
    "                line_content = line.split(' ')\n",
    "                print(line_content)\n",
    "                \n",
    "                lat = float(line_content[0][1:3]) + float(line_content[1][:-1])/60\n",
    "                lon = float(line_content[3][0:3]) + float(line_content[4][:-1])/60\n",
    "                print(f'lat: {lat} lon: {lon}')\n",
    "                \n",
    "            cartesian_x, cartesian_y = transformer_utm34n.transform(lon, lat)\n",
    "            line_content.append(cartesian_x)\n",
    "            line_content.append(cartesian_y)\n",
    "            \n",
    "            lines.append(line_content)\n",
    "            \n",
    "    with open(filepath[:-4] + '_conv.txt', 'w') as f2:\n",
    "        f2.write('lat\\tlon\\tx\\ty\\n')\n",
    "        print(lines)\n",
    "        for line in lines:\n",
    "            f2.write(f'{line[0] + line[1]}\\t{line[3] + line[4]}\\t{line[-2]}\\t{line[-1]}\\n')\n",
    "            \n",
    "convert_coords(picked, utm_zone='34n', type='opencpn')\n",
    "        "
   ]
  },
  {
   "cell_type": "code",
   "execution_count": null,
   "metadata": {},
   "outputs": [
    {
     "name": "stdout",
     "output_type": "stream",
     "text": [
      "Please type two numbers that define the range of filesets you like to copy or move\n",
      "Please type the first number: \n",
      "Please type the second number: \n",
      "Do you want to add more elements? (Y/N)\n",
      "\n",
      "\n",
      "Picked elements:\n",
      "V000244.TXT\n",
      "V000245.TXT\n",
      "V000246.TXT\n",
      "V000248.TXT\n",
      "V000249.TXT\n",
      "V000250.TXT\n",
      "V000252.TXT\n",
      "V000255.TXT\n",
      "V000257.TXT\n",
      "V000258.TXT\n",
      "V000261.TXT\n",
      "V000265.TXT\n",
      "V000268.TXT\n",
      "V000270.TXT\n",
      "V000273.TXT\n",
      "V000275.TXT\n",
      "V000278.TXT\n",
      "V000280.TXT\n",
      "V000283.TXT\n",
      "V000286.TXT\n",
      "V000289.TXT\n",
      "V000292.TXT\n",
      "V000295.TXT\n",
      "V000298.TXT\n",
      "V000301.TXT\n",
      "V000305.TXT\n",
      "V000307.TXT\n",
      "V000309.TXT\n"
     ]
    }
   ],
   "source": [
    "\n"
   ]
  },
  {
   "cell_type": "code",
   "execution_count": 5,
   "metadata": {},
   "outputs": [],
   "source": []
  },
  {
   "cell_type": "code",
   "execution_count": null,
   "metadata": {},
   "outputs": [],
   "source": []
  }
 ],
 "metadata": {
  "kernelspec": {
   "display_name": "Python 3",
   "language": "python",
   "name": "python3"
  },
  "language_info": {
   "codemirror_mode": {
    "name": "ipython",
    "version": 3
   },
   "file_extension": ".py",
   "mimetype": "text/x-python",
   "name": "python",
   "nbconvert_exporter": "python",
   "pygments_lexer": "ipython3",
   "version": "3.12.2"
  },
  "orig_nbformat": 4
 },
 "nbformat": 4,
 "nbformat_minor": 2
}
