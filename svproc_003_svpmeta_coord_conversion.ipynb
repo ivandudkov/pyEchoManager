{
 "cells": [
  {
   "cell_type": "code",
   "execution_count": 1,
   "metadata": {},
   "outputs": [],
   "source": [
    "%load_ext autoreload\n",
    "%autoreload 2\n",
    "import os\n",
    "import sys\n",
    "if not '..' in sys.path:\n",
    "    sys.path.append('..')\n",
    "    \n",
    "from cli import cli"
   ]
  },
  {
   "cell_type": "code",
   "execution_count": 2,
   "metadata": {},
   "outputs": [
    {
     "name": "stdout",
     "output_type": "stream",
     "text": [
      "Searching *.txt files in directory:Z:\\ABP56\\CTD&SVP\\Metadata\n",
      "Scanned filesets are: \n",
      "\n",
      "0 Z:\\ABP56\\CTD&SVP\\Metadata\\ABP56_SVPMeta_FZ.txt\n",
      "1 Z:\\ABP56\\CTD&SVP\\Metadata\\ABP56_SVPMeta_SEB.txt\n",
      "2 Z:\\ABP56\\CTD&SVP\\Metadata\\coords_conv.txt\n",
      "3 Z:\\ABP56\\CTD&SVP\\Metadata\\coords_conv_conv.txt\n",
      "4 Z:\\ABP56\\CTD&SVP\\Metadata\\svp_meta_001-021.txt\n",
      "5 Z:\\ABP56\\CTD&SVP\\Metadata\\svp_meta_023-049.txt\n",
      "6 Z:\\ABP56\\CTD&SVP\\Metadata\\svp_meta_165-300.txt\n",
      "7 Z:\\ABP56\\CTD&SVP\\Metadata\\svp_meta_302-370.txt\n"
     ]
    }
   ],
   "source": [
    "svp_meta_path = r'Z:\\ABP56\\CTD&SVP\\Metadata'\n",
    "SVP_path_list = cli.search(svp_meta_path, '.txt')\n",
    "picked = SVP_path_list[2]"
   ]
  },
  {
   "cell_type": "code",
   "execution_count": 3,
   "metadata": {},
   "outputs": [
    {
     "name": "stdout",
     "output_type": "stream",
     "text": [
      "['55.21083333', '20.74717667', 'SVP_087']\n",
      "['55.170385', '20.67717667', 'SVP_088']\n",
      "['55.21141', '20.74698333', 'SVP_089']\n",
      "['55.209185', '20.74817667', 'SVP_090']\n",
      "['55.163315', '20.66908167', 'SVP_091']\n",
      "['55.18005333', '20.70141', 'SVP_092']\n",
      "['55.04575167', '20.480595', 'SVP_093']\n",
      "['55.044605', '20.26133667', 'SVP_094']\n",
      "['55.04681833', '20.36431333', 'SVP_095']\n",
      "['55.04917', '20.474455', 'SVP_096']\n",
      "['55.04827167', '20.29328167', 'SVP_097']\n",
      "['55.05031', '20.36892333', 'SVP_098']\n",
      "[['55.21083333', '20.74717667', 'SVP_087', 483912.19459237537, 6118282.302285188], ['55.170385', '20.67717667', 'SVP_088', 479437.1042817484, 6113799.512096672], ['55.21141', '20.74698333', 'SVP_089', 483900.12463001057, 6118346.520167798], ['55.209185', '20.74817667', 'SVP_090', 483975.16495029273, 6118098.641880784], ['55.163315', '20.66908167', 'SVP_091', 478917.7487189013, 6113015.167094086], ['55.18005333', '20.70141', 'SVP_092', 480985.29382693674, 6114868.549133285], ['55.04575167', '20.480595', 'SVP_093', 466812.3980045803, 6100005.934244094], ['55.044605', '20.26133667', 'SVP_094', 452801.67261865654, 6100004.401887871], ['55.04681833', '20.36431333', 'SVP_095', 459383.7059082322, 6100186.0143656535], ['55.04917', '20.474455', 'SVP_096', 466422.943688173, 6100389.252306524], ['55.04827167', '20.29328167', 'SVP_097', 454846.9492096858, 6100391.31547714], ['55.05031', '20.36892333', 'SVP_098', 459681.75903307635, 6100571.890094871]]\n"
     ]
    }
   ],
   "source": [
    "from pyproj import Proj, CRS, Transformer\n",
    "\n",
    "crs_wgs84 = CRS.from_epsg(4326)\n",
    "crs_utm35n = CRS.from_epsg(32635)\n",
    "crs_utm34n = CRS.from_epsg(32634)\n",
    "transformer_utm35n = Transformer.from_crs(crs_wgs84, crs_utm35n, always_xy=True)\n",
    "transformer_utm34n = Transformer.from_crs(crs_wgs84, crs_utm34n, always_xy=True)\n",
    "\n",
    "\n",
    "def convert_coords(filepath, utm_zone, type):\n",
    "    \n",
    "    crs_wgs84 = CRS.from_epsg(4326)\n",
    "    crs_utm35n = CRS.from_epsg(32635)\n",
    "    crs_utm34n = CRS.from_epsg(32634)\n",
    "    transformer_utm35n = Transformer.from_crs(crs_wgs84, crs_utm35n, always_xy=True)\n",
    "    transformer_utm34n = Transformer.from_crs(crs_wgs84, crs_utm34n, always_xy=True)\n",
    "\n",
    "    \n",
    "    if utm_zone == '34n':\n",
    "        transformer = transformer_utm34n\n",
    "    elif utm_zone == '35n':\n",
    "        transformer = transformer_utm35n\n",
    "    else:\n",
    "        raise RuntimeError('Please, choose 34n or 34n utm zone')\n",
    "  \n",
    "        \n",
    "    lines = []\n",
    "\n",
    "    with open(filepath, 'r') as f1:\n",
    "        file_content = f1.read().splitlines()\n",
    "        \n",
    "        for line in file_content[:]:\n",
    "            if type == 'decimal':\n",
    "                line_content = line.split('\\t')\n",
    "                print(line_content)\n",
    "                lat = float(line_content[0])\n",
    "                lon = float(line_content[1])\n",
    "                name = line_content[2]\n",
    "                \n",
    "            elif type == 'opencpn':\n",
    "                # format: 055° 16.0919' N 020° 46.1207' E\n",
    "                line_content = line.split(' ')\n",
    "                print(line_content)\n",
    "                \n",
    "                lat = float(line_content[0][1:3]) + float(line_content[1][:-1])/60\n",
    "                lon = float(line_content[3][0:3]) + float(line_content[4][:-1])/60\n",
    "                name = line_content[2]\n",
    "                print(f'name: {name} lat: {lat} lon: {lon}')\n",
    "                \n",
    "            cartesian_x, cartesian_y = transformer.transform(lon, lat)\n",
    "            line_content.append(cartesian_x)\n",
    "            line_content.append(cartesian_y)\n",
    "            \n",
    "            lines.append(line_content)\n",
    "            \n",
    "    with open(filepath[:-4] + '_conv.txt', 'w') as f2:\n",
    "        f2.write('lat\\tlon\\tname\\tx\\ty\\n')\n",
    "        print(lines)\n",
    "        for line in lines:\n",
    "            f2.write(f'{line[0]}\\t{line[1]}\\t{line[2]}\\t{line[3]}\\t{line[4]}\\n')\n",
    "            \n",
    "convert_coords(picked, utm_zone='34n', type='decimal')\n",
    "        "
   ]
  },
  {
   "cell_type": "code",
   "execution_count": null,
   "metadata": {},
   "outputs": [
    {
     "name": "stdout",
     "output_type": "stream",
     "text": [
      "Please type two numbers that define the range of filesets you like to copy or move\n",
      "Please type the first number: \n",
      "Please type the second number: \n",
      "Do you want to add more elements? (Y/N)\n",
      "\n",
      "\n",
      "Picked elements:\n",
      "V000244.TXT\n",
      "V000245.TXT\n",
      "V000246.TXT\n",
      "V000248.TXT\n",
      "V000249.TXT\n",
      "V000250.TXT\n",
      "V000252.TXT\n",
      "V000255.TXT\n",
      "V000257.TXT\n",
      "V000258.TXT\n",
      "V000261.TXT\n",
      "V000265.TXT\n",
      "V000268.TXT\n",
      "V000270.TXT\n",
      "V000273.TXT\n",
      "V000275.TXT\n",
      "V000278.TXT\n",
      "V000280.TXT\n",
      "V000283.TXT\n",
      "V000286.TXT\n",
      "V000289.TXT\n",
      "V000292.TXT\n",
      "V000295.TXT\n",
      "V000298.TXT\n",
      "V000301.TXT\n",
      "V000305.TXT\n",
      "V000307.TXT\n",
      "V000309.TXT\n"
     ]
    }
   ],
   "source": [
    "\n"
   ]
  },
  {
   "cell_type": "code",
   "execution_count": 5,
   "metadata": {},
   "outputs": [],
   "source": []
  },
  {
   "cell_type": "code",
   "execution_count": null,
   "metadata": {},
   "outputs": [],
   "source": []
  }
 ],
 "metadata": {
  "kernelspec": {
   "display_name": "Python 3",
   "language": "python",
   "name": "python3"
  },
  "language_info": {
   "codemirror_mode": {
    "name": "ipython",
    "version": 3
   },
   "file_extension": ".py",
   "mimetype": "text/x-python",
   "name": "python",
   "nbconvert_exporter": "python",
   "pygments_lexer": "ipython3",
   "version": "3.12.2"
  },
  "orig_nbformat": 4
 },
 "nbformat": 4,
 "nbformat_minor": 2
}
