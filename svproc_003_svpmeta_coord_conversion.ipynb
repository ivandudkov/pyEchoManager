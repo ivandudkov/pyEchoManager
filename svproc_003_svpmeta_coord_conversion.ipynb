{
 "cells": [
  {
   "cell_type": "code",
   "execution_count": 5,
   "metadata": {},
   "outputs": [
    {
     "name": "stdout",
     "output_type": "stream",
     "text": [
      "The autoreload extension is already loaded. To reload it, use:\n",
      "  %reload_ext autoreload\n"
     ]
    }
   ],
   "source": [
    "%load_ext autoreload\n",
    "%autoreload 2\n",
    "import os\n",
    "import sys\n",
    "if not '..' in sys.path:\n",
    "    sys.path.append('..')\n",
    "    \n",
    "from cli import cli"
   ]
  },
  {
   "cell_type": "code",
   "execution_count": 6,
   "metadata": {},
   "outputs": [
    {
     "name": "stdout",
     "output_type": "stream",
     "text": [
      "Searching *.txt files in directory:D:\\aa_yandexcloud\\aa_cloudmbesproceessing\\aa_ans54_processing\n",
      "Scanned filesets are: \n",
      "\n",
      "0 D:\\aa_yandexcloud\\aa_cloudmbesproceessing\\aa_ans54_processing\\ans54_svp.txt\n"
     ]
    }
   ],
   "source": [
    "svp_meta_path = r'D:\\aa_yandexcloud\\aa_cloudmbesproceessing\\aa_ans54_processing'\n",
    "SVP_path_list = cli.search(svp_meta_path, '.txt')\n",
    "picked = SVP_path_list[-1]"
   ]
  },
  {
   "cell_type": "code",
   "execution_count": 7,
   "metadata": {},
   "outputs": [
    {
     "name": "stdout",
     "output_type": "stream",
     "text": [
      "['55.01685000', '19.65936667']\n",
      "['55.32790000', '20.28726667']\n",
      "['55.35595000', '20.29275000']\n",
      "['55.34256667', '20.35393333']\n"
     ]
    }
   ],
   "source": [
    "from pyproj import Proj, CRS, Transformer\n",
    "\n",
    "crs_wgs84 = CRS.from_epsg(4326)\n",
    "crs_utm35n = CRS.from_epsg(32635)\n",
    "crs_utm34n = CRS.from_epsg(32634)\n",
    "transformer_utm35n = Transformer.from_crs(crs_wgs84, crs_utm35n, always_xy=True)\n",
    "transformer_utm34n = Transformer.from_crs(crs_wgs84, crs_utm34n, always_xy=True)\n",
    "\n",
    "lines = []\n",
    "\n",
    "with open(picked, 'r') as file:\n",
    "    file_content = file.read().splitlines()\n",
    "    \n",
    "    for line in file_content[1:]:\n",
    "        line_content = line.split('\\t')\n",
    "        print(line_content)\n",
    "        lat = float(line_content[0])\n",
    "        lon = float(line_content[1])\n",
    "        cartesian_x, cartesian_y = transformer_utm34n.transform(lon, lat)\n",
    "        line_content.append(cartesian_x)\n",
    "        line_content.append(cartesian_y)\n",
    "        \n",
    "        lines.append(line_content)\n",
    "        \n",
    "with open(picked, 'w') as file2:\n",
    "    file2.write('lat\\tlon\\tx\\ty\\n')\n",
    "    \n",
    "    for line in lines:\n",
    "        file2.write(f'{line[0]}\\t{line[1]}\\t{line[-2]}\\t{line[-1]}\\n')\n",
    "        \n",
    "        \n",
    "        "
   ]
  },
  {
   "cell_type": "code",
   "execution_count": null,
   "metadata": {},
   "outputs": [
    {
     "name": "stdout",
     "output_type": "stream",
     "text": [
      "Please type two numbers that define the range of filesets you like to copy or move\n",
      "Please type the first number: \n",
      "Please type the second number: \n",
      "Do you want to add more elements? (Y/N)\n",
      "\n",
      "\n",
      "Picked elements:\n",
      "V000244.TXT\n",
      "V000245.TXT\n",
      "V000246.TXT\n",
      "V000248.TXT\n",
      "V000249.TXT\n",
      "V000250.TXT\n",
      "V000252.TXT\n",
      "V000255.TXT\n",
      "V000257.TXT\n",
      "V000258.TXT\n",
      "V000261.TXT\n",
      "V000265.TXT\n",
      "V000268.TXT\n",
      "V000270.TXT\n",
      "V000273.TXT\n",
      "V000275.TXT\n",
      "V000278.TXT\n",
      "V000280.TXT\n",
      "V000283.TXT\n",
      "V000286.TXT\n",
      "V000289.TXT\n",
      "V000292.TXT\n",
      "V000295.TXT\n",
      "V000298.TXT\n",
      "V000301.TXT\n",
      "V000305.TXT\n",
      "V000307.TXT\n",
      "V000309.TXT\n"
     ]
    }
   ],
   "source": [
    "\n"
   ]
  },
  {
   "cell_type": "code",
   "execution_count": 5,
   "metadata": {},
   "outputs": [],
   "source": []
  },
  {
   "cell_type": "code",
   "execution_count": null,
   "metadata": {},
   "outputs": [],
   "source": []
  }
 ],
 "metadata": {
  "kernelspec": {
   "display_name": "Python 3",
   "language": "python",
   "name": "python3"
  },
  "language_info": {
   "codemirror_mode": {
    "name": "ipython",
    "version": 3
   },
   "file_extension": ".py",
   "mimetype": "text/x-python",
   "name": "python",
   "nbconvert_exporter": "python",
   "pygments_lexer": "ipython3",
   "version": "3.10.10"
  },
  "orig_nbformat": 4
 },
 "nbformat": 4,
 "nbformat_minor": 2
}
