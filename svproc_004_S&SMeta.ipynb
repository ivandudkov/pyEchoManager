{
 "cells": [
  {
   "cell_type": "code",
   "execution_count": 77,
   "metadata": {},
   "outputs": [
    {
     "name": "stdout",
     "output_type": "stream",
     "text": [
      "The autoreload extension is already loaded. To reload it, use:\n",
      "  %reload_ext autoreload\n"
     ]
    }
   ],
   "source": [
    "import os\n",
    "import numpy as np\n",
    "\n",
    "%load_ext autoreload\n",
    "%autoreload 2\n",
    "\n",
    "from datetime import datetime, timezone\n",
    "from assignsvp import assignsvp as asvp\n",
    "from cli import cli"
   ]
  },
  {
   "cell_type": "code",
   "execution_count": 78,
   "metadata": {},
   "outputs": [],
   "source": [
    "def write_miniSeaAndSun_metadata(ctd_path, ctd_list_path, filetype):\n",
    "    with open(ctd_path, 'r', encoding='ANSI') as f:\n",
    "        file_content = f.read().splitlines()\n",
    "        \n",
    "        if filetype == 'ctd48':\n",
    "            first_data_line = file_content[31].split()\n",
    "        elif filetype == 'ctd90':\n",
    "            first_data_line = file_content[34].split()\n",
    "            \n",
    "        date = first_data_line[1]\n",
    "        time = first_data_line[2]\n",
    "        \n",
    "        datetime_start = datetime.strptime(f'{date}_{time}', '%d.%m.%Y_%H:%M:%S.%f')\n",
    "        datetime_start.replace(tzinfo=timezone.utc)\n",
    "\n",
    "        datetime1 = datetime_start.strftime('%Y-%m-%dT%H:%M:%S')\n",
    "        ctd_name = filetype\n",
    "        filename = os.path.split(ctd_path)[-1].split('.')[0]\n",
    "\n",
    "        if os.path.exists(ctd_list_path):\n",
    "            with open(ctd_list_path, 'a') as f:\n",
    "                f.write(f\"{datetime1}\\t{ctd_name}\\t{filename}\\n\")\n",
    "        else:\n",
    "            with open(ctd_list_path, 'w') as f:\n",
    "                f.write('Datatime\\tCTDName\\tFname\\n')\n",
    "                f.write(f\"{datetime1}\\t{ctd_name}\\t{filename}\\n\")"
   ]
  },
  {
   "cell_type": "code",
   "execution_count": 74,
   "metadata": {},
   "outputs": [
    {
     "name": "stdout",
     "output_type": "stream",
     "text": [
      "Searching *.TOB files in directory:\\\\10.197.125.15\\Public\\ABP53\\abp53_mbes_processing\\SVP_data\\CTD90\n",
      "Scanned filesets are: \n",
      "\n",
      "0 \\\\10.197.125.15\\Public\\ABP53\\abp53_mbes_processing\\SVP_data\\CTD90\\H5100534_12.TOB\n",
      "1 \\\\10.197.125.15\\Public\\ABP53\\abp53_mbes_processing\\SVP_data\\CTD90\\H5100534_14.TOB\n",
      "2 \\\\10.197.125.15\\Public\\ABP53\\abp53_mbes_processing\\SVP_data\\CTD90\\H5100534_15.TOB\n",
      "3 \\\\10.197.125.15\\Public\\ABP53\\abp53_mbes_processing\\SVP_data\\CTD90\\H5100534_16.TOB\n",
      "4 \\\\10.197.125.15\\Public\\ABP53\\abp53_mbes_processing\\SVP_data\\CTD90\\H5100534_18.TOB\n",
      "5 \\\\10.197.125.15\\Public\\ABP53\\abp53_mbes_processing\\SVP_data\\CTD90\\H5100534_20.TOB\n",
      "6 \\\\10.197.125.15\\Public\\ABP53\\abp53_mbes_processing\\SVP_data\\CTD90\\H5100534_21.TOB\n",
      "7 \\\\10.197.125.15\\Public\\ABP53\\abp53_mbes_processing\\SVP_data\\CTD90\\H5100534_23.TOB\n",
      "8 \\\\10.197.125.15\\Public\\ABP53\\abp53_mbes_processing\\SVP_data\\CTD90\\H5100534_24.TOB\n",
      "9 \\\\10.197.125.15\\Public\\ABP53\\abp53_mbes_processing\\SVP_data\\CTD90\\H5100534_25.TOB\n",
      "10 \\\\10.197.125.15\\Public\\ABP53\\abp53_mbes_processing\\SVP_data\\CTD90\\H5100534_26.TOB\n",
      "11 \\\\10.197.125.15\\Public\\ABP53\\abp53_mbes_processing\\SVP_data\\CTD90\\H5100534_27.TOB\n",
      "12 \\\\10.197.125.15\\Public\\ABP53\\abp53_mbes_processing\\SVP_data\\CTD90\\H5100534_28.TOB\n",
      "13 \\\\10.197.125.15\\Public\\ABP53\\abp53_mbes_processing\\SVP_data\\CTD90\\H5100534_29.TOB\n",
      "14 \\\\10.197.125.15\\Public\\ABP53\\abp53_mbes_processing\\SVP_data\\CTD90\\H5100534_37.TOB\n",
      "15 \\\\10.197.125.15\\Public\\ABP53\\abp53_mbes_processing\\SVP_data\\CTD90\\H5100534_5.TOB\n",
      "16 \\\\10.197.125.15\\Public\\ABP53\\abp53_mbes_processing\\SVP_data\\CTD90\\H5100534_6.TOB\n",
      "17 \\\\10.197.125.15\\Public\\ABP53\\abp53_mbes_processing\\SVP_data\\CTD90\\H5112304_1.TOB\n",
      "18 \\\\10.197.125.15\\Public\\ABP53\\abp53_mbes_processing\\SVP_data\\CTD90\\H5112304_11.TOB\n",
      "19 \\\\10.197.125.15\\Public\\ABP53\\abp53_mbes_processing\\SVP_data\\CTD90\\H5112304_13.TOB\n",
      "20 \\\\10.197.125.15\\Public\\ABP53\\abp53_mbes_processing\\SVP_data\\CTD90\\H5112304_2.TOB\n",
      "21 \\\\10.197.125.15\\Public\\ABP53\\abp53_mbes_processing\\SVP_data\\CTD90\\H5112304_3.TOB\n",
      "22 \\\\10.197.125.15\\Public\\ABP53\\abp53_mbes_processing\\SVP_data\\CTD90\\H5112304_4.TOB\n",
      "23 \\\\10.197.125.15\\Public\\ABP53\\abp53_mbes_processing\\SVP_data\\CTD90\\H5112304_5.TOB\n",
      "24 \\\\10.197.125.15\\Public\\ABP53\\abp53_mbes_processing\\SVP_data\\CTD90\\H5112304_6.TOB\n",
      "25 \\\\10.197.125.15\\Public\\ABP53\\abp53_mbes_processing\\SVP_data\\CTD90\\H5112304_7.TOB\n",
      "26 \\\\10.197.125.15\\Public\\ABP53\\abp53_mbes_processing\\SVP_data\\CTD90\\H5112304_8.TOB\n",
      "27 \\\\10.197.125.15\\Public\\ABP53\\abp53_mbes_processing\\SVP_data\\CTD90\\H5112304_9.TOB\n",
      "28 \\\\10.197.125.15\\Public\\ABP53\\abp53_mbes_processing\\SVP_data\\CTD90\\H5172221_1.TOB\n",
      "29 \\\\10.197.125.15\\Public\\ABP53\\abp53_mbes_processing\\SVP_data\\CTD90\\H5172221_11.TOB\n",
      "30 \\\\10.197.125.15\\Public\\ABP53\\abp53_mbes_processing\\SVP_data\\CTD90\\H5172221_12.TOB\n",
      "31 \\\\10.197.125.15\\Public\\ABP53\\abp53_mbes_processing\\SVP_data\\CTD90\\H5172221_13.TOB\n",
      "32 \\\\10.197.125.15\\Public\\ABP53\\abp53_mbes_processing\\SVP_data\\CTD90\\H5172221_14.TOB\n",
      "33 \\\\10.197.125.15\\Public\\ABP53\\abp53_mbes_processing\\SVP_data\\CTD90\\H5172221_15.TOB\n",
      "34 \\\\10.197.125.15\\Public\\ABP53\\abp53_mbes_processing\\SVP_data\\CTD90\\H5172221_18.TOB\n",
      "35 \\\\10.197.125.15\\Public\\ABP53\\abp53_mbes_processing\\SVP_data\\CTD90\\H5172221_19.TOB\n",
      "36 \\\\10.197.125.15\\Public\\ABP53\\abp53_mbes_processing\\SVP_data\\CTD90\\H5172221_20.TOB\n",
      "37 \\\\10.197.125.15\\Public\\ABP53\\abp53_mbes_processing\\SVP_data\\CTD90\\H5172221_3.TOB\n",
      "38 \\\\10.197.125.15\\Public\\ABP53\\abp53_mbes_processing\\SVP_data\\CTD90\\H5172221_4.TOB\n",
      "39 \\\\10.197.125.15\\Public\\ABP53\\abp53_mbes_processing\\SVP_data\\CTD90\\H5172221_8.TOB\n",
      "40 \\\\10.197.125.15\\Public\\ABP53\\abp53_mbes_processing\\SVP_data\\CTD90\\H5172221_9.TOB\n"
     ]
    }
   ],
   "source": [
    "miniSVP_49 = r'\\\\10.197.125.15\\Public\\ABP53\\abp53_mbes_processing\\SVP_data\\CTD90'\n",
    "logproc_dir = r'\\\\10.197.125.15\\Public\\ABP53\\abp53_mbes_processing\\Обработка журнала станций'\n",
    "\n",
    "SVP_path_list = cli.search(miniSVP_49, '.TOB')"
   ]
  },
  {
   "cell_type": "code",
   "execution_count": 75,
   "metadata": {},
   "outputs": [
    {
     "name": "stdout",
     "output_type": "stream",
     "text": [
      "Please type two numbers that define the range of filesets you like to copy or move\n",
      "Please type the first number: \n",
      "Please type the second number: \n",
      "Do you want to add more elements? (Y/N)\n",
      "\n",
      "\n",
      "Picked elements:\n",
      "H5100534_12.TOB\n",
      "H5100534_14.TOB\n",
      "H5100534_15.TOB\n",
      "H5100534_16.TOB\n",
      "H5100534_18.TOB\n",
      "H5100534_20.TOB\n",
      "H5100534_21.TOB\n",
      "H5100534_23.TOB\n",
      "H5100534_24.TOB\n",
      "H5100534_25.TOB\n",
      "H5100534_26.TOB\n",
      "H5100534_27.TOB\n",
      "H5100534_28.TOB\n",
      "H5100534_29.TOB\n",
      "H5100534_37.TOB\n",
      "H5100534_5.TOB\n",
      "H5100534_6.TOB\n",
      "H5112304_1.TOB\n",
      "H5112304_11.TOB\n",
      "H5112304_13.TOB\n",
      "H5112304_2.TOB\n",
      "H5112304_3.TOB\n",
      "H5112304_4.TOB\n",
      "H5112304_5.TOB\n",
      "H5112304_6.TOB\n",
      "H5112304_7.TOB\n",
      "H5112304_8.TOB\n",
      "H5112304_9.TOB\n",
      "H5172221_1.TOB\n",
      "H5172221_11.TOB\n",
      "H5172221_12.TOB\n",
      "H5172221_13.TOB\n",
      "H5172221_14.TOB\n",
      "H5172221_15.TOB\n",
      "H5172221_18.TOB\n",
      "H5172221_19.TOB\n",
      "H5172221_20.TOB\n",
      "H5172221_3.TOB\n",
      "H5172221_4.TOB\n",
      "H5172221_8.TOB\n",
      "H5172221_9.TOB\n"
     ]
    }
   ],
   "source": [
    "SVP_picked = cli.pick_from_list(SVP_path_list)"
   ]
  },
  {
   "cell_type": "code",
   "execution_count": 76,
   "metadata": {},
   "outputs": [],
   "source": [
    "for path in SVP_picked:\n",
    "    write_miniSeaAndSun_metadata(path, os.path.join(logproc_dir, 'ctd90_meta.txt'), 'ctd90')"
   ]
  },
  {
   "cell_type": "code",
   "execution_count": null,
   "metadata": {},
   "outputs": [],
   "source": []
  },
  {
   "cell_type": "code",
   "execution_count": null,
   "metadata": {},
   "outputs": [],
   "source": []
  },
  {
   "cell_type": "code",
   "execution_count": null,
   "metadata": {},
   "outputs": [],
   "source": []
  },
  {
   "cell_type": "markdown",
   "metadata": {},
   "source": [
    "# Преобразование .csv CTD90 от Виктора Кречика в PDS2000 .svp"
   ]
  },
  {
   "cell_type": "code",
   "execution_count": null,
   "metadata": {},
   "outputs": [],
   "source": [
    "def convert_ctd90csv_to_PDSsvp(idronautcsv_path, PDSsvp_path):\n",
    "        # Step 1. Read Sound Speed Manager .csv file\n",
    "    pdepth = []\n",
    "    pSV = []\n",
    "    ptemp = []\n",
    "    psal = []\n",
    "\n",
    "    with open(idronautcsv_path, 'r') as f:\n",
    "        # field order: depth, sound speed, salinity, temperature\n",
    "        line_start = 35  # Previous lines are a header\n",
    "        filecontent = f.read().splitlines()[line_start:]\n",
    "        for line in filecontent:\n",
    "            line_content = line.split(',')\n",
    "            depth = float(line_content[2])\n",
    "            sv = float(line_content[8].split(';')[0])\n",
    "            temp = float(line_content[3])\n",
    "            sal = float(line_content[4])\n",
    "            if depth <= 0:\n",
    "                pass\n",
    "            elif sal < 1:\n",
    "                pass\n",
    "            elif len(pdepth) > 1:\n",
    "                if len(pdepth) == 1:\n",
    "                    pass\n",
    "                elif pdepth[-1] >= depth and pdepth[-2] >= depth:\n",
    "                    pass\n",
    "                else:\n",
    "                    pdepth.append(depth)\n",
    "                    pSV.append(sv)\n",
    "                    ptemp.append(temp)\n",
    "                    psal.append(sal)\n",
    "            else:\n",
    "                pdepth.append(depth)\n",
    "                pSV.append(sv)\n",
    "                ptemp.append(temp)\n",
    "                psal.append(sal)\n",
    "\n",
    "    # Step 2. Create a new PDS2000 .svp and update it by SSM .csv values\n",
    "    pheader = '[POINTS]\\n'\n",
    "    pnum_end = len(pdepth)\n",
    "    offset_header = '\\n[OFFSET]\\n'\n",
    "    sv_offset_name = 'SVOffset'\n",
    "    sv_offset = '0'\n",
    "    sv_offset_line = '{:} = {:}\\n\\n'.format(sv_offset_name,\n",
    "                                        sv_offset)\n",
    "\n",
    "    # field order: depth, sound velocity, temperature, salinity\n",
    "    with open(PDSsvp_path, 'w') as f:\n",
    "        f.write(pheader)\n",
    "        for pnum in range(pnum_end):\n",
    "            # field order: depth, sound velocity, temperature, salinity\n",
    "            point = 'Point({:d}) = {:f},{:f},{:f},{:f}\\n'.format(pnum+1,\n",
    "                                                                 pdepth[pnum]*-1, \n",
    "                                                                 pSV[pnum], \n",
    "                                                                 ptemp[pnum], \n",
    "                                                                 psal[pnum])\n",
    "            f.write(point)\n",
    "        f.write(offset_header)\n",
    "        f.write(sv_offset_line)\n",
    "\n",
    "############################"
   ]
  },
  {
   "cell_type": "code",
   "execution_count": null,
   "metadata": {},
   "outputs": [],
   "source": [
    "logpath = 'F:\\\\ABP_049\\\\Станции, логбуки и треки\\\\ABP049_CTD90_Log.txt'\n",
    "datapath = 'F:\\\\ABP_049\\\\Станции, логбуки и треки\\\\CTD_Krechik\\\\CTD90'\n",
    "\n",
    "sn = 'CTD90'\n",
    "ctd90_csv_paths = find_file_with_extension('.CSV', datapath)\n",
    "\n",
    "for ctd90_csv_path in ctd90_csv_paths:\n",
    "    PDS_svp_path = modify_output_file_name(sn, logpath, ctd90_csv_path, filetype='CTD90')\n",
    "    convert_ctd90csv_to_PDSsvp(ctd90_csv_path, PDS_svp_path)"
   ]
  }
 ],
 "metadata": {
  "kernelspec": {
   "display_name": "Python 3",
   "language": "python",
   "name": "python3"
  },
  "language_info": {
   "codemirror_mode": {
    "name": "ipython",
    "version": 3
   },
   "file_extension": ".py",
   "mimetype": "text/x-python",
   "name": "python",
   "nbconvert_exporter": "python",
   "pygments_lexer": "ipython3",
   "version": "3.10.10"
  },
  "orig_nbformat": 4
 },
 "nbformat": 4,
 "nbformat_minor": 2
}
