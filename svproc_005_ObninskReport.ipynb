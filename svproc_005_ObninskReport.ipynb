{
 "cells": [
  {
   "cell_type": "code",
   "execution_count": 1,
   "metadata": {},
   "outputs": [],
   "source": [
    "import os\n",
    "import numpy as np\n",
    "\n",
    "%load_ext autoreload\n",
    "%autoreload 2\n",
    "\n",
    "from datetime import datetime, timezone\n",
    "from assignsvp import assignsvp as asvp\n",
    "from cli import cli"
   ]
  },
  {
   "cell_type": "code",
   "execution_count": 2,
   "metadata": {},
   "outputs": [],
   "source": [
    "class SoundVelProfile:\n",
    "    \"\"\"Class handling SVP data\"\"\"\n",
    "    \n",
    "    def __init__(self):\n",
    "        self.identific = ''\n",
    "        self.sn = ''\n",
    "        self.fname = ''\n",
    "        self.datetime = ''\n",
    "        self.station = ''\n",
    "        self.lat = ''\n",
    "        self.lon = ''\n",
    "        \n",
    "        self.press = []\n",
    "        self.temp = []\n",
    "        self.sv = []"
   ]
  },
  {
   "cell_type": "code",
   "execution_count": 3,
   "metadata": {},
   "outputs": [
    {
     "name": "stdout",
     "output_type": "stream",
     "text": [
      "Searching *.TXT files in directory:D:\\aa_yandexcloud\\aa_cruises\\ANS54\\Отчёт в Обнинск\\SVP_Data\\RAW\n",
      "Scanned filesets are: \n",
      "\n",
      "0 D:\\aa_yandexcloud\\aa_cruises\\ANS54\\Отчёт в Обнинск\\SVP_Data\\RAW\\V000053.TXT\n",
      "1 D:\\aa_yandexcloud\\aa_cruises\\ANS54\\Отчёт в Обнинск\\SVP_Data\\RAW\\V000056.TXT\n",
      "2 D:\\aa_yandexcloud\\aa_cruises\\ANS54\\Отчёт в Обнинск\\SVP_Data\\RAW\\V000059.TXT\n",
      "3 D:\\aa_yandexcloud\\aa_cruises\\ANS54\\Отчёт в Обнинск\\SVP_Data\\RAW\\V000061.TXT\n"
     ]
    }
   ],
   "source": [
    "svp_path = r'D:\\aa_yandexcloud\\aa_cruises\\ANS54\\Отчёт в Обнинск\\SVP_Data\\RAW'\n",
    "svp_meta = r'D:\\aa_yandexcloud\\aa_cruises\\ANS54\\Отчёт в Обнинск\\SVP_Data\\ANS54_SVP_Metadata.csv'\n",
    "\n",
    "\n",
    "svp_list = cli.search(ext='.TXT', path=svp_path)"
   ]
  },
  {
   "cell_type": "code",
   "execution_count": 4,
   "metadata": {},
   "outputs": [],
   "source": [
    "svp_objs = []\n",
    "\n",
    "with open(svp_meta, 'r') as file1:\n",
    "    file_content = file1.read().splitlines()\n",
    "    \n",
    "    for line in file_content[1:]:\n",
    "        line_content = line.split(',')\n",
    "        svp_obj = SoundVelProfile()\n",
    "        \n",
    "        svp_obj.identific = line_content[0]\n",
    "        svp_obj.sn = line_content[1]\n",
    "        svp_obj.fname = line_content[2]\n",
    "        svp_obj.datetime = line_content[3]\n",
    "        svp_obj.station = line_content[4]\n",
    "        svp_obj.lat = line_content[5]\n",
    "        svp_obj.lon = line_content[6]\n",
    "        \n",
    "        svp_objs.append(svp_obj)"
   ]
  },
  {
   "cell_type": "code",
   "execution_count": 21,
   "metadata": {},
   "outputs": [
    {
     "name": "stdout",
     "output_type": "stream",
     "text": [
      "V000053\n",
      "D:\\aa_yandexcloud\\aa_cruises\\ANS54\\Отчёт в Обнинск\\SVP_Data\\RAW\\V000053.TXT\n",
      "V000056\n",
      "D:\\aa_yandexcloud\\aa_cruises\\ANS54\\Отчёт в Обнинск\\SVP_Data\\RAW\\V000056.TXT\n",
      "V000059\n",
      "D:\\aa_yandexcloud\\aa_cruises\\ANS54\\Отчёт в Обнинск\\SVP_Data\\RAW\\V000059.TXT\n",
      "V000061\n",
      "D:\\aa_yandexcloud\\aa_cruises\\ANS54\\Отчёт в Обнинск\\SVP_Data\\RAW\\V000061.TXT\n"
     ]
    }
   ],
   "source": [
    "for svp_file in svp_list:\n",
    "    filename = os.path.splitext(os.path.basename(svp_file))[0]\n",
    "    print(filename)\n",
    "    print(svp_file)\n",
    "    \n",
    "    sn = ''\n",
    "    \n",
    "    pressure = []\n",
    "    temperature = []\n",
    "    sound_speed = []\n",
    "    \n",
    "    with open(svp_file) as file2:\n",
    "        file_content = file2.read().splitlines()\n",
    "        \n",
    "        for line in file_content[0:9]:\n",
    "            if line.startswith('MiniSVP'):\n",
    "                sn = line.split(' ')[-1]\n",
    "                \n",
    "        for line in file_content[9:]:\n",
    "            line_content = line.split()\n",
    "            \n",
    "            if line_content[0]:\n",
    "                pressure.append(line_content[0])\n",
    "                temperature.append(line_content[1])\n",
    "                sound_speed.append(line_content[2])\n",
    "            \n",
    "    for svp_obj in svp_objs:\n",
    "        if filename == svp_obj.fname and sn == svp_obj.sn:\n",
    "            svp_obj.press = pressure\n",
    "            svp_obj.temp = temperature\n",
    "            svp_obj.sv = sound_speed\n",
    "    \n",
    "        \n",
    "        \n",
    "        "
   ]
  },
  {
   "cell_type": "code",
   "execution_count": 22,
   "metadata": {},
   "outputs": [],
   "source": [
    "def save_pos_file(path,cruise):\n",
    "    filename = os.path.join(path, 'E090005O2_' + cruise + '_H14_POS.csv')\n",
    "    \n",
    "    with open(filename, 'w') as file3:\n",
    "        file3.write('rec_num;identific;station;LONG;LAT;DATE\\n')\n",
    "        \n",
    "        for num, svp_obj in enumerate(svp_objs):\n",
    "            file3.write(f'{num};{svp_obj.identific};{svp_obj.station:12};{float(svp_obj.lon):.8f};{float(svp_obj.lat):.8f};{svp_obj.datetime}\\n')\n",
    "        \n",
    "def save_svp_file(path, cruise, svp_obj:SoundVelProfile):\n",
    "    filename = os.path.join(path, f'E090005O2_{cruise}_H14_{int(svp_obj.identific):03d}.csv')\n",
    "\n",
    "    with open(filename, 'w') as file4:\n",
    "        file4.write('rec_num;identific;station;SN;Pres;Temp;SoundVel\\n')\n",
    "        \n",
    "        for num, _ in enumerate(svp_obj.press):\n",
    "            file4.write(f'{num};{svp_obj.identific};{svp_obj.station:12};{svp_obj.sn};{svp_obj.press[num]};{svp_obj.temp[num]};{svp_obj.sv[num]}\\n')"
   ]
  },
  {
   "cell_type": "code",
   "execution_count": 23,
   "metadata": {},
   "outputs": [],
   "source": [
    "path_data = r'D:\\aa_yandexcloud\\aa_cruises\\ANS54\\Отчёт в Обнинск'\n",
    "\n",
    "save_pos_file(path=path_data, cruise='ANS_54')\n"
   ]
  },
  {
   "cell_type": "code",
   "execution_count": 24,
   "metadata": {},
   "outputs": [],
   "source": [
    "for svp_obj in svp_objs:\n",
    "    save_svp_file(path_data, 'ANS_54', svp_obj)"
   ]
  },
  {
   "cell_type": "code",
   "execution_count": null,
   "metadata": {},
   "outputs": [],
   "source": []
  }
 ],
 "metadata": {
  "kernelspec": {
   "display_name": "Python 3",
   "language": "python",
   "name": "python3"
  },
  "language_info": {
   "codemirror_mode": {
    "name": "ipython",
    "version": 3
   },
   "file_extension": ".py",
   "mimetype": "text/x-python",
   "name": "python",
   "nbconvert_exporter": "python",
   "pygments_lexer": "ipython3",
   "version": "3.10.10"
  },
  "orig_nbformat": 4
 },
 "nbformat": 4,
 "nbformat_minor": 2
}
