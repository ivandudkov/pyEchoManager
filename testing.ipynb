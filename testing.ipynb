{
 "cells": [
  {
   "cell_type": "code",
   "execution_count": 5,
   "metadata": {},
   "outputs": [],
   "source": [
    "%load_ext autoreload\n",
    "%autoreload 2\n",
    "import os\n",
    "import sys\n",
    "if not '..' in sys.path:\n",
    "    sys.path.append('..')"
   ]
  },
  {
   "cell_type": "code",
   "execution_count": 2,
   "metadata": {},
   "outputs": [
    {
     "name": "stdout",
     "output_type": "stream",
     "text": [
      "Warning, there is no {header[h]} data!\n"
     ]
    },
    {
     "ename": "UnboundLocalError",
     "evalue": "local variable 'pdsfile_obj' referenced before assignment",
     "output_type": "error",
     "traceback": [
      "\u001b[1;31m---------------------------------------------------------------------------\u001b[0m",
      "\u001b[1;31mUnboundLocalError\u001b[0m                         Traceback (most recent call last)",
      "Cell \u001b[1;32mIn[2], line 13\u001b[0m\n\u001b[0;32m     10\u001b[0m assign_svp \u001b[39m=\u001b[39m asvp\u001b[39m.\u001b[39mAssignSvp()\n\u001b[0;32m     12\u001b[0m assign_svp\u001b[39m.\u001b[39mread_svpmeta(path_svpmeta\u001b[39m=\u001b[39mpath01_svpmeta)\n\u001b[1;32m---> 13\u001b[0m assign_svp\u001b[39m.\u001b[39;49mread_filetrack_csv(\u001b[39minput\u001b[39;49m\u001b[39m=\u001b[39;49mpath02_pdstrack, i_headseq\u001b[39m=\u001b[39;49m[\u001b[39m0\u001b[39;49m,\u001b[39m2\u001b[39;49m,\u001b[39m3\u001b[39;49m,\u001b[39m5\u001b[39;49m,\u001b[39m7\u001b[39;49m,\u001b[39m-\u001b[39;49m\u001b[39m999\u001b[39;49m], projection\u001b[39m=\u001b[39;49m\u001b[39m'\u001b[39;49m\u001b[39mWGS84UTM34N\u001b[39;49m\u001b[39m'\u001b[39;49m)\n\u001b[0;32m     14\u001b[0m assign_svp\u001b[39m.\u001b[39mpds_array\n\u001b[0;32m     15\u001b[0m \u001b[39mprint\u001b[39m(\u001b[39m'\u001b[39m\u001b[39mgagaga\u001b[39m\u001b[39m'\u001b[39m)\n",
      "File \u001b[1;32md:\\aa_gitrepositories\\pyEchoManager\\assignsvp\\assignsvp.py:121\u001b[0m, in \u001b[0;36mAssignSvp.read_filetrack_csv\u001b[1;34m(self, input, i_headseq, projection)\u001b[0m\n\u001b[0;32m    119\u001b[0m fdir \u001b[39m=\u001b[39m os\u001b[39m.\u001b[39mpath\u001b[39m.\u001b[39msplit(os\u001b[39m.\u001b[39mpath\u001b[39m.\u001b[39msplit(file_path)[\u001b[39m0\u001b[39m])[\u001b[39m1\u001b[39m]\n\u001b[0;32m    120\u001b[0m project \u001b[39m=\u001b[39m os\u001b[39m.\u001b[39mpath\u001b[39m.\u001b[39msplit(os\u001b[39m.\u001b[39mpath\u001b[39m.\u001b[39msplit(os\u001b[39m.\u001b[39mpath\u001b[39m.\u001b[39msplit(file_path)[\u001b[39m0\u001b[39m])[\u001b[39m0\u001b[39m])[\u001b[39m1\u001b[39m]\n\u001b[1;32m--> 121\u001b[0m rel_path \u001b[39m=\u001b[39m os\u001b[39m.\u001b[39mpath\u001b[39m.\u001b[39mjoin(pdsfile_obj\u001b[39m.\u001b[39mfdir, pdsfile_obj\u001b[39m.\u001b[39mfname)\n\u001b[0;32m    123\u001b[0m pdsfile_obj \u001b[39m=\u001b[39m PDSfileXY(uid\u001b[39m=\u001b[39m\u001b[39mint\u001b[39m(line_content[\u001b[39m0\u001b[39m]),\n\u001b[0;32m    124\u001b[0m                         name\u001b[39m=\u001b[39mfname,\n\u001b[0;32m    125\u001b[0m                         fdir\u001b[39m=\u001b[39mfdir,\n\u001b[1;32m   (...)\u001b[0m\n\u001b[0;32m    128\u001b[0m                         rel_path\u001b[39m=\u001b[39mrel_path,\n\u001b[0;32m    129\u001b[0m                         proj\u001b[39m=\u001b[39mprojection)\n\u001b[0;32m    131\u001b[0m \u001b[39mself\u001b[39m\u001b[39m.\u001b[39mpds_files\u001b[39m.\u001b[39mappend(pdsfile_obj)\n",
      "\u001b[1;31mUnboundLocalError\u001b[0m: local variable 'pdsfile_obj' referenced before assignment"
     ]
    }
   ],
   "source": [
    "import os\n",
    "import numpy as np\n",
    "\n",
    "from assignsvp import assignsvp as asvp\n",
    "\n",
    "path01_svpmeta = r'D:\\aa_yandexcloud\\aa_cloudmbesproceessing\\aa_abp49_processing\\assignsvp\\hydro_profiles_ctdsvp.csv'\n",
    "path02_pdstrack = r'D:\\aa_yandexcloud\\aa_cloudmbesproceessing\\aa_abp49_processing\\assignsvp_v2\\track_data\\abp49_id031_DNPoly_Po_Track.csv'\n",
    "path03 = r''\n",
    "\n",
    "assign_svp = asvp.AssignSvp()\n",
    "\n",
    "assign_svp.read_svpmeta(path_svpmeta=path01_svpmeta)\n",
    "assign_svp.read_filetrack_csv(input=path02_pdstrack, i_headseq=[0,2,3,5,7,-999], projection='WGS84UTM34N')\n",
    "assign_svp.pds_array\n",
    "print('gagaga')"
   ]
  },
  {
   "cell_type": "code",
   "execution_count": null,
   "metadata": {},
   "outputs": [],
   "source": []
  }
 ],
 "metadata": {
  "kernelspec": {
   "display_name": "Python 3",
   "language": "python",
   "name": "python3"
  },
  "language_info": {
   "codemirror_mode": {
    "name": "ipython",
    "version": 3
   },
   "file_extension": ".py",
   "mimetype": "text/x-python",
   "name": "python",
   "nbconvert_exporter": "python",
   "pygments_lexer": "ipython3",
   "version": "3.10.10"
  },
  "orig_nbformat": 4
 },
 "nbformat": 4,
 "nbformat_minor": 2
}
